{
 "cells": [
  {
   "cell_type": "markdown",
   "metadata": {},
   "source": [
    "# Basics"
   ]
  },
  {
   "cell_type": "markdown",
   "metadata": {},
   "source": [
    "Learning Objectives\n",
    "* * *\n",
    "* Understand Jupyter notebook basics\n",
    "* Become familiar with Python's primitive types\n",
    "* Become familiar with boolean operators and comparison operators\n",
    "* See some examples of conditional statements\n",
    "* Grasp and understand flow control (e.g. `for` loops)\n",
    "* Discern the differences between functions, methods and generators"
   ]
  },
  {
   "cell_type": "markdown",
   "metadata": {
    "collapsed": true
   },
   "source": [
    "### Welcome to Jupyter!  Here are a few notebook notes\n",
    "<br>\n",
    "<b>This is a little diagram of the anatomy of the notebook toolbar:</b><br>\n",
    "<img src='https://raw.githubusercontent.com/michhar/python-jupyter-notebooks/master/general/nb_diagram.png' alt=\"Smiley face\" align=\"center\">"
   ]
  },
  {
   "cell_type": "markdown",
   "metadata": {
    "collapsed": true
   },
   "source": [
    "## Shortcuts!!!\n",
    "* A complete list is [here](https://sowingseasons.com/blog/reference/2016/01/jupyter-keyboard-shortcuts/23298516), but these are my favorites.  There is a *command* mode and *edit* mode much like the unix editor `vi/vim`.  `Esc` will take you into command mode.  `Enter` (when a cell is highlighted) will take you into edit mode.\n",
    "\n",
    "Mode  |  What  | Shortcut\n",
    "------------- | ------------- | -------------\n",
    "Command (Press `Esc` to enter)  | Run cell | Shift-Enter\n",
    "Command  | Add cell below | B\n",
    "Command | Add cell above | A\n",
    "Command | Delete a cell | d-d\n",
    "Command | Go into edit mode | Enter\n",
    "Edit (Press `Enter` to enable) | Run cell | Shift-Enter\n",
    "Edit | Indent | Clrl-]\n",
    "Edit | Unindent | Ctrl-[\n",
    "Edit | Comment section | Ctrl-/\n",
    "Edit | Function introspection | Shift-Tab\n",
    "\n",
    "Try some below"
   ]
  },
  {
   "cell_type": "markdown",
   "metadata": {},
   "source": [
    "**A Code cell is grey (by the way this is a Markdown cell)**"
   ]
  },
  {
   "cell_type": "code",
   "execution_count": null,
   "metadata": {},
   "outputs": [],
   "source": [
    "# This is a comment\n",
    "help(print)\n",
    "print('this line is Python code')\n",
    "\n",
    "# Hit Shift+Enter at same time as a shortcut to run this cell"
   ]
  },
  {
   "cell_type": "markdown",
   "metadata": {},
   "source": [
    "<b>Jupyter notebooks have tab-completion in code cells</b><br><br>\n",
    "<b>To get help on any module, function or variable surround it with `help()`</b>"
   ]
  },
  {
   "cell_type": "code",
   "execution_count": null,
   "metadata": {},
   "outputs": [],
   "source": [
    "help(print)"
   ]
  },
  {
   "cell_type": "code",
   "execution_count": null,
   "metadata": {},
   "outputs": [],
   "source": [
    "### The import statement"
   ]
  },
  {
   "cell_type": "code",
   "execution_count": null,
   "metadata": {},
   "outputs": [],
   "source": [
    "# This is what an import statement looks like, here we are importing the json module\n",
    "import json\n",
    "\n",
    "# We can use the 'from' syntax to import a submodule\n",
    "from sklearn import datasets\n",
    "\n",
    "# We can rename a module during import to make it easier to type later\n",
    "import numpy as np"
   ]
  },
  {
   "cell_type": "markdown",
   "metadata": {},
   "source": [
    "### Indentation\n",
    "\n",
    "* Python uses indentation instead of demarcation with punctuation, such as semicolons, to tell the interpreter how to run the code.\n",
    "* It is standard to use four spaces (and not recommended to use tabs)\n",
    "* Whitespace like this makes for easier-to-read code"
   ]
  },
  {
   "cell_type": "markdown",
   "metadata": {},
   "source": [
    "### Reserved Words"
   ]
  },
  {
   "cell_type": "code",
   "execution_count": null,
   "metadata": {
    "scrolled": true
   },
   "outputs": [],
   "source": [
    "None=2"
   ]
  },
  {
   "cell_type": "markdown",
   "metadata": {},
   "source": [
    "#  Calculator"
   ]
  },
  {
   "cell_type": "code",
   "execution_count": null,
   "metadata": {},
   "outputs": [],
   "source": [
    "# Addition and subtraction\n",
    "print(5 + 6)\n",
    "print(5 - 5)\n",
    "\n",
    "# Multiplication and division\n",
    "print(3 * 5)\n",
    "print(10 / 2)\n",
    "\n",
    "# Exponentiation\n",
    "print(4 ** 2)\n",
    "\n",
    "# Modulo\n",
    "print(18 % 7)\n",
    "\n",
    "# How much is your $20 worth after 17 years?"
   ]
  },
  {
   "cell_type": "markdown",
   "metadata": {},
   "source": [
    "# Variables\n",
    "\n",
    "Variables allows you to refer to a value by it's name. We use \"=\" to create a variable.\n",
    "\n",
    "We can't emphasize enough that \"=\" means ASSIGNMENT and not equality"
   ]
  },
  {
   "cell_type": "code",
   "execution_count": null,
   "metadata": {},
   "outputs": [],
   "source": [
    "x=10\n",
    "print(x)\n",
    "# create a variable called portfoliovalue with the initial\n",
    "#value of 20 and check the value by printing it as above "
   ]
  },
  {
   "cell_type": "markdown",
   "metadata": {},
   "source": [
    "to calculate using variables, just plug the variable name instead of the value. For example in the compound interest calculation above you can write:"
   ]
  },
  {
   "cell_type": "code",
   "execution_count": null,
   "metadata": {},
   "outputs": [],
   "source": [
    "years=7\n",
    "interestrate=0.1\n",
    "(1+interestrate)**7-1\n",
    "# now use years, portfoliovalue and interestrate instead\n",
    "#of the numbers "
   ]
  },
  {
   "cell_type": "markdown",
   "metadata": {},
   "source": [
    "The most common data types are\n",
    "\n",
    "    1. float (a number that has both an integer and fraactional part: 3.14345)\n",
    "    2. int (an integer: ...-3,-2,-1,0,1,2,3,..) \n",
    "    3. str (a string, i.e. text)\n",
    "    you can create a string with double or single quotes (see below)\n",
    "    4. bool (a boolean, a logical type that can be True or False)\n",
    "    \n",
    "You can figure out the type of variable x by typing type(x).\n",
    "    "
   ]
  },
  {
   "cell_type": "code",
   "execution_count": null,
   "metadata": {},
   "outputs": [],
   "source": [
    "description='future value'\n",
    "#description=\"future value\" also works\n",
    "print(type(interestrate))\n",
    "type(description)\n",
    "\n"
   ]
  },
  {
   "cell_type": "markdown",
   "metadata": {},
   "source": [
    "### String\n",
    "Strings are type <code>str</code> and all strings in Python 3 are Unicode.  There is no separate <code>character</code> class as in other languages.  Strings are either surrounded by single, double or triple quotes, a style feature up to the coder, however when one wishes to place a single quoted string inside a double quoted string, this feature is useful."
   ]
  },
  {
   "cell_type": "code",
   "execution_count": null,
   "metadata": {},
   "outputs": [],
   "source": [
    "\"a single quoted string 'hi' inside a double quoted string\""
   ]
  },
  {
   "cell_type": "code",
   "execution_count": null,
   "metadata": {},
   "outputs": [],
   "source": [
    "'a double quoted string \"hi\" inside a single quoted string'"
   ]
  },
  {
   "cell_type": "markdown",
   "metadata": {},
   "source": [
    "### Multiple type operation\n",
    "\n",
    "\n",
    "Note that different types will respond different to an operator depending on it's type\n",
    "\n",
    "For example, try to \n",
    "\n",
    "1. add two strings\n",
    "2. multiply a string by 4\n",
    "\n",
    "What do you expect to happen?"
   ]
  },
  {
   "cell_type": "code",
   "execution_count": null,
   "metadata": {},
   "outputs": [],
   "source": [
    "description=\"future\"+ \" \" + \"value\"+ \" \"\n",
    "description"
   ]
  },
  {
   "cell_type": "code",
   "execution_count": null,
   "metadata": {},
   "outputs": [],
   "source": [
    "description*4"
   ]
  },
  {
   "cell_type": "markdown",
   "metadata": {},
   "source": [
    "\n",
    "### Type conversion\n",
    "\n",
    "a very useful tool is the conversion between types. If you write str(x) than you convert the x variable to string. Same thing works for int(), float(), bool().\n",
    "\n",
    "Here is an example"
   ]
  },
  {
   "cell_type": "code",
   "execution_count": null,
   "metadata": {
    "scrolled": true
   },
   "outputs": [],
   "source": [
    "portfoliovalue=2\n",
    "print(\"the value of your portfolio is $\" + str(portfoliovalue) + \" dollars\")"
   ]
  },
  {
   "cell_type": "markdown",
   "metadata": {},
   "source": [
    "# Lists\n",
    "\n",
    "To work with multiple data points we use lists. Lists can contain any type. In particular it can contain lists.\n"
   ]
  },
  {
   "cell_type": "code",
   "execution_count": null,
   "metadata": {},
   "outputs": [],
   "source": [
    "[1.23,3.4,6.7]\n",
    "portfoliosvalue=[1.23, 3.4, 6.7]\n",
    "portfoliosowner=['sarah','jack','andrea']\n",
    "portfolios=[['sarah',1.23],['jack',3.4],['andrea',6.7]]"
   ]
  },
  {
   "cell_type": "markdown",
   "metadata": {},
   "source": [
    "What is a valid list?\n",
    "\n",
    "    A. [1, 3, 4, 25] \n",
    "    B. [[1, 25, 3], [4, 55, 75]]\n",
    "    C. [1 + 6, \"sarah\" * 3, 2]"
   ]
  },
  {
   "cell_type": "markdown",
   "metadata": {},
   "source": [
    "# Indexing\n",
    "\n",
    "1. the first entry is zero\n",
    "2. you can acess the list from the end by using negative numbers with -1 being the last, -2 the one before the last and so on"
   ]
  },
  {
   "cell_type": "code",
   "execution_count": null,
   "metadata": {},
   "outputs": [],
   "source": [
    "print(portfoliosvalue[:])\n"
   ]
  },
  {
   "cell_type": "markdown",
   "metadata": {},
   "source": [
    "We can also recover a range of values through slicing. \n",
    "\n",
    "We specify a range that recovers a new list that is a slice of the original list.\n",
    "\n",
    "We write listname[a:b], where a and b are integers smaller that the total list size. This recover all items between a and b-1. \n",
    "\n",
    "As a convention the last item is excluded.\n",
    "\n",
    "You can also type\n",
    "\n",
    "1. listname[:b] to recover everything up to b (excluding b)\n",
    "2. listname[a:] to recover everything starting at a (including a)\n",
    "3. listname[a:b] to recove everything from a to b (excluding b)"
   ]
  },
  {
   "cell_type": "code",
   "execution_count": null,
   "metadata": {},
   "outputs": [],
   "source": [
    "portfoliosvalue[0:]"
   ]
  },
  {
   "cell_type": "markdown",
   "metadata": {},
   "source": [
    "To subset lists of lists, you can use the same technique as before: square brackets. Try out the commands in the following code sample in the IPython Shell:\n",
    "\n",
    "portfolios[2][0]\n",
    "portfolios[2][:2]\n",
    "\n",
    "portfolios[2] results in a list, that you can subset again by adding additional square brackets."
   ]
  },
  {
   "cell_type": "code",
   "execution_count": null,
   "metadata": {},
   "outputs": [],
   "source": [
    "portfolios[0][1]"
   ]
  },
  {
   "cell_type": "markdown",
   "metadata": {},
   "source": [
    "We can also manipulate lists!\n",
    "\n",
    "Lets say Sarah's portfolio grew to 1.5 dollars, then we write"
   ]
  },
  {
   "cell_type": "code",
   "execution_count": null,
   "metadata": {},
   "outputs": [],
   "source": [
    "# in the case of the list of list construction\n",
    "portfolios[0][1]=1.5\n",
    "print(portfolios)\n",
    "# or in the case of a simple list\n",
    "portfoliosvalue[0]=1.5\n",
    "print(portfoliosvalue)"
   ]
  },
  {
   "cell_type": "markdown",
   "metadata": {},
   "source": [
    "You can also change multiple entries at once with slicing"
   ]
  },
  {
   "cell_type": "code",
   "execution_count": null,
   "metadata": {},
   "outputs": [],
   "source": [
    "portfoliosvalue"
   ]
  },
  {
   "cell_type": "code",
   "execution_count": null,
   "metadata": {},
   "outputs": [],
   "source": [
    "portfoliosvalue[0:2]=[1.4,1.7]\n",
    "print(portfoliosvalue)"
   ]
  },
  {
   "cell_type": "markdown",
   "metadata": {},
   "source": [
    "You can add and delete elements to a list as well:\n",
    "\n",
    "1. to delete just write del(listname[positiontobedeleted])\n",
    "2. to add just write listname=listname+newelement"
   ]
  },
  {
   "cell_type": "code",
   "execution_count": null,
   "metadata": {},
   "outputs": [],
   "source": [
    "print(portfoliosvalue)\n",
    "portfoliosvalue=portfoliosvalue+[2.5]\n",
    "print(portfoliosvalue)\n",
    "del(portfoliosvalue[3])\n",
    "print(portfoliosvalue)\n",
    "\n"
   ]
  },
  {
   "cell_type": "markdown",
   "metadata": {},
   "source": [
    "Important note regarding copying lists\n",
    "\n",
    "b=a\n",
    "\n",
    "creates b to be equal to a, so if you change a, b also changes. Under the hood, a and b point to the same list object.\n",
    "\n",
    "To make a true independent copy of the list you can write b=a.copy()\n",
    "\n",
    "to see the difference:"
   ]
  },
  {
   "cell_type": "code",
   "execution_count": null,
   "metadata": {},
   "outputs": [],
   "source": [
    "\n",
    "p1=portfoliosvalue\n",
    "p2=portfoliosvalue.copy()\n",
    "print(portfoliosvalue)\n",
    "print(p1)\n",
    "print(p2)\n"
   ]
  },
  {
   "cell_type": "code",
   "execution_count": null,
   "metadata": {},
   "outputs": [],
   "source": [
    "portfoliosvalue[0]=0.1\n",
    "print(portfoliosvalue)\n",
    "print(p1)\n",
    "print(p2)"
   ]
  },
  {
   "cell_type": "markdown",
   "metadata": {},
   "source": [
    "### Functions vs. methods"
   ]
  },
  {
   "cell_type": "markdown",
   "metadata": {},
   "source": [
    "Python has many built-in functions such as <code>print</code> and <code>help</code>.  If a function is part of the implementation of a specific type it is called a method.  Methods take their first argument before the function name followed by a period.  Here's a guide:\n",
    "<table style=\"width:75%\" align=\"left\">\n",
    "  <tr>\n",
    "    <td>Function</td>\n",
    "    <td>Built-in or user defined.  Syntax is name followed by arguments in parenthesis.</td>\n",
    "    <td>Example usage:<br> \n",
    "    `print('hello world.')`</td>\t\t\n",
    "  </tr>\n",
    "  <tr>\n",
    "    <td>Method</td>\n",
    "    <td>Part of implementation of a specific type.  Syntax is the variable of the specific type followed by a period and then the method name with arguments in parentheses.</td>\n",
    "    <td>Example usage:<br>\n",
    "    `s = 'abc'`<br>\n",
    "    `s.count('a')`\n",
    "    </td>\t\t\n",
    "  </tr>\n",
    "</table>\n",
    "<br>"
   ]
  },
  {
   "cell_type": "markdown",
   "metadata": {},
   "source": [
    "## Functions\n",
    "\n",
    "Function are build in or custom made snippets of code that avoid repetition. A skilled programmer will use functions instead of repeating code. As this will minimize error.\n",
    "\n",
    "This is often know as DRY- Don't repeat yourself\n",
    "(https://en.wikipedia.org/wiki/Don%27t_repeat_yourself)\n",
    "\n",
    "Functions are also the way to tap the huge library of code available for python\n",
    "\n",
    "What is a function?\n",
    "\n",
    "1. piece of reusable code: print(), type()\n",
    "2. solves a specific task\n",
    "3. allows you to avoid repetition\n",
    "\n",
    "a general recipe to call a function is\n",
    "\n",
    "output = function_name(input)\n",
    "\n",
    "EXAMPLES"
   ]
  },
  {
   "cell_type": "code",
   "execution_count": null,
   "metadata": {},
   "outputs": [],
   "source": [
    "# how to find the lowest portfolio value?\n",
    "\n",
    "print(min(portfoliosvalue))\n",
    "\n",
    "# how to find the largest?\n",
    "\n",
    "print(max(portfoliosvalue))\n",
    "\n",
    "# max and min are functions that solve this task. You can also implement this without using any functions. How would you do it?\n",
    "\n",
    "#How many portfolios do we have in our list?\n",
    "\n",
    "print(len(portfoliosvalue))\n",
    "\n",
    "\n"
   ]
  },
  {
   "cell_type": "code",
   "execution_count": null,
   "metadata": {},
   "outputs": [],
   "source": [
    "# yet another illustrative example is the function round wich takes two inputs as standard\n",
    "print(round(1.2345,3))\n",
    "# you can also just call with one input\n",
    "round(1.2345)"
   ]
  },
  {
   "cell_type": "markdown",
   "metadata": {
    "collapsed": true
   },
   "source": [
    "<b>Our first user-defined function</b>\n",
    "* Use the `def` syntax to define the function as follows:\n",
    "```python\n",
    "def func_name(args):\n",
    "    ...\n",
    "```"
   ]
  },
  {
   "cell_type": "code",
   "execution_count": null,
   "metadata": {},
   "outputs": [],
   "source": [
    "def fibonacci(limit):\n",
    "    # This is a docstring (always good idea!):\n",
    "    '''The fibonacci function prints fibonacci sequence up to a limit, returning a list.''' \n",
    "    \n",
    "    fibs = []\n",
    "    a, b = 0, 1\n",
    "    while b < limit:\n",
    "        # Append method works on lists, in this case fibs\n",
    "        fibs.append(b)\n",
    "        \n",
    "        # Reset a and b with new values\n",
    "        a, b = b, a + b\n",
    "    \n",
    "    # Our function returns the final list of requested fibonacci numbers\n",
    "    return fibs\n",
    "        \n",
    "# Use our function and test results\n",
    "result = fibonacci(10)\n",
    "print(result)"
   ]
  },
  {
   "cell_type": "code",
   "execution_count": null,
   "metadata": {},
   "outputs": [],
   "source": [
    "# Get docstring like so\n",
    "fibonacci.__doc__"
   ]
  },
  {
   "cell_type": "code",
   "execution_count": null,
   "metadata": {},
   "outputs": [],
   "source": [
    "# why both work?\n",
    "round?"
   ]
  },
  {
   "cell_type": "markdown",
   "metadata": {},
   "source": [
    "Note that :\n",
    "\n",
    "1. help(funname) opens the help of a function with name funname. This is very useful first step to understand what a function does. \n",
    "    - You can also write ?funname instead of help(funname)\n",
    "2. number [,ndigits] means that ndigits is an optional argument. \n",
    "3. The text above also tells us that 0 is the default value of ndigits is not assigned\n",
    "\n",
    "\n",
    "Python has also an alternative way of specify optional/default inputs. For example, lets conside the function sorted"
   ]
  },
  {
   "cell_type": "code",
   "execution_count": null,
   "metadata": {},
   "outputs": [],
   "source": [
    "help(sorted)"
   ]
  },
  {
   "cell_type": "markdown",
   "metadata": {},
   "source": [
    "Above we see that \n",
    "\n",
    "1. the iterable, for example a list, is required, \n",
    "2. if you do not specify the reverse input it is set to False\n",
    "3. if you do not specify the key input it is set to none\n",
    "4. You can choose to input none of the optional inputs, only key, only reverse, or both. Examples\n",
    "    a. sorted(alist)\n",
    "    b. sorted(alist,reverse=True)\n",
    "5. The key parameter can be used to specify a function to make comparisons. For example, you can use this to specify which column you want the sort to be based on. Or apply some transformation before sorting. Ignore this for now. For more info see (https://docs.python.org/3/howto/sorting.html)\n",
    "    \n"
   ]
  },
  {
   "cell_type": "code",
   "execution_count": null,
   "metadata": {},
   "outputs": [],
   "source": [
    "sorted(portfolios,reverse=True)"
   ]
  },
  {
   "cell_type": "markdown",
   "metadata": {},
   "source": [
    "# Methods\n",
    "\n",
    "each object in python comes with a bunch of methods. Methods are functions specific to a method.\n",
    "\n",
    "you call a method as follows:\n",
    "\n",
    "object.method(input)\n",
    "\n",
    "you can type objet.(command Tab) to see the available methods\n",
    "\n",
    "ypu can also write help(type) to see available methods for a type\n",
    "\n",
    "Each object type will have specifc methods associater with it\n",
    "\n",
    "\n"
   ]
  },
  {
   "cell_type": "code",
   "execution_count": null,
   "metadata": {},
   "outputs": [],
   "source": [
    "portfoliosowner.sort?\n",
    "\n"
   ]
  },
  {
   "cell_type": "markdown",
   "metadata": {},
   "source": [
    "String in particular have several methods"
   ]
  },
  {
   "cell_type": "code",
   "execution_count": null,
   "metadata": {},
   "outputs": [],
   "source": [
    "description"
   ]
  },
  {
   "cell_type": "code",
   "execution_count": null,
   "metadata": {},
   "outputs": [],
   "source": [
    "print(description.capitalize())\n",
    "print(description.replace('future','past'))\n",
    "print(description.endswith('e'))\n",
    "print(description.index('e'))\n",
    "print(description.count('e'))\n"
   ]
  },
  {
   "cell_type": "markdown",
   "metadata": {},
   "source": [
    "String manipulation is something that is really really useful and is really an entire course\n",
    "\n",
    "We will not use that much at all, since we will use numbers as data\n",
    "\n",
    "But by the end of the class you should be ready to learn string manipulation by yourself.\n"
   ]
  },
  {
   "cell_type": "markdown",
   "metadata": {},
   "source": [
    "List also have "
   ]
  },
  {
   "cell_type": "code",
   "execution_count": null,
   "metadata": {},
   "outputs": [],
   "source": [
    "portfolios.append(['alan',0])\n",
    "print(portfolios)\n",
    "portfolios.pop(3)\n"
   ]
  },
  {
   "cell_type": "markdown",
   "metadata": {},
   "source": [
    "## How to get help on a method?\n",
    "\n",
    "(command)?\n",
    "\n",
    "Help on built-in function pop:\n",
    "\n",
    "pop(...) method of builtins.list instance\n",
    "    L.pop([index]) -> item -- remove and return item at index (default last).\n",
    "    Raises IndexError if list is empty or index is out of range.\n",
    "    \n",
    "    \n",
    "Or just google: \n",
    " - python (command) \n",
    " - python how to ....\n",
    " \n",
    "\n",
    "I google a lot. It is the easiest way to get help\n",
    "\n"
   ]
  },
  {
   "cell_type": "markdown",
   "metadata": {},
   "source": [
    "**`try`/`except` statements**\n",
    "\n",
    "\n",
    "What if we try to access an element in a list which is out of it's range?\n",
    "```python\n",
    "letters = ['a', 'b', 'c', 'd']\n",
    "for i in range(10):\n",
    "    print(letters[i])\n",
    "```\n",
    "We get an IndexError as shown in this traceback print-out:\n",
    "\n",
    "```python\n",
    "---------------------------------------------------------------------------\n",
    "IndexError                                Traceback (most recent call last)\n",
    "<ipython-input-17-7700b7ec9e04> in <module>()\n",
    "      1 letters = list('abcde')\n",
    "      2 for i in range(10):\n",
    "----> 3     print(letters[i])\n",
    "\n",
    "IndexError: list index out of range\n",
    "```"
   ]
  },
  {
   "cell_type": "markdown",
   "metadata": {},
   "source": [
    "<b>The syntax is as follows:</b>\n",
    "\n",
    "```python\n",
    "try:\n",
    "    ...\n",
    "except ErrorName as e:\n",
    "   ...\n",
    "```"
   ]
  },
  {
   "cell_type": "code",
   "execution_count": null,
   "metadata": {},
   "outputs": [],
   "source": [
    "# Handling exceptions with try/except statements\n",
    "\n",
    "# A list of strings\n",
    "letters = ['a', 'b', 'c', 'd']\n",
    "\n",
    "# Here we iterate over a list from 0 up to an index of 9 (that's what range(10) does)\n",
    "for i in range(10):\n",
    "    try:\n",
    "        # Print current letter\n",
    "        print(letters[i])\n",
    "    except IndexError as e:\n",
    "        # IndexError is the particular error and only error we catch here\n",
    "        print('Oops!  Something went wrong:', e)\n",
    "        # Break out of loop now (so we don't keep getting this error)\n",
    "        break"
   ]
  },
  {
   "cell_type": "markdown",
   "metadata": {},
   "source": [
    "<b>Order of prescedence, i.e. what gets exectuded first</b> \n",
    "1. parentheses\n",
    "* multiplication (*), division (/), remainder (%)\n",
    "* addition and subtraction\n",
    "* comparisons, membership and identity (`in`, `not in`, `is`, `is not`, and the six comparison operators above)\n",
    "* `not x`\n",
    "* `and`\n",
    "* `or`\n",
    "\n",
    "* If you are not sure, use parenthesis to make sure python follows the order you intended!"
   ]
  },
  {
   "cell_type": "markdown",
   "metadata": {},
   "source": [
    "# Packages\n",
    "\n",
    " - directories of python script\n",
    " - each script specify functions, methods, types\n",
    " - Lots of packages available for specific types of tasks\n",
    " \n",
    "     * matplotlib: data visualization\n",
    "     * numpy: array manipulation\n",
    "     * pandas: database\n",
    "     * Scipy: statisitical package\n",
    "\n",
    "## How to install a package?\n",
    "\n",
    "\n",
    "If you have the anaconda distribution:\n",
    "\n",
    "https://conda.io/docs/using/pkgs.html\n",
    "\n",
    " * conda list\n",
    " * conda install packagename\n",
    " * conda update packagename\n",
    " \n",
    " \n",
    " Once installed you have to import the package in a specific stance.\n",
    " \n",
    " This needs to be imported in each new active python session.\n",
    " \n",
    " This way you only import what you need\n",
    " \n",
    " Several different options\n",
    " \n",
    "  - Import a particular method o f the package\n",
    "   \n",
    "       * from numpy import array\n",
    "       \n",
    "  - Import the package with it's own name\n",
    "   \n",
    "       * import numpy\n",
    "       \n",
    "  - change the package name\n",
    "    \n",
    "      * import numpy as np\n",
    "      "
   ]
  },
  {
   "cell_type": "markdown",
   "metadata": {},
   "source": [
    "# NUMPY\n",
    "\n",
    "NumPy is a first-rate library for numerical programming\n",
    "\n",
    "Widely used in academia, finance and industry\n",
    "\n",
    "Mature, fast, stable and under continuous development\n",
    "\n",
    "In this lecture we introduce NumPy arrays and the fundamental array processing operations provided by NumPy\n",
    "\n",
    "Important Notes\n",
    "\n",
    "Moreover, we’ll be using the new syntax A @ B for matrix multiplication, as opposed to the old syntax np.dot(A, B)\n",
    "\n",
    "This will work if you’ve installed version Python 3.5 or later of Anaconda\n",
    "\n",
    "The essential problem that NumPy solves is fast array processing\n",
    "\n",
    "For example, suppose we want to create an array of 1 million random draws from a uniform distribution and compute the mean\n",
    "\n",
    "If we did this in pure Python it would be orders of magnitude slower than C or Fortran\n",
    "\n",
    "This is because\n",
    " - Loops in Python over Python data types like lists carry significant overhead\n",
    " - C and Fortran code contains a lot of type information that can be used for optimization\n",
    " - Various optimizations can be carried out during compilation, when the compiler sees the instructions as a whole\n",
    "\n",
    "However, for a task like the one described above there’s no need to switch back to C or Fortran\n",
    "\n",
    "Instead we can use NumPy, where the instructions look like this:"
   ]
  },
  {
   "cell_type": "code",
   "execution_count": null,
   "metadata": {},
   "outputs": [],
   "source": [
    "from numpy import array\n",
    "x=array([2,3,4])\n",
    "print(x.cumprod())\n",
    "import numpy \n",
    "x=numpy.array([2,3,4])\n",
    "print(x.mean())\n",
    "import numpy as np\n",
    "x=np.array([2,3,4])\n",
    "print(x.cumsum())\n"
   ]
  },
  {
   "cell_type": "markdown",
   "metadata": {},
   "source": [
    "Lets start by creating a vector of random numbers\n",
    "\n",
    "Here we are sampling from a normal distribution\n",
    "\n",
    "$$X\\sim N(0.1,0.2^2)$$"
   ]
  },
  {
   "cell_type": "code",
   "execution_count": null,
   "metadata": {},
   "outputs": [],
   "source": [
    "X=np.random.normal(0.1,0.2,120)\n",
    "X"
   ]
  },
  {
   "cell_type": "code",
   "execution_count": null,
   "metadata": {
    "scrolled": false
   },
   "outputs": [],
   "source": [
    "[X.mean(),X.max(),x.min(),X.std()]"
   ]
  },
  {
   "cell_type": "markdown",
   "metadata": {},
   "source": [
    "# A Comment on Vectorization\n",
    "\n",
    "NumPy is great for operations that are naturally vectorized\n",
    "\n",
    "Vectorized operations are precompiled routines that can be sent in batches, like\n",
    " - matrix multiplication and other linear algebra routines\n",
    " - generating a vector of random numbers\n",
    " - applying a fixed transformation (e.g., sine or cosine) to an entire array\n",
    "\n",
    "\n",
    "# NumPy Arrays\n",
    "\n",
    "The most important thing that NumPy defines is an array data type formally called a numpy.ndarray\n",
    "\n",
    "NumPy arrays power a large proportion of the scientific Python ecosystem\n",
    "\n",
    "To create a NumPy array containing only zeros we use np.zeros"
   ]
  },
  {
   "cell_type": "code",
   "execution_count": null,
   "metadata": {},
   "outputs": [],
   "source": [
    "a = np.zeros(3)\n",
    "a"
   ]
  },
  {
   "cell_type": "code",
   "execution_count": null,
   "metadata": {},
   "outputs": [],
   "source": [
    "type(a)"
   ]
  },
  {
   "cell_type": "markdown",
   "metadata": {},
   "source": [
    "NumPy arrays are somewhat like native Python lists, except that\n",
    " - Data must be homogeneous (all elements of the same type)\n",
    " - These types must be one of the data types (dtypes) provided by NumPy\n",
    "The most important of these dtypes are:\n",
    " - float64: 64 bit floating point number\n",
    " - int64: 64 bit integer\n",
    " - bool: 8 bit True or False\n",
    "\n",
    "There are also dtypes to represent complex numbers, unsigned integers, etc\n",
    "\n",
    "On modern machines, the default dtype for arrays is float64"
   ]
  },
  {
   "cell_type": "code",
   "execution_count": null,
   "metadata": {},
   "outputs": [],
   "source": [
    "type(a[0])"
   ]
  },
  {
   "cell_type": "markdown",
   "metadata": {},
   "source": [
    "# Shape and Dimension\n",
    "\n",
    "Consider the following assignment"
   ]
  },
  {
   "cell_type": "code",
   "execution_count": null,
   "metadata": {},
   "outputs": [],
   "source": [
    "z = np.zeros(10)"
   ]
  },
  {
   "cell_type": "markdown",
   "metadata": {},
   "source": [
    "Here z is a flat array with no dimension — neither row nor column vector\n",
    "\n",
    "The dimension is recorded in the shape attribute, which is a tuple"
   ]
  },
  {
   "cell_type": "code",
   "execution_count": null,
   "metadata": {},
   "outputs": [],
   "source": [
    "z.shape"
   ]
  },
  {
   "cell_type": "code",
   "execution_count": null,
   "metadata": {},
   "outputs": [],
   "source": [
    "z = np.zeros((10,2))\n",
    "z.shape"
   ]
  },
  {
   "cell_type": "markdown",
   "metadata": {},
   "source": [
    "We can easily reshape an array"
   ]
  },
  {
   "cell_type": "code",
   "execution_count": null,
   "metadata": {
    "scrolled": true
   },
   "outputs": [],
   "source": [
    "z.shape=(5,4)\n",
    "z"
   ]
  },
  {
   "cell_type": "markdown",
   "metadata": {},
   "source": [
    "# Creating arrays\n",
    "\n",
    "As we’ve seen, the np.zeros function creates an array of zeros\n",
    "\n",
    "You can probably guess what np.ones creates\n",
    "\n"
   ]
  },
  {
   "cell_type": "code",
   "execution_count": null,
   "metadata": {},
   "outputs": [],
   "source": [
    "np.array([1,3,4])"
   ]
  },
  {
   "cell_type": "code",
   "execution_count": null,
   "metadata": {
    "scrolled": true
   },
   "outputs": [],
   "source": [
    "np.array([[3,4],[5,6]])"
   ]
  },
  {
   "cell_type": "markdown",
   "metadata": {},
   "source": [
    "# Array Methods\n",
    "\n",
    "Arrays have useful methods, all of which are carefully optimized\n",
    "\n",
    "X.sort()              # Sorts A in place\n",
    "X.sum()               # Sum\n",
    "A.mean()              # Mean\n",
    "A.max()               # Max\n",
    "A.argmax()            # Returns the index of the maximal element\n",
    "A.cumsum()            # Cumulative sum of the elements of A\n",
    "A.cumprod()           # Cumulative product of the elements of A\n",
    "A.var()               # Variance"
   ]
  },
  {
   "cell_type": "markdown",
   "metadata": {},
   "source": [
    "# Operations on Arrays\n",
    "\n",
    "The algebraic operators +, -, *, / and ** all act element-wise on arrays"
   ]
  },
  {
   "cell_type": "code",
   "execution_count": null,
   "metadata": {},
   "outputs": [],
   "source": [
    "a = np.array([1, 2, 3, 4])\n",
    "b = np.array([5, 6, 7, 8])\n",
    "a + b"
   ]
  },
  {
   "cell_type": "code",
   "execution_count": null,
   "metadata": {},
   "outputs": [],
   "source": [
    "a*b"
   ]
  },
  {
   "cell_type": "markdown",
   "metadata": {},
   "source": [
    "The two dimensional arrays follow the same general rules"
   ]
  },
  {
   "cell_type": "code",
   "execution_count": null,
   "metadata": {},
   "outputs": [],
   "source": [
    "A = np.ones((2, 2))\n",
    "B = np.ones((2, 2))*2\n",
    "A + B"
   ]
  },
  {
   "cell_type": "markdown",
   "metadata": {},
   "source": [
    "# Matrix Multiplication\n",
    "\n",
    "With Anaconda’s scientific Python package based around Python 3.5 and above, one can use the @ symbol for matrix multiplication, as follows:\n",
    "\n",
    "In particular, A * B is not the matrix product, it is an element-wise product"
   ]
  },
  {
   "cell_type": "code",
   "execution_count": null,
   "metadata": {},
   "outputs": [],
   "source": [
    "A = np.array((1, 2))\n",
    "B = np.array((10, 20))\n",
    "A @ B"
   ]
  },
  {
   "cell_type": "markdown",
   "metadata": {},
   "source": [
    "This will be very useful when we construct portfolios!"
   ]
  },
  {
   "cell_type": "markdown",
   "metadata": {},
   "source": [
    "# Important observation about NUMPY\n",
    "\n",
    "numpy is great for doing vector arithmetic. However, some things have changed relative to Python lists.\n",
    "1. numpy arrays cannot contain elements with different types. \n",
    "2. If you try to build such a list, some of the elements' types are changed to end up with a homogeneous list.\n",
    "\n",
    "3. the typical arithmetic operators, such as +, -, * and / have a different meaning for  numpy arrays.\n",
    "\n",
    "Example:"
   ]
  },
  {
   "cell_type": "code",
   "execution_count": null,
   "metadata": {},
   "outputs": [],
   "source": [
    "print([3,4,7]+[2,4,6])\n",
    "print(np.array([3,4,7])+np.array([2,4,6]))\n"
   ]
  },
  {
   "cell_type": "markdown",
   "metadata": {},
   "source": [
    "# Visualization\n",
    "\n",
    "To plot data the library matplotlib is great.\n",
    "\n",
    "First start importing it and telling jupyter to do the plots in the notebook\n",
    "\n",
    "here is everything you might need: https://matplotlib.org/\n",
    "\n",
    "Here is a crahs course: https://matplotlib.org/users/pyplot_tutorial.html"
   ]
  },
  {
   "cell_type": "code",
   "execution_count": null,
   "metadata": {},
   "outputs": [],
   "source": [
    "import matplotlib.pyplot as plt\n",
    "%matplotlib inline\n",
    "# This line makes sure that the plot is shown in the notebook"
   ]
  },
  {
   "cell_type": "code",
   "execution_count": null,
   "metadata": {},
   "outputs": [],
   "source": [
    "# here is a histogram\n",
    "plt.hist(X,bins=30);"
   ]
  },
  {
   "cell_type": "code",
   "execution_count": null,
   "metadata": {},
   "outputs": [],
   "source": [
    "# here is a time-series plot\n",
    "plt.plot(X)\n",
    "plt.legend(['returns'])"
   ]
  },
  {
   "cell_type": "code",
   "execution_count": null,
   "metadata": {},
   "outputs": [],
   "source": [
    "# here are some bar plots \n",
    "plt.subplot(1,2,1)\n",
    "plt.bar(range(0,120),X)\n",
    "plt.subplot(1,2,2)\n",
    "plt.plot(range(0,120),X)\n",
    "# why the risk-free asset has positive variance?\n",
    "# is this risk? What is the difference between the variance on the stock market factors and the risk-free rate?\n"
   ]
  },
  {
   "cell_type": "markdown",
   "metadata": {},
   "source": [
    "Lets create another variable with a varying degree of correlation with X"
   ]
  },
  {
   "cell_type": "code",
   "execution_count": null,
   "metadata": {},
   "outputs": [],
   "source": [
    "\n",
    "rho=0.5\n",
    "Y=rho*X+np.sqrt(1-np.power(rho,2))*np.random.normal(0.1,0.2,120)\n",
    "\n",
    "# here are some scatter plots \n",
    "plt.scatter(X,Y)\n",
    "\n",
    "\n"
   ]
  },
  {
   "cell_type": "markdown",
   "metadata": {},
   "source": [
    "# Conditional operators\n",
    "\n",
    "1. Comparison operators: ==, !=, >,<, >=,<=\n",
    "2. Boolean operators: and (&),or (|) ,not (!)\n",
    "3. Coditional statments: if,else,elif, while"
   ]
  },
  {
   "cell_type": "code",
   "execution_count": null,
   "metadata": {},
   "outputs": [],
   "source": [
    "#comparing numbers\n",
    "\n",
    "print(2==1+1)\n",
    "print(2!=1+1)\n",
    "print(2>1+1)\n",
    "print(2>=1+1)\n",
    "\n",
    "#Booleans\n",
    "print(2==1+1 and 2>1+1)\n",
    "\n",
    "print(2==1+1 or 2>1+1)\n",
    "\n",
    "print(2==1+1 & 3==2+1)\n",
    "\n",
    "print(not 2>1+1)"
   ]
  },
  {
   "cell_type": "markdown",
   "metadata": {},
   "source": [
    "## Program Flow\n",
    "\n",
    "- Like IKEA furniture assembly instructions, a program is a sequence of steps to be done in order (add link to ikea furniture instrutions)\n",
    "- Some steps are conditional—they will only be executed under certain conditions\n",
    "- Some steps are repeated multiple time\n",
    "- Some steps are stored and used all around through our program\n",
    "\n"
   ]
  },
  {
   "cell_type": "markdown",
   "metadata": {},
   "source": [
    "# Sequential steps\n",
    "\n",
    "When a program is running, it flows from one step to the next.  As programmers, we set up “paths” for the program to follow.\n",
    "\n",
    "Program\n",
    "\n",
    "x=2\n",
    "\n",
    "print(x)\n",
    "\n",
    "x=x+1\n",
    "\n",
    "print(x)\n",
    "\n",
    "\n",
    "# Conditional Steps\n",
    "\n",
    "Program:\n",
    "\n",
    "x = 5\n",
    "\n",
    "if x < 10:\n",
    "    \n",
    "    print('Smaller')\n",
    "    \n",
    "if x > 20:\n",
    "    \n",
    "    print('Bigger')\n",
    "    \n",
    "\n",
    "print('Finis')\n",
    "\n",
    "\n",
    "\n",
    "\n"
   ]
  },
  {
   "cell_type": "code",
   "execution_count": null,
   "metadata": {
    "scrolled": true
   },
   "outputs": [],
   "source": [
    "x=22\n",
    "if x < 10:\n",
    "    print('Smaller')\n",
    "    \n",
    "if x > 20:\n",
    "    print('Bigger')\n",
    "    \n",
    "\n",
    "print('Finis')"
   ]
  },
  {
   "cell_type": "markdown",
   "metadata": {},
   "source": [
    "# Indentation\n",
    "\n",
    "In python identation has meaning!\n",
    "\n",
    "4 spaces imply that the idented space belongs to the above statement\n",
    "\n",
    "Note:"
   ]
  },
  {
   "cell_type": "code",
   "execution_count": null,
   "metadata": {},
   "outputs": [],
   "source": [
    "x=22\n",
    "if x < 10:\n",
    "print('Smaller')\n",
    "    \n",
    "if x > 20:\n",
    "print('Bigger')\n",
    "    \n",
    "\n",
    "print('Finis')"
   ]
  },
  {
   "cell_type": "markdown",
   "metadata": {},
   "source": [
    "So the 4 white space have meaning!\n",
    "\n",
    "#### does every white space has meaning?\n",
    "\n",
    "\n",
    "No, not in general. Only the indentation level of your statements is significant (i.e. the whitespace at the very left of your statements). Everywhere else, whitespace is not significant and can be used as you like, just like in any other language. You can also insert empty lines that contain nothing (or only arbitrary whitespace) anywhere.\n",
    "\n",
    "But you can also write in line\n"
   ]
  },
  {
   "cell_type": "code",
   "execution_count": null,
   "metadata": {},
   "outputs": [],
   "source": [
    "x=22\n",
    "if x < 10: print('Smaller')\n",
    "    \n",
    "if x > 20: print('Bigger')\n",
    "    \n",
    "\n",
    "print('Finis')"
   ]
  },
  {
   "cell_type": "markdown",
   "metadata": {},
   "source": [
    "Jupyter will help you out here.\n",
    "\n",
    "LEts try typing code"
   ]
  },
  {
   "cell_type": "code",
   "execution_count": null,
   "metadata": {},
   "outputs": [],
   "source": [
    "\n",
    "    "
   ]
  },
  {
   "cell_type": "markdown",
   "metadata": {},
   "source": [
    "# DO NOT USE TAB to IDENT!!!!\n",
    "\n",
    "This can make the code change it's meaning as you change computer/plataform\n",
    "\n",
    "always use 4 spaces\n",
    "\n",
    "You can also use Ctrl+] to ident and Ctrl+[ to deident\n",
    "\n",
    "Only relative idnet matters!"
   ]
  },
  {
   "cell_type": "code",
   "execution_count": null,
   "metadata": {
    "scrolled": true
   },
   "outputs": [],
   "source": [
    "x=4\n",
    "if x < 10: \n",
    "    print('Small')\n",
    "    if x < 5: \n",
    "        print('and tiny')"
   ]
  },
  {
   "cell_type": "markdown",
   "metadata": {},
   "source": [
    "Note that the second if statement \"belongs\" to the first. It is only execture if the program reaches that branch"
   ]
  },
  {
   "cell_type": "code",
   "execution_count": null,
   "metadata": {},
   "outputs": [],
   "source": [
    "x=20\n",
    "if x < 10: \n",
    "    print('Small')\n",
    "    if x > 15: \n",
    "        print('and tiny')"
   ]
  },
  {
   "cell_type": "markdown",
   "metadata": {
    "collapsed": true
   },
   "source": [
    "# Repeated Steps\n",
    "\n",
    "\n",
    "Program:\n",
    "\n",
    "n = 5\n",
    "while n > 0 :\n",
    "\n",
    "    print(n)       \n",
    "    \n",
    "    n = n – 1\n",
    "    \n",
    "print('Blastoff!')\n",
    "\n",
    "Or also \n",
    "\n",
    "n=5\n",
    "\n",
    "for i in range(0,5):\n",
    "    \n",
    "    print(5-i)\n",
    "    \n",
    "print('Blastoff')    \n",
    "\n",
    "Python has two main ways to do repeated steps\n",
    "\n",
    "1. while: repeats a particular code while some condition is statisfied. \n",
    "2. for: goes through a prespecified list and repead the code until this list ends\n",
    "\n"
   ]
  },
  {
   "cell_type": "code",
   "execution_count": null,
   "metadata": {},
   "outputs": [],
   "source": [
    "n = 5\n",
    "while n > 0 :\n",
    "    print(n)       \n",
    "    n = n-1\n",
    "print('Blastoff!')\n",
    "\n",
    "\n",
    "for i in range(0,5):\n",
    "    print(5-i)\n",
    "print('Blastoff') "
   ]
  },
  {
   "cell_type": "markdown",
   "metadata": {},
   "source": [
    "\n",
    "### Identation always key!"
   ]
  },
  {
   "cell_type": "code",
   "execution_count": null,
   "metadata": {},
   "outputs": [],
   "source": []
  }
 ],
 "metadata": {
  "kernelspec": {
   "display_name": "Python 3",
   "language": "python",
   "name": "python3"
  },
  "language_info": {
   "codemirror_mode": {
    "name": "ipython",
    "version": 3
   },
   "file_extension": ".py",
   "mimetype": "text/x-python",
   "name": "python",
   "nbconvert_exporter": "python",
   "pygments_lexer": "ipython3",
   "version": "3.6.5"
  }
 },
 "nbformat": 4,
 "nbformat_minor": 1
}

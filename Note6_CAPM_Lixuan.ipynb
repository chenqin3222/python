{
 "cells": [
  {
   "cell_type": "markdown",
   "metadata": {
    "collapsed": true
   },
   "source": [
    "包括内容：高级外部表格引用，表格合并，CAPM，CAPM验证[Cross Sectional/Time-series Test]"
   ]
  },
  {
   "cell_type": "code",
   "execution_count": 45,
   "metadata": {},
   "outputs": [],
   "source": [
    "import numpy as np\n",
    "import pandas as pd\n",
    "import matplotlib.pyplot as plt\n",
    "import statsmodels.api as sm\n",
    "import scipy.stats as stats\n",
    "%matplotlib inline"
   ]
  },
  {
   "cell_type": "markdown",
   "metadata": {},
   "source": [
    "对于CAPM，HW5是非常好的一个例子。以下note会以HW5作为模板讲解。"
   ]
  },
  {
   "cell_type": "markdown",
   "metadata": {},
   "source": [
    "多表格处理。\n",
    "\n",
    "如果原excel文件存在多个工作表，或者在一个工作表里存在多个表格，可以在读从excel文件的pd.read_excel方程中增加系数对数据单独提取。\n",
    "\n",
    "pd.read_excel(  \n",
    "sheetname='...'[目标工作表名字，例sheetname='sheet1'],  \n",
    "head=...[目标表格起始行（注意index问题），例head=0表示第一行]，  \n",
    "parse_cols='...:...'[目标表格所在列范围，必要时记得包括index列。例parse_cols='A:G表示从第一列至第七列，左右都是闭区间]  \n",
    ")\n",
    "\n",
    "另外，如果缺失值超过两个，要用list的方式输入，如 na_values=[a,b,...]\n",
    "\n",
    "对于时间数据的处理，之前在note3中提及到，比较简便的办法是直接在pd.read_excel方程中修改，通过date_parser参数进行修改。date_parser的意思是通过一个方程，输入原来的index，返还修改成时间格式的index。也就是说，date_parser需要等于只有一个自变量，也就是原index的一个方程。\n",
    "\n",
    "问题来了，之前我们提及到的to_datetime方程可以输入很多变量，那怎么让python知道我们输入的变量是index呢？我们可以自己假设一个方程，使这个方程只有一个变量x，然后令date_parser等于它。"
   ]
  },
  {
   "cell_type": "code",
   "execution_count": 46,
   "metadata": {
    "scrolled": true
   },
   "outputs": [
    {
     "name": "stdout",
     "output_type": "stream",
     "text": [
      "            Mkt-RF    RF\n",
      "1926-07-01    2.96  0.22\n",
      "            Mkt-RF    RF\n",
      "1926-07-01    2.96  0.22\n"
     ]
    }
   ],
   "source": [
    "url=\"https://www.dropbox.com/s/yze3laidhv7gl1x/Homework4.xlsx?dl=1\"\n",
    "\n",
    "changedate = lambda x: pd.to_datetime(x,format=\"%Y%m\")   #lambda方程，针对于变量x，x即使我们要输入到to_datetime方程中的index。\n",
    "\n",
    "def changedate1(x):\n",
    "    return pd.to_datetime(x,format=\"%Y%m\")               #def方程也是可以的\n",
    "\n",
    "Market=pd.read_excel(url, sheetname='Market_proxy',header=5, index_col=0,parse_dates=True, date_parser=changedate)\n",
    "Market1=pd.read_excel(url, sheetname='Market_proxy',header=5, index_col=0,parse_dates=True, date_parser=changedate1)\n",
    "print(Market.head(1))\n",
    "print(Market1.head(1))"
   ]
  },
  {
   "cell_type": "code",
   "execution_count": 47,
   "metadata": {},
   "outputs": [
    {
     "name": "stdout",
     "output_type": "stream",
     "text": [
      "             Agric   Food  Soda  Beer  Smoke   Toys    Fun  Books  Hshld  \\\n",
      "1926-07-01   99.80  31.19   NaN  7.12  59.72  13.00  28.64   4.33  22.27   \n",
      "1926-08-01  102.06  31.15   NaN  6.75  60.47  14.12  29.34   6.50  22.13   \n",
      "\n",
      "            Clths  ...    Boxes  Trans  Whlsl  Rtail  Meals  Banks  Insur  \\\n",
      "1926-07-01  18.36  ...    35.35  68.67   1.19  46.65  10.82  14.50  31.82   \n",
      "1926-08-01  19.83  ...    37.86  69.79   0.90  46.57  11.00  15.17  31.65   \n",
      "\n",
      "            RlEst    Fin  Other  \n",
      "1926-07-01  22.92  10.28  24.25  \n",
      "1926-08-01  23.56   9.76  25.51  \n",
      "\n",
      "[2 rows x 49 columns]\n",
      "            Agric  Food  Soda  Beer  Smoke  Toys   Fun  Books  Hshld  Clths  \\\n",
      "1926-01-01   0.65  0.63   NaN  2.54   0.79  1.99  0.81   4.34   0.38    0.9   \n",
      "1927-01-01   0.59  0.53   NaN  1.81   0.69  2.04  0.96   2.17   0.36    0.8   \n",
      "\n",
      "            ...    Boxes  Trans  Whlsl  Rtail  Meals  Banks  Insur  RlEst  \\\n",
      "1926-01-01  ...     0.97   1.41   2.35   0.44   0.66   0.66   0.62   0.88   \n",
      "1927-01-01  ...     1.00   1.30   5.25   0.43   0.59   0.83   0.53   0.77   \n",
      "\n",
      "             Fin  Other  \n",
      "1926-01-01  0.98   0.63  \n",
      "1927-01-01  1.13   0.69  \n",
      "\n",
      "[2 rows x 49 columns]\n"
     ]
    }
   ],
   "source": [
    "#提取特定的AZ:CW的数据，以及两个na_values\n",
    "Size     = pd.read_excel(url, sheetname='49_Industry_Portfolios', header=6, parse_cols=\"AZ:CW\", \n",
    "                     index_col=0, parse_dates=True, date_parser=changedate, na_values=[-99.99,-999])\n",
    "\n",
    "#提取特定的CY:EV的数据，以及两个na_values\n",
    "BM_year  = pd.read_excel(url, sheetname='49_Industry_Portfolios', header=6, parse_cols=\"CY:EV\", \n",
    "                     index_col=0, parse_dates=True, na_values=[-99.99,-999])\n",
    "\n",
    "print(Size.head(2))\n",
    "print(BM_year.head(2)) #注意这个是年数据"
   ]
  },
  {
   "cell_type": "markdown",
   "metadata": {},
   "source": [
    "合并表格。合并表格有很多种可能：https://pandas.pydata.org/pandas-docs/stable/merging.html  \n",
    "上面那个链接提供了很多个方程，而且每个用法都有非常有代表性的例子帮助理解方程的逻辑，十分推荐。"
   ]
  },
  {
   "cell_type": "markdown",
   "metadata": {},
   "source": [
    "pd.meger()方程，用于将两个DataFrame，按照某一个指标，左右合并。格式为pd.meger(左边DataFrame，右边DataFrame)。   \n",
    "\n",
    "指标key作为on的参数输入。指标可以是两个Data的其中一列，甚至几列。以列作为指标的话，左边Data会调整为在指标列左边，右边Data同理。指标列必须在两列中均有出现，否则会报错。   \n",
    "\n",
    "如果想以index为指标，那左边Data为例，则不需要写on的参数，直接写left_index=True， 右边同理。左边Data选取index作为指标，不一定要求右边表格也需要，仍然可以通过right_on='指标列名字'来选择除index以外的其他列，左边同理。  \n",
    "\n",
    "如果合并时，两边data根据指标列存在缺失数据，默认会用Na空值填补。可以通过how修改参数:   \n",
    "left: 保留左边的数据，左边data缺失时不合并右边数据。  \n",
    "right:保留右边的数据，右边data缺失时不合并左边数据。  \n",
    "outet:保留所有数据，  \n",
    "inner:只保留左右均不为空的数据。  \n",
    "如果合并时，出现了重名的列，默认左边的下标为'_x'，右边下标为'_y',可以通过suffixes=('...','...')修改下标。  "
   ]
  },
  {
   "cell_type": "markdown",
   "metadata": {
    "collapsed": true
   },
   "source": [
    "合并表格还会存在一个问题，同样为月数据的index，有的时候DataFrame是用月初记录，有时候是用月末记录，合并的时候DataFrame不会认为这两种index是同一个index，造成无法合并，解决方法很简单，只需要将其中一个index转换成另一个index就可以了，方程是pandas.tseries.offsets"
   ]
  },
  {
   "cell_type": "code",
   "execution_count": 48,
   "metadata": {
    "scrolled": true
   },
   "outputs": [
    {
     "data": {
      "text/plain": [
       "DatetimeIndex(['1926-07-01', '1926-08-01', '1926-09-01', '1926-10-01',\n",
       "               '1926-11-01', '1926-12-01', '1927-01-01', '1927-02-01',\n",
       "               '1927-03-01', '1927-04-01',\n",
       "               ...\n",
       "               '2015-02-01', '2015-03-01', '2015-04-01', '2015-05-01',\n",
       "               '2015-06-01', '2015-07-01', '2015-08-01', '2015-09-01',\n",
       "               '2015-10-01', '2015-11-01'],\n",
       "              dtype='datetime64[ns]', length=1073, freq=None)"
      ]
     },
     "execution_count": 48,
     "metadata": {},
     "output_type": "execute_result"
    }
   ],
   "source": [
    "Market.index"
   ]
  },
  {
   "cell_type": "code",
   "execution_count": 49,
   "metadata": {},
   "outputs": [
    {
     "data": {
      "text/plain": [
       "DatetimeIndex(['1926-07-31', '1926-08-31', '1926-09-30', '1926-10-31',\n",
       "               '1926-11-30', '1926-12-31', '1927-01-31', '1927-02-28',\n",
       "               '1927-03-31', '1927-04-30',\n",
       "               ...\n",
       "               '2015-02-28', '2015-03-31', '2015-04-30', '2015-05-31',\n",
       "               '2015-06-30', '2015-07-31', '2015-08-31', '2015-09-30',\n",
       "               '2015-10-31', '2015-11-30'],\n",
       "              dtype='datetime64[ns]', length=1073, freq='M')"
      ]
     },
     "execution_count": 49,
     "metadata": {},
     "output_type": "execute_result"
    }
   ],
   "source": [
    "Market.index + pd.tseries.offsets.MonthEnd()"
   ]
  },
  {
   "cell_type": "code",
   "execution_count": 50,
   "metadata": {
    "scrolled": true
   },
   "outputs": [
    {
     "data": {
      "text/plain": [
       "['ABCDatetimeIndex',\n",
       " 'ABCPeriod',\n",
       " 'ABCSeries',\n",
       " 'AbstractMethodError',\n",
       " 'ApplyTypeError',\n",
       " 'BDay',\n",
       " 'BMonthBegin',\n",
       " 'BMonthEnd',\n",
       " 'BQuarterBegin',\n",
       " 'BQuarterEnd',\n",
       " 'BYearBegin',\n",
       " 'BYearEnd',\n",
       " 'BusinessDay',\n",
       " 'BusinessHour',\n",
       " 'BusinessHourMixin',\n",
       " 'BusinessMixin',\n",
       " 'BusinessMonthBegin',\n",
       " 'BusinessMonthEnd',\n",
       " 'CBMonthBegin',\n",
       " 'CBMonthEnd',\n",
       " 'CDay',\n",
       " 'CacheableOffset',\n",
       " 'CustomBusinessDay',\n",
       " 'CustomBusinessHour',\n",
       " 'CustomBusinessMonthBegin',\n",
       " 'CustomBusinessMonthEnd',\n",
       " 'DateOffset',\n",
       " 'Day',\n",
       " 'Easter',\n",
       " 'FY5253',\n",
       " 'FY5253Quarter',\n",
       " 'Hour',\n",
       " 'LastWeekOfMonth',\n",
       " 'Micro',\n",
       " 'Milli',\n",
       " 'Minute',\n",
       " 'MonthBegin',\n",
       " 'MonthEnd',\n",
       " 'MonthOffset',\n",
       " 'Nano',\n",
       " 'OutOfBoundsDatetime',\n",
       " 'QuarterBegin',\n",
       " 'QuarterEnd',\n",
       " 'QuarterOffset',\n",
       " 'Second',\n",
       " 'SemiMonthBegin',\n",
       " 'SemiMonthEnd',\n",
       " 'SemiMonthOffset',\n",
       " 'SingleConstructorOffset',\n",
       " 'Tick',\n",
       " 'Timedelta',\n",
       " 'Timestamp',\n",
       " 'Week',\n",
       " 'WeekDay',\n",
       " 'WeekOfMonth',\n",
       " 'YearBegin',\n",
       " 'YearEnd',\n",
       " 'YearOffset',\n",
       " '__all__',\n",
       " '__builtins__',\n",
       " '__cached__',\n",
       " '__doc__',\n",
       " '__file__',\n",
       " '__loader__',\n",
       " '__name__',\n",
       " '__package__',\n",
       " '__spec__',\n",
       " '_delta_to_nanoseconds',\n",
       " '_delta_to_tick',\n",
       " '_get_firstbday',\n",
       " '_int_to_month',\n",
       " '_int_to_weekday',\n",
       " '_is_normalized',\n",
       " '_month_to_int',\n",
       " '_tick_comp',\n",
       " '_weekday_to_int',\n",
       " 'apply_index_wraps',\n",
       " 'apply_wraps',\n",
       " 'as_datetime',\n",
       " 'as_timestamp',\n",
       " 'compat',\n",
       " 'date',\n",
       " 'datetime',\n",
       " 'easter',\n",
       " 'functools',\n",
       " 'generate_range',\n",
       " 'normalize_date',\n",
       " 'np',\n",
       " 'operator',\n",
       " 'prefix_mapping',\n",
       " 'range',\n",
       " 'relativedelta',\n",
       " 'timedelta',\n",
       " 'to_datetime',\n",
       " 'tslib',\n",
       " 'weekday']"
      ]
     },
     "execution_count": 50,
     "metadata": {},
     "output_type": "execute_result"
    }
   ],
   "source": [
    "#除了convert月index，offsets还能convert很多格式的时间index，自行查看自行尝试自行检验\n",
    "dir(pd.tseries.offsets)"
   ]
  },
  {
   "cell_type": "markdown",
   "metadata": {},
   "source": [
    "接下来进入CAPM。CAPM一共有3个方法：  \n",
    "Cross-Sectional Tests  \n",
    "Fama-MacBeth Procedure  \n",
    "Time-series Test  \n",
    "\n",
    "CAPM的理论是，资产与市场的相关性能解释资产的回报率。简单来说，Cov 和 $\\mu$ 成一定关系。CAPM假设，对于资产i\n",
    "$$\\beta_i=\\frac{Cov(r_i, r_m)}{Var(r_m)}$$\n",
    "有了$$\\beta_i$$以后，资产的回报应该满足：\n",
    "$$r_i = r_f +\\beta_i(r_m - r_f)$$\n",
    "或者\n",
    "$$r_i^e = r_i - r_f = \\beta_i (r_m -r_f ) = \\beta_i r^e_m$$"
   ]
  },
  {
   "cell_type": "markdown",
   "metadata": {},
   "source": [
    "CAPM并不是完美的模型，但是却是一个划时代的理论。如果类似于sharp ratio用资产自身的风险Var来度量资产回报，正如之前note4中看到，是没有任何明显的关系。CAPM划时代的提出利用beta，也就是和市场的相关性以及市场的波动性作为参数，来度量风险，得出了虽不准确但是还是不错的估计。"
   ]
  },
  {
   "cell_type": "markdown",
   "metadata": {},
   "source": [
    "在CAPM中以及之后的three factors model中，我们均假设r_f为常数，在这种情况下  \n",
    "\n",
    "$$Cov(r_i-r_f,r_m-r_f)=Cov(r_i,r_m),~~~Var(r_i-r_f)=Var(r_i)$$  \n",
    "\n",
    "所以之后运算前，现将所有回报转化成超额回报。"
   ]
  },
  {
   "cell_type": "code",
   "execution_count": 51,
   "metadata": {},
   "outputs": [
    {
     "data": {
      "text/html": [
       "<div>\n",
       "<style>\n",
       "    .dataframe thead tr:only-child th {\n",
       "        text-align: right;\n",
       "    }\n",
       "\n",
       "    .dataframe thead th {\n",
       "        text-align: left;\n",
       "    }\n",
       "\n",
       "    .dataframe tbody tr th {\n",
       "        vertical-align: top;\n",
       "    }\n",
       "</style>\n",
       "<table border=\"1\" class=\"dataframe\">\n",
       "  <thead>\n",
       "    <tr style=\"text-align: right;\">\n",
       "      <th></th>\n",
       "      <th>Agric</th>\n",
       "      <th>Food</th>\n",
       "      <th>Soda</th>\n",
       "      <th>Beer</th>\n",
       "      <th>Smoke</th>\n",
       "      <th>Toys</th>\n",
       "      <th>Fun</th>\n",
       "      <th>Books</th>\n",
       "      <th>Hshld</th>\n",
       "      <th>Clths</th>\n",
       "      <th>...</th>\n",
       "      <th>Whlsl</th>\n",
       "      <th>Rtail</th>\n",
       "      <th>Meals</th>\n",
       "      <th>Banks</th>\n",
       "      <th>Insur</th>\n",
       "      <th>RlEst</th>\n",
       "      <th>Fin</th>\n",
       "      <th>Other</th>\n",
       "      <th>Mkt-RF</th>\n",
       "      <th>RF</th>\n",
       "    </tr>\n",
       "  </thead>\n",
       "  <tbody>\n",
       "    <tr>\n",
       "      <th>1926-07-01</th>\n",
       "      <td>0.0215</td>\n",
       "      <td>-0.0010</td>\n",
       "      <td>NaN</td>\n",
       "      <td>-0.0541</td>\n",
       "      <td>0.0107</td>\n",
       "      <td>0.0843</td>\n",
       "      <td>0.0228</td>\n",
       "      <td>0.4999</td>\n",
       "      <td>-0.0070</td>\n",
       "      <td>0.0786</td>\n",
       "      <td>...</td>\n",
       "      <td>-0.2401</td>\n",
       "      <td>-0.0015</td>\n",
       "      <td>0.0165</td>\n",
       "      <td>0.0439</td>\n",
       "      <td>-0.0076</td>\n",
       "      <td>0.0267</td>\n",
       "      <td>-0.0507</td>\n",
       "      <td>0.0498</td>\n",
       "      <td>0.0296</td>\n",
       "      <td>0.0022</td>\n",
       "    </tr>\n",
       "    <tr>\n",
       "      <th>1926-08-01</th>\n",
       "      <td>0.0198</td>\n",
       "      <td>0.0243</td>\n",
       "      <td>NaN</td>\n",
       "      <td>0.2678</td>\n",
       "      <td>0.0625</td>\n",
       "      <td>0.1656</td>\n",
       "      <td>-0.0101</td>\n",
       "      <td>0.4273</td>\n",
       "      <td>-0.0383</td>\n",
       "      <td>-0.0276</td>\n",
       "      <td>...</td>\n",
       "      <td>0.0514</td>\n",
       "      <td>-0.0100</td>\n",
       "      <td>-0.0038</td>\n",
       "      <td>0.1158</td>\n",
       "      <td>0.0232</td>\n",
       "      <td>0.0505</td>\n",
       "      <td>-0.0082</td>\n",
       "      <td>0.0651</td>\n",
       "      <td>0.0264</td>\n",
       "      <td>0.0025</td>\n",
       "    </tr>\n",
       "    <tr>\n",
       "      <th>1926-09-01</th>\n",
       "      <td>-0.0080</td>\n",
       "      <td>0.0135</td>\n",
       "      <td>NaN</td>\n",
       "      <td>0.0379</td>\n",
       "      <td>0.0103</td>\n",
       "      <td>0.0810</td>\n",
       "      <td>0.0619</td>\n",
       "      <td>-0.0514</td>\n",
       "      <td>0.0050</td>\n",
       "      <td>-0.0074</td>\n",
       "      <td>...</td>\n",
       "      <td>-0.0810</td>\n",
       "      <td>0.0002</td>\n",
       "      <td>-0.0079</td>\n",
       "      <td>-0.0198</td>\n",
       "      <td>0.0049</td>\n",
       "      <td>-0.0329</td>\n",
       "      <td>-0.0337</td>\n",
       "      <td>-0.0409</td>\n",
       "      <td>0.0036</td>\n",
       "      <td>0.0023</td>\n",
       "    </tr>\n",
       "    <tr>\n",
       "      <th>1926-10-01</th>\n",
       "      <td>-0.0078</td>\n",
       "      <td>-0.0400</td>\n",
       "      <td>NaN</td>\n",
       "      <td>-0.0363</td>\n",
       "      <td>0.0074</td>\n",
       "      <td>-0.0172</td>\n",
       "      <td>-0.0541</td>\n",
       "      <td>0.0505</td>\n",
       "      <td>-0.0500</td>\n",
       "      <td>-0.0020</td>\n",
       "      <td>...</td>\n",
       "      <td>-0.1570</td>\n",
       "      <td>-0.0252</td>\n",
       "      <td>-0.0443</td>\n",
       "      <td>-0.1214</td>\n",
       "      <td>-0.0460</td>\n",
       "      <td>-0.0606</td>\n",
       "      <td>0.0175</td>\n",
       "      <td>-0.0881</td>\n",
       "      <td>-0.0324</td>\n",
       "      <td>0.0032</td>\n",
       "    </tr>\n",
       "    <tr>\n",
       "      <th>1926-11-01</th>\n",
       "      <td>0.0644</td>\n",
       "      <td>0.0595</td>\n",
       "      <td>NaN</td>\n",
       "      <td>0.0698</td>\n",
       "      <td>0.0424</td>\n",
       "      <td>-0.0031</td>\n",
       "      <td>0.0151</td>\n",
       "      <td>-0.0671</td>\n",
       "      <td>-0.0085</td>\n",
       "      <td>0.0156</td>\n",
       "      <td>...</td>\n",
       "      <td>0.0436</td>\n",
       "      <td>0.0621</td>\n",
       "      <td>0.0402</td>\n",
       "      <td>-0.0328</td>\n",
       "      <td>0.0327</td>\n",
       "      <td>0.0190</td>\n",
       "      <td>0.0461</td>\n",
       "      <td>0.0369</td>\n",
       "      <td>0.0253</td>\n",
       "      <td>0.0031</td>\n",
       "    </tr>\n",
       "  </tbody>\n",
       "</table>\n",
       "<p>5 rows × 51 columns</p>\n",
       "</div>"
      ],
      "text/plain": [
       "             Agric    Food  Soda    Beer   Smoke    Toys     Fun   Books  \\\n",
       "1926-07-01  0.0215 -0.0010   NaN -0.0541  0.0107  0.0843  0.0228  0.4999   \n",
       "1926-08-01  0.0198  0.0243   NaN  0.2678  0.0625  0.1656 -0.0101  0.4273   \n",
       "1926-09-01 -0.0080  0.0135   NaN  0.0379  0.0103  0.0810  0.0619 -0.0514   \n",
       "1926-10-01 -0.0078 -0.0400   NaN -0.0363  0.0074 -0.0172 -0.0541  0.0505   \n",
       "1926-11-01  0.0644  0.0595   NaN  0.0698  0.0424 -0.0031  0.0151 -0.0671   \n",
       "\n",
       "             Hshld   Clths   ...     Whlsl   Rtail   Meals   Banks   Insur  \\\n",
       "1926-07-01 -0.0070  0.0786   ...   -0.2401 -0.0015  0.0165  0.0439 -0.0076   \n",
       "1926-08-01 -0.0383 -0.0276   ...    0.0514 -0.0100 -0.0038  0.1158  0.0232   \n",
       "1926-09-01  0.0050 -0.0074   ...   -0.0810  0.0002 -0.0079 -0.0198  0.0049   \n",
       "1926-10-01 -0.0500 -0.0020   ...   -0.1570 -0.0252 -0.0443 -0.1214 -0.0460   \n",
       "1926-11-01 -0.0085  0.0156   ...    0.0436  0.0621  0.0402 -0.0328  0.0327   \n",
       "\n",
       "             RlEst     Fin   Other  Mkt-RF      RF  \n",
       "1926-07-01  0.0267 -0.0507  0.0498  0.0296  0.0022  \n",
       "1926-08-01  0.0505 -0.0082  0.0651  0.0264  0.0025  \n",
       "1926-09-01 -0.0329 -0.0337 -0.0409  0.0036  0.0023  \n",
       "1926-10-01 -0.0606  0.0175 -0.0881 -0.0324  0.0032  \n",
       "1926-11-01  0.0190  0.0461  0.0369  0.0253  0.0031  \n",
       "\n",
       "[5 rows x 51 columns]"
      ]
     },
     "execution_count": 51,
     "metadata": {},
     "output_type": "execute_result"
    }
   ],
   "source": [
    "#导入数据\n",
    "\n",
    "Industry = pd.read_excel(url, sheetname='49_Industry_Portfolios',             #choose a sheet\n",
    "                       header=6, parse_cols=\"A:AX\",                           #set up dataframe\n",
    "                       index_col=0, parse_dates=True, date_parser=changedate, #set up date format index\n",
    "                       na_values=[-99.99,-999])                               #input possible na_values\n",
    "#Merge\n",
    "Return = pd.merge(Industry, Market, 'inner', left_index=True, right_index=True)/100 \n",
    "Return.iloc[:,0:49] = Return.iloc[:,0:49].subtract(Return['RF'],axis=0)       #calculate return premium\n",
    "Return.head()"
   ]
  },
  {
   "cell_type": "markdown",
   "metadata": {},
   "source": [
    "返回到刚刚的CAPM模型：  \n",
    "\n",
    "$$r_i^e = \\beta_i r^e_m$$  \n",
    "\n",
    "明显可以看到，这是一个单元线性模型，于是乎我们可以用历史数据估计beta。同时，因为CAPM假设beta是解释资产回报的唯一指标，所以，我们应该会得到一个常数项为0的单元线性模型。\n",
    "要验证CAPM对不对，关键就在常数项。但是我们知道，统计结果不可能刚刚好等于0，于是我们认为，如果不显著不等于0，就认为他是等于0的。取1个资产作为例子："
   ]
  },
  {
   "cell_type": "code",
   "execution_count": 52,
   "metadata": {
    "scrolled": true
   },
   "outputs": [
    {
     "data": {
      "text/html": [
       "<table class=\"simpletable\">\n",
       "<caption>OLS Regression Results</caption>\n",
       "<tr>\n",
       "  <th>Dep. Variable:</th>          <td>Agric</td>      <th>  R-squared:         </th> <td>   0.426</td> \n",
       "</tr>\n",
       "<tr>\n",
       "  <th>Model:</th>                   <td>OLS</td>       <th>  Adj. R-squared:    </th> <td>   0.426</td> \n",
       "</tr>\n",
       "<tr>\n",
       "  <th>Method:</th>             <td>Least Squares</td>  <th>  F-statistic:       </th> <td>   792.1</td> \n",
       "</tr>\n",
       "<tr>\n",
       "  <th>Date:</th>             <td>Wed, 29 Nov 2017</td> <th>  Prob (F-statistic):</th> <td>8.33e-131</td>\n",
       "</tr>\n",
       "<tr>\n",
       "  <th>Time:</th>                 <td>14:00:37</td>     <th>  Log-Likelihood:    </th> <td>  1538.7</td> \n",
       "</tr>\n",
       "<tr>\n",
       "  <th>No. Observations:</th>      <td>  1069</td>      <th>  AIC:               </th> <td>  -3073.</td> \n",
       "</tr>\n",
       "<tr>\n",
       "  <th>Df Residuals:</th>          <td>  1067</td>      <th>  BIC:               </th> <td>  -3064.</td> \n",
       "</tr>\n",
       "<tr>\n",
       "  <th>Df Model:</th>              <td>     1</td>      <th>                     </th>     <td> </td>    \n",
       "</tr>\n",
       "<tr>\n",
       "  <th>Covariance Type:</th>      <td>nonrobust</td>    <th>                     </th>     <td> </td>    \n",
       "</tr>\n",
       "</table>\n",
       "<table class=\"simpletable\">\n",
       "<tr>\n",
       "     <td></td>       <th>coef</th>     <th>std err</th>      <th>t</th>      <th>P>|t|</th>  <th>[0.025</th>    <th>0.975]</th>  \n",
       "</tr>\n",
       "<tr>\n",
       "  <th>const</th>  <td>    0.0008</td> <td>    0.002</td> <td>    0.468</td> <td> 0.640</td> <td>   -0.003</td> <td>    0.004</td>\n",
       "</tr>\n",
       "<tr>\n",
       "  <th>Mkt-RF</th> <td>    0.9172</td> <td>    0.033</td> <td>   28.145</td> <td> 0.000</td> <td>    0.853</td> <td>    0.981</td>\n",
       "</tr>\n",
       "</table>\n",
       "<table class=\"simpletable\">\n",
       "<tr>\n",
       "  <th>Omnibus:</th>       <td>401.774</td> <th>  Durbin-Watson:     </th> <td>   1.989</td>\n",
       "</tr>\n",
       "<tr>\n",
       "  <th>Prob(Omnibus):</th> <td> 0.000</td>  <th>  Jarque-Bera (JB):  </th> <td>6612.739</td>\n",
       "</tr>\n",
       "<tr>\n",
       "  <th>Skew:</th>          <td> 1.279</td>  <th>  Prob(JB):          </th> <td>    0.00</td>\n",
       "</tr>\n",
       "<tr>\n",
       "  <th>Kurtosis:</th>      <td>14.913</td>  <th>  Cond. No.          </th> <td>    18.6</td>\n",
       "</tr>\n",
       "</table>"
      ],
      "text/plain": [
       "<class 'statsmodels.iolib.summary.Summary'>\n",
       "\"\"\"\n",
       "                            OLS Regression Results                            \n",
       "==============================================================================\n",
       "Dep. Variable:                  Agric   R-squared:                       0.426\n",
       "Model:                            OLS   Adj. R-squared:                  0.426\n",
       "Method:                 Least Squares   F-statistic:                     792.1\n",
       "Date:                Wed, 29 Nov 2017   Prob (F-statistic):          8.33e-131\n",
       "Time:                        14:00:37   Log-Likelihood:                 1538.7\n",
       "No. Observations:                1069   AIC:                            -3073.\n",
       "Df Residuals:                    1067   BIC:                            -3064.\n",
       "Df Model:                           1                                         \n",
       "Covariance Type:            nonrobust                                         \n",
       "==============================================================================\n",
       "                 coef    std err          t      P>|t|      [0.025      0.975]\n",
       "------------------------------------------------------------------------------\n",
       "const          0.0008      0.002      0.468      0.640      -0.003       0.004\n",
       "Mkt-RF         0.9172      0.033     28.145      0.000       0.853       0.981\n",
       "==============================================================================\n",
       "Omnibus:                      401.774   Durbin-Watson:                   1.989\n",
       "Prob(Omnibus):                  0.000   Jarque-Bera (JB):             6612.739\n",
       "Skew:                           1.279   Prob(JB):                         0.00\n",
       "Kurtosis:                      14.913   Cond. No.                         18.6\n",
       "==============================================================================\n",
       "\n",
       "Warnings:\n",
       "[1] Standard Errors assume that the covariance matrix of the errors is correctly specified.\n",
       "\"\"\""
      ]
     },
     "execution_count": 52,
     "metadata": {},
     "output_type": "execute_result"
    }
   ],
   "source": [
    "x = sm.add_constant(Return['Mkt-RF'])\n",
    "y = Return.Agric\n",
    "results = sm.OLS(y,x).fit()\n",
    "results.summary()"
   ]
  },
  {
   "cell_type": "markdown",
   "metadata": {},
   "source": [
    "可见对于Agric industry，Alpha很小，而且很难拒绝，所以我们可以说Agric industry是符合CAPM的。"
   ]
  },
  {
   "cell_type": "markdown",
   "metadata": {},
   "source": [
    "但是一个产业符合CAPM，能否说明CAPM是正确的呢？显然不行，我们需要综合多个产业来看。  \n",
    "由于在同一个时间，market premium是一样的，所以资产的超额回报是和它的beta成线性关系。换句话，所有的资产都应该在SML(Security Market Line)上。为了验证这个，我们需要记录这30个产业，在一段时间内的beta和return。  \n",
    "因为记录产业的beta和return，industry就是我们新表格的index，所以我们可以通过mean table做一个初始表格"
   ]
  },
  {
   "cell_type": "code",
   "execution_count": 100,
   "metadata": {},
   "outputs": [
    {
     "data": {
      "text/html": [
       "<div>\n",
       "<style>\n",
       "    .dataframe thead tr:only-child th {\n",
       "        text-align: right;\n",
       "    }\n",
       "\n",
       "    .dataframe thead th {\n",
       "        text-align: left;\n",
       "    }\n",
       "\n",
       "    .dataframe tbody tr th {\n",
       "        vertical-align: top;\n",
       "    }\n",
       "</style>\n",
       "<table border=\"1\" class=\"dataframe\">\n",
       "  <thead>\n",
       "    <tr style=\"text-align: right;\">\n",
       "      <th></th>\n",
       "      <th>Ave</th>\n",
       "      <th>Beta</th>\n",
       "    </tr>\n",
       "  </thead>\n",
       "  <tbody>\n",
       "    <tr>\n",
       "      <th>Agric</th>\n",
       "      <td>0.006819</td>\n",
       "      <td>0.0</td>\n",
       "    </tr>\n",
       "    <tr>\n",
       "      <th>Food</th>\n",
       "      <td>0.007215</td>\n",
       "      <td>0.0</td>\n",
       "    </tr>\n",
       "    <tr>\n",
       "      <th>Soda</th>\n",
       "      <td>0.007834</td>\n",
       "      <td>0.0</td>\n",
       "    </tr>\n",
       "    <tr>\n",
       "      <th>Beer</th>\n",
       "      <td>0.009352</td>\n",
       "      <td>0.0</td>\n",
       "    </tr>\n",
       "    <tr>\n",
       "      <th>Smoke</th>\n",
       "      <td>0.008880</td>\n",
       "      <td>0.0</td>\n",
       "    </tr>\n",
       "  </tbody>\n",
       "</table>\n",
       "</div>"
      ],
      "text/plain": [
       "            Ave  Beta\n",
       "Agric  0.006819   0.0\n",
       "Food   0.007215   0.0\n",
       "Soda   0.007834   0.0\n",
       "Beer   0.009352   0.0\n",
       "Smoke  0.008880   0.0"
      ]
     },
     "execution_count": 100,
     "metadata": {},
     "output_type": "execute_result"
    }
   ],
   "source": [
    "Estimates = pd.DataFrame(Return.iloc[:,:49].mean(),columns=['Ave'])  #只要前面49个industry\n",
    "#如果不开DataFrame格式会比较头疼，所以最好还是转换成DataFrame的格式\n",
    "Estimates['Beta'] = Estimates.Ave * 0\n",
    "Estimates.head()"
   ]
  },
  {
   "cell_type": "markdown",
   "metadata": {},
   "source": [
    "以industry为索引，对每一个资产做回归分析，并记录Beta，假设Beta在这段时间是不变的。"
   ]
  },
  {
   "cell_type": "code",
   "execution_count": 101,
   "metadata": {},
   "outputs": [],
   "source": [
    "x=sm.add_constant(Return['Mkt-RF'])\n",
    "\n",
    "for industry in Estimates.index:                \n",
    "    y=Return[industry]\n",
    "    results = sm.OLS(y,x,missing='drop').fit()\n",
    "    # record slope estiamtes\n",
    "    Estimates.set_value(industry,'Beta',results.params[1])      \n",
    "    #注意因为这里很有可能会有数字index和字母index的混合使用，所以用set_value比iloc,或loc更好。"
   ]
  },
  {
   "cell_type": "code",
   "execution_count": 102,
   "metadata": {},
   "outputs": [
    {
     "data": {
      "text/html": [
       "<div>\n",
       "<style>\n",
       "    .dataframe thead tr:only-child th {\n",
       "        text-align: right;\n",
       "    }\n",
       "\n",
       "    .dataframe thead th {\n",
       "        text-align: left;\n",
       "    }\n",
       "\n",
       "    .dataframe tbody tr th {\n",
       "        vertical-align: top;\n",
       "    }\n",
       "</style>\n",
       "<table border=\"1\" class=\"dataframe\">\n",
       "  <thead>\n",
       "    <tr style=\"text-align: right;\">\n",
       "      <th></th>\n",
       "      <th>Ave</th>\n",
       "      <th>Beta</th>\n",
       "    </tr>\n",
       "  </thead>\n",
       "  <tbody>\n",
       "    <tr>\n",
       "      <th>Agric</th>\n",
       "      <td>0.006819</td>\n",
       "      <td>0.917173</td>\n",
       "    </tr>\n",
       "    <tr>\n",
       "      <th>Food</th>\n",
       "      <td>0.007215</td>\n",
       "      <td>0.728618</td>\n",
       "    </tr>\n",
       "    <tr>\n",
       "      <th>Soda</th>\n",
       "      <td>0.007834</td>\n",
       "      <td>0.840749</td>\n",
       "    </tr>\n",
       "    <tr>\n",
       "      <th>Beer</th>\n",
       "      <td>0.009352</td>\n",
       "      <td>0.946365</td>\n",
       "    </tr>\n",
       "    <tr>\n",
       "      <th>Smoke</th>\n",
       "      <td>0.008880</td>\n",
       "      <td>0.631790</td>\n",
       "    </tr>\n",
       "  </tbody>\n",
       "</table>\n",
       "</div>"
      ],
      "text/plain": [
       "            Ave      Beta\n",
       "Agric  0.006819  0.917173\n",
       "Food   0.007215  0.728618\n",
       "Soda   0.007834  0.840749\n",
       "Beer   0.009352  0.946365\n",
       "Smoke  0.008880  0.631790"
      ]
     },
     "execution_count": 102,
     "metadata": {},
     "output_type": "execute_result"
    }
   ],
   "source": [
    "Estimates.head()"
   ]
  },
  {
   "cell_type": "code",
   "execution_count": 56,
   "metadata": {},
   "outputs": [
    {
     "data": {
      "text/plain": [
       "<matplotlib.axes._subplots.AxesSubplot at 0x2a807a8c0f0>"
      ]
     },
     "execution_count": 56,
     "metadata": {},
     "output_type": "execute_result"
    },
    {
     "data": {
      "image/png": "[encoded data removed]",
      "text/plain": [
       "<matplotlib.figure.Figure at 0x2a808a40470>"
      ]
     },
     "metadata": {},
     "output_type": "display_data"
    }
   ],
   "source": [
    "Estimates.plot(x='Beta',y='Ave',kind='scatter')\n",
    "#看起来似乎是在一条直线上，但是不知道截距是不是为0，最简单的办法就是做一下回归分析"
   ]
  },
  {
   "cell_type": "code",
   "execution_count": 57,
   "metadata": {},
   "outputs": [
    {
     "data": {
      "text/html": [
       "<table class=\"simpletable\">\n",
       "<caption>OLS Regression Results</caption>\n",
       "<tr>\n",
       "  <th>Dep. Variable:</th>           <td>Ave</td>       <th>  R-squared:         </th> <td>   0.054</td>\n",
       "</tr>\n",
       "<tr>\n",
       "  <th>Model:</th>                   <td>OLS</td>       <th>  Adj. R-squared:    </th> <td>   0.034</td>\n",
       "</tr>\n",
       "<tr>\n",
       "  <th>Method:</th>             <td>Least Squares</td>  <th>  F-statistic:       </th> <td>   2.687</td>\n",
       "</tr>\n",
       "<tr>\n",
       "  <th>Date:</th>             <td>Wed, 29 Nov 2017</td> <th>  Prob (F-statistic):</th>  <td> 0.108</td> \n",
       "</tr>\n",
       "<tr>\n",
       "  <th>Time:</th>                 <td>14:00:38</td>     <th>  Log-Likelihood:    </th> <td>  250.03</td>\n",
       "</tr>\n",
       "<tr>\n",
       "  <th>No. Observations:</th>      <td>    49</td>      <th>  AIC:               </th> <td>  -496.1</td>\n",
       "</tr>\n",
       "<tr>\n",
       "  <th>Df Residuals:</th>          <td>    47</td>      <th>  BIC:               </th> <td>  -492.3</td>\n",
       "</tr>\n",
       "<tr>\n",
       "  <th>Df Model:</th>              <td>     1</td>      <th>                     </th>     <td> </td>   \n",
       "</tr>\n",
       "<tr>\n",
       "  <th>Covariance Type:</th>      <td>nonrobust</td>    <th>                     </th>     <td> </td>   \n",
       "</tr>\n",
       "</table>\n",
       "<table class=\"simpletable\">\n",
       "<tr>\n",
       "    <td></td>       <th>coef</th>     <th>std err</th>      <th>t</th>      <th>P>|t|</th>  <th>[0.025</th>    <th>0.975]</th>  \n",
       "</tr>\n",
       "<tr>\n",
       "  <th>const</th> <td>    0.0059</td> <td>    0.001</td> <td>    5.855</td> <td> 0.000</td> <td>    0.004</td> <td>    0.008</td>\n",
       "</tr>\n",
       "<tr>\n",
       "  <th>Beta</th>  <td>    0.0015</td> <td>    0.001</td> <td>    1.639</td> <td> 0.108</td> <td>   -0.000</td> <td>    0.003</td>\n",
       "</tr>\n",
       "</table>\n",
       "<table class=\"simpletable\">\n",
       "<tr>\n",
       "  <th>Omnibus:</th>       <td> 4.612</td> <th>  Durbin-Watson:     </th> <td>   1.632</td>\n",
       "</tr>\n",
       "<tr>\n",
       "  <th>Prob(Omnibus):</th> <td> 0.100</td> <th>  Jarque-Bera (JB):  </th> <td>   3.587</td>\n",
       "</tr>\n",
       "<tr>\n",
       "  <th>Skew:</th>          <td>-0.474</td> <th>  Prob(JB):          </th> <td>   0.166</td>\n",
       "</tr>\n",
       "<tr>\n",
       "  <th>Kurtosis:</th>      <td> 3.927</td> <th>  Cond. No.          </th> <td>    9.28</td>\n",
       "</tr>\n",
       "</table>"
      ],
      "text/plain": [
       "<class 'statsmodels.iolib.summary.Summary'>\n",
       "\"\"\"\n",
       "                            OLS Regression Results                            \n",
       "==============================================================================\n",
       "Dep. Variable:                    Ave   R-squared:                       0.054\n",
       "Model:                            OLS   Adj. R-squared:                  0.034\n",
       "Method:                 Least Squares   F-statistic:                     2.687\n",
       "Date:                Wed, 29 Nov 2017   Prob (F-statistic):              0.108\n",
       "Time:                        14:00:38   Log-Likelihood:                 250.03\n",
       "No. Observations:                  49   AIC:                            -496.1\n",
       "Df Residuals:                      47   BIC:                            -492.3\n",
       "Df Model:                           1                                         \n",
       "Covariance Type:            nonrobust                                         \n",
       "==============================================================================\n",
       "                 coef    std err          t      P>|t|      [0.025      0.975]\n",
       "------------------------------------------------------------------------------\n",
       "const          0.0059      0.001      5.855      0.000       0.004       0.008\n",
       "Beta           0.0015      0.001      1.639      0.108      -0.000       0.003\n",
       "==============================================================================\n",
       "Omnibus:                        4.612   Durbin-Watson:                   1.632\n",
       "Prob(Omnibus):                  0.100   Jarque-Bera (JB):                3.587\n",
       "Skew:                          -0.474   Prob(JB):                        0.166\n",
       "Kurtosis:                       3.927   Cond. No.                         9.28\n",
       "==============================================================================\n",
       "\n",
       "Warnings:\n",
       "[1] Standard Errors assume that the covariance matrix of the errors is correctly specified.\n",
       "\"\"\""
      ]
     },
     "execution_count": 57,
     "metadata": {},
     "output_type": "execute_result"
    }
   ],
   "source": [
    "x = sm.add_constant(Estimates.Beta)\n",
    "y = Estimates.Ave\n",
    "results = sm.OLS(y,x).fit()\n",
    "results.summary()"
   ]
  },
  {
   "cell_type": "markdown",
   "metadata": {},
   "source": [
    "可以看到虽然t很小，但是却是显著的。以上就是我们的__Cross-sectional regression method__了。然而这个方法有个问题，那就是误差太大，因为样本只有49个数据。这个误差实际上是t-test的误差，在之前statistic里面讲到过，t-distribution实际上和样本量是有关的。  \n",
    "于是乎我们想，不如我们假设这段时间的beta是固定的，那么对于每一个时间点，我们都能做一个估计，看看alpha的大小，这样再来验证alpha是否显著，不就大大的增加了样本量了么，同时我们也可以尝试解释因为时间点不同，产生的abnormal return。于是乎我们就有了新的模型  \n",
    "\n",
    "$$r_{i,t}=\\gamma_{0,t}+\\gamma_{M_t}\\beta_{i,M}+\\eta_{i,t}$$  \n",
    "\n",
    "其中，$\\gamma_0$是每个时期的abnormal return， $\\gamma_M$是每个时期的市场超额回报，$\\eta$就是误差。在这个模型下，如果CAPM成立，我们应该得到如下两个结果  \n",
    "$\\gamma_0=0$  \n",
    "$\\gamma_M>0$"
   ]
  },
  {
   "cell_type": "markdown",
   "metadata": {},
   "source": [
    "这个时候，有多少时间就有多少组拟合数据，所以这个时候我们用来记录的表格应该是以时间为行标签，正好和原数据一样，所以我们用原数据做一个初始表格"
   ]
  },
  {
   "cell_type": "code",
   "execution_count": 81,
   "metadata": {
    "scrolled": false
   },
   "outputs": [
    {
     "data": {
      "text/html": [
       "<div>\n",
       "<style>\n",
       "    .dataframe thead tr:only-child th {\n",
       "        text-align: right;\n",
       "    }\n",
       "\n",
       "    .dataframe thead th {\n",
       "        text-align: left;\n",
       "    }\n",
       "\n",
       "    .dataframe tbody tr th {\n",
       "        vertical-align: top;\n",
       "    }\n",
       "</style>\n",
       "<table border=\"1\" class=\"dataframe\">\n",
       "  <thead>\n",
       "    <tr style=\"text-align: right;\">\n",
       "      <th></th>\n",
       "      <th>gamma0</th>\n",
       "      <th>gammaM</th>\n",
       "    </tr>\n",
       "  </thead>\n",
       "  <tbody>\n",
       "    <tr>\n",
       "      <th>1926-07-01</th>\n",
       "      <td>0.0</td>\n",
       "      <td>-0.0</td>\n",
       "    </tr>\n",
       "    <tr>\n",
       "      <th>1926-08-01</th>\n",
       "      <td>0.0</td>\n",
       "      <td>0.0</td>\n",
       "    </tr>\n",
       "    <tr>\n",
       "      <th>1926-09-01</th>\n",
       "      <td>-0.0</td>\n",
       "      <td>0.0</td>\n",
       "    </tr>\n",
       "    <tr>\n",
       "      <th>1926-10-01</th>\n",
       "      <td>-0.0</td>\n",
       "      <td>-0.0</td>\n",
       "    </tr>\n",
       "    <tr>\n",
       "      <th>1926-11-01</th>\n",
       "      <td>0.0</td>\n",
       "      <td>0.0</td>\n",
       "    </tr>\n",
       "  </tbody>\n",
       "</table>\n",
       "</div>"
      ],
      "text/plain": [
       "            gamma0  gammaM\n",
       "1926-07-01     0.0    -0.0\n",
       "1926-08-01     0.0     0.0\n",
       "1926-09-01    -0.0     0.0\n",
       "1926-10-01    -0.0    -0.0\n",
       "1926-11-01     0.0     0.0"
      ]
     },
     "execution_count": 81,
     "metadata": {},
     "output_type": "execute_result"
    }
   ],
   "source": [
    "Gamma = Return.iloc[:,:2]*0 #同时引入两列格式就是DataFrame了，不需要像上面那样做转化。\n",
    "Gamma.columns=['gamma0','gammaM']\n",
    "Gamma.head()"
   ]
  },
  {
   "cell_type": "markdown",
   "metadata": {},
   "source": [
    "以时间作为索引，对每个时期的回报做估计，记录两个gamma"
   ]
  },
  {
   "cell_type": "code",
   "execution_count": 105,
   "metadata": {},
   "outputs": [],
   "source": [
    "x = sm.add_constant(Estimates.Beta)\n",
    "for date in Gamma.index:\n",
    "    y = Return.iloc[:,:49].loc[date]\n",
    "    results = sm.OLS(y,x,missing='drop').fit()\n",
    "    Gamma.set_value(date,'gamma0',results.params[0])\n",
    "    Gamma.set_value(date,'gammaM',results.params[1]) #这里就出现时间和字符index混合的情况，只能用set_value"
   ]
  },
  {
   "cell_type": "code",
   "execution_count": 107,
   "metadata": {},
   "outputs": [
    {
     "data": {
      "text/html": [
       "<div>\n",
       "<style>\n",
       "    .dataframe thead tr:only-child th {\n",
       "        text-align: right;\n",
       "    }\n",
       "\n",
       "    .dataframe thead th {\n",
       "        text-align: left;\n",
       "    }\n",
       "\n",
       "    .dataframe tbody tr th {\n",
       "        vertical-align: top;\n",
       "    }\n",
       "</style>\n",
       "<table border=\"1\" class=\"dataframe\">\n",
       "  <thead>\n",
       "    <tr style=\"text-align: right;\">\n",
       "      <th></th>\n",
       "      <th>gamma0</th>\n",
       "      <th>gammaM</th>\n",
       "    </tr>\n",
       "  </thead>\n",
       "  <tbody>\n",
       "    <tr>\n",
       "      <th>1926-07-01</th>\n",
       "      <td>0.030723</td>\n",
       "      <td>-0.001180</td>\n",
       "    </tr>\n",
       "    <tr>\n",
       "      <th>1926-08-01</th>\n",
       "      <td>0.045367</td>\n",
       "      <td>-0.003406</td>\n",
       "    </tr>\n",
       "    <tr>\n",
       "      <th>1926-09-01</th>\n",
       "      <td>0.036414</td>\n",
       "      <td>-0.038136</td>\n",
       "    </tr>\n",
       "    <tr>\n",
       "      <th>1926-10-01</th>\n",
       "      <td>0.030804</td>\n",
       "      <td>-0.062423</td>\n",
       "    </tr>\n",
       "    <tr>\n",
       "      <th>1926-11-01</th>\n",
       "      <td>0.053362</td>\n",
       "      <td>-0.023481</td>\n",
       "    </tr>\n",
       "  </tbody>\n",
       "</table>\n",
       "</div>"
      ],
      "text/plain": [
       "              gamma0    gammaM\n",
       "1926-07-01  0.030723 -0.001180\n",
       "1926-08-01  0.045367 -0.003406\n",
       "1926-09-01  0.036414 -0.038136\n",
       "1926-10-01  0.030804 -0.062423\n",
       "1926-11-01  0.053362 -0.023481"
      ]
     },
     "execution_count": 107,
     "metadata": {},
     "output_type": "execute_result"
    }
   ],
   "source": [
    "Gamma.head()"
   ]
  },
  {
   "cell_type": "code",
   "execution_count": 110,
   "metadata": {},
   "outputs": [
    {
     "data": {
      "text/plain": [
       "1069"
      ]
     },
     "execution_count": 110,
     "metadata": {},
     "output_type": "execute_result"
    }
   ],
   "source": [
    "#sample size\n",
    "n = Gamma.shape[0]\n",
    "n"
   ]
  },
  {
   "cell_type": "code",
   "execution_count": 121,
   "metadata": {
    "scrolled": true
   },
   "outputs": [
    {
     "data": {
      "text/plain": [
       "gamma0    0.005196\n",
       "gammaM    0.002314\n",
       "dtype: float64"
      ]
     },
     "execution_count": 121,
     "metadata": {},
     "output_type": "execute_result"
    }
   ],
   "source": [
    "#mean\n",
    "mu = Gamma.mean()\n",
    "mu"
   ]
  },
  {
   "cell_type": "code",
   "execution_count": 122,
   "metadata": {
    "scrolled": true
   },
   "outputs": [
    {
     "data": {
      "text/plain": [
       "gamma0    0.062253\n",
       "gammaM    0.083695\n",
       "dtype: float64"
      ]
     },
     "execution_count": 122,
     "metadata": {},
     "output_type": "execute_result"
    }
   ],
   "source": [
    "#std\n",
    "std = Gamma.std()\n",
    "std"
   ]
  },
  {
   "cell_type": "code",
   "execution_count": 123,
   "metadata": {},
   "outputs": [
    {
     "data": {
      "text/plain": [
       "gamma0    0.001904\n",
       "gammaM    0.002560\n",
       "dtype: float64"
      ]
     },
     "execution_count": 123,
     "metadata": {},
     "output_type": "execute_result"
    }
   ],
   "source": [
    "#std err\n",
    "stderr = std/np.sqrt(n)\n",
    "stderr"
   ]
  },
  {
   "cell_type": "code",
   "execution_count": 125,
   "metadata": {
    "scrolled": true
   },
   "outputs": [
    {
     "name": "stdout",
     "output_type": "stream",
     "text": [
      "gamma0    2.728716\n",
      "gammaM    0.904123\n",
      "dtype: float64\n",
      "[ 0.00323127  0.18306705]\n"
     ]
    }
   ],
   "source": [
    "#test\n",
    "t=mu/stderr\n",
    "print(t)\n",
    "print(1-stats.t.cdf(t,n-1))"
   ]
  },
  {
   "cell_type": "markdown",
   "metadata": {},
   "source": [
    "结果和之前不太一样，但是还是可以看到abnormal return仍然是统计上显著。"
   ]
  },
  {
   "cell_type": "markdown",
   "metadata": {},
   "source": [
    " 这两个测试方法基本上是一个逻辑，也就是通过统计方法，也就是t-test，测量alpha是否是显著大于0.换句话说，有一堆资产的回报率，有rf rate，有market premium，你就可以跑这两个test了，区别只是如何得到alpha和alpha的标准误差是什么。 但是还有一个方法__Fama-MacBeth Procedure__，这个方法和上述方法方式不太一样。Fama-MacBeth Procedure的逻辑是，如果存在另一个factors，能相对于CAPM而言，更好的估计回报，那么CAPM就不成立了。  模型如下：  \n",
    " \n",
    "$$R_{i,t}=\\gamma_{0,t} + \\gamma_{M,t}\\beta_{i,M} + \\gamma_{X,t}X_t + \\eta_{i,t}$$"
   ]
  },
  {
   "cell_type": "markdown",
   "metadata": {},
   "source": [
    "这个方法看似很难，因为要找到别的factors,但是这就是F-F Three Factors Model验证的一种方式。Notebook只是随便选择一个因子，也就是他们的排名，来尝试了一下，并没有什么特别的含义，需要知道的是如何解释结果。如果$\\gamma_X,t$是统计显著的，就说明X_t能有效的解释一部分回报，说明CAPM是错的。  \n",
    "\n",
    "CAPM这么容易被拒绝，原因就是它的假设：Beta是__唯一__解释回报的因子。"
   ]
  },
  {
   "cell_type": "markdown",
   "metadata": {},
   "source": [
    "  \n",
    "  \n",
    "  \n",
    "  \n",
    "  \n",
    "  "
   ]
  },
  {
   "cell_type": "markdown",
   "metadata": {
    "collapsed": true
   },
   "source": [
    "#以下这段是我之前写date index的时候的草稿，懒得删了。"
   ]
  },
  {
   "cell_type": "code",
   "execution_count": 59,
   "metadata": {
    "scrolled": true
   },
   "outputs": [
    {
     "data": {
      "text/html": [
       "<div>\n",
       "<style>\n",
       "    .dataframe thead tr:only-child th {\n",
       "        text-align: right;\n",
       "    }\n",
       "\n",
       "    .dataframe thead th {\n",
       "        text-align: left;\n",
       "    }\n",
       "\n",
       "    .dataframe tbody tr th {\n",
       "        vertical-align: top;\n",
       "    }\n",
       "</style>\n",
       "<table border=\"1\" class=\"dataframe\">\n",
       "  <thead>\n",
       "    <tr style=\"text-align: right;\">\n",
       "      <th></th>\n",
       "      <th>RF</th>\n",
       "      <th>MKT</th>\n",
       "      <th>SMB</th>\n",
       "      <th>HML</th>\n",
       "      <th>Mom</th>\n",
       "    </tr>\n",
       "    <tr>\n",
       "      <th>Date</th>\n",
       "      <th></th>\n",
       "      <th></th>\n",
       "      <th></th>\n",
       "      <th></th>\n",
       "      <th></th>\n",
       "    </tr>\n",
       "  </thead>\n",
       "  <tbody>\n",
       "    <tr>\n",
       "      <th>1926-07-31</th>\n",
       "      <td>0.22</td>\n",
       "      <td>3.18</td>\n",
       "      <td>-2.30</td>\n",
       "      <td>-2.87</td>\n",
       "      <td>NaN</td>\n",
       "    </tr>\n",
       "    <tr>\n",
       "      <th>1926-08-31</th>\n",
       "      <td>0.25</td>\n",
       "      <td>2.89</td>\n",
       "      <td>-1.40</td>\n",
       "      <td>4.19</td>\n",
       "      <td>NaN</td>\n",
       "    </tr>\n",
       "    <tr>\n",
       "      <th>1926-09-30</th>\n",
       "      <td>0.23</td>\n",
       "      <td>0.59</td>\n",
       "      <td>-1.32</td>\n",
       "      <td>0.01</td>\n",
       "      <td>NaN</td>\n",
       "    </tr>\n",
       "    <tr>\n",
       "      <th>1926-10-31</th>\n",
       "      <td>0.32</td>\n",
       "      <td>-2.92</td>\n",
       "      <td>0.04</td>\n",
       "      <td>0.51</td>\n",
       "      <td>NaN</td>\n",
       "    </tr>\n",
       "    <tr>\n",
       "      <th>1926-11-30</th>\n",
       "      <td>0.31</td>\n",
       "      <td>2.84</td>\n",
       "      <td>-0.20</td>\n",
       "      <td>-0.35</td>\n",
       "      <td>NaN</td>\n",
       "    </tr>\n",
       "  </tbody>\n",
       "</table>\n",
       "</div>"
      ],
      "text/plain": [
       "              RF   MKT   SMB   HML  Mom\n",
       "Date                                   \n",
       "1926-07-31  0.22  3.18 -2.30 -2.87  NaN\n",
       "1926-08-31  0.25  2.89 -1.40  4.19  NaN\n",
       "1926-09-30  0.23  0.59 -1.32  0.01  NaN\n",
       "1926-10-31  0.32 -2.92  0.04  0.51  NaN\n",
       "1926-11-30  0.31  2.84 -0.20 -0.35  NaN"
      ]
     },
     "execution_count": 59,
     "metadata": {},
     "output_type": "execute_result"
    }
   ],
   "source": [
    "url=\"https://www.dropbox.com/s/9346pp2iu5prv8s/MonthlyFactors.csv?dl=1\"\n",
    "Data = pd.read_csv(url, index_col=0, parse_dates=True,na_values=-99)\n",
    "Data.head()"
   ]
  },
  {
   "cell_type": "code",
   "execution_count": 60,
   "metadata": {},
   "outputs": [
    {
     "data": {
      "text/plain": [
       "pandas.core.indexes.datetimes.DatetimeIndex"
      ]
     },
     "execution_count": 60,
     "metadata": {},
     "output_type": "execute_result"
    }
   ],
   "source": [
    "type(Data.index)"
   ]
  },
  {
   "cell_type": "code",
   "execution_count": 61,
   "metadata": {},
   "outputs": [
    {
     "data": {
      "text/plain": [
       "Int64Index([1926, 1926, 1926, 1926, 1926, 1926, 1927, 1927, 1927, 1927,\n",
       "            ...\n",
       "            2016, 2016, 2016, 2016, 2017, 2017, 2017, 2017, 2017, 2017],\n",
       "           dtype='int64', name='Date', length=1092)"
      ]
     },
     "execution_count": 61,
     "metadata": {},
     "output_type": "execute_result"
    }
   ],
   "source": [
    "Data.index.year"
   ]
  },
  {
   "cell_type": "code",
   "execution_count": 62,
   "metadata": {},
   "outputs": [
    {
     "data": {
      "text/plain": [
       "Int64Index([ 7,  8,  9, 10, 11, 12,  1,  2,  3,  4,\n",
       "            ...\n",
       "             9, 10, 11, 12,  1,  2,  3,  4,  5,  6],\n",
       "           dtype='int64', name='Date', length=1092)"
      ]
     },
     "execution_count": 62,
     "metadata": {},
     "output_type": "execute_result"
    }
   ],
   "source": [
    "Data.index.month"
   ]
  },
  {
   "cell_type": "code",
   "execution_count": 63,
   "metadata": {},
   "outputs": [
    {
     "data": {
      "text/plain": [
       "Index(['Saturday', 'Tuesday', 'Thursday', 'Sunday', 'Tuesday', 'Friday',\n",
       "       'Monday', 'Monday', 'Thursday', 'Saturday',\n",
       "       ...\n",
       "       'Friday', 'Monday', 'Wednesday', 'Saturday', 'Tuesday', 'Tuesday',\n",
       "       'Friday', 'Sunday', 'Wednesday', 'Friday'],\n",
       "      dtype='object', name='Date', length=1092)"
      ]
     },
     "execution_count": 63,
     "metadata": {},
     "output_type": "execute_result"
    }
   ],
   "source": [
    "Data.index.weekday_name"
   ]
  },
  {
   "cell_type": "markdown",
   "metadata": {},
   "source": [
    "注意一个问题！Data.index的数据类型是Datatimes,但是Data.index.year等等都不是Datatimes, 如果你需要将新的index转换成时间格式，你需要to_datatime()方程. 这个方程可以讲一个数字转换成日期，需要填写你数据的格式，如果年月日就是\"%Y%m%d\"，注意大小写，\n",
    "http://pandas.pydata.org/pandas-docs/version/0.20/generated/pandas.to_datetime.html"
   ]
  },
  {
   "cell_type": "code",
   "execution_count": 64,
   "metadata": {
    "scrolled": true
   },
   "outputs": [
    {
     "data": {
      "text/plain": [
       "DatetimeIndex(['1926-01-01', '1926-01-01', '1926-01-01', '1926-01-01',\n",
       "               '1926-01-01', '1926-01-01', '1927-01-01', '1927-01-01',\n",
       "               '1927-01-01', '1927-01-01',\n",
       "               ...\n",
       "               '2016-01-01', '2016-01-01', '2016-01-01', '2016-01-01',\n",
       "               '2017-01-01', '2017-01-01', '2017-01-01', '2017-01-01',\n",
       "               '2017-01-01', '2017-01-01'],\n",
       "              dtype='datetime64[ns]', name='Date', length=1092, freq=None)"
      ]
     },
     "execution_count": 64,
     "metadata": {},
     "output_type": "execute_result"
    }
   ],
   "source": [
    "Data\n",
    "pd.to_datetime(Data.index.year, format=\"%Y\")"
   ]
  },
  {
   "cell_type": "markdown",
   "metadata": {},
   "source": [
    "groupby()是一个规则，按照某一个指标进行分组。这个指标是DataFrame的一个子方程,当你用一个一个Dataframe的名字.groupby()的时候就是针对这个Dataframe进行操作。groupby()需要输入一个指标，这个指标可以是一个column，或者一个index的名字，系统将为数据进行分组。"
   ]
  },
  {
   "cell_type": "code",
   "execution_count": 65,
   "metadata": {
    "collapsed": true
   },
   "outputs": [],
   "source": [
    "Data_Return=Data+1"
   ]
  },
  {
   "cell_type": "code",
   "execution_count": 66,
   "metadata": {},
   "outputs": [
    {
     "data": {
      "text/html": [
       "<div>\n",
       "<style>\n",
       "    .dataframe thead tr:only-child th {\n",
       "        text-align: right;\n",
       "    }\n",
       "\n",
       "    .dataframe thead th {\n",
       "        text-align: left;\n",
       "    }\n",
       "\n",
       "    .dataframe tbody tr th {\n",
       "        vertical-align: top;\n",
       "    }\n",
       "</style>\n",
       "<table border=\"1\" class=\"dataframe\">\n",
       "  <thead>\n",
       "    <tr style=\"text-align: right;\">\n",
       "      <th></th>\n",
       "      <th>RF</th>\n",
       "      <th>MKT</th>\n",
       "      <th>SMB</th>\n",
       "      <th>HML</th>\n",
       "      <th>Mom</th>\n",
       "      <th>year</th>\n",
       "    </tr>\n",
       "    <tr>\n",
       "      <th>Date</th>\n",
       "      <th></th>\n",
       "      <th></th>\n",
       "      <th></th>\n",
       "      <th></th>\n",
       "      <th></th>\n",
       "      <th></th>\n",
       "    </tr>\n",
       "  </thead>\n",
       "  <tbody>\n",
       "    <tr>\n",
       "      <th>1926-07-31</th>\n",
       "      <td>1.22</td>\n",
       "      <td>4.18</td>\n",
       "      <td>-1.30</td>\n",
       "      <td>-1.87</td>\n",
       "      <td>NaN</td>\n",
       "      <td>1926</td>\n",
       "    </tr>\n",
       "    <tr>\n",
       "      <th>1926-08-31</th>\n",
       "      <td>1.25</td>\n",
       "      <td>3.89</td>\n",
       "      <td>-0.40</td>\n",
       "      <td>5.19</td>\n",
       "      <td>NaN</td>\n",
       "      <td>1926</td>\n",
       "    </tr>\n",
       "    <tr>\n",
       "      <th>1926-09-30</th>\n",
       "      <td>1.23</td>\n",
       "      <td>1.59</td>\n",
       "      <td>-0.32</td>\n",
       "      <td>1.01</td>\n",
       "      <td>NaN</td>\n",
       "      <td>1926</td>\n",
       "    </tr>\n",
       "    <tr>\n",
       "      <th>1926-10-31</th>\n",
       "      <td>1.32</td>\n",
       "      <td>-1.92</td>\n",
       "      <td>1.04</td>\n",
       "      <td>1.51</td>\n",
       "      <td>NaN</td>\n",
       "      <td>1926</td>\n",
       "    </tr>\n",
       "    <tr>\n",
       "      <th>1926-11-30</th>\n",
       "      <td>1.31</td>\n",
       "      <td>3.84</td>\n",
       "      <td>0.80</td>\n",
       "      <td>0.65</td>\n",
       "      <td>NaN</td>\n",
       "      <td>1926</td>\n",
       "    </tr>\n",
       "  </tbody>\n",
       "</table>\n",
       "</div>"
      ],
      "text/plain": [
       "              RF   MKT   SMB   HML  Mom  year\n",
       "Date                                         \n",
       "1926-07-31  1.22  4.18 -1.30 -1.87  NaN  1926\n",
       "1926-08-31  1.25  3.89 -0.40  5.19  NaN  1926\n",
       "1926-09-30  1.23  1.59 -0.32  1.01  NaN  1926\n",
       "1926-10-31  1.32 -1.92  1.04  1.51  NaN  1926\n",
       "1926-11-30  1.31  3.84  0.80  0.65  NaN  1926"
      ]
     },
     "execution_count": 66,
     "metadata": {},
     "output_type": "execute_result"
    }
   ],
   "source": [
    "Data_Return['year']=Data.index.year\n",
    "Data_Return.head()"
   ]
  },
  {
   "cell_type": "code",
   "execution_count": 67,
   "metadata": {},
   "outputs": [
    {
     "data": {
      "text/plain": [
       "pandas.core.groupby.DataFrameGroupBy"
      ]
     },
     "execution_count": 67,
     "metadata": {},
     "output_type": "execute_result"
    }
   ],
   "source": [
    "type(Data_Return.groupby('year'))"
   ]
  },
  {
   "cell_type": "markdown",
   "metadata": {},
   "source": [
    "可以看到这个type是个奇奇怪怪的东西。你可以在这个规则上进行操作"
   ]
  },
  {
   "cell_type": "code",
   "execution_count": 68,
   "metadata": {},
   "outputs": [
    {
     "data": {
      "text/html": [
       "<div>\n",
       "<style>\n",
       "    .dataframe thead tr:only-child th {\n",
       "        text-align: right;\n",
       "    }\n",
       "\n",
       "    .dataframe thead th {\n",
       "        text-align: left;\n",
       "    }\n",
       "\n",
       "    .dataframe tbody tr th {\n",
       "        vertical-align: top;\n",
       "    }\n",
       "</style>\n",
       "<table border=\"1\" class=\"dataframe\">\n",
       "  <thead>\n",
       "    <tr style=\"text-align: right;\">\n",
       "      <th></th>\n",
       "      <th>RF</th>\n",
       "      <th>MKT</th>\n",
       "      <th>SMB</th>\n",
       "      <th>HML</th>\n",
       "      <th>Mom</th>\n",
       "    </tr>\n",
       "    <tr>\n",
       "      <th>year</th>\n",
       "      <th></th>\n",
       "      <th></th>\n",
       "      <th></th>\n",
       "      <th></th>\n",
       "      <th></th>\n",
       "    </tr>\n",
       "  </thead>\n",
       "  <tbody>\n",
       "    <tr>\n",
       "      <th>1926</th>\n",
       "      <td>4.151740</td>\n",
       "      <td>-7.433957e+02</td>\n",
       "      <td>-0.132907</td>\n",
       "      <td>-9.428589</td>\n",
       "      <td>NaN</td>\n",
       "    </tr>\n",
       "    <tr>\n",
       "      <th>1927</th>\n",
       "      <td>15.575490</td>\n",
       "      <td>1.510011e+06</td>\n",
       "      <td>-43.873508</td>\n",
       "      <td>3.513067</td>\n",
       "      <td>1022.485197</td>\n",
       "    </tr>\n",
       "    <tr>\n",
       "      <th>1928</th>\n",
       "      <td>20.649620</td>\n",
       "      <td>3.857799e+05</td>\n",
       "      <td>-90.803239</td>\n",
       "      <td>0.371754</td>\n",
       "      <td>9859.368858</td>\n",
       "    </tr>\n",
       "    <tr>\n",
       "      <th>1929</th>\n",
       "      <td>50.072691</td>\n",
       "      <td>5.586546e+07</td>\n",
       "      <td>-145.846434</td>\n",
       "      <td>-77.658654</td>\n",
       "      <td>-76383.886815</td>\n",
       "    </tr>\n",
       "    <tr>\n",
       "      <th>1930</th>\n",
       "      <td>8.679985</td>\n",
       "      <td>-9.260956e+06</td>\n",
       "      <td>-435.097360</td>\n",
       "      <td>0.005806</td>\n",
       "      <td>995062.679800</td>\n",
       "    </tr>\n",
       "  </tbody>\n",
       "</table>\n",
       "</div>"
      ],
      "text/plain": [
       "             RF           MKT         SMB        HML            Mom\n",
       "year                                                               \n",
       "1926   4.151740 -7.433957e+02   -0.132907  -9.428589            NaN\n",
       "1927  15.575490  1.510011e+06  -43.873508   3.513067    1022.485197\n",
       "1928  20.649620  3.857799e+05  -90.803239   0.371754    9859.368858\n",
       "1929  50.072691  5.586546e+07 -145.846434 -77.658654  -76383.886815\n",
       "1930   8.679985 -9.260956e+06 -435.097360   0.005806  995062.679800"
      ]
     },
     "execution_count": 68,
     "metadata": {},
     "output_type": "execute_result"
    }
   ],
   "source": [
    "Data_yReturn=(Data_Return.groupby('year')).prod()\n",
    "Data_yReturn.head()"
   ]
  },
  {
   "cell_type": "markdown",
   "metadata": {},
   "source": [
    "Data_yReturn=(Data_Return.groupby('year')).prod()\n",
    "这一句code的逻辑是，先对Data_Return按照‘year’这个column或index进行分类，分类后每组做prod()的运算，最后把结果写到Data_yReturn这个DataFrame里。\n",
    "\n",
    "注意，这个时候新的DataFrame的index肯定就是你刚刚分组的那个column或者index了。那么数据类型也是一样的。\n",
    "\n",
    "所以一些对于datatime的操作，这个时候新的index是不适用的。"
   ]
  },
  {
   "cell_type": "code",
   "execution_count": 69,
   "metadata": {},
   "outputs": [
    {
     "data": {
      "text/plain": [
       "Int64Index([1926, 1926, 1926, 1926, 1926, 1926, 1927, 1927, 1927, 1927,\n",
       "            ...\n",
       "            2016, 2016, 2016, 2016, 2017, 2017, 2017, 2017, 2017, 2017],\n",
       "           dtype='int64', name='Date', length=1092)"
      ]
     },
     "execution_count": 69,
     "metadata": {},
     "output_type": "execute_result"
    }
   ],
   "source": [
    "Data_Return.index.year"
   ]
  },
  {
   "cell_type": "code",
   "execution_count": 70,
   "metadata": {},
   "outputs": [
    {
     "ename": "AttributeError",
     "evalue": "'Int64Index' object has no attribute 'year'",
     "output_type": "error",
     "traceback": [
      "\u001b[1;31m---------------------------------------------------------------------------\u001b[0m",
      "\u001b[1;31mAttributeError\u001b[0m                            Traceback (most recent call last)",
      "\u001b[1;32m<ipython-input-70-82c991969e49>\u001b[0m in \u001b[0;36m<module>\u001b[1;34m()\u001b[0m\n\u001b[1;32m----> 1\u001b[1;33m \u001b[0mData_yReturn\u001b[0m\u001b[1;33m.\u001b[0m\u001b[0mindex\u001b[0m\u001b[1;33m.\u001b[0m\u001b[0myear\u001b[0m\u001b[1;33m\u001b[0m\u001b[0m\n\u001b[0m",
      "\u001b[1;31mAttributeError\u001b[0m: 'Int64Index' object has no attribute 'year'"
     ]
    }
   ],
   "source": [
    "Data_yReturn.index.year"
   ]
  },
  {
   "cell_type": "markdown",
   "metadata": {},
   "source": [
    "通过转换，又可以重新引用"
   ]
  },
  {
   "cell_type": "code",
   "execution_count": null,
   "metadata": {
    "collapsed": true
   },
   "outputs": [],
   "source": [
    "Data_yReturn.index=pd.to_datetime(Data_yReturn.index, format='%Y')\n",
    "Data_yReturn.index.year"
   ]
  },
  {
   "cell_type": "code",
   "execution_count": null,
   "metadata": {
    "collapsed": true
   },
   "outputs": [],
   "source": []
  }
 ],
 "metadata": {
  "kernelspec": {
   "display_name": "Python 3",
   "language": "python",
   "name": "python3"
  },
  "language_info": {
   "codemirror_mode": {
    "name": "ipython",
    "version": 3
   },
   "file_extension": ".py",
   "mimetype": "text/x-python",
   "name": "python",
   "nbconvert_exporter": "python",
   "pygments_lexer": "ipython3",
   "version": "3.6.1"
  }
 },
 "nbformat": 4,
 "nbformat_minor": 2
}

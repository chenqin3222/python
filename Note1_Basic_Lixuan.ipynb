{
 "cells": [
  {
   "cell_type": "markdown",
   "metadata": {},
   "source": [
    "包括内容：变量，数据类型，基础运算，基础方程，子方程，定义方程，"
   ]
  },
  {
   "cell_type": "code",
   "execution_count": null,
   "metadata": {
    "collapsed": true
   },
   "outputs": [],
   "source": []
  },
  {
   "cell_type": "markdown",
   "metadata": {},
   "source": [
    "每一个框就是一个单元。单元主要分为两种形式，一个叫code，一个叫markdown。code就是代码单元，进行运算。Markdown就是可以书写一些内容，不会运算。Markdown的单元编写后，会维持类似于code的形式，也就是有一个灰框。在文件保存重新打开的时候就没有灰框了。\n",
    "\n",
    "在code单元可以在行之前写#，后面的内容不会进行运算，主要用于注释代码做什么用的同时，不破坏代码的完整性。"
   ]
  },
  {
   "cell_type": "code",
   "execution_count": 1,
   "metadata": {},
   "outputs": [
    {
     "data": {
      "text/plain": [
       "int"
      ]
     },
     "execution_count": 1,
     "metadata": {},
     "output_type": "execute_result"
    }
   ],
   "source": [
    "a=1\n",
    "type(a)"
   ]
  },
  {
   "cell_type": "code",
   "execution_count": 2,
   "metadata": {},
   "outputs": [
    {
     "data": {
      "text/plain": [
       "str"
      ]
     },
     "execution_count": 2,
     "metadata": {},
     "output_type": "execute_result"
    }
   ],
   "source": [
    "a='c'\n",
    "type(a)"
   ]
  },
  {
   "cell_type": "code",
   "execution_count": 3,
   "metadata": {},
   "outputs": [
    {
     "name": "stdout",
     "output_type": "stream",
     "text": [
      "<class 'int'>\n",
      "<class 'str'>\n"
     ]
    }
   ],
   "source": [
    "a=1 \n",
    "b='1'\n",
    "print(type(a))\n",
    "print(type(b))"
   ]
  },
  {
   "cell_type": "markdown",
   "metadata": {},
   "source": [
    "变量是编程中最重要的东西。变量可以随意命名，当你给变量赋值的时候,python会自动定义变量类型。变量重名时，重复赋值会被覆盖。除了一些特殊名字，变量可以叫任何名字，但是最好不要在名字中带‘.’。\n",
    "\n",
    "需要输入一个字符或者单词，需要加‘’,str stands for string, 中文名叫字符串。"
   ]
  },
  {
   "cell_type": "code",
   "execution_count": 4,
   "metadata": {},
   "outputs": [
    {
     "data": {
      "text/plain": [
       "3"
      ]
     },
     "execution_count": 4,
     "metadata": {},
     "output_type": "execute_result"
    }
   ],
   "source": [
    "1+2"
   ]
  },
  {
   "cell_type": "code",
   "execution_count": 5,
   "metadata": {},
   "outputs": [
    {
     "name": "stdout",
     "output_type": "stream",
     "text": [
      "3\n"
     ]
    }
   ],
   "source": [
    "print(1+2)"
   ]
  },
  {
   "cell_type": "markdown",
   "metadata": {},
   "source": [
    "Shift+Enter: 跑当前单元的代码\n",
    "\n",
    "在上面的cell单元可以选择跑当前单元，当前单元以上所有单元，当前单元以下所有单元，以及所有单元。\n",
    "\n",
    "Jupyter不会记录任何数据， Jupyter只是纪录code。所有变量赋值，计算结果都是记录在内存的，而内存是会清空的。所以每次重新打开文档需要重新运行所有单元。\n",
    "\n",
    "In [index]: 中的index仅表示该代码在你这次修改文件后运行的顺序,或记录的是上次你运行的顺序。保存重新打开文件后会重置。\n",
    "\n",
    "Out [index]: 仅在单元中进行了运算并没有赋值的情况下会出现。在有print的操作，或是赋值运算的时候，都不会出现。"
   ]
  },
  {
   "cell_type": "code",
   "execution_count": 6,
   "metadata": {},
   "outputs": [
    {
     "name": "stdout",
     "output_type": "stream",
     "text": [
      "1\n",
      "<class 'int'>\n"
     ]
    }
   ],
   "source": [
    "x=1\n",
    "print(x)\n",
    "y=type(x)\n",
    "print(y)"
   ]
  },
  {
   "cell_type": "markdown",
   "metadata": {},
   "source": [
    "变量可以等于任何东西，等于type都没问题。"
   ]
  },
  {
   "cell_type": "code",
   "execution_count": 22,
   "metadata": {},
   "outputs": [
    {
     "name": "stdout",
     "output_type": "stream",
     "text": [
      "<class 'str'>\n",
      "233333\n"
     ]
    }
   ],
   "source": [
    "#repeat character\n",
    "x='2'+'3'*5\n",
    "print(type(x))\n",
    "print(x)"
   ]
  },
  {
   "cell_type": "markdown",
   "metadata": {},
   "source": [
    "字符串运算：+表示两个字符串连接，\\*n 表示该字符串重复n次"
   ]
  },
  {
   "cell_type": "code",
   "execution_count": 8,
   "metadata": {
    "scrolled": false
   },
   "outputs": [
    {
     "ename": "TypeError",
     "evalue": "unsupported operand type(s) for +: 'int' and 'str'",
     "output_type": "error",
     "traceback": [
      "\u001b[1;31m---------------------------------------------------------------------------\u001b[0m",
      "\u001b[1;31mTypeError\u001b[0m                                 Traceback (most recent call last)",
      "\u001b[1;32m<ipython-input-8-c597bb6d5fc9>\u001b[0m in \u001b[0;36m<module>\u001b[1;34m()\u001b[0m\n\u001b[1;32m----> 1\u001b[1;33m \u001b[0mprint\u001b[0m\u001b[1;33m(\u001b[0m\u001b[1;36m1\u001b[0m\u001b[1;33m+\u001b[0m\u001b[1;34m'a'\u001b[0m\u001b[1;33m)\u001b[0m\u001b[1;33m\u001b[0m\u001b[0m\n\u001b[0m",
      "\u001b[1;31mTypeError\u001b[0m: unsupported operand type(s) for +: 'int' and 'str'"
     ]
    }
   ],
   "source": [
    "print(1+'a')"
   ]
  },
  {
   "cell_type": "code",
   "execution_count": 9,
   "metadata": {},
   "outputs": [
    {
     "name": "stdout",
     "output_type": "stream",
     "text": [
      "1a\n"
     ]
    }
   ],
   "source": [
    "print(str(1)+'a')"
   ]
  },
  {
   "cell_type": "markdown",
   "metadata": {},
   "source": [
    "一个print里面只能有一种类型的变量，需要数字字符一起print的话，用str()将数字转换成字符。"
   ]
  },
  {
   "cell_type": "code",
   "execution_count": 10,
   "metadata": {},
   "outputs": [
    {
     "name": "stdout",
     "output_type": "stream",
     "text": [
      "<class 'list'>\n",
      "[1, 2]\n",
      "[0, 1, 2]\n",
      "[3, 4, 5, 6]\n",
      "[3, 4, 5]\n"
     ]
    }
   ],
   "source": [
    "#list\n",
    "l=[0,1,2,3,4,5,6]\n",
    "print(type(l))\n",
    "print(l[1:3])\n",
    "print(l[:3])\n",
    "print(l[3:])\n",
    "print(l[3:-1])"
   ]
  },
  {
   "cell_type": "markdown",
   "metadata": {},
   "source": [
    "另一个自带的数据类型是list, list就是一连串的内容，内容可以是数字，字符或者其他东西。要关注的是index的问题。\n",
    "\n",
    "计算机编程的计数都是从0开始的。即index0对应的是我们日常交流习惯的第一个值。\n",
    "\n",
    "在python里面，list，array的取值都是用中括号[]表示。对于list[]，如果要去某一个范围，填写的范围是一个左闭右开的区间。即。[1:3]指的是数学上的[1,3) 也就是intex1到index2.\n",
    "\n",
    "另外几个简便写法\n",
    "\n",
    "[:n]即从index(0) 到 index(n-1)\n",
    "\n",
    "[n:]即从index(n) 到 最后一个值\n",
    "\n",
    "[n:-x]即从index(n) 到 倒数第x+1个值，例：[n:-1]是从index(n) 到 倒数第二个值。\n",
    "\n",
    "这个表示方式在array, dataframe中同样适用。"
   ]
  },
  {
   "cell_type": "code",
   "execution_count": 11,
   "metadata": {},
   "outputs": [
    {
     "data": {
      "text/plain": [
       "0.123"
      ]
     },
     "execution_count": 11,
     "metadata": {},
     "output_type": "execute_result"
    }
   ],
   "source": [
    "round(0.1234,3)"
   ]
  },
  {
   "cell_type": "markdown",
   "metadata": {},
   "source": [
    "方程。方程的出现是为了简化一些运算，如同excel中的方程一样。\n",
    "\n",
    "方程一般需要输入自变量，但是也有的方程不需要输入自变量。\n",
    "\n",
    "方程用小括号输入自变量，用\",\"进行变量之间的间隔，与Excel一毛一样。\n",
    "\n",
    "小括号和中括号的区别，小括号是方程用来输入自变量的，中括号是在list，array，dataframe中调用值的"
   ]
  },
  {
   "cell_type": "code",
   "execution_count": 12,
   "metadata": {},
   "outputs": [
    {
     "data": {
      "text/plain": [
       "0"
      ]
     },
     "execution_count": 12,
     "metadata": {},
     "output_type": "execute_result"
    }
   ],
   "source": [
    "min(l)"
   ]
  },
  {
   "cell_type": "code",
   "execution_count": 13,
   "metadata": {
    "scrolled": true
   },
   "outputs": [
    {
     "ename": "AttributeError",
     "evalue": "'list' object has no attribute 'min'",
     "output_type": "error",
     "traceback": [
      "\u001b[1;31m---------------------------------------------------------------------------\u001b[0m",
      "\u001b[1;31mAttributeError\u001b[0m                            Traceback (most recent call last)",
      "\u001b[1;32m<ipython-input-13-88dfb735515d>\u001b[0m in \u001b[0;36m<module>\u001b[1;34m()\u001b[0m\n\u001b[1;32m----> 1\u001b[1;33m \u001b[0ml\u001b[0m\u001b[1;33m.\u001b[0m\u001b[0mmin\u001b[0m\u001b[1;33m(\u001b[0m\u001b[1;33m)\u001b[0m\u001b[1;33m\u001b[0m\u001b[0m\n\u001b[0m",
      "\u001b[1;31mAttributeError\u001b[0m: 'list' object has no attribute 'min'"
     ]
    }
   ],
   "source": [
    "l.min()"
   ]
  },
  {
   "cell_type": "code",
   "execution_count": 14,
   "metadata": {},
   "outputs": [
    {
     "data": {
      "text/plain": [
       "0"
      ]
     },
     "execution_count": 14,
     "metadata": {},
     "output_type": "execute_result"
    }
   ],
   "source": [
    "import numpy as np\n",
    "a=np.array([0,1,2,3,4,5,6])\n",
    "a.min()"
   ]
  },
  {
   "cell_type": "markdown",
   "metadata": {},
   "source": [
    "array和dataframe数据类型中会包含一些方程，可以用\".\"来调用这些方程。但是list这种数据类型就没有太多的方程。"
   ]
  },
  {
   "cell_type": "code",
   "execution_count": 15,
   "metadata": {
    "scrolled": true
   },
   "outputs": [
    {
     "name": "stdout",
     "output_type": "stream",
     "text": [
      "[0 1 2 3 4 5 6]\n",
      "<class 'numpy.ndarray'>\n",
      "[0, 1, 2, 3, 4, 5, 6]\n",
      "<class 'list'>\n"
     ]
    }
   ],
   "source": [
    "print(a)\n",
    "print(type(a))\n",
    "print(l)\n",
    "print(type(l))"
   ]
  },
  {
   "cell_type": "code",
   "execution_count": 16,
   "metadata": {},
   "outputs": [
    {
     "data": {
      "text/plain": [
       "array([1, 2])"
      ]
     },
     "execution_count": 16,
     "metadata": {},
     "output_type": "execute_result"
    }
   ],
   "source": [
    "a[1:3]"
   ]
  },
  {
   "cell_type": "markdown",
   "metadata": {},
   "source": [
    "“a”和“l”没有太大的不同，不同在于数据数据类型。“a”作为array，可以直接调用mean，min这样的方程。也可以如同list那样引用某一些数值。缺点是必须引入numpy包。因为内存会清空，每次重新打开Jupyter就要重新加载numpy包。所以比较好的习惯是将所有在这个文件中需要加载的包，都放在顶上进行加载。“l”虽然保存方便，但是不能直接调用方程"
   ]
  },
  {
   "cell_type": "code",
   "execution_count": 23,
   "metadata": {},
   "outputs": [
    {
     "data": {
      "text/plain": [
       "2.5"
      ]
     },
     "execution_count": 23,
     "metadata": {},
     "output_type": "execute_result"
    }
   ],
   "source": [
    "a.mean()"
   ]
  },
  {
   "cell_type": "code",
   "execution_count": 25,
   "metadata": {},
   "outputs": [
    {
     "data": {
      "text/plain": [
       "3.0"
      ]
     },
     "execution_count": 25,
     "metadata": {},
     "output_type": "execute_result"
    }
   ],
   "source": [
    "np.mean(l)"
   ]
  },
  {
   "cell_type": "markdown",
   "metadata": {},
   "source": [
    "array的另一个方程就是shape。shape是一个属性，不是一个方程。所以不需要写.shape()。另外，因为shape不是一个方程，所以shape可以被修改。方程只能返还结果，你不可以令方程等于一个数。"
   ]
  },
  {
   "cell_type": "code",
   "execution_count": 17,
   "metadata": {},
   "outputs": [
    {
     "data": {
      "text/plain": [
       "(6,)"
      ]
     },
     "execution_count": 17,
     "metadata": {},
     "output_type": "execute_result"
    }
   ],
   "source": [
    "a=np.array([0,1,2,3,4,5])\n",
    "a.shape"
   ]
  },
  {
   "cell_type": "code",
   "execution_count": 18,
   "metadata": {
    "scrolled": true
   },
   "outputs": [
    {
     "data": {
      "text/plain": [
       "array([[0, 1, 2],\n",
       "       [3, 4, 5]])"
      ]
     },
     "execution_count": 18,
     "metadata": {},
     "output_type": "execute_result"
    }
   ],
   "source": [
    "a.shape=(2,3)\n",
    "a"
   ]
  },
  {
   "cell_type": "code",
   "execution_count": 26,
   "metadata": {},
   "outputs": [
    {
     "ename": "SyntaxError",
     "evalue": "can't assign to function call (<ipython-input-26-217e8a3dbcbd>, line 1)",
     "output_type": "error",
     "traceback": [
      "\u001b[1;36m  File \u001b[1;32m\"<ipython-input-26-217e8a3dbcbd>\"\u001b[1;36m, line \u001b[1;32m1\u001b[0m\n\u001b[1;33m    a.mean()=1\u001b[0m\n\u001b[1;37m              ^\u001b[0m\n\u001b[1;31mSyntaxError\u001b[0m\u001b[1;31m:\u001b[0m can't assign to function call\n"
     ]
    }
   ],
   "source": [
    "a.mean()=1"
   ]
  },
  {
   "cell_type": "markdown",
   "metadata": {
    "collapsed": true
   },
   "source": [
    "不单单是调用方程，我们也可以自己写方程。有时候有一些步骤需呀重复调用，可以通过写方程来解决这个问题。已知有两个方法写方程。"
   ]
  },
  {
   "cell_type": "code",
   "execution_count": 21,
   "metadata": {},
   "outputs": [
    {
     "data": {
      "text/plain": [
       "2"
      ]
     },
     "execution_count": 21,
     "metadata": {},
     "output_type": "execute_result"
    }
   ],
   "source": [
    "def adddef(x):\n",
    "    x=x+1\n",
    "    return x\n",
    "\n",
    "adddef(1)"
   ]
  },
  {
   "cell_type": "code",
   "execution_count": 20,
   "metadata": {},
   "outputs": [
    {
     "data": {
      "text/plain": [
       "2"
      ]
     },
     "execution_count": 20,
     "metadata": {},
     "output_type": "execute_result"
    }
   ],
   "source": [
    "addlab = lambda x: x+1\n",
    "\n",
    "addlab(1)"
   ]
  },
  {
   "cell_type": "markdown",
   "metadata": {},
   "source": [
    "用def和lambda有什么区别？\n",
    "\n",
    "第一个区别，lambda叫做匿名函数，也就是说，lambda x:x+1本身就是一个函数，不需要给他起名字。如果你编程的时候有很多个琐碎的小方程，你还担心一不小心起重了名字互相干扰，那么就可以用lambda.\n",
    "\n",
    "有人会问，我直接写x=x+1不就可以了么？简单的函数来说是这样，但是如果是复杂的，比如返回从1到这个值得乘积总和，也就是后面我们学的cumsum，那么还是写方程容易很多。还有，x=x+1是一个赋值运算，而有的时候，在某些地方，我们需要输入的是一个方程，这个时候x=x+1是不可以输入的。"
   ]
  },
  {
   "cell_type": "code",
   "execution_count": 29,
   "metadata": {},
   "outputs": [
    {
     "data": {
      "text/plain": [
       "<function __main__.<lambda>>"
      ]
     },
     "execution_count": 29,
     "metadata": {},
     "output_type": "execute_result"
    }
   ],
   "source": [
    "lambda x: x+1"
   ]
  },
  {
   "cell_type": "markdown",
   "metadata": {},
   "source": [
    "另外一个区别是，lambda需要自变量，而def不需要。lambda是对一个自变量进行操作，没有自变量lambda函数就无从说起。"
   ]
  },
  {
   "cell_type": "code",
   "execution_count": 32,
   "metadata": {},
   "outputs": [
    {
     "name": "stdout",
     "output_type": "stream",
     "text": [
      "2\n"
     ]
    }
   ],
   "source": [
    "def print2():\n",
    "    print(2)\n",
    "    return\n",
    "\n",
    "print2()"
   ]
  },
  {
   "cell_type": "code",
   "execution_count": 35,
   "metadata": {},
   "outputs": [
    {
     "ename": "SyntaxError",
     "evalue": "invalid character in identifier (<ipython-input-35-49850c24978e>, line 1)",
     "output_type": "error",
     "traceback": [
      "\u001b[1;36m  File \u001b[1;32m\"<ipython-input-35-49850c24978e>\"\u001b[1;36m, line \u001b[1;32m1\u001b[0m\n\u001b[1;33m    print1 = lambda x：print(1)\u001b[0m\n\u001b[1;37m                          ^\u001b[0m\n\u001b[1;31mSyntaxError\u001b[0m\u001b[1;31m:\u001b[0m invalid character in identifier\n"
     ]
    }
   ],
   "source": [
    "print1 = lambda ：print(1)\n",
    "\n",
    "print1()"
   ]
  },
  {
   "cell_type": "markdown",
   "metadata": {},
   "source": [
    "说完lambda，我们在来说def。对于一个def方程，我们需要几个东西。"
   ]
  },
  {
   "cell_type": "code",
   "execution_count": 36,
   "metadata": {},
   "outputs": [
    {
     "data": {
      "text/plain": [
       "3"
      ]
     },
     "execution_count": 36,
     "metadata": {},
     "output_type": "execute_result"
    }
   ],
   "source": [
    "def add(x,y):    #方程名字（自变量）\n",
    "    z=x+y        #运算\n",
    "    return z     #返回值\n",
    "\n",
    "add(1,2)"
   ]
  },
  {
   "cell_type": "markdown",
   "metadata": {},
   "source": [
    "在这里面，除了方程的名字，其他都不是必须的。"
   ]
  },
  {
   "cell_type": "code",
   "execution_count": 39,
   "metadata": {
    "collapsed": true
   },
   "outputs": [],
   "source": [
    "def nothing():\n",
    "    return\n",
    "\n",
    "nothing() #什么事都不干的方程\n"
   ]
  },
  {
   "cell_type": "markdown",
   "metadata": {},
   "source": [
    "自变量与自变量之间用逗号\",\"隔开。在定义方程的时候，你需要给方程中的自变量定义名字，并在方程中用对应的名字引用它们。方程内和方程外是两个世界。进行运算后，你可以选择返回计算的结果，或者有其他方法告诉方程外。\n",
    "\n",
    "举上面的add(x,y)为例子。add(1,2)的时候，在add方程内，x=1，y=2。通过计算得到z=3,。最后add方程返回结果3"
   ]
  },
  {
   "cell_type": "code",
   "execution_count": 41,
   "metadata": {},
   "outputs": [
    {
     "name": "stdout",
     "output_type": "stream",
     "text": [
      "6\n",
      "1\n",
      "2\n",
      "0\n"
     ]
    }
   ],
   "source": [
    "x=1; y=2; z=0\n",
    "\n",
    "def add(x,y):\n",
    "    z=x+y   \n",
    "    return z\n",
    "\n",
    "print(add(x+1,y+2))\n",
    "print(x)\n",
    "print(y)\n",
    "print(z)"
   ]
  },
  {
   "cell_type": "markdown",
   "metadata": {},
   "source": [
    "上面这个例子可见，add里面的xyz和外面的xyz互不干扰。"
   ]
  },
  {
   "cell_type": "code",
   "execution_count": 43,
   "metadata": {},
   "outputs": [
    {
     "name": "stdout",
     "output_type": "stream",
     "text": [
      "<class 'int'>\n",
      "<function a at 0x0000023BD35F7840>\n",
      "1\n"
     ]
    }
   ],
   "source": [
    "a=0\n",
    "print(type(a))\n",
    "def a():\n",
    "    return 1\n",
    "\n",
    "print(a)\n",
    "print(a())"
   ]
  },
  {
   "cell_type": "markdown",
   "metadata": {},
   "source": [
    "在python里面，由于数据类型定义不明确，所以尽管一开始定义了a，为int(整数)，之后在定义a方程的时候还是把a给覆盖了。"
   ]
  },
  {
   "cell_type": "markdown",
   "metadata": {},
   "source": [
    "另一个方程中比较重要的概念是循环loop，也是两种写法，for和while"
   ]
  },
  {
   "cell_type": "code",
   "execution_count": 1,
   "metadata": {},
   "outputs": [
    {
     "name": "stdout",
     "output_type": "stream",
     "text": [
      "0\n",
      "1\n",
      "2\n",
      "3\n",
      "4\n"
     ]
    }
   ],
   "source": [
    "for i in range(5):\n",
    "    print(i)"
   ]
  },
  {
   "cell_type": "code",
   "execution_count": 2,
   "metadata": {
    "scrolled": true
   },
   "outputs": [
    {
     "name": "stdout",
     "output_type": "stream",
     "text": [
      "0\n",
      "1\n",
      "2\n",
      "3\n",
      "4\n"
     ]
    }
   ],
   "source": [
    "i=0\n",
    "while i < 5:\n",
    "    print(i)\n",
    "    i=i+1"
   ]
  },
  {
   "cell_type": "markdown",
   "metadata": {},
   "source": [
    "以上两个循环的操作都是，假设一个i,i一开始等于0，在i小于5的过程中，先把i的值print出来，然后i加1，然后重复判断i是不是小于5。同样你也可以写for i in range(0,5)"
   ]
  },
  {
   "cell_type": "markdown",
   "metadata": {},
   "source": [
    "for和while的区别在于，for写起来比较简单，但是模式一定的。一定是某一个值，在一个range中，按照顺序从头到尾。但是range本身很灵活，在之后会有神奇的例子。相对而言，while的写法就很灵活，因为i的初始值，判断条件，以及每次循环后对i的操作都要重新写。"
   ]
  },
  {
   "cell_type": "markdown",
   "metadata": {
    "collapsed": true
   },
   "source": [
    "循环的意义在于，在有一系列重复操作的时候，可以通过循环极大的减少写的代码。比如HW2.详情去看HW2的solution."
   ]
  }
 ],
 "metadata": {
  "kernelspec": {
   "display_name": "Python 3",
   "language": "python",
   "name": "python3"
  },
  "language_info": {
   "codemirror_mode": {
    "name": "ipython",
    "version": 3
   },
   "file_extension": ".py",
   "mimetype": "text/x-python",
   "name": "python",
   "nbconvert_exporter": "python",
   "pygments_lexer": "ipython3",
   "version": "3.6.5"
  }
 },
 "nbformat": 4,
 "nbformat_minor": 2
}

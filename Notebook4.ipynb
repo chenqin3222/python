{
 "cells": [
  {
   "cell_type": "markdown",
   "metadata": {},
   "source": [
    "# Quantitative Investing with Python\n",
    "\n",
    "# NOTEBOOK 4\n",
    "\n",
    "Alan Moreira, University of Rochester Simon Graduate School of Business\n",
    "\n",
    " ## Objectives\n",
    "\n",
    " 1. The Capital allocation line\n",
    " 2. Mean-variance frontier\n",
    "     - case study on international diversification\n",
    "     - implementation of portfolio constraints in the MV optimizer\n",
    "     - role of estimation uncertainty\n",
    " 3. Risk-parity and minimum variance investing \n",
    " 4. Strategy evaluation\n",
    "     \n"
   ]
  },
  {
   "cell_type": "markdown",
   "metadata": {},
   "source": []
  },
  {
   "cell_type": "markdown",
   "metadata": {},
   "source": [
    "\n",
    "\n",
    "##  1.  The Capital Allocation Line"
   ]
  },
  {
   "cell_type": "code",
   "execution_count": 45,
   "metadata": {},
   "outputs": [],
   "source": [
    "import pandas as pd\n",
    "import numpy as np\n",
    "import matplotlib.pyplot as plt\n",
    "#GlobalFinMonthly\n",
    "url=\"https://www.dropbox.com/s/3k35mt3t57ygff2/GlobalFinMonthly.csv?dl=1\"\n",
    "\n",
    "Data = pd.read_csv(url,index_col=0,parse_dates=True,na_values=-99)"
   ]
  },
  {
   "cell_type": "code",
   "execution_count": 46,
   "metadata": {
    "scrolled": false
   },
   "outputs": [
    {
     "data": {
      "image/png": "[encoded data removed]",
      "text/plain": [
       "<Figure size 432x288 with 1 Axes>"
      ]
     },
     "metadata": {},
     "output_type": "display_data"
    }
   ],
   "source": [
    "w=np.linspace(0,3,10)\n",
    "plt.scatter(w*Data['MKT'].std()*12**0.5,((1-w)*Data['RF'].mean()+w*Data['MKT'].mean())*12)\n",
    "plt.scatter(1*Data['MKT'].std()*12**0.5,Data['MKT'].mean()*12,color='red')\n",
    "plt.show()"
   ]
  },
  {
   "cell_type": "markdown",
   "metadata": {},
   "source": [
    " What is the Slope of the capital allocation line?\n",
    "\n"
   ]
  },
  {
   "cell_type": "code",
   "execution_count": 47,
   "metadata": {},
   "outputs": [
    {
     "data": {
      "text/plain": [
       "0.4046678623199824"
      ]
     },
     "execution_count": 47,
     "metadata": {},
     "output_type": "execute_result"
    }
   ],
   "source": [
    "Slope=(Data['MKT'].mean()-Data['RF'].mean())/Data['MKT'].std()*12**0.5\n",
    "Slope"
   ]
  },
  {
   "cell_type": "markdown",
   "metadata": {},
   "source": [
    "\n",
    "What is the Mean-Variance investor weight on the market as a function of his/her risk-aversion?\n",
    "\n",
    "\n",
    "$$w=\\frac{E[R]-R_f}{\\alpha VAR(R)}$$\n",
    "\n"
   ]
  },
  {
   "cell_type": "code",
   "execution_count": 48,
   "metadata": {},
   "outputs": [
    {
     "name": "stdout",
     "output_type": "stream",
     "text": [
      "2.654754319264594\n"
     ]
    },
    {
     "data": {
      "image/png": "[encoded data removed]",
      "text/plain": [
       "<Figure size 432x288 with 1 Axes>"
      ]
     },
     "metadata": {},
     "output_type": "display_data"
    }
   ],
   "source": [
    "alpha=np.linspace(0.5,6,50)\n",
    "riskreturntradeoff=(Data['MKT'].mean()-Data['RF'].mean())/(Data['MKT'].var())\n",
    "print(riskreturntradeoff)\n",
    "plt.plot(alpha,riskreturntradeoff/alpha)\n",
    "plt.plot(alpha,riskreturntradeoff/alpha)\n",
    "plt.show()"
   ]
  },
  {
   "cell_type": "markdown",
   "metadata": {},
   "source": [
    "Mean-variance Mathematics and the Efficient Investment Frontier: case study on international portfolio diversification"
   ]
  },
  {
   "cell_type": "code",
   "execution_count": 49,
   "metadata": {},
   "outputs": [
    {
     "data": {
      "text/html": [
       "<div>\n",
       "<style scoped>\n",
       "    .dataframe tbody tr th:only-of-type {\n",
       "        vertical-align: middle;\n",
       "    }\n",
       "\n",
       "    .dataframe tbody tr th {\n",
       "        vertical-align: top;\n",
       "    }\n",
       "\n",
       "    .dataframe thead th {\n",
       "        text-align: right;\n",
       "    }\n",
       "</style>\n",
       "<table border=\"1\" class=\"dataframe\">\n",
       "  <thead>\n",
       "    <tr style=\"text-align: right;\">\n",
       "      <th></th>\n",
       "      <th>RF</th>\n",
       "      <th>MKT</th>\n",
       "      <th>USA30yearGovBond</th>\n",
       "      <th>EmergingMarkets</th>\n",
       "      <th>WorldxUSA</th>\n",
       "      <th>WorldxUSAGovBond</th>\n",
       "    </tr>\n",
       "    <tr>\n",
       "      <th>Date</th>\n",
       "      <th></th>\n",
       "      <th></th>\n",
       "      <th></th>\n",
       "      <th></th>\n",
       "      <th></th>\n",
       "      <th></th>\n",
       "    </tr>\n",
       "  </thead>\n",
       "  <tbody>\n",
       "    <tr>\n",
       "      <th>1963-02-28</th>\n",
       "      <td>0.0023</td>\n",
       "      <td>-0.0215</td>\n",
       "      <td>-0.001878</td>\n",
       "      <td>0.098222</td>\n",
       "      <td>-0.002773</td>\n",
       "      <td>0.003206</td>\n",
       "    </tr>\n",
       "    <tr>\n",
       "      <th>1963-03-31</th>\n",
       "      <td>0.0023</td>\n",
       "      <td>0.0331</td>\n",
       "      <td>0.003342</td>\n",
       "      <td>0.014149</td>\n",
       "      <td>0.000371</td>\n",
       "      <td>0.001913</td>\n",
       "    </tr>\n",
       "    <tr>\n",
       "      <th>1963-04-30</th>\n",
       "      <td>0.0025</td>\n",
       "      <td>0.0476</td>\n",
       "      <td>-0.001843</td>\n",
       "      <td>-0.147055</td>\n",
       "      <td>-0.003336</td>\n",
       "      <td>0.008002</td>\n",
       "    </tr>\n",
       "    <tr>\n",
       "      <th>1963-05-31</th>\n",
       "      <td>0.0024</td>\n",
       "      <td>0.0200</td>\n",
       "      <td>-0.001807</td>\n",
       "      <td>-0.012172</td>\n",
       "      <td>-0.000186</td>\n",
       "      <td>0.004689</td>\n",
       "    </tr>\n",
       "    <tr>\n",
       "      <th>1963-06-30</th>\n",
       "      <td>0.0023</td>\n",
       "      <td>-0.0177</td>\n",
       "      <td>0.001666</td>\n",
       "      <td>-0.055699</td>\n",
       "      <td>-0.011160</td>\n",
       "      <td>0.003139</td>\n",
       "    </tr>\n",
       "  </tbody>\n",
       "</table>\n",
       "</div>"
      ],
      "text/plain": [
       "                RF     MKT  USA30yearGovBond  EmergingMarkets  WorldxUSA  \\\n",
       "Date                                                                       \n",
       "1963-02-28  0.0023 -0.0215         -0.001878         0.098222  -0.002773   \n",
       "1963-03-31  0.0023  0.0331          0.003342         0.014149   0.000371   \n",
       "1963-04-30  0.0025  0.0476         -0.001843        -0.147055  -0.003336   \n",
       "1963-05-31  0.0024  0.0200         -0.001807        -0.012172  -0.000186   \n",
       "1963-06-30  0.0023 -0.0177          0.001666        -0.055699  -0.011160   \n",
       "\n",
       "            WorldxUSAGovBond  \n",
       "Date                          \n",
       "1963-02-28          0.003206  \n",
       "1963-03-31          0.001913  \n",
       "1963-04-30          0.008002  \n",
       "1963-05-31          0.004689  \n",
       "1963-06-30          0.003139  "
      ]
     },
     "execution_count": 49,
     "metadata": {},
     "output_type": "execute_result"
    }
   ],
   "source": [
    "Data.head()"
   ]
  },
  {
   "cell_type": "code",
   "execution_count": 50,
   "metadata": {},
   "outputs": [
    {
     "data": {
      "text/html": [
       "<div>\n",
       "<style scoped>\n",
       "    .dataframe tbody tr th:only-of-type {\n",
       "        vertical-align: middle;\n",
       "    }\n",
       "\n",
       "    .dataframe tbody tr th {\n",
       "        vertical-align: top;\n",
       "    }\n",
       "\n",
       "    .dataframe thead th {\n",
       "        text-align: right;\n",
       "    }\n",
       "</style>\n",
       "<table border=\"1\" class=\"dataframe\">\n",
       "  <thead>\n",
       "    <tr style=\"text-align: right;\">\n",
       "      <th></th>\n",
       "      <th>RF</th>\n",
       "      <th>MKTUS</th>\n",
       "      <th>BondUS</th>\n",
       "      <th>EM</th>\n",
       "      <th>MKTxUS</th>\n",
       "      <th>BondxUS</th>\n",
       "    </tr>\n",
       "    <tr>\n",
       "      <th>Date</th>\n",
       "      <th></th>\n",
       "      <th></th>\n",
       "      <th></th>\n",
       "      <th></th>\n",
       "      <th></th>\n",
       "      <th></th>\n",
       "    </tr>\n",
       "  </thead>\n",
       "  <tbody>\n",
       "    <tr>\n",
       "      <th>2016-08-31</th>\n",
       "      <td>0.0002</td>\n",
       "      <td>0.0052</td>\n",
       "      <td>-0.008417</td>\n",
       "      <td>0.025186</td>\n",
       "      <td>0.000838</td>\n",
       "      <td>-0.009552</td>\n",
       "    </tr>\n",
       "    <tr>\n",
       "      <th>2016-09-30</th>\n",
       "      <td>0.0002</td>\n",
       "      <td>0.0027</td>\n",
       "      <td>-0.016417</td>\n",
       "      <td>0.013153</td>\n",
       "      <td>0.012736</td>\n",
       "      <td>0.009979</td>\n",
       "    </tr>\n",
       "    <tr>\n",
       "      <th>2016-10-31</th>\n",
       "      <td>0.0002</td>\n",
       "      <td>-0.0200</td>\n",
       "      <td>-0.049460</td>\n",
       "      <td>0.002474</td>\n",
       "      <td>-0.020383</td>\n",
       "      <td>-0.043476</td>\n",
       "    </tr>\n",
       "    <tr>\n",
       "      <th>2016-11-30</th>\n",
       "      <td>0.0001</td>\n",
       "      <td>0.0487</td>\n",
       "      <td>-0.081636</td>\n",
       "      <td>-0.045971</td>\n",
       "      <td>-0.019798</td>\n",
       "      <td>-0.050359</td>\n",
       "    </tr>\n",
       "    <tr>\n",
       "      <th>2016-12-31</th>\n",
       "      <td>0.0003</td>\n",
       "      <td>0.0185</td>\n",
       "      <td>-0.005296</td>\n",
       "      <td>0.002904</td>\n",
       "      <td>0.034383</td>\n",
       "      <td>-0.023207</td>\n",
       "    </tr>\n",
       "  </tbody>\n",
       "</table>\n",
       "</div>"
      ],
      "text/plain": [
       "                RF   MKTUS    BondUS        EM    MKTxUS   BondxUS\n",
       "Date                                                              \n",
       "2016-08-31  0.0002  0.0052 -0.008417  0.025186  0.000838 -0.009552\n",
       "2016-09-30  0.0002  0.0027 -0.016417  0.013153  0.012736  0.009979\n",
       "2016-10-31  0.0002 -0.0200 -0.049460  0.002474 -0.020383 -0.043476\n",
       "2016-11-30  0.0001  0.0487 -0.081636 -0.045971 -0.019798 -0.050359\n",
       "2016-12-31  0.0003  0.0185 -0.005296  0.002904  0.034383 -0.023207"
      ]
     },
     "execution_count": 50,
     "metadata": {},
     "output_type": "execute_result"
    }
   ],
   "source": [
    "# for convenience lets rename these assets\n",
    "\n",
    "Data=Data.rename(columns={Data.columns[1]: \"MKTUS\",Data.columns[2]: \"BondUS\",\n",
    "                          Data.columns[3]: \"EM\",Data.columns[4]: \"MKTxUS\",Data.columns[5]: \"BondxUS\" })\n",
    "Data.tail()"
   ]
  },
  {
   "cell_type": "code",
   "execution_count": 51,
   "metadata": {},
   "outputs": [
    {
     "data": {
      "text/html": [
       "<div>\n",
       "<style scoped>\n",
       "    .dataframe tbody tr th:only-of-type {\n",
       "        vertical-align: middle;\n",
       "    }\n",
       "\n",
       "    .dataframe tbody tr th {\n",
       "        vertical-align: top;\n",
       "    }\n",
       "\n",
       "    .dataframe thead th {\n",
       "        text-align: right;\n",
       "    }\n",
       "</style>\n",
       "<table border=\"1\" class=\"dataframe\">\n",
       "  <thead>\n",
       "    <tr style=\"text-align: right;\">\n",
       "      <th></th>\n",
       "      <th>MKTUS</th>\n",
       "      <th>BondUS</th>\n",
       "      <th>EM</th>\n",
       "      <th>MKTxUS</th>\n",
       "      <th>BondxUS</th>\n",
       "    </tr>\n",
       "    <tr>\n",
       "      <th>Date</th>\n",
       "      <th></th>\n",
       "      <th></th>\n",
       "      <th></th>\n",
       "      <th></th>\n",
       "      <th></th>\n",
       "    </tr>\n",
       "  </thead>\n",
       "  <tbody>\n",
       "    <tr>\n",
       "      <th>2016-08-31</th>\n",
       "      <td>0.0050</td>\n",
       "      <td>-0.008617</td>\n",
       "      <td>0.024986</td>\n",
       "      <td>0.000638</td>\n",
       "      <td>-0.009752</td>\n",
       "    </tr>\n",
       "    <tr>\n",
       "      <th>2016-09-30</th>\n",
       "      <td>0.0025</td>\n",
       "      <td>-0.016617</td>\n",
       "      <td>0.012953</td>\n",
       "      <td>0.012536</td>\n",
       "      <td>0.009779</td>\n",
       "    </tr>\n",
       "    <tr>\n",
       "      <th>2016-10-31</th>\n",
       "      <td>-0.0202</td>\n",
       "      <td>-0.049660</td>\n",
       "      <td>0.002274</td>\n",
       "      <td>-0.020583</td>\n",
       "      <td>-0.043676</td>\n",
       "    </tr>\n",
       "    <tr>\n",
       "      <th>2016-11-30</th>\n",
       "      <td>0.0486</td>\n",
       "      <td>-0.081736</td>\n",
       "      <td>-0.046071</td>\n",
       "      <td>-0.019898</td>\n",
       "      <td>-0.050459</td>\n",
       "    </tr>\n",
       "    <tr>\n",
       "      <th>2016-12-31</th>\n",
       "      <td>0.0182</td>\n",
       "      <td>-0.005596</td>\n",
       "      <td>0.002604</td>\n",
       "      <td>0.034083</td>\n",
       "      <td>-0.023507</td>\n",
       "    </tr>\n",
       "  </tbody>\n",
       "</table>\n",
       "</div>"
      ],
      "text/plain": [
       "             MKTUS    BondUS        EM    MKTxUS   BondxUS\n",
       "Date                                                      \n",
       "2016-08-31  0.0050 -0.008617  0.024986  0.000638 -0.009752\n",
       "2016-09-30  0.0025 -0.016617  0.012953  0.012536  0.009779\n",
       "2016-10-31 -0.0202 -0.049660  0.002274 -0.020583 -0.043676\n",
       "2016-11-30  0.0486 -0.081736 -0.046071 -0.019898 -0.050459\n",
       "2016-12-31  0.0182 -0.005596  0.002604  0.034083 -0.023507"
      ]
     },
     "execution_count": 51,
     "metadata": {},
     "output_type": "execute_result"
    }
   ],
   "source": [
    "# lets start by constructing a matrix with only excess returns\n",
    "Re=(Data.drop('RF',axis=1)).subtract(Data['RF'],axis='index')\n",
    "Re.tail()"
   ]
  },
  {
   "cell_type": "code",
   "execution_count": 52,
   "metadata": {},
   "outputs": [
    {
     "data": {
      "text/plain": [
       "MKTUS      0.005140\n",
       "BondUS     0.002523\n",
       "EM         0.006923\n",
       "MKTxUS     0.004149\n",
       "BondxUS    0.002052\n",
       "dtype: float64"
      ]
     },
     "execution_count": 52,
     "metadata": {},
     "output_type": "execute_result"
    }
   ],
   "source": [
    "# now we estimate the expected return and the covariance using the sample moments\n",
    "ERe=Re.mean()\n",
    "ERe"
   ]
  },
  {
   "cell_type": "code",
   "execution_count": 53,
   "metadata": {},
   "outputs": [
    {
     "data": {
      "text/html": [
       "<div>\n",
       "<style scoped>\n",
       "    .dataframe tbody tr th:only-of-type {\n",
       "        vertical-align: middle;\n",
       "    }\n",
       "\n",
       "    .dataframe tbody tr th {\n",
       "        vertical-align: top;\n",
       "    }\n",
       "\n",
       "    .dataframe thead th {\n",
       "        text-align: right;\n",
       "    }\n",
       "</style>\n",
       "<table border=\"1\" class=\"dataframe\">\n",
       "  <thead>\n",
       "    <tr style=\"text-align: right;\">\n",
       "      <th></th>\n",
       "      <th>MKTUS</th>\n",
       "      <th>BondUS</th>\n",
       "      <th>EM</th>\n",
       "      <th>MKTxUS</th>\n",
       "      <th>BondxUS</th>\n",
       "    </tr>\n",
       "  </thead>\n",
       "  <tbody>\n",
       "    <tr>\n",
       "      <th>MKTUS</th>\n",
       "      <td>0.001948</td>\n",
       "      <td>0.000111</td>\n",
       "      <td>0.001292</td>\n",
       "      <td>0.001264</td>\n",
       "      <td>0.000187</td>\n",
       "    </tr>\n",
       "    <tr>\n",
       "      <th>BondUS</th>\n",
       "      <td>0.000111</td>\n",
       "      <td>0.001227</td>\n",
       "      <td>-0.000204</td>\n",
       "      <td>-0.000013</td>\n",
       "      <td>0.000264</td>\n",
       "    </tr>\n",
       "    <tr>\n",
       "      <th>EM</th>\n",
       "      <td>0.001292</td>\n",
       "      <td>-0.000204</td>\n",
       "      <td>0.003556</td>\n",
       "      <td>0.001661</td>\n",
       "      <td>0.000248</td>\n",
       "    </tr>\n",
       "    <tr>\n",
       "      <th>MKTxUS</th>\n",
       "      <td>0.001264</td>\n",
       "      <td>-0.000013</td>\n",
       "      <td>0.001661</td>\n",
       "      <td>0.002182</td>\n",
       "      <td>0.000422</td>\n",
       "    </tr>\n",
       "    <tr>\n",
       "      <th>BondxUS</th>\n",
       "      <td>0.000187</td>\n",
       "      <td>0.000264</td>\n",
       "      <td>0.000248</td>\n",
       "      <td>0.000422</td>\n",
       "      <td>0.000406</td>\n",
       "    </tr>\n",
       "  </tbody>\n",
       "</table>\n",
       "</div>"
      ],
      "text/plain": [
       "            MKTUS    BondUS        EM    MKTxUS   BondxUS\n",
       "MKTUS    0.001948  0.000111  0.001292  0.001264  0.000187\n",
       "BondUS   0.000111  0.001227 -0.000204 -0.000013  0.000264\n",
       "EM       0.001292 -0.000204  0.003556  0.001661  0.000248\n",
       "MKTxUS   0.001264 -0.000013  0.001661  0.002182  0.000422\n",
       "BondxUS  0.000187  0.000264  0.000248  0.000422  0.000406"
      ]
     },
     "execution_count": 53,
     "metadata": {},
     "output_type": "execute_result"
    }
   ],
   "source": [
    "Cove=Re.cov()\n",
    "Cove"
   ]
  },
  {
   "cell_type": "markdown",
   "metadata": {},
   "source": [
    "1. First we will solve for the maxium Sharpe ratio feasible\n",
    "\n",
    "$$(E[R]'VAR(R)^{-1}E[R])^{1/2}$$\n",
    "\n",
    "2. Then we will solve for the wights that implement this Sharpe ratio\n",
    "\n",
    "$$VAR(R)^{-1}E[R]$$\n",
    "\n",
    "3. And then we will solve for the constant $\\lambda$ that implements a desired level of expected excess returns"
   ]
  },
  {
   "cell_type": "code",
   "execution_count": 54,
   "metadata": {},
   "outputs": [
    {
     "data": {
      "text/plain": [
       "0.16369789630430479"
      ]
     },
     "execution_count": 54,
     "metadata": {},
     "output_type": "execute_result"
    }
   ],
   "source": [
    "SR_int=(ERe.values.T @ np.linalg.inv(Cove) @ ERe.values)**0.5\n",
    "SR_int"
   ]
  },
  {
   "cell_type": "code",
   "execution_count": 55,
   "metadata": {},
   "outputs": [
    {
     "data": {
      "text/plain": [
       "0.5670661469823949"
      ]
     },
     "execution_count": 55,
     "metadata": {},
     "output_type": "execute_result"
    }
   ],
   "source": [
    "# annualized\n",
    "\n",
    "SR_int*12**0.5"
   ]
  },
  {
   "cell_type": "code",
   "execution_count": 56,
   "metadata": {},
   "outputs": [
    {
     "data": {
      "text/plain": [
       "0.40345097267659175"
      ]
     },
     "execution_count": 56,
     "metadata": {},
     "output_type": "execute_result"
    }
   ],
   "source": [
    "# compares with market\n",
    "\n",
    "Re.MKTUS.mean()/Re.MKTUS.std()*12**0.5"
   ]
  },
  {
   "cell_type": "code",
   "execution_count": 57,
   "metadata": {},
   "outputs": [
    {
     "data": {
      "text/html": [
       "<div>\n",
       "<style scoped>\n",
       "    .dataframe tbody tr th:only-of-type {\n",
       "        vertical-align: middle;\n",
       "    }\n",
       "\n",
       "    .dataframe tbody tr th {\n",
       "        vertical-align: top;\n",
       "    }\n",
       "\n",
       "    .dataframe thead th {\n",
       "        text-align: right;\n",
       "    }\n",
       "</style>\n",
       "<table border=\"1\" class=\"dataframe\">\n",
       "  <thead>\n",
       "    <tr style=\"text-align: right;\">\n",
       "      <th></th>\n",
       "      <th>wghts0</th>\n",
       "    </tr>\n",
       "  </thead>\n",
       "  <tbody>\n",
       "    <tr>\n",
       "      <th>MKTUS</th>\n",
       "      <td>1.834995</td>\n",
       "    </tr>\n",
       "    <tr>\n",
       "      <th>BondUS</th>\n",
       "      <td>1.423872</td>\n",
       "    </tr>\n",
       "    <tr>\n",
       "      <th>EM</th>\n",
       "      <td>1.605498</td>\n",
       "    </tr>\n",
       "    <tr>\n",
       "      <th>MKTxUS</th>\n",
       "      <td>-1.026051</td>\n",
       "    </tr>\n",
       "    <tr>\n",
       "      <th>BondxUS</th>\n",
       "      <td>3.368940</td>\n",
       "    </tr>\n",
       "  </tbody>\n",
       "</table>\n",
       "</div>"
      ],
      "text/plain": [
       "           wghts0\n",
       "MKTUS    1.834995\n",
       "BondUS   1.423872\n",
       "EM       1.605498\n",
       "MKTxUS  -1.026051\n",
       "BondxUS  3.368940"
      ]
     },
     "execution_count": 57,
     "metadata": {},
     "output_type": "execute_result"
    }
   ],
   "source": [
    "# construct the optimal weights\n",
    "Wmve=pd.DataFrame([],index=Re.columns)\n",
    "Wmve['wghts0'] =np.linalg.inv(Cove) @ ERe.values\n",
    "\n",
    "Wmve\n"
   ]
  },
  {
   "cell_type": "markdown",
   "metadata": {},
   "source": [
    "To find the weights that implement a particular expected return target we use Lecture 3 formulas\n",
    "\n",
    "$$\\lambda=\\frac{\\mu_{target}}{E[R^e]'Var(R^e)^{-1}E[R^e]}$$\n",
    "$$W^*=\\lambda Var(R^e)^{-1}E[R^e]$$\n",
    "\n"
   ]
  },
  {
   "cell_type": "code",
   "execution_count": 58,
   "metadata": {},
   "outputs": [
    {
     "name": "stdout",
     "output_type": "stream",
     "text": [
      "0.37317608433285165\n"
     ]
    },
    {
     "data": {
      "text/html": [
       "<div>\n",
       "<style scoped>\n",
       "    .dataframe tbody tr th:only-of-type {\n",
       "        vertical-align: middle;\n",
       "    }\n",
       "\n",
       "    .dataframe tbody tr th {\n",
       "        vertical-align: top;\n",
       "    }\n",
       "\n",
       "    .dataframe thead th {\n",
       "        text-align: right;\n",
       "    }\n",
       "</style>\n",
       "<table border=\"1\" class=\"dataframe\">\n",
       "  <thead>\n",
       "    <tr style=\"text-align: right;\">\n",
       "      <th></th>\n",
       "      <th>wghts0</th>\n",
       "      <th>Wgths1</th>\n",
       "    </tr>\n",
       "  </thead>\n",
       "  <tbody>\n",
       "    <tr>\n",
       "      <th>MKTUS</th>\n",
       "      <td>1.834995</td>\n",
       "      <td>0.684776</td>\n",
       "    </tr>\n",
       "    <tr>\n",
       "      <th>BondUS</th>\n",
       "      <td>1.423872</td>\n",
       "      <td>0.531355</td>\n",
       "    </tr>\n",
       "    <tr>\n",
       "      <th>EM</th>\n",
       "      <td>1.605498</td>\n",
       "      <td>0.599134</td>\n",
       "    </tr>\n",
       "    <tr>\n",
       "      <th>MKTxUS</th>\n",
       "      <td>-1.026051</td>\n",
       "      <td>-0.382898</td>\n",
       "    </tr>\n",
       "    <tr>\n",
       "      <th>BondxUS</th>\n",
       "      <td>3.368940</td>\n",
       "      <td>1.257208</td>\n",
       "    </tr>\n",
       "  </tbody>\n",
       "</table>\n",
       "</div>"
      ],
      "text/plain": [
       "           wghts0    Wgths1\n",
       "MKTUS    1.834995  0.684776\n",
       "BondUS   1.423872  0.531355\n",
       "EM       1.605498  0.599134\n",
       "MKTxUS  -1.026051 -0.382898\n",
       "BondxUS  3.368940  1.257208"
      ]
     },
     "execution_count": 58,
     "metadata": {},
     "output_type": "execute_result"
    }
   ],
   "source": [
    "# target ER\n",
    "\n",
    "mu_target=0.01\n",
    "lamb=(mu_target/(ERe.values.T @ np.linalg.inv(Cove) @ ERe.values))\n",
    "print(lamb)\n",
    "# must \n",
    "Wmve['Wgths1']=lamb*(np.linalg.inv(Cove) @ ERe.values)\n",
    "Wmve"
   ]
  },
  {
   "cell_type": "code",
   "execution_count": 59,
   "metadata": {},
   "outputs": [
    {
     "name": "stdout",
     "output_type": "stream",
     "text": [
      "0.46009875470841877\n"
     ]
    },
    {
     "data": {
      "text/html": [
       "<div>\n",
       "<style scoped>\n",
       "    .dataframe tbody tr th:only-of-type {\n",
       "        vertical-align: middle;\n",
       "    }\n",
       "\n",
       "    .dataframe tbody tr th {\n",
       "        vertical-align: top;\n",
       "    }\n",
       "\n",
       "    .dataframe thead th {\n",
       "        text-align: right;\n",
       "    }\n",
       "</style>\n",
       "<table border=\"1\" class=\"dataframe\">\n",
       "  <thead>\n",
       "    <tr style=\"text-align: right;\">\n",
       "      <th></th>\n",
       "      <th>wghts0</th>\n",
       "      <th>Wgths1</th>\n",
       "      <th>wghtsdom</th>\n",
       "    </tr>\n",
       "  </thead>\n",
       "  <tbody>\n",
       "    <tr>\n",
       "      <th>MKTUS</th>\n",
       "      <td>1.834995</td>\n",
       "      <td>0.684776</td>\n",
       "      <td>2.534954</td>\n",
       "    </tr>\n",
       "    <tr>\n",
       "      <th>BondUS</th>\n",
       "      <td>1.423872</td>\n",
       "      <td>0.531355</td>\n",
       "      <td>1.827591</td>\n",
       "    </tr>\n",
       "    <tr>\n",
       "      <th>EM</th>\n",
       "      <td>1.605498</td>\n",
       "      <td>0.599134</td>\n",
       "      <td>NaN</td>\n",
       "    </tr>\n",
       "    <tr>\n",
       "      <th>MKTxUS</th>\n",
       "      <td>-1.026051</td>\n",
       "      <td>-0.382898</td>\n",
       "      <td>NaN</td>\n",
       "    </tr>\n",
       "    <tr>\n",
       "      <th>BondxUS</th>\n",
       "      <td>3.368940</td>\n",
       "      <td>1.257208</td>\n",
       "      <td>NaN</td>\n",
       "    </tr>\n",
       "  </tbody>\n",
       "</table>\n",
       "</div>"
      ],
      "text/plain": [
       "           wghts0    Wgths1  wghtsdom\n",
       "MKTUS    1.834995  0.684776  2.534954\n",
       "BondUS   1.423872  0.531355  1.827591\n",
       "EM       1.605498  0.599134       NaN\n",
       "MKTxUS  -1.026051 -0.382898       NaN\n",
       "BondxUS  3.368940  1.257208       NaN"
      ]
     },
     "execution_count": 59,
     "metadata": {},
     "output_type": "execute_result"
    }
   ],
   "source": [
    "# lets compute the domestic (we only keep the first two columns MKT +Bonds)\n",
    "ERdom=Re[['MKTUS','BondUS']].mean()\n",
    "Covdom=Re[['MKTUS','BondUS']].cov()\n",
    "SR_dom=(ERdom.values.T @ np.linalg.inv(Covdom) @ ERdom.values)**0.5\n",
    "print(SR_dom*12**0.5)\n",
    "Wmvedom= np.linalg.inv(Covdom) @ ERdom.values\n",
    "Wmve.loc[['MKTUS','BondUS'],'wghtsdom']=Wmvedom\n",
    "Wmve"
   ]
  },
  {
   "cell_type": "code",
   "execution_count": 60,
   "metadata": {},
   "outputs": [
    {
     "data": {
      "text/html": [
       "<div>\n",
       "<style scoped>\n",
       "    .dataframe tbody tr th:only-of-type {\n",
       "        vertical-align: middle;\n",
       "    }\n",
       "\n",
       "    .dataframe tbody tr th {\n",
       "        vertical-align: top;\n",
       "    }\n",
       "\n",
       "    .dataframe thead th {\n",
       "        text-align: right;\n",
       "    }\n",
       "</style>\n",
       "<table border=\"1\" class=\"dataframe\">\n",
       "  <thead>\n",
       "    <tr style=\"text-align: right;\">\n",
       "      <th></th>\n",
       "      <th>wghts0</th>\n",
       "      <th>Wgths1</th>\n",
       "      <th>wghtsdom</th>\n",
       "    </tr>\n",
       "  </thead>\n",
       "  <tbody>\n",
       "    <tr>\n",
       "      <th>MKTUS</th>\n",
       "      <td>0.254604</td>\n",
       "      <td>0.254604</td>\n",
       "      <td>0.581072</td>\n",
       "    </tr>\n",
       "    <tr>\n",
       "      <th>BondUS</th>\n",
       "      <td>0.197561</td>\n",
       "      <td>0.197561</td>\n",
       "      <td>0.418928</td>\n",
       "    </tr>\n",
       "    <tr>\n",
       "      <th>EM</th>\n",
       "      <td>0.222761</td>\n",
       "      <td>0.222761</td>\n",
       "      <td>NaN</td>\n",
       "    </tr>\n",
       "    <tr>\n",
       "      <th>MKTxUS</th>\n",
       "      <td>-0.142364</td>\n",
       "      <td>-0.142364</td>\n",
       "      <td>NaN</td>\n",
       "    </tr>\n",
       "    <tr>\n",
       "      <th>BondxUS</th>\n",
       "      <td>0.467437</td>\n",
       "      <td>0.467437</td>\n",
       "      <td>NaN</td>\n",
       "    </tr>\n",
       "  </tbody>\n",
       "</table>\n",
       "</div>"
      ],
      "text/plain": [
       "           wghts0    Wgths1  wghtsdom\n",
       "MKTUS    0.254604  0.254604  0.581072\n",
       "BondUS   0.197561  0.197561  0.418928\n",
       "EM       0.222761  0.222761       NaN\n",
       "MKTxUS  -0.142364 -0.142364       NaN\n",
       "BondxUS  0.467437  0.467437       NaN"
      ]
     },
     "execution_count": 60,
     "metadata": {},
     "output_type": "execute_result"
    }
   ],
   "source": [
    "#To get a bit of intuition we can normalize the weights to add up to 1\n",
    "\n",
    "# Why these weights do not have to add up to 1?\n",
    "\n",
    "# why is of to normalize than to 1?\n",
    "\n",
    "# what changes when we do that? What does not change?\n",
    "\n",
    "# why columns 'wgths0' and 'wghts1' have the same weight after normalization?\n",
    "Wmve/Wmve.sum()"
   ]
  },
  {
   "cell_type": "code",
   "execution_count": 61,
   "metadata": {},
   "outputs": [
    {
     "data": {
      "text/plain": [
       "0.030878826361946193"
      ]
     },
     "execution_count": 61,
     "metadata": {},
     "output_type": "execute_result"
    }
   ],
   "source": [
    "# this difference is the benefits of international diversification\n",
    "\n",
    "SR_int-SR_dom"
   ]
  },
  {
   "cell_type": "markdown",
   "metadata": {},
   "source": [
    "- what does that mean?\n",
    "\n",
    "- it means for example that if you want to target a portfolio with a volatility of 5% per month (about the vol of the US market portfolio), then you get  \n"
   ]
  },
  {
   "cell_type": "code",
   "execution_count": 62,
   "metadata": {},
   "outputs": [
    {
     "data": {
      "text/plain": [
       "[0.008184894815215239, 0.00664095349711793]"
      ]
     },
     "execution_count": 62,
     "metadata": {},
     "output_type": "execute_result"
    }
   ],
   "source": [
    "# international diversification\n",
    "voltarget=0.05\n",
    "[SR_int*voltarget,SR_dom*voltarget]\n"
   ]
  },
  {
   "cell_type": "code",
   "execution_count": 63,
   "metadata": {},
   "outputs": [
    {
     "data": {
      "text/plain": [
       "0.018527295817167708"
      ]
     },
     "execution_count": 63,
     "metadata": {},
     "output_type": "execute_result"
    }
   ],
   "source": [
    "# annualized  your returns increase by \n",
    "(SR_int*voltarget -SR_dom*voltarget)*12"
   ]
  },
  {
   "cell_type": "code",
   "execution_count": 64,
   "metadata": {
    "scrolled": true
   },
   "outputs": [
    {
     "data": {
      "text/plain": [
       "0.2324878978248162"
      ]
     },
     "execution_count": 64,
     "metadata": {},
     "output_type": "execute_result"
    }
   ],
   "source": [
    "# in percentual increase it is very meaningful\n",
    "(SR_int*voltarget -SR_dom*voltarget)/(SR_dom*voltarget)"
   ]
  },
  {
   "cell_type": "code",
   "execution_count": 65,
   "metadata": {
    "scrolled": true
   },
   "outputs": [
    {
     "data": {
      "image/png": "[encoded data removed]",
      "text/plain": [
       "<Figure size 432x288 with 1 Axes>"
      ]
     },
     "metadata": {},
     "output_type": "display_data"
    }
   ],
   "source": [
    "# Lets visualize this in a plot the two investment frontiers\n",
    "\n",
    "# set different expected return targets\n",
    "mu_target=np.linspace(0,0.025,20)\n",
    "# international portfolios\n",
    "STD_MVE_int=(Wmve['wghts0'] @ Cove @ Wmve['wghts0'].T)**0.5\n",
    "lam=mu_target/(SR_int**2)\n",
    "STD_target_int=lam*STD_MVE_int\n",
    "plt.plot(STD_target_int,mu_target)\n",
    "#Domestic portfolios\n",
    "STD_MVE_dom=(Wmve.loc[['MKTUS','BondUS'],'wghtsdom'] @ Covdom @ Wmve.loc[['MKTUS','BondUS'],'wghtsdom'].T)**0.5\n",
    "STD_target_dom=mu_target/(SR_dom**2)*STD_MVE_dom\n",
    "plt.plot(STD_target_dom,mu_target)\n",
    "plt.scatter(Re.std(),Re.mean())\n",
    "\n",
    "# lets add some labels so we know which point is each portfolio\n",
    "# First time that I use loop? If yes discuss\n",
    "\n",
    "for label in Re.columns :\n",
    "   plt.text(Re.std()[label],Re.mean()[label],label)\n",
    "\n",
    "plt.xlabel('standard deviation')\n",
    "plt.ylabel('expected return')\n",
    "plt.title('Benefits of international diversification')\n",
    "plt.show()"
   ]
  },
  {
   "cell_type": "markdown",
   "metadata": {},
   "source": [
    "\n",
    "     \n",
    "# Estimation uncertainty     \n",
    "\n",
    "- We will start by evaluating the uncertainty regading our average expected excess return estimates for each asset\n",
    "- We will then show how the weights change as we pertubate these estimates in a way that is consistent with the amount of uncertainty\n",
    "- We will then show how sensitive the benefits of international diversification are\n",
    "\n",
    "If observation are serially uncorrelated over time, which returns are close to being, than the standard deviation of an average estiamtor is simply\n",
    "\n",
    "$$std\\left(\\sum_i^N\\frac{x_i}{N}\\right)=\\frac{std(x_i)}{\\sqrt{N}}$$"
   ]
  },
  {
   "cell_type": "code",
   "execution_count": 66,
   "metadata": {
    "scrolled": true
   },
   "outputs": [
    {
     "data": {
      "text/plain": [
       "<matplotlib.axes._subplots.AxesSubplot at 0x1f90998a898>"
      ]
     },
     "execution_count": 66,
     "metadata": {},
     "output_type": "execute_result"
    },
    {
     "data": {
      "image/png": "[encoded data removed]",
      "text/plain": [
       "<Figure size 432x288 with 1 Axes>"
      ]
     },
     "metadata": {},
     "output_type": "display_data"
    }
   ],
   "source": [
    "# Lets contrast the WMVE weights with the SR of each \n",
    "avg_std=(Re.std()/(Re.shape[0]**0.5))\n",
    "avg=Re.mean()\n",
    "ERstd=pd.concat([avg_std,avg],axis=1)\n",
    "ERstd=ERstd.rename(columns={1:'avg',0:'avg_std'})\n",
    "ERstd.plot.bar()"
   ]
  },
  {
   "cell_type": "code",
   "execution_count": 67,
   "metadata": {},
   "outputs": [
    {
     "data": {
      "text/plain": [
       "53.916666666666664"
      ]
     },
     "execution_count": 67,
     "metadata": {},
     "output_type": "execute_result"
    }
   ],
   "source": [
    "# even with 50 years, there is still considerable uncertainty, specially for bonds\n",
    "\n",
    "Re.shape[0]/12"
   ]
  },
  {
   "cell_type": "code",
   "execution_count": 68,
   "metadata": {},
   "outputs": [
    {
     "data": {
      "text/plain": [
       "<matplotlib.axes._subplots.AxesSubplot at 0x1f909a5bf60>"
      ]
     },
     "execution_count": 68,
     "metadata": {},
     "output_type": "execute_result"
    },
    {
     "data": {
      "image/png": "[encoded data removed]",
      "text/plain": [
       "<Figure size 432x288 with 1 Axes>"
      ]
     },
     "metadata": {},
     "output_type": "display_data"
    }
   ],
   "source": [
    "# we can look at the t-stats (against zero) for the assets\n",
    "# the average return divided by the average return estiamtor standard deviation\n",
    "ERstd=pd.concat([Re.mean()/(Re.std()/(Re.shape[0]**0.5))],axis=1)\n",
    "ERstd.plot.bar()"
   ]
  },
  {
   "cell_type": "markdown",
   "metadata": {},
   "source": [
    "T-stat for a given hypothesis $\\mu_{j}^0$\n",
    "\n",
    "$$t_j(\\mu_0)=\\frac{\\bar{R_j}-\\mu_{j}^0}{\\sigma(\\bar{R_j})}$$\n",
    "\n",
    "For example lets assume we have strong theoretical reasons to believe that these assets must not have negative expected returns. (True for equities, less true for bonds)\n",
    "\n",
    "So lets do a 1-sided test with 5% interval and ask what is the largest expected return Xj that we can say with 95% confidence that the asset j has expected return higher than Xj\n",
    "\n",
    "$$1.64=\\frac{\\bar{R_j}-\\mu_{j}^0}{\\sigma(\\bar{R_j})}$$\n",
    "$$\\mu_{j}^0=\\bar{R_j}-1.64\\sigma(\\bar{R_j})$$"
   ]
  },
  {
   "cell_type": "code",
   "execution_count": 69,
   "metadata": {},
   "outputs": [
    {
     "data": {
      "text/plain": [
       "<matplotlib.axes._subplots.AxesSubplot at 0x1f909ac99b0>"
      ]
     },
     "execution_count": 69,
     "metadata": {},
     "output_type": "execute_result"
    },
    {
     "data": {
      "image/png": "[encoded data removed]",
      "text/plain": [
       "<Figure size 432x288 with 1 Axes>"
      ]
     },
     "metadata": {},
     "output_type": "display_data"
    }
   ],
   "source": [
    "ER0=pd.concat([Re.mean()-1.64*(Re.std()/(Re.shape[0]**0.5)),Re.mean()],axis=1)\n",
    "ER0=ER0.rename(columns={1:'avg',0:'one-sided'})\n",
    "ER0.plot.bar()"
   ]
  },
  {
   "cell_type": "code",
   "execution_count": 70,
   "metadata": {},
   "outputs": [
    {
     "data": {
      "text/plain": [
       "<matplotlib.axes._subplots.AxesSubplot at 0x1f909959cc0>"
      ]
     },
     "execution_count": 70,
     "metadata": {},
     "output_type": "execute_result"
    },
    {
     "data": {
      "image/png": "[encoded data removed]",
      "text/plain": [
       "<Figure size 432x288 with 1 Axes>"
      ]
     },
     "metadata": {},
     "output_type": "display_data"
    }
   ],
   "source": [
    "# if we are more agnostic and believe less in the economic theories we have, then we must do a two-sided interval\n",
    "\n",
    "ER0['twosided']=Re.mean()-1.96*(Re.std()/(Re.shape[0]**0.5))\n",
    "\n",
    "ER0.plot.bar()"
   ]
  },
  {
   "cell_type": "code",
   "execution_count": 71,
   "metadata": {},
   "outputs": [
    {
     "data": {
      "text/plain": [
       "<matplotlib.axes._subplots.AxesSubplot at 0x1f9097a1c88>"
      ]
     },
     "execution_count": 71,
     "metadata": {},
     "output_type": "execute_result"
    },
    {
     "data": {
      "image/png": "[encoded data removed]",
      "text/plain": [
       "<Figure size 432x288 with 1 Axes>"
      ]
     },
     "metadata": {},
     "output_type": "display_data"
    }
   ],
   "source": [
    "# We can also construct p'values\n",
    "from scipy.stats import norm\n",
    "# and I am creating this p object which is the standard normal distribution\n",
    "pnorm=norm(0,1)\n",
    "\n",
    "\n",
    "ER0['pvalues(one-sided)']=1-pnorm.cdf((Re.mean()/(Re.std()/(Re.shape[0]**0.5))).values)\n",
    "ER0['pvalues(two-sided)']=(1-pnorm.cdf(np.abs((Re.mean()/(Re.std()/(Re.shape[0]**0.5))).values)))*2\n",
    "ER0[['pvalues(one-sided)','pvalues(two-sided)']].plot.bar()"
   ]
  },
  {
   "cell_type": "code",
   "execution_count": 72,
   "metadata": {},
   "outputs": [
    {
     "data": {
      "image/png": "[encoded data removed]",
      "text/plain": [
       "<Figure size 432x288 with 1 Axes>"
      ]
     },
     "metadata": {},
     "output_type": "display_data"
    }
   ],
   "source": [
    "# lets look at 95% confidence interval (I am annulaizing for convenience)\n",
    "interval=0.95\n",
    "tails=(1-interval)/2\n",
    "\n",
    "asset='MKTUS'\n",
    "mu=Re[asset].mean()*12\n",
    "musigma=Re[asset].std()*(12)/Re[asset].count()**0.5\n",
    "p=norm(mu,musigma)\n",
    "# this constructs a grid going spanning the region given by the confidence interval\n",
    "grid=np.linspace(mu+pnorm.isf(tails)*musigma,mu+pnorm.isf(1-tails)*musigma,1000)\n",
    "# note that x=pnorm.isf(q) is the inverse of the CDF.\n",
    "\n",
    "#The inverse CDF at q is also referred to as the q quantile of a distribution.\n",
    "#For a continuous distribution dist the inverse CDF at q is the value x such that CDF[DIST,x]=q. \n",
    "# So there is excatly probability q that the realization is higher than x.\n",
    "plt.plot(grid, p.pdf(grid))\n",
    "plt.show()"
   ]
  },
  {
   "cell_type": "code",
   "execution_count": 73,
   "metadata": {},
   "outputs": [
    {
     "data": {
      "text/plain": [
       "<matplotlib.axes._subplots.AxesSubplot at 0x1f9099596d8>"
      ]
     },
     "execution_count": 73,
     "metadata": {},
     "output_type": "execute_result"
    },
    {
     "data": {
      "image/png": "[encoded data removed]",
      "text/plain": [
       "<Figure size 432x288 with 1 Axes>"
      ]
     },
     "metadata": {},
     "output_type": "display_data"
    }
   ],
   "source": [
    "# a perhaps more relevant test is whether all these assets have the same average return\n",
    "# For assets that have a average return below the average, I compute the probability that this expected return is indeed \n",
    "# below, and \n",
    "# for assets that have the avg return above avg I compute the probbility that the expected return is indeed \n",
    "#above the mean across assets\n",
    "# ER0['same_avg_pvalue']=\\\n",
    "# (1-pnorm.cdf(((Re.mean()-Re.mean().mean())/(Re.std()/(Re.shape[0]**0.5))).values))*(Re.mean()>Re.mean().mean())\\\n",
    "# +(pnorm.cdf(((Re.mean()-Re.mean().mean())/(Re.std()/(Re.shape[0]**0.5))).values))*(Re.mean()<=Re.mean().mean())\n",
    "#(probability of being above the average)*(average above avg across assets?)\n",
    "#(probability of being below the average)*(average below avg across assets?)\n",
    "\n",
    "# or much more easily:\n",
    "\n",
    "ER0['same_avg_pvalue']=(1-pnorm.cdf(np.abs((Re.mean()-Re.mean().mean())/(Re.std()/(Re.shape[0]**0.5))).values))*2\n",
    "\n",
    "# pvalue is the probability that the null hupothesis is right. So in this case it tells us that there is \n",
    "#a 60% probability that the mktus return equals to the average  and 100% probability that the MKTxUS expected return\n",
    "# is equal to the average of all assets average returns\n",
    "\n",
    "# here we can only clearly reject the hypothesis that non us bonds expected returns are equal to the average returns\n",
    "ER0.same_avg_pvalue.plot.bar()"
   ]
  },
  {
   "cell_type": "code",
   "execution_count": 76,
   "metadata": {},
   "outputs": [
    {
     "data": {
      "text/html": [
       "<div>\n",
       "<style scoped>\n",
       "    .dataframe tbody tr th:only-of-type {\n",
       "        vertical-align: middle;\n",
       "    }\n",
       "\n",
       "    .dataframe tbody tr th {\n",
       "        vertical-align: top;\n",
       "    }\n",
       "\n",
       "    .dataframe thead th {\n",
       "        text-align: right;\n",
       "    }\n",
       "</style>\n",
       "<table border=\"1\" class=\"dataframe\">\n",
       "  <thead>\n",
       "    <tr style=\"text-align: right;\">\n",
       "      <th></th>\n",
       "      <th>wghts0</th>\n",
       "      <th>Wgths1</th>\n",
       "      <th>wghtsdom</th>\n",
       "      <th>MKTUS-1std</th>\n",
       "      <th>MKTUS-1.96std</th>\n",
       "    </tr>\n",
       "  </thead>\n",
       "  <tbody>\n",
       "    <tr>\n",
       "      <th>MKTUS</th>\n",
       "      <td>1.834995</td>\n",
       "      <td>0.684776</td>\n",
       "      <td>2.534954</td>\n",
       "      <td>-113.573489</td>\n",
       "      <td>-243.743181</td>\n",
       "    </tr>\n",
       "    <tr>\n",
       "      <th>BondUS</th>\n",
       "      <td>1.423872</td>\n",
       "      <td>0.531355</td>\n",
       "      <td>1.827591</td>\n",
       "      <td>42.002484</td>\n",
       "      <td>65.921867</td>\n",
       "    </tr>\n",
       "    <tr>\n",
       "      <th>EM</th>\n",
       "      <td>1.605498</td>\n",
       "      <td>0.599134</td>\n",
       "      <td>NaN</td>\n",
       "      <td>39.670494</td>\n",
       "      <td>59.258829</td>\n",
       "    </tr>\n",
       "    <tr>\n",
       "      <th>MKTxUS</th>\n",
       "      <td>-1.026051</td>\n",
       "      <td>-0.382898</td>\n",
       "      <td>NaN</td>\n",
       "      <td>58.540921</td>\n",
       "      <td>126.560312</td>\n",
       "    </tr>\n",
       "    <tr>\n",
       "      <th>BondxUS</th>\n",
       "      <td>3.368940</td>\n",
       "      <td>1.257208</td>\n",
       "      <td>NaN</td>\n",
       "      <td>0.643562</td>\n",
       "      <td>-37.548808</td>\n",
       "    </tr>\n",
       "  </tbody>\n",
       "</table>\n",
       "</div>"
      ],
      "text/plain": [
       "           wghts0    Wgths1  wghtsdom  MKTUS-1std  MKTUS-1.96std\n",
       "MKTUS    1.834995  0.684776  2.534954 -113.573489    -243.743181\n",
       "BondUS   1.423872  0.531355  1.827591   42.002484      65.921867\n",
       "EM       1.605498  0.599134       NaN   39.670494      59.258829\n",
       "MKTxUS  -1.026051 -0.382898       NaN   58.540921     126.560312\n",
       "BondxUS  3.368940  1.257208       NaN    0.643562     -37.548808"
      ]
     },
     "execution_count": 76,
     "metadata": {},
     "output_type": "execute_result"
    }
   ],
   "source": [
    "# lets look at what happens with weights and Sharpes as we pertubate the mean of the market return by one standard deviation\n",
    "asset='MKTUS'\n",
    "pertubation=1.96\n",
    "Ere=Re.mean()*12\n",
    "mu=Re[asset].mean()*12\n",
    "musigma=Re[asset].std()*(12**0.5)\n",
    "ERemsig=Ere.copy()\n",
    "ERemsig[asset]=mu-pertubation*musigma\n",
    "Wmve[asset+'-'+str(pertubation)+'std'] =np.linalg.inv(Cove) @ ERemsig.values\n",
    "\n",
    "Wmve"
   ]
  },
  {
   "cell_type": "code",
   "execution_count": 77,
   "metadata": {},
   "outputs": [
    {
     "data": {
      "image/png": "[encoded data removed]",
      "text/plain": [
       "<Figure size 432x288 with 2 Axes>"
      ]
     },
     "metadata": {},
     "output_type": "display_data"
    }
   ],
   "source": [
    "# lets compare with the MVE weights using the sample mean\n",
    "plt.subplot(2,1,1)\n",
    "plt.bar(x=ERe.index,height=Wmve['wghts0']/np.abs(Wmve['wghts0'].sum()))\n",
    "plt.subplot(2,1,2)\n",
    "plt.bar(x=ERe.index,height=Wmve['MKTUS-1.96std']/np.abs(Wmve['MKTUS-1.96std'].sum()))\n",
    "plt.show()\n",
    "\n",
    "# observation: In class I got all confused with this plot. Basically, I was dividing by the sum of the weights to normalize \n",
    "# the weights so we could clearly see in the plot (again, only relative weights matters becasue we are looking as excess returns)\n",
    "# but obviously I cannot multiply/divide by a negative number otherwise I will be shorting instead of going long the tangency portfolio\n",
    "# which would be a stupid thing to do! \n",
    "# So Wmve['MKTUS-1.96std']/(Wmve['MKTUS-1.96std'].sum())\n",
    "# was doing two things, It was normalizing but also multiplying by a negative number since (Wmve['MKTUS-1.96std'].sum())<0\n",
    "# So now by having the abosulte value function I am just normalizing."
   ]
  },
  {
   "cell_type": "markdown",
   "metadata": {},
   "source": [
    "# Portfolio constraints\n",
    "\n",
    "Python has the flexibility to solve the mean-variance problem numerically\n",
    "\n",
    "allow you to impose \n",
    "\n",
    "- Shorting contraitns\n",
    "- Position limits\n",
    "- Concentration limits\n",
    "- Leverage limits"
   ]
  },
  {
   "cell_type": "code",
   "execution_count": 78,
   "metadata": {},
   "outputs": [],
   "source": [
    "from scipy.optimize import minimize"
   ]
  },
  {
   "cell_type": "code",
   "execution_count": 103,
   "metadata": {},
   "outputs": [
    {
     "name": "stdout",
     "output_type": "stream",
     "text": [
      "Optimization terminated successfully.    (Exit mode 0)\n",
      "            Current function value: 0.004931508083852444\n",
      "            Iterations: 7\n",
      "            Function evaluations: 49\n",
      "            Gradient evaluations: 7\n"
     ]
    },
    {
     "data": {
      "text/plain": [
       "[Text(0,0,'MKTUS'),\n",
       " Text(0,0,'BondUS'),\n",
       " Text(0,0,'EM'),\n",
       " Text(0,0,'MKTxUS'),\n",
       " Text(0,0,'BondxUS')]"
      ]
     },
     "execution_count": 103,
     "metadata": {},
     "output_type": "execute_result"
    },
    {
     "data": {
      "image/png": "[encoded data removed]",
      "text/plain": [
       "<Figure size 432x288 with 1 Axes>"
      ]
     },
     "metadata": {},
     "output_type": "display_data"
    }
   ],
   "source": [
    "# we will now learn how to learn how to do a numerical minimization. For those of you that know it, this\n",
    "# is similar to solver in excel\n",
    "\n",
    "# first start by defining some useful variables\n",
    "rf=0.015/12\n",
    "# the risk-free rate is special because at a given time we know exactly what are the expected returns of investing\n",
    "# in it, since it is risk-free!\n",
    "# so it does not make sense to use the average risk-free rate in the portfolio problem, and we should rather the one \n",
    "# we currently can invest at no risk\n",
    "# here we are dividing by 12 becasue we are entering annualized numbers\n",
    "\n",
    "Ertarget=0.12/12\n",
    "# this above is the target for monthly expected returns\n",
    "\n",
    "levlimit=1\n",
    "# here is maximum amount of borrowing at the risk-free rate. 1.5 means that for each dollars you put in you can borrow \n",
    "# up to 50 cents and have a total risk asset portfolio of 1.5 dollars\n",
    "\n",
    "def func(W):\n",
    "    return W.T @ Cove @ W\n",
    "\n",
    "# this is the function that the program will minimize\n",
    "# in this case it is the variance of a portfolio with weights W\n",
    "# the weights will be our choice variable, what the minimization function will be changing\n",
    "\n",
    "\n",
    "cons=({'type': 'eq',\n",
    "          'fun' : lambda W : W.T @ ERe.values+rf-Ertarget},\n",
    "        {'type': 'ineq',\n",
    "          'fun' : lambda W: -W.sum()+levlimit}) # this means -W.sum()+ levlimit >=0 , which means levlimit>=W.sum()\n",
    "\n",
    "# this specify the constraint that the minimization problem must satisfy\n",
    "# you can specify two types of constraints\n",
    "#    'eq'  which require function =0\n",
    "#     for example:'eq', 'fun' : lambda W : W.T @ ERe.values+rf-Ertarget\n",
    "#     defines the function F(W)=W.T @ ERe.values+rf-Ertarget\n",
    "#     and requires W to satisfy F(W)=0\n",
    "#    'ineq' which require function >=0\n",
    "#     for example: 'ineq', 'fun' : lambda W: -W.sum()+levlimit\n",
    "#     defines  F(W)=-W.sum()+levlimit\n",
    "#     and requires F(W)>=0\n",
    "\n",
    "W0=np.zeros(Re.shape[1])/Re.shape[1] \n",
    "# we need to provide a initial guess for the solution\n",
    "# here we choose the equal weighted portfolio\n",
    "\n",
    "res = minimize(func,W0, constraints=cons, options={'disp': True})\n",
    "# this code does the minimization, it takes the function to be minimized,\n",
    "# the inital guess, and the set of cntraints that the solution has to satisfy\n",
    "\n",
    "# below I am plotting the solution weights.\n",
    "width=0.3\n",
    "ind=np.arange(Re.shape[1])\n",
    "fig, ax = plt.subplots()\n",
    "ax.bar(ind,res.x,width)\n",
    "\n",
    "ax.set_xticks(np.array([0,1,2,3,4,5])+ width / 2)\n",
    "ax.set_xticklabels(Re.columns)"
   ]
  },
  {
   "cell_type": "code",
   "execution_count": 117,
   "metadata": {},
   "outputs": [
    {
     "data": {
      "text/plain": [
       "<matplotlib.collections.PathCollection at 0x1f90c6b3470>"
      ]
     },
     "execution_count": 117,
     "metadata": {},
     "output_type": "execute_result"
    },
    {
     "data": {
      "image/png": "[encoded data removed]",
      "text/plain": [
       "<Figure size 432x288 with 1 Axes>"
      ]
     },
     "metadata": {},
     "output_type": "display_data"
    }
   ],
   "source": [
    "# lets trace out the entire Mean-varaince frontier when neither borrowing or lending at the risk-free rate is not allowed\n",
    "levlimit=1  # this makes sure the weights add up to 1\n",
    "minstd=[]\n",
    "rf=0.015/12\n",
    "mutargets=np.linspace(rf,0.1/12,40)\n",
    "for a0 in mutargets:\n",
    "    cons=({'type': 'eq',\n",
    "          'fun' : lambda W : W.T @ ERe.values+rf-a0},\n",
    "        {'type': 'eq',\n",
    "          'fun' : lambda W: -W.sum()+levlimit})\n",
    "    \n",
    "    res1 = minimize(func,W0,  constraints=cons, options={'disp': False})\n",
    " #   print(res1.x)\n",
    "    minstd.append([res1.fun**0.5,res1.x @ ERe.values+rf])\n",
    "\n",
    "plt.scatter(np.array(minstd)[:,0]*12**0.5,np.array(minstd)[:,1]*12)"
   ]
  },
  {
   "cell_type": "code",
   "execution_count": 118,
   "metadata": {},
   "outputs": [
    {
     "data": {
      "text/plain": [
       "<matplotlib.collections.PathCollection at 0x1f90c708860>"
      ]
     },
     "execution_count": 118,
     "metadata": {},
     "output_type": "execute_result"
    },
    {
     "data": {
      "image/png": "[encoded data removed]",
      "text/plain": [
       "<Figure size 432x288 with 1 Axes>"
      ]
     },
     "metadata": {},
     "output_type": "display_data"
    }
   ],
   "source": [
    "# lets trace out the entire Mean-varaince frontier when neither borrowing at the risk-free rate is not allowed\n",
    "levlimit=1\n",
    "minstd=[]\n",
    "rf=0.015/12\n",
    "mutargets=np.linspace(rf,0.1/12,40)\n",
    "for a0 in mutargets:\n",
    "    cons=({'type': 'eq',\n",
    "          'fun' : lambda W : W.T @ ERe.values+rf-a0},\n",
    "        {'type': 'ineq',# I changed to inequality\n",
    "          'fun' : lambda W: -W.sum()+levlimit})\n",
    "    \n",
    "    res1 = minimize(func,W0,  constraints=cons, options={'disp': False})\n",
    " #   print(res1.x)\n",
    "    minstd.append([res1.fun**0.5,res1.x @ ERe.values+rf])\n",
    "\n",
    "plt.scatter(np.array(minstd)[:,0]*12**0.5,np.array(minstd)[:,1]*12)"
   ]
  },
  {
   "cell_type": "code",
   "execution_count": 119,
   "metadata": {},
   "outputs": [
    {
     "name": "stdout",
     "output_type": "stream",
     "text": [
      "Optimization terminated successfully.    (Exit mode 0)\n",
      "            Current function value: 0.0004294283032725429\n",
      "            Iterations: 2\n",
      "            Function evaluations: 14\n",
      "            Gradient evaluations: 2\n",
      "0.5935729074526048\n"
     ]
    },
    {
     "data": {
      "text/plain": [
       "[Text(0,0,'MKTUS'),\n",
       " Text(0,0,'BondUS'),\n",
       " Text(0,0,'EM'),\n",
       " Text(0,0,'MKTxUS'),\n",
       " Text(0,0,'BondxUS')]"
      ]
     },
     "execution_count": 119,
     "metadata": {},
     "output_type": "execute_result"
    },
    {
     "data": {
      "image/png": "[encoded data removed]",
      "text/plain": [
       "<Figure size 432x288 with 1 Axes>"
      ]
     },
     "metadata": {},
     "output_type": "display_data"
    }
   ],
   "source": [
    "# Introducing a non-shorting constraint. Implicilty this also rule out leverage within the portfolio\n",
    "Ertarget=0.05/12\n",
    "rf=0.015/12\n",
    "levlimit=1\n",
    "\n",
    "def func(W):\n",
    "    return W.T @ Cove @ W\n",
    "cons=({'type': 'eq',\n",
    "          'fun' : lambda W : W.T @ ERe.values+rf-Ertarget},\n",
    "        {'type': 'ineq',\n",
    "          'fun' : lambda W: -W.sum()+levlimit},\n",
    "         {'type': 'ineq',\n",
    "          'fun' : lambda W: W})\n",
    "# I simply add a non-shorting constraint W>=0 which implies the weights cannot be negative\n",
    "# note than it is the levlimit that controls how much you are allowed to short  the risk-free asset,\n",
    "# which is the same as borrowing at the risk free rate\n",
    "\n",
    "res = minimize(func,W0, constraints=cons, options={'disp': True})\n",
    "print(res.x.sum())\n",
    "width=0.3\n",
    "ind=np.arange(Re.shape[1])\n",
    "fig, ax = plt.subplots()\n",
    "ax.bar(ind,res.x,width)\n",
    "\n",
    "ax.set_xticks(ind)\n",
    "ax.set_xticklabels(Re.columns)"
   ]
  },
  {
   "cell_type": "code",
   "execution_count": null,
   "metadata": {},
   "outputs": [],
   "source": []
  },
  {
   "cell_type": "code",
   "execution_count": 124,
   "metadata": {},
   "outputs": [
    {
     "data": {
      "text/plain": [
       "<matplotlib.collections.PathCollection at 0x1f90c92df28>"
      ]
     },
     "execution_count": 124,
     "metadata": {},
     "output_type": "execute_result"
    },
    {
     "data": {
      "image/png": "[encoded data removed]",
      "text/plain": [
       "<Figure size 432x288 with 1 Axes>"
      ]
     },
     "metadata": {},
     "output_type": "display_data"
    }
   ],
   "source": [
    "# lets trace out the entire Mean-varaince frontier when shorting is not allowed\n",
    "levlimit=1\n",
    "minstd=[]\n",
    "mutargets=np.linspace(0,0.30,40)\n",
    "for a0 in mutargets:\n",
    "    cons=({'type': 'eq',\n",
    "          'fun' : lambda W : W.T @ ERe.values+rf-a0/12},\n",
    "        {'type': 'ineq',\n",
    "          'fun' : lambda W: -W.sum()+levlimit},\n",
    "         {'type': 'ineq',\n",
    "          'fun' : lambda W: W})\n",
    "    \n",
    "    res1 = minimize(func,W0,  constraints=cons, options={'disp': False})\n",
    "    minstd.append([res1.fun**0.5,res1.x @ ERe.values])\n",
    "\n",
    "plt.scatter(np.array(minstd)[:,0]*12**0.5,np.array(minstd)[:,1]*12)"
   ]
  },
  {
   "cell_type": "markdown",
   "metadata": {},
   "source": [
    "It is well known that some are are easier to short\n",
    "\n",
    "For example, shorting the whole US equity market can be approxiamted fairly well by selling a future on the S&P 500\n",
    "\n"
   ]
  },
  {
   "cell_type": "code",
   "execution_count": 130,
   "metadata": {
    "scrolled": true
   },
   "outputs": [
    {
     "data": {
      "text/plain": [
       "<matplotlib.collections.PathCollection at 0x1f90caabbe0>"
      ]
     },
     "execution_count": 130,
     "metadata": {},
     "output_type": "execute_result"
    },
    {
     "data": {
      "image/png": "[encoded data removed]",
      "text/plain": [
       "<Figure size 432x288 with 1 Axes>"
      ]
     },
     "metadata": {},
     "output_type": "display_data"
    }
   ],
   "source": [
    "levlimit=1\n",
    "minstd=[]\n",
    "mutargets=np.linspace(0,0.40,40)\n",
    "for a0 in mutargets:\n",
    "    cons=({'type': 'eq',\n",
    "          'fun' : lambda W : W.T @ ERe.values+rf-a0/12},\n",
    "        {'type': 'ineq',\n",
    "          'fun' : lambda W: -W.sum()+levlimit},\n",
    "         {'type': 'ineq',\n",
    "          'fun' : lambda W: W})\n",
    "    \n",
    "    res1 = minimize(func,W0,  constraints=cons, options={'disp': False})\n",
    "    minstd.append([res1.fun**0.5,res1.x @ ERe.values])\n",
    "\n",
    "minstd2=[]\n",
    "\n",
    "for a0 in mutargets:\n",
    "    cons=({'type': 'eq',\n",
    "          'fun' : lambda W : W.T @ ERe.values+rf-a0/12},\n",
    "        {'type': 'ineq',\n",
    "          'fun' : lambda W: -W.sum()+levlimit},\n",
    "         {'type': 'ineq',\n",
    "          'fun' : lambda W: W[1:]})\n",
    "    \n",
    "    res1 = minimize(func,W0,  constraints=cons, options={'disp': False})\n",
    "    minstd2.append([res1.fun**0.5,res1.x @ ERe.values])\n",
    "\n",
    "# for comparison lets also plot the unconstrained\n",
    "minstd3=[]\n",
    "for a0 in mutargets:\n",
    "    cons=({'type': 'eq',\n",
    "          'fun' : lambda W : W.T @ ERe.values+rf-a0/12})\n",
    "    \n",
    "    res1 = minimize(func,W0,  constraints=cons, options={'disp': False})\n",
    "    minstd3.append([res1.fun**0.5,res1.x @ ERe.values])\n",
    "\n",
    "plt.scatter(np.array(minstd)[:,0]*12**0.5,np.array(minstd)[:,1]*12)\n",
    "plt.scatter(np.array(minstd2)[:,0]*12**0.5,np.array(minstd2)[:,1]*12)\n",
    "plt.scatter(np.array(minstd3)[:,0]*12**0.5,np.array(minstd3)[:,1]*12)"
   ]
  },
  {
   "cell_type": "code",
   "execution_count": 128,
   "metadata": {},
   "outputs": [
    {
     "data": {
      "text/plain": [
       "<matplotlib.collections.PathCollection at 0x1f90c9e3a90>"
      ]
     },
     "execution_count": 128,
     "metadata": {},
     "output_type": "execute_result"
    },
    {
     "data": {
      "image/png": "[encoded data removed]",
      "text/plain": [
       "<Figure size 432x288 with 1 Axes>"
      ]
     },
     "metadata": {},
     "output_type": "display_data"
    }
   ],
   "source": []
  },
  {
   "cell_type": "markdown",
   "metadata": {},
   "source": [
    "# Minimum-variance investing\n",
    "\n",
    "Assumes all asset shave the same expected return\n",
    "\n",
    "Min $W'Var(R)W$ subject to $1'W=1$\n",
    "\n",
    "$W_{minvariance}=Var(R)^{-1}1$\n",
    "\n",
    "\n",
    "Why this might make sense?"
   ]
  },
  {
   "cell_type": "code",
   "execution_count": 133,
   "metadata": {
    "scrolled": true
   },
   "outputs": [
    {
     "data": {
      "text/plain": [
       "<matplotlib.collections.PathCollection at 0x1f90cc98438>"
      ]
     },
     "execution_count": 133,
     "metadata": {},
     "output_type": "execute_result"
    },
    {
     "data": {
      "image/png": "[encoded data removed]",
      "text/plain": [
       "<Figure size 432x288 with 1 Axes>"
      ]
     },
     "metadata": {},
     "output_type": "display_data"
    }
   ],
   "source": [
    "# to find the minimum variance weights simply replace  the vector of expected returns by a vector of constant.\n",
    "\n",
    "# in this case I am usign the average, but the value does not matter for the weights, why?\n",
    "\n",
    "er= (ERe.values*0+ERe.mean())\n",
    "Wminv =np.linalg.inv(Cove) @ er\n",
    "Wmve['minv']=Wminv/Wminv.sum()\n",
    "\n",
    "# why these weights look like this ? Why are they shorting some assets?\n",
    "\n",
    "plt.plot(Wmve['wghts0'],Wmve['wghts0'])\n",
    "plt.scatter(x=Wmve['wghts0'],y=Wmve['minv'])\n"
   ]
  },
  {
   "cell_type": "code",
   "execution_count": 134,
   "metadata": {},
   "outputs": [
    {
     "data": {
      "text/plain": [
       "0.01874310709388898"
      ]
     },
     "execution_count": 134,
     "metadata": {},
     "output_type": "execute_result"
    }
   ],
   "source": [
    "# what is the vol of the minimum-variance portfolio\n",
    "\n",
    "(Wmve['minv'].T @ Cove @ Wmve['minv'])**0.5"
   ]
  },
  {
   "cell_type": "code",
   "execution_count": 135,
   "metadata": {},
   "outputs": [
    {
     "name": "stdout",
     "output_type": "stream",
     "text": [
      "0.004157534936321483\n"
     ]
    },
    {
     "data": {
      "text/plain": [
       "0.0025319375906308066"
      ]
     },
     "execution_count": 135,
     "metadata": {},
     "output_type": "execute_result"
    }
   ],
   "source": [
    "# What is the expected return of the minimum variance portfolio?\n",
    "\n",
    "# using the average across assets\n",
    "print(er @ Wmve['minv'])\n",
    "\n",
    "#using each asset average return\n",
    "\n",
    "ERe.values @ Wmve['minv']"
   ]
  },
  {
   "cell_type": "code",
   "execution_count": 136,
   "metadata": {},
   "outputs": [
    {
     "name": "stdout",
     "output_type": "stream",
     "text": [
      "0.22181674124227835\n"
     ]
    },
    {
     "data": {
      "text/plain": [
       "0.13508633216188165"
      ]
     },
     "execution_count": 136,
     "metadata": {},
     "output_type": "execute_result"
    }
   ],
   "source": [
    "# Sharpe ratio\n",
    "\n",
    "# using the average across assets\n",
    "print((er @ Wmve['minv'])/(Wmve['minv'].T @ Cove @ Wmve['minv'])**0.5)\n",
    "\n",
    "#using each asset average return\n",
    "\n",
    "(ERe.values @ Wmve['minv'])/(Wmve['minv'].T @ Cove @ Wmve['minv'])**0.5"
   ]
  },
  {
   "cell_type": "markdown",
   "metadata": {},
   "source": [
    "Which one is right? The one with the average acorss assets or the ones using each asset average return?"
   ]
  },
  {
   "cell_type": "markdown",
   "metadata": {},
   "source": [
    "# Risk- Parity investing\n",
    "\n",
    "assumes all assets have the same expected return and that all asset are uncorrelated.\n",
    "\n",
    "It assumes that the non-diagonal terms in the covariacne matrix are all zeros.\n",
    "\n",
    "Why this might make sense?"
   ]
  },
  {
   "cell_type": "code",
   "execution_count": 138,
   "metadata": {},
   "outputs": [
    {
     "data": {
      "text/plain": [
       "array([[0.00194798, 0.        , 0.        , 0.        , 0.        ],\n",
       "       [0.        , 0.00122677, 0.        , 0.        , 0.        ],\n",
       "       [0.        , 0.        , 0.00355631, 0.        , 0.        ],\n",
       "       [0.        , 0.        , 0.        , 0.00218166, 0.        ],\n",
       "       [0.        , 0.        , 0.        , 0.        , 0.00040601]])"
      ]
     },
     "execution_count": 138,
     "metadata": {},
     "output_type": "execute_result"
    }
   ],
   "source": [
    "Covrp=Cove.copy()\n",
    "Covrp=np.diag(np.diag(Covrp))\n",
    "Covrp"
   ]
  },
  {
   "cell_type": "code",
   "execution_count": 139,
   "metadata": {},
   "outputs": [
    {
     "data": {
      "text/html": [
       "<div>\n",
       "<style scoped>\n",
       "    .dataframe tbody tr th:only-of-type {\n",
       "        vertical-align: middle;\n",
       "    }\n",
       "\n",
       "    .dataframe tbody tr th {\n",
       "        vertical-align: top;\n",
       "    }\n",
       "\n",
       "    .dataframe thead th {\n",
       "        text-align: right;\n",
       "    }\n",
       "</style>\n",
       "<table border=\"1\" class=\"dataframe\">\n",
       "  <thead>\n",
       "    <tr style=\"text-align: right;\">\n",
       "      <th></th>\n",
       "      <th>wghts0</th>\n",
       "      <th>Wgths1</th>\n",
       "      <th>wghtsdom</th>\n",
       "      <th>MKTUS-1std</th>\n",
       "      <th>MKTUS-1.96std</th>\n",
       "      <th>minv</th>\n",
       "      <th>rp</th>\n",
       "    </tr>\n",
       "  </thead>\n",
       "  <tbody>\n",
       "    <tr>\n",
       "      <th>MKTUS</th>\n",
       "      <td>1.834995</td>\n",
       "      <td>0.684776</td>\n",
       "      <td>2.534954</td>\n",
       "      <td>-113.573489</td>\n",
       "      <td>-243.743181</td>\n",
       "      <td>0.136033</td>\n",
       "      <td>0.113297</td>\n",
       "    </tr>\n",
       "    <tr>\n",
       "      <th>BondUS</th>\n",
       "      <td>1.423872</td>\n",
       "      <td>0.531355</td>\n",
       "      <td>1.827591</td>\n",
       "      <td>42.002484</td>\n",
       "      <td>65.921867</td>\n",
       "      <td>0.104734</td>\n",
       "      <td>0.179902</td>\n",
       "    </tr>\n",
       "    <tr>\n",
       "      <th>EM</th>\n",
       "      <td>1.605498</td>\n",
       "      <td>0.599134</td>\n",
       "      <td>NaN</td>\n",
       "      <td>39.670494</td>\n",
       "      <td>59.258829</td>\n",
       "      <td>0.051921</td>\n",
       "      <td>0.062058</td>\n",
       "    </tr>\n",
       "    <tr>\n",
       "      <th>MKTxUS</th>\n",
       "      <td>-1.026051</td>\n",
       "      <td>-0.382898</td>\n",
       "      <td>NaN</td>\n",
       "      <td>58.540921</td>\n",
       "      <td>126.560312</td>\n",
       "      <td>-0.115740</td>\n",
       "      <td>0.101161</td>\n",
       "    </tr>\n",
       "    <tr>\n",
       "      <th>BondxUS</th>\n",
       "      <td>3.368940</td>\n",
       "      <td>1.257208</td>\n",
       "      <td>NaN</td>\n",
       "      <td>0.643562</td>\n",
       "      <td>-37.548808</td>\n",
       "      <td>0.823052</td>\n",
       "      <td>0.543582</td>\n",
       "    </tr>\n",
       "  </tbody>\n",
       "</table>\n",
       "</div>"
      ],
      "text/plain": [
       "           wghts0    Wgths1  wghtsdom  MKTUS-1std  MKTUS-1.96std      minv  \\\n",
       "MKTUS    1.834995  0.684776  2.534954 -113.573489    -243.743181  0.136033   \n",
       "BondUS   1.423872  0.531355  1.827591   42.002484      65.921867  0.104734   \n",
       "EM       1.605498  0.599134       NaN   39.670494      59.258829  0.051921   \n",
       "MKTxUS  -1.026051 -0.382898       NaN   58.540921     126.560312 -0.115740   \n",
       "BondxUS  3.368940  1.257208       NaN    0.643562     -37.548808  0.823052   \n",
       "\n",
       "               rp  \n",
       "MKTUS    0.113297  \n",
       "BondUS   0.179902  \n",
       "EM       0.062058  \n",
       "MKTxUS   0.101161  \n",
       "BondxUS  0.543582  "
      ]
     },
     "execution_count": 139,
     "metadata": {},
     "output_type": "execute_result"
    }
   ],
   "source": [
    "\n",
    "Wrp =np.linalg.inv(Covrp) @ er\n",
    "Wmve['rp']=Wrp/Wrp.sum()\n",
    "Wmve"
   ]
  },
  {
   "cell_type": "code",
   "execution_count": 140,
   "metadata": {},
   "outputs": [
    {
     "data": {
      "text/plain": [
       "<matplotlib.collections.PathCollection at 0x1f90ccf5b70>"
      ]
     },
     "execution_count": 140,
     "metadata": {},
     "output_type": "execute_result"
    },
    {
     "data": {
      "image/png": "[encoded data removed]",
      "text/plain": [
       "<Figure size 432x288 with 1 Axes>"
      ]
     },
     "metadata": {},
     "output_type": "display_data"
    }
   ],
   "source": [
    "plt.plot(Wmve['wghts0'],Wmve['wghts0'])\n",
    "plt.scatter(x=Wmve['wghts0'],y=Wmve['minv'])\n",
    "plt.scatter(x=Wmve['wghts0'],y=Wmve['rp'])"
   ]
  },
  {
   "cell_type": "code",
   "execution_count": 141,
   "metadata": {},
   "outputs": [
    {
     "name": "stdout",
     "output_type": "stream",
     "text": [
      "0.014855944163260401\n"
     ]
    },
    {
     "data": {
      "text/plain": [
       "0.020636824890060454"
      ]
     },
     "execution_count": 141,
     "metadata": {},
     "output_type": "execute_result"
    }
   ],
   "source": [
    "# what is the vol of the risk portfolio, suing the diagonal assumption\n",
    "\n",
    "print((Wmve['rp'].T @ Covrp @ Wmve['rp'])**0.5)\n",
    "\n",
    "\n",
    "# using teh actual covariance matrix\n",
    "\n",
    "(Wmve['rp'].T @ Cove @ Wmve['rp'])**0.5"
   ]
  },
  {
   "cell_type": "code",
   "execution_count": 142,
   "metadata": {},
   "outputs": [
    {
     "name": "stdout",
     "output_type": "stream",
     "text": [
      "0.004157534936321483\n"
     ]
    },
    {
     "data": {
      "text/plain": [
       "0.0030012170375562216"
      ]
     },
     "execution_count": 142,
     "metadata": {},
     "output_type": "execute_result"
    }
   ],
   "source": [
    "# What is the expected return of the minimum variance portfolio?\n",
    "\n",
    "# using the average across assets\n",
    "print(er @ Wmve['rp'])\n",
    "\n",
    "#using each asset average return\n",
    "\n",
    "ERe.values @ Wmve['rp']"
   ]
  },
  {
   "cell_type": "code",
   "execution_count": 144,
   "metadata": {},
   "outputs": [
    {
     "name": "stdout",
     "output_type": "stream",
     "text": [
      "0.279856661456988\n"
     ]
    },
    {
     "data": {
      "text/plain": [
       "0.1454301741447509"
      ]
     },
     "execution_count": 144,
     "metadata": {},
     "output_type": "execute_result"
    }
   ],
   "source": [
    "# Sharpe ratio\n",
    "\n",
    "# using the average across assets, adn diagnonal assumption\n",
    "print((er @ Wmve['rp'])/(Wmve['rp'].T @ Covrp @ Wmve['rp'])**0.5)\n",
    "\n",
    "#using each asset average return, actual covariacne matrix estimated from the data\n",
    "\n",
    "(ERe.values @ Wmve['rp'])/(Wmve['rp'].T @ Cove @ Wmve['rp'])**0.5"
   ]
  },
  {
   "cell_type": "markdown",
   "metadata": {},
   "source": [
    "1. Which one is right? The one that uses the assumptions or the ones that we actually find in the data?"
   ]
  },
  {
   "cell_type": "markdown",
   "metadata": {},
   "source": [
    "# Strategy evaluation\n",
    "\n",
    "## Out of sample testing\n",
    "\n",
    "- The entire point behind Minimum variance invest is that sample average are a not a good predictor of future returns\n",
    "- So it cannot make sense to just use the average\n",
    "- But you can't jsut use the assumption that you made up, because how do we know that we would get this?\n",
    "- Risk-parity is exactly the same thing, but in addition to assuming expected returns are constant , it also assumes correlations are zero.\n",
    "- The idea is the same: the variance minimization will use an in sample correlation to try to hedge the risk of one asset by shorting a related asset. If this previous correlation is not a good proxy for future correlation, using these correlations for hedging will just introduce noise.\n",
    "- But of course, these correlations might be there, so if you ignore them, you might be leaving some diversification opportunities on the table\n",
    "\n",
    "\n",
    "1. So the correct way of doing this is to do an out of sample test. \n",
    "2. You construct your weights only using data up to date t, and then forming portolios at date t, and looking how it performs from t to some future date"
   ]
  },
  {
   "cell_type": "code",
   "execution_count": 145,
   "metadata": {},
   "outputs": [],
   "source": [
    "# here I estimate using a cumulative windown (which uses all data up to the trading date)\n",
    "StrategyRe=Re.iloc[12*10+1:,0:3]\n",
    "\n",
    "\n",
    "# Note that that we are using the orignal data frame to initiate a new dataframe that we will use to store the returns \n",
    "#from our 3 strategies\n",
    "# this is a trick that I use often.\n",
    "# in the first row I am selecting only the first 3 columns and all the dates, except the first 120 months\n",
    "# This provides a minimum estimation windown of 10 years\n",
    "\n",
    "StrategyRe.columns=['mve','minv','rp']\n",
    "# here I am just changing the name of the columns to match the name of of our strategies\n",
    "\n",
    "for t in StrategyRe.index:\n",
    "# Here we are looping through the dates (which are the index of the data set)\n",
    "# notice that the dates of Dataframe Ret starts 10 years after the start of our data set\n",
    "# this means that our estimator of covariance and means below will start with a 10 year sample and increase over time\n",
    "    Cov=Re[:t].cov()\n",
    "    Er=Re[:t].mean()\n",
    "    Wmve=np.linalg.inv(Cov) @ Er.values\n",
    "    Wmve=Wmve/Wmve.sum()\n",
    "    Wminv=np.linalg.inv(Cov) @ (Er.values*0+Er.mean())\n",
    "    Wminv=Wminv/Wminv.sum()\n",
    "    Covrp=np.diag(np.diag(Cov))\n",
    "    Wrp=np.linalg.inv(Covrp) @ (Er.values*0+Er.mean())\n",
    "    Wrp=Wrp/Wrp.sum()\n",
    "    StrategyRe.loc[t,'mve']=Re.loc[t,] @ Wmve\n",
    "    StrategyRe.loc[t,'minv']=Re.loc[t,] @ Wminv\n",
    "    StrategyRe.loc[t,'rp']=Re.loc[t,] @ Wrp\n",
    "\n",
    "    "
   ]
  },
  {
   "cell_type": "code",
   "execution_count": 146,
   "metadata": {},
   "outputs": [
    {
     "data": {
      "text/plain": [
       "mve     1.123709\n",
       "minv    0.034061\n",
       "rp      0.042302\n",
       "dtype: float64"
      ]
     },
     "execution_count": 146,
     "metadata": {},
     "output_type": "execute_result"
    }
   ],
   "source": [
    "StrategyRe.mean()*12"
   ]
  },
  {
   "cell_type": "code",
   "execution_count": 147,
   "metadata": {},
   "outputs": [
    {
     "data": {
      "text/plain": [
       "mve     5.241794\n",
       "minv    0.070701\n",
       "rp      0.079738\n",
       "dtype: float64"
      ]
     },
     "execution_count": 147,
     "metadata": {},
     "output_type": "execute_result"
    }
   ],
   "source": [
    "StrategyRe.std()*12**0.5"
   ]
  },
  {
   "cell_type": "code",
   "execution_count": 148,
   "metadata": {
    "scrolled": true
   },
   "outputs": [
    {
     "data": {
      "text/plain": [
       "mve     0.214375\n",
       "minv    0.481759\n",
       "rp      0.530512\n",
       "dtype: float64"
      ]
     },
     "execution_count": 148,
     "metadata": {},
     "output_type": "execute_result"
    }
   ],
   "source": [
    "StrategyRe.mean()*12/(StrategyRe.std()*12**0.5)"
   ]
  },
  {
   "cell_type": "code",
   "execution_count": 155,
   "metadata": {},
   "outputs": [],
   "source": [
    "# we can also do with a rolling scheme, using always the last 10 years of data\n",
    "from pandas.tseries.offsets import *\n",
    "nyears=5\n",
    "StrategyRe=Data.iloc[12*nyears+1:,0:3]\n",
    "StrategyRe.columns=['mve','minv','rp']\n",
    "for t in StrategyRe.index:\n",
    "    # the 5 year lagging needs to be done\n",
    "    Cov=Re[t-DateOffset(years=nyears,months=0):t].cov()\n",
    "    Er=Re[t-DateOffset(years=nyears,months=0):t].mean()\n",
    "    Wmve=np.linalg.inv(Cov) @ Er.values\n",
    "    Wmve=Wmve/Wmve.sum()\n",
    "    Wminv=np.linalg.inv(Cov) @ (Er.values*0+Er.mean())\n",
    "    Wminv=Wminv/Wminv.sum()\n",
    "    Covrp=np.diag(np.diag(Cov))\n",
    "    Wrp=np.linalg.inv(Covrp) @ (Er.values*0+Er.mean())\n",
    "    Wrp=Wrp/Wrp.sum()\n",
    "    StrategyRe.loc[t,'mve']=Re.loc[t,] @ Wmve\n",
    "    StrategyRe.loc[t,'minv']=Re.loc[t,] @ Wminv\n",
    "    StrategyRe.loc[t,'rp']=Re.loc[t,] @ Wrp\n",
    "\n",
    "    \n",
    "# note the new trick we used here, the command DateOffset(years=3,months=3) allow us to \n",
    "# offset a date for a specific period, in this case below\n",
    "# tnew=t-DateOffset(years=3,months=3)\n",
    "# we have that tnew is 3 years and 3 months before date t.\n",
    "# this offset allow one to very flexibly change the estimation windown.\n"
   ]
  },
  {
   "cell_type": "code",
   "execution_count": 156,
   "metadata": {},
   "outputs": [
    {
     "data": {
      "text/plain": [
       "mve     0.199772\n",
       "minv    0.532727\n",
       "rp      0.545332\n",
       "dtype: float64"
      ]
     },
     "execution_count": 156,
     "metadata": {},
     "output_type": "execute_result"
    }
   ],
   "source": [
    "StrategyRe.mean()*12/(StrategyRe.std()*12**0.5)"
   ]
  }
 ],
 "metadata": {
  "kernelspec": {
   "display_name": "Python 3",
   "language": "python",
   "name": "python3"
  },
  "language_info": {
   "codemirror_mode": {
    "name": "ipython",
    "version": 3
   },
   "file_extension": ".py",
   "mimetype": "text/x-python",
   "name": "python",
   "nbconvert_exporter": "python",
   "pygments_lexer": "ipython3",
   "version": "3.6.5"
  }
 },
 "nbformat": 4,
 "nbformat_minor": 2
}

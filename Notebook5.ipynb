{
 "cells": [
  {
   "cell_type": "markdown",
   "metadata": {},
   "source": [
    "# Objectives\n",
    "\n",
    " 1. Cross-sectional asset pricing tests\n",
    " \n",
    " 2. full implementation of Time-series Asset Pricing Tests\n",
    "  \n",
    " 3. Economic relevancy of the model rejection\n",
    " \n",
    "\n",
    "Appendix \n",
    "\n",
    "- Fama Macbeth procedure"
   ]
  },
  {
   "cell_type": "code",
   "execution_count": 8,
   "metadata": {},
   "outputs": [],
   "source": [
    "# First we start loading our favourite packages with the names we used to\n",
    "import numpy as np\n",
    "import pandas as pd\n",
    "%matplotlib inline\n",
    "import matplotlib.pyplot as plt"
   ]
  },
  {
   "cell_type": "markdown",
   "metadata": {},
   "source": [
    "#  1. Cross-Sectional Tests\n",
    "\n",
    "We will start by loading that on the market portoflio and our test assets\n",
    "\n",
    "We will then merge then two together\n",
    "\n",
    "Two steps:\n",
    "\n",
    "1. estimate betas and average returns\n",
    "2. estiamte factor loading--> regression on average returns on betas"
   ]
  },
  {
   "cell_type": "code",
   "execution_count": 9,
   "metadata": {},
   "outputs": [
    {
     "data": {
      "text/html": [
       "<div>\n",
       "<style scoped>\n",
       "    .dataframe tbody tr th:only-of-type {\n",
       "        vertical-align: middle;\n",
       "    }\n",
       "\n",
       "    .dataframe tbody tr th {\n",
       "        vertical-align: top;\n",
       "    }\n",
       "\n",
       "    .dataframe thead th {\n",
       "        text-align: right;\n",
       "    }\n",
       "</style>\n",
       "<table border=\"1\" class=\"dataframe\">\n",
       "  <thead>\n",
       "    <tr style=\"text-align: right;\">\n",
       "      <th></th>\n",
       "      <th>RF</th>\n",
       "      <th>MKT</th>\n",
       "    </tr>\n",
       "    <tr>\n",
       "      <th>Date</th>\n",
       "      <th></th>\n",
       "      <th></th>\n",
       "    </tr>\n",
       "  </thead>\n",
       "  <tbody>\n",
       "    <tr>\n",
       "      <th>1926-07-31</th>\n",
       "      <td>0.22</td>\n",
       "      <td>3.18</td>\n",
       "    </tr>\n",
       "    <tr>\n",
       "      <th>1926-08-31</th>\n",
       "      <td>0.25</td>\n",
       "      <td>2.89</td>\n",
       "    </tr>\n",
       "    <tr>\n",
       "      <th>1926-09-30</th>\n",
       "      <td>0.23</td>\n",
       "      <td>0.59</td>\n",
       "    </tr>\n",
       "    <tr>\n",
       "      <th>1926-10-31</th>\n",
       "      <td>0.32</td>\n",
       "      <td>-2.92</td>\n",
       "    </tr>\n",
       "    <tr>\n",
       "      <th>1926-11-30</th>\n",
       "      <td>0.31</td>\n",
       "      <td>2.84</td>\n",
       "    </tr>\n",
       "  </tbody>\n",
       "</table>\n",
       "</div>"
      ],
      "text/plain": [
       "              RF   MKT\n",
       "Date                  \n",
       "1926-07-31  0.22  3.18\n",
       "1926-08-31  0.25  2.89\n",
       "1926-09-30  0.23  0.59\n",
       "1926-10-31  0.32 -2.92\n",
       "1926-11-30  0.31  2.84"
      ]
     },
     "execution_count": 9,
     "metadata": {},
     "output_type": "execute_result"
    }
   ],
   "source": [
    "# import market factor\n",
    "url = \"https://www.dropbox.com/s/9346pp2iu5prv8s/MonthlyFactors.csv?dl=1\"\n",
    "Factors = pd.read_csv(url,index_col=0, \n",
    "                         parse_dates=True,na_values=-99)\n",
    "Factors=Factors\n",
    "# keep only market and RF\n",
    "Factors=Factors.iloc[:,0:2]\n",
    "Factors.head()\n",
    "\n"
   ]
  },
  {
   "cell_type": "markdown",
   "metadata": {},
   "source": [
    "### Import Test assets: Book to Market sorted portfolios"
   ]
  },
  {
   "cell_type": "code",
   "execution_count": 10,
   "metadata": {},
   "outputs": [
    {
     "name": "stdout",
     "output_type": "stream",
     "text": [
      "            BEME1  BEME2  BEME3  BEME4  BEME5  BEME6  BEME7  BEME8  BEME9  \\\n",
      "2017-02-01   4.29   5.22   3.52   2.47   3.90   0.96   2.03   3.24   3.38   \n",
      "2017-03-01   0.97   2.04   0.30   0.31   0.07  -0.70  -0.99  -1.22  -3.09   \n",
      "2017-04-01   2.44   1.32   2.16   1.39   2.43  -0.52  -0.44  -0.56  -0.64   \n",
      "2017-05-01   2.59   2.86   3.10  -0.23   1.29  -0.33  -1.26  -0.70  -2.44   \n",
      "2017-06-01   0.29  -0.47   0.25   1.15  -0.69   1.21   1.67   2.57   4.31   \n",
      "\n",
      "            BEME10  \n",
      "2017-02-01    5.03  \n",
      "2017-03-01   -2.28  \n",
      "2017-04-01   -0.86  \n",
      "2017-05-01   -2.68  \n",
      "2017-06-01    5.70  \n",
      "            BEME1  BEME2  BEME3  BEME4  BEME5  BEME6  BEME7  BEME8  BEME9  \\\n",
      "1926-07-31   4.63   1.24  11.40   1.68   1.50   2.09   2.73   1.58   0.63   \n",
      "1926-08-31   0.15   2.18   6.40   2.38   1.58   2.63   4.46   4.94   8.31   \n",
      "1926-09-30  -0.11  -2.30   6.32   0.73  -0.89   0.38  -0.28   0.17  -2.16   \n",
      "1926-10-31  -3.78  -1.63  -5.01  -1.41  -2.31  -2.10  -4.65  -2.80  -5.46   \n",
      "1926-11-30   6.03   1.49   1.11   3.63   1.97   1.80   4.00   3.85   2.77   \n",
      "\n",
      "            BEME10  \n",
      "1926-07-31    0.52  \n",
      "1926-08-31    3.92  \n",
      "1926-09-30    0.44  \n",
      "1926-10-31   -1.17  \n",
      "1926-11-30    1.76  \n"
     ]
    },
    {
     "data": {
      "text/html": [
       "<div>\n",
       "<style scoped>\n",
       "    .dataframe tbody tr th:only-of-type {\n",
       "        vertical-align: middle;\n",
       "    }\n",
       "\n",
       "    .dataframe tbody tr th {\n",
       "        vertical-align: top;\n",
       "    }\n",
       "\n",
       "    .dataframe thead th {\n",
       "        text-align: right;\n",
       "    }\n",
       "</style>\n",
       "<table border=\"1\" class=\"dataframe\">\n",
       "  <thead>\n",
       "    <tr style=\"text-align: right;\">\n",
       "      <th></th>\n",
       "      <th>BEME1</th>\n",
       "      <th>BEME2</th>\n",
       "      <th>BEME3</th>\n",
       "      <th>BEME4</th>\n",
       "      <th>BEME5</th>\n",
       "      <th>BEME6</th>\n",
       "      <th>BEME7</th>\n",
       "      <th>BEME8</th>\n",
       "      <th>BEME9</th>\n",
       "      <th>BEME10</th>\n",
       "      <th>RF</th>\n",
       "      <th>MKT</th>\n",
       "    </tr>\n",
       "  </thead>\n",
       "  <tbody>\n",
       "    <tr>\n",
       "      <th>1926-07-31</th>\n",
       "      <td>4.63</td>\n",
       "      <td>1.24</td>\n",
       "      <td>11.40</td>\n",
       "      <td>1.68</td>\n",
       "      <td>1.50</td>\n",
       "      <td>2.09</td>\n",
       "      <td>2.73</td>\n",
       "      <td>1.58</td>\n",
       "      <td>0.63</td>\n",
       "      <td>0.52</td>\n",
       "      <td>0.22</td>\n",
       "      <td>3.18</td>\n",
       "    </tr>\n",
       "    <tr>\n",
       "      <th>1926-08-31</th>\n",
       "      <td>0.15</td>\n",
       "      <td>2.18</td>\n",
       "      <td>6.40</td>\n",
       "      <td>2.38</td>\n",
       "      <td>1.58</td>\n",
       "      <td>2.63</td>\n",
       "      <td>4.46</td>\n",
       "      <td>4.94</td>\n",
       "      <td>8.31</td>\n",
       "      <td>3.92</td>\n",
       "      <td>0.25</td>\n",
       "      <td>2.89</td>\n",
       "    </tr>\n",
       "    <tr>\n",
       "      <th>1926-09-30</th>\n",
       "      <td>-0.11</td>\n",
       "      <td>-2.30</td>\n",
       "      <td>6.32</td>\n",
       "      <td>0.73</td>\n",
       "      <td>-0.89</td>\n",
       "      <td>0.38</td>\n",
       "      <td>-0.28</td>\n",
       "      <td>0.17</td>\n",
       "      <td>-2.16</td>\n",
       "      <td>0.44</td>\n",
       "      <td>0.23</td>\n",
       "      <td>0.59</td>\n",
       "    </tr>\n",
       "    <tr>\n",
       "      <th>1926-10-31</th>\n",
       "      <td>-3.78</td>\n",
       "      <td>-1.63</td>\n",
       "      <td>-5.01</td>\n",
       "      <td>-1.41</td>\n",
       "      <td>-2.31</td>\n",
       "      <td>-2.10</td>\n",
       "      <td>-4.65</td>\n",
       "      <td>-2.80</td>\n",
       "      <td>-5.46</td>\n",
       "      <td>-1.17</td>\n",
       "      <td>0.32</td>\n",
       "      <td>-2.92</td>\n",
       "    </tr>\n",
       "    <tr>\n",
       "      <th>1926-11-30</th>\n",
       "      <td>6.03</td>\n",
       "      <td>1.49</td>\n",
       "      <td>1.11</td>\n",
       "      <td>3.63</td>\n",
       "      <td>1.97</td>\n",
       "      <td>1.80</td>\n",
       "      <td>4.00</td>\n",
       "      <td>3.85</td>\n",
       "      <td>2.77</td>\n",
       "      <td>1.76</td>\n",
       "      <td>0.31</td>\n",
       "      <td>2.84</td>\n",
       "    </tr>\n",
       "  </tbody>\n",
       "</table>\n",
       "</div>"
      ],
      "text/plain": [
       "            BEME1  BEME2  BEME3  BEME4  BEME5  BEME6  BEME7  BEME8  BEME9  \\\n",
       "1926-07-31   4.63   1.24  11.40   1.68   1.50   2.09   2.73   1.58   0.63   \n",
       "1926-08-31   0.15   2.18   6.40   2.38   1.58   2.63   4.46   4.94   8.31   \n",
       "1926-09-30  -0.11  -2.30   6.32   0.73  -0.89   0.38  -0.28   0.17  -2.16   \n",
       "1926-10-31  -3.78  -1.63  -5.01  -1.41  -2.31  -2.10  -4.65  -2.80  -5.46   \n",
       "1926-11-30   6.03   1.49   1.11   3.63   1.97   1.80   4.00   3.85   2.77   \n",
       "\n",
       "            BEME10    RF   MKT  \n",
       "1926-07-31    0.52  0.22  3.18  \n",
       "1926-08-31    3.92  0.25  2.89  \n",
       "1926-09-30    0.44  0.23  0.59  \n",
       "1926-10-31   -1.17  0.32 -2.92  \n",
       "1926-11-30    1.76  0.31  2.84  "
      ]
     },
     "execution_count": 10,
     "metadata": {},
     "output_type": "execute_result"
    }
   ],
   "source": [
    "# import BEME (Book-equity over Market equity) sorted portfolios\n",
    "# BEME 1 has low book to market- > Known as growth stocks (example: Tesla, Amazon, Facebook)\n",
    "\n",
    "# BEME 10 has high book to market -> Known as value stocks ( old firms: utilities, banks, insurance companies)\n",
    "\n",
    "# but it changes....\n",
    "\n",
    "url = \"https://www.dropbox.com/s/gds8ho9rt1imw03/Valueportfolios.csv?dl=1\"\n",
    "parser = lambda date: pd.to_datetime(date,format='%Y%m')\n",
    "Data = pd.read_csv(url,index_col=0, \n",
    "                         parse_dates=True,date_parser=parser,skiprows=23,nrows=1092,na_values=-99.99)\n",
    "\n",
    "print(Data.tail())\n",
    "# neeed to adjsut the date to end of month convention (Even thugh both returns for a given month are end-of-month to end of month,\n",
    "# when we importer the value portfolios python used as date the first day of the month . To fix that, we will convert it to end of month\n",
    "# It is important to do that before the merge. Why? )\n",
    "Data.index=Data.index+pd.tseries.offsets.MonthEnd()\n",
    "print(Data.head())\n",
    "# ready to merge with Market and RF\n",
    "\n",
    "Data=pd.merge(Data,Factors,left_index=True,right_index=True)\n",
    "Data.head()"
   ]
  },
  {
   "cell_type": "markdown",
   "metadata": {},
   "source": [
    "- check it matched correctly!"
   ]
  },
  {
   "cell_type": "code",
   "execution_count": 11,
   "metadata": {},
   "outputs": [
    {
     "data": {
      "text/html": [
       "<div>\n",
       "<style scoped>\n",
       "    .dataframe tbody tr th:only-of-type {\n",
       "        vertical-align: middle;\n",
       "    }\n",
       "\n",
       "    .dataframe tbody tr th {\n",
       "        vertical-align: top;\n",
       "    }\n",
       "\n",
       "    .dataframe thead th {\n",
       "        text-align: right;\n",
       "    }\n",
       "</style>\n",
       "<table border=\"1\" class=\"dataframe\">\n",
       "  <thead>\n",
       "    <tr style=\"text-align: right;\">\n",
       "      <th></th>\n",
       "      <th>BEME1</th>\n",
       "      <th>BEME2</th>\n",
       "      <th>BEME3</th>\n",
       "      <th>BEME4</th>\n",
       "      <th>BEME5</th>\n",
       "      <th>BEME6</th>\n",
       "      <th>BEME7</th>\n",
       "      <th>BEME8</th>\n",
       "      <th>BEME9</th>\n",
       "      <th>BEME10</th>\n",
       "      <th>MKT</th>\n",
       "    </tr>\n",
       "  </thead>\n",
       "  <tbody>\n",
       "    <tr>\n",
       "      <th>1926-07-31</th>\n",
       "      <td>4.41</td>\n",
       "      <td>1.02</td>\n",
       "      <td>11.18</td>\n",
       "      <td>1.46</td>\n",
       "      <td>1.28</td>\n",
       "      <td>1.87</td>\n",
       "      <td>2.51</td>\n",
       "      <td>1.36</td>\n",
       "      <td>0.41</td>\n",
       "      <td>0.30</td>\n",
       "      <td>2.96</td>\n",
       "    </tr>\n",
       "    <tr>\n",
       "      <th>1926-08-31</th>\n",
       "      <td>-0.10</td>\n",
       "      <td>1.93</td>\n",
       "      <td>6.15</td>\n",
       "      <td>2.13</td>\n",
       "      <td>1.33</td>\n",
       "      <td>2.38</td>\n",
       "      <td>4.21</td>\n",
       "      <td>4.69</td>\n",
       "      <td>8.06</td>\n",
       "      <td>3.67</td>\n",
       "      <td>2.64</td>\n",
       "    </tr>\n",
       "    <tr>\n",
       "      <th>1926-09-30</th>\n",
       "      <td>-0.34</td>\n",
       "      <td>-2.53</td>\n",
       "      <td>6.09</td>\n",
       "      <td>0.50</td>\n",
       "      <td>-1.12</td>\n",
       "      <td>0.15</td>\n",
       "      <td>-0.51</td>\n",
       "      <td>-0.06</td>\n",
       "      <td>-2.39</td>\n",
       "      <td>0.21</td>\n",
       "      <td>0.36</td>\n",
       "    </tr>\n",
       "    <tr>\n",
       "      <th>1926-10-31</th>\n",
       "      <td>-4.10</td>\n",
       "      <td>-1.95</td>\n",
       "      <td>-5.33</td>\n",
       "      <td>-1.73</td>\n",
       "      <td>-2.63</td>\n",
       "      <td>-2.42</td>\n",
       "      <td>-4.97</td>\n",
       "      <td>-3.12</td>\n",
       "      <td>-5.78</td>\n",
       "      <td>-1.49</td>\n",
       "      <td>-3.24</td>\n",
       "    </tr>\n",
       "    <tr>\n",
       "      <th>1926-11-30</th>\n",
       "      <td>5.72</td>\n",
       "      <td>1.18</td>\n",
       "      <td>0.80</td>\n",
       "      <td>3.32</td>\n",
       "      <td>1.66</td>\n",
       "      <td>1.49</td>\n",
       "      <td>3.69</td>\n",
       "      <td>3.54</td>\n",
       "      <td>2.46</td>\n",
       "      <td>1.45</td>\n",
       "      <td>2.53</td>\n",
       "    </tr>\n",
       "  </tbody>\n",
       "</table>\n",
       "</div>"
      ],
      "text/plain": [
       "            BEME1  BEME2  BEME3  BEME4  BEME5  BEME6  BEME7  BEME8  BEME9  \\\n",
       "1926-07-31   4.41   1.02  11.18   1.46   1.28   1.87   2.51   1.36   0.41   \n",
       "1926-08-31  -0.10   1.93   6.15   2.13   1.33   2.38   4.21   4.69   8.06   \n",
       "1926-09-30  -0.34  -2.53   6.09   0.50  -1.12   0.15  -0.51  -0.06  -2.39   \n",
       "1926-10-31  -4.10  -1.95  -5.33  -1.73  -2.63  -2.42  -4.97  -3.12  -5.78   \n",
       "1926-11-30   5.72   1.18   0.80   3.32   1.66   1.49   3.69   3.54   2.46   \n",
       "\n",
       "            BEME10   MKT  \n",
       "1926-07-31    0.30  2.96  \n",
       "1926-08-31    3.67  2.64  \n",
       "1926-09-30    0.21  0.36  \n",
       "1926-10-31   -1.49 -3.24  \n",
       "1926-11-30    1.45  2.53  "
      ]
     },
     "execution_count": 11,
     "metadata": {},
     "output_type": "execute_result"
    }
   ],
   "source": [
    "\n",
    "\n",
    "# transform in excess returns\n",
    "Data.iloc[:,0:10]=Data.iloc[:,0:10].subtract(Data['RF'],axis=0)\n",
    "Data.iloc[:,11]=Data.iloc[:,11].subtract(Data['RF'],axis=0)\n",
    "# take the risk-free rate column out of the database\n",
    "del Data['RF']\n",
    "Data.head()"
   ]
  },
  {
   "cell_type": "markdown",
   "metadata": {},
   "source": [
    "# Step1 : estimating betas and average returns in the full sample"
   ]
  },
  {
   "cell_type": "code",
   "execution_count": 12,
   "metadata": {},
   "outputs": [
    {
     "data": {
      "text/html": [
       "<div>\n",
       "<style scoped>\n",
       "    .dataframe tbody tr th:only-of-type {\n",
       "        vertical-align: middle;\n",
       "    }\n",
       "\n",
       "    .dataframe tbody tr th {\n",
       "        vertical-align: top;\n",
       "    }\n",
       "\n",
       "    .dataframe thead th {\n",
       "        text-align: right;\n",
       "    }\n",
       "</style>\n",
       "<table border=\"1\" class=\"dataframe\">\n",
       "  <thead>\n",
       "    <tr style=\"text-align: right;\">\n",
       "      <th></th>\n",
       "      <th>AvgReturns</th>\n",
       "    </tr>\n",
       "  </thead>\n",
       "  <tbody>\n",
       "    <tr>\n",
       "      <th>BEME1</th>\n",
       "      <td>0.321694</td>\n",
       "    </tr>\n",
       "    <tr>\n",
       "      <th>BEME2</th>\n",
       "      <td>0.441944</td>\n",
       "    </tr>\n",
       "    <tr>\n",
       "      <th>BEME3</th>\n",
       "      <td>0.427750</td>\n",
       "    </tr>\n",
       "    <tr>\n",
       "      <th>BEME4</th>\n",
       "      <td>0.404806</td>\n",
       "    </tr>\n",
       "    <tr>\n",
       "      <th>BEME5</th>\n",
       "      <td>0.396583</td>\n",
       "    </tr>\n",
       "    <tr>\n",
       "      <th>BEME6</th>\n",
       "      <td>0.537222</td>\n",
       "    </tr>\n",
       "    <tr>\n",
       "      <th>BEME7</th>\n",
       "      <td>0.639528</td>\n",
       "    </tr>\n",
       "    <tr>\n",
       "      <th>BEME8</th>\n",
       "      <td>0.738361</td>\n",
       "    </tr>\n",
       "    <tr>\n",
       "      <th>BEME9</th>\n",
       "      <td>0.847722</td>\n",
       "    </tr>\n",
       "    <tr>\n",
       "      <th>BEME10</th>\n",
       "      <td>0.958222</td>\n",
       "    </tr>\n",
       "    <tr>\n",
       "      <th>MKT</th>\n",
       "      <td>0.432444</td>\n",
       "    </tr>\n",
       "  </tbody>\n",
       "</table>\n",
       "</div>"
      ],
      "text/plain": [
       "        AvgReturns\n",
       "BEME1     0.321694\n",
       "BEME2     0.441944\n",
       "BEME3     0.427750\n",
       "BEME4     0.404806\n",
       "BEME5     0.396583\n",
       "BEME6     0.537222\n",
       "BEME7     0.639528\n",
       "BEME8     0.738361\n",
       "BEME9     0.847722\n",
       "BEME10    0.958222\n",
       "MKT       0.432444"
      ]
     },
     "execution_count": 12,
     "metadata": {},
     "output_type": "execute_result"
    }
   ],
   "source": [
    "# Lets focus on the sample Fama-French originally constructed the value factor\n",
    "\n",
    "df=Data['1963':'1992']\n",
    "# cosntruct excess returns for the  test portoflios\n",
    "Estimates=pd.DataFrame(df.mean())\n",
    "Estimates.columns=['AvgReturns']\n",
    "Estimates"
   ]
  },
  {
   "cell_type": "markdown",
   "metadata": {},
   "source": [
    "1. Easy to see the appeal of value investing BEME8,9,10 >> MKT\n",
    "2. Does that mean the CAPM is wrong?"
   ]
  },
  {
   "cell_type": "code",
   "execution_count": 13,
   "metadata": {},
   "outputs": [],
   "source": [
    "# import regression package\n",
    "import statsmodels.api as sm\n"
   ]
  },
  {
   "cell_type": "code",
   "execution_count": 14,
   "metadata": {},
   "outputs": [
    {
     "data": {
      "text/html": [
       "<table class=\"simpletable\">\n",
       "<caption>OLS Regression Results</caption>\n",
       "<tr>\n",
       "  <th>Dep. Variable:</th>         <td>BEME10</td>      <th>  R-squared:         </th> <td>   0.694</td>\n",
       "</tr>\n",
       "<tr>\n",
       "  <th>Model:</th>                   <td>OLS</td>       <th>  Adj. R-squared:    </th> <td>   0.693</td>\n",
       "</tr>\n",
       "<tr>\n",
       "  <th>Method:</th>             <td>Least Squares</td>  <th>  F-statistic:       </th> <td>   810.3</td>\n",
       "</tr>\n",
       "<tr>\n",
       "  <th>Date:</th>             <td>Mon, 29 Oct 2018</td> <th>  Prob (F-statistic):</th> <td>5.71e-94</td>\n",
       "</tr>\n",
       "<tr>\n",
       "  <th>Time:</th>                 <td>08:50:41</td>     <th>  Log-Likelihood:    </th> <td> -924.46</td>\n",
       "</tr>\n",
       "<tr>\n",
       "  <th>No. Observations:</th>      <td>   360</td>      <th>  AIC:               </th> <td>   1853.</td>\n",
       "</tr>\n",
       "<tr>\n",
       "  <th>Df Residuals:</th>          <td>   358</td>      <th>  BIC:               </th> <td>   1861.</td>\n",
       "</tr>\n",
       "<tr>\n",
       "  <th>Df Model:</th>              <td>     1</td>      <th>                     </th>     <td> </td>   \n",
       "</tr>\n",
       "<tr>\n",
       "  <th>Covariance Type:</th>      <td>nonrobust</td>    <th>                     </th>     <td> </td>   \n",
       "</tr>\n",
       "</table>\n",
       "<table class=\"simpletable\">\n",
       "<tr>\n",
       "    <td></td>       <th>coef</th>     <th>std err</th>      <th>t</th>      <th>P>|t|</th>  <th>[0.025</th>    <th>0.975]</th>  \n",
       "</tr>\n",
       "<tr>\n",
       "  <th>const</th> <td>    0.5026</td> <td>    0.168</td> <td>    3.000</td> <td> 0.003</td> <td>    0.173</td> <td>    0.832</td>\n",
       "</tr>\n",
       "<tr>\n",
       "  <th>MKT</th>   <td>    1.0536</td> <td>    0.037</td> <td>   28.466</td> <td> 0.000</td> <td>    0.981</td> <td>    1.126</td>\n",
       "</tr>\n",
       "</table>\n",
       "<table class=\"simpletable\">\n",
       "<tr>\n",
       "  <th>Omnibus:</th>       <td>61.250</td> <th>  Durbin-Watson:     </th> <td>   1.632</td>\n",
       "</tr>\n",
       "<tr>\n",
       "  <th>Prob(Omnibus):</th> <td> 0.000</td> <th>  Jarque-Bera (JB):  </th> <td> 154.223</td>\n",
       "</tr>\n",
       "<tr>\n",
       "  <th>Skew:</th>          <td> 0.824</td> <th>  Prob(JB):          </th> <td>3.24e-34</td>\n",
       "</tr>\n",
       "<tr>\n",
       "  <th>Kurtosis:</th>      <td> 5.751</td> <th>  Cond. No.          </th> <td>    4.55</td>\n",
       "</tr>\n",
       "</table><br/><br/>Warnings:<br/>[1] Standard Errors assume that the covariance matrix of the errors is correctly specified."
      ],
      "text/plain": [
       "<class 'statsmodels.iolib.summary.Summary'>\n",
       "\"\"\"\n",
       "                            OLS Regression Results                            \n",
       "==============================================================================\n",
       "Dep. Variable:                 BEME10   R-squared:                       0.694\n",
       "Model:                            OLS   Adj. R-squared:                  0.693\n",
       "Method:                 Least Squares   F-statistic:                     810.3\n",
       "Date:                Mon, 29 Oct 2018   Prob (F-statistic):           5.71e-94\n",
       "Time:                        08:50:41   Log-Likelihood:                -924.46\n",
       "No. Observations:                 360   AIC:                             1853.\n",
       "Df Residuals:                     358   BIC:                             1861.\n",
       "Df Model:                           1                                         \n",
       "Covariance Type:            nonrobust                                         \n",
       "==============================================================================\n",
       "                 coef    std err          t      P>|t|      [0.025      0.975]\n",
       "------------------------------------------------------------------------------\n",
       "const          0.5026      0.168      3.000      0.003       0.173       0.832\n",
       "MKT            1.0536      0.037     28.466      0.000       0.981       1.126\n",
       "==============================================================================\n",
       "Omnibus:                       61.250   Durbin-Watson:                   1.632\n",
       "Prob(Omnibus):                  0.000   Jarque-Bera (JB):              154.223\n",
       "Skew:                           0.824   Prob(JB):                     3.24e-34\n",
       "Kurtosis:                       5.751   Cond. No.                         4.55\n",
       "==============================================================================\n",
       "\n",
       "Warnings:\n",
       "[1] Standard Errors assume that the covariance matrix of the errors is correctly specified.\n",
       "\"\"\""
      ]
     },
     "execution_count": 14,
     "metadata": {},
     "output_type": "execute_result"
    }
   ],
   "source": [
    "# estimating value portfolio beta \n",
    "y=df['BEME10'] #look at BEME10\n",
    "x=df['MKT']\n",
    "x=sm.add_constant(x)\n",
    "results = sm.OLS(y,x).fit()\n",
    "results.summary()"
   ]
  },
  {
   "cell_type": "code",
   "execution_count": null,
   "metadata": {},
   "outputs": [],
   "source": []
  },
  {
   "cell_type": "code",
   "execution_count": 15,
   "metadata": {},
   "outputs": [
    {
     "name": "stdout",
     "output_type": "stream",
     "text": [
      "BEME1\n",
      "BEME2\n",
      "BEME3\n",
      "BEME4\n",
      "BEME5\n",
      "BEME6\n",
      "BEME7\n",
      "BEME8\n",
      "BEME9\n",
      "BEME10\n",
      "MKT\n"
     ]
    },
    {
     "data": {
      "text/html": [
       "<div>\n",
       "<style scoped>\n",
       "    .dataframe tbody tr th:only-of-type {\n",
       "        vertical-align: middle;\n",
       "    }\n",
       "\n",
       "    .dataframe tbody tr th {\n",
       "        vertical-align: top;\n",
       "    }\n",
       "\n",
       "    .dataframe thead th {\n",
       "        text-align: right;\n",
       "    }\n",
       "</style>\n",
       "<table border=\"1\" class=\"dataframe\">\n",
       "  <thead>\n",
       "    <tr style=\"text-align: right;\">\n",
       "      <th></th>\n",
       "      <th>AvgReturns</th>\n",
       "      <th>beta</th>\n",
       "    </tr>\n",
       "  </thead>\n",
       "  <tbody>\n",
       "    <tr>\n",
       "      <th>BEME1</th>\n",
       "      <td>0.321694</td>\n",
       "      <td>1.087548</td>\n",
       "    </tr>\n",
       "    <tr>\n",
       "      <th>BEME2</th>\n",
       "      <td>0.441944</td>\n",
       "      <td>1.054243</td>\n",
       "    </tr>\n",
       "    <tr>\n",
       "      <th>BEME3</th>\n",
       "      <td>0.427750</td>\n",
       "      <td>1.048223</td>\n",
       "    </tr>\n",
       "    <tr>\n",
       "      <th>BEME4</th>\n",
       "      <td>0.404806</td>\n",
       "      <td>1.011083</td>\n",
       "    </tr>\n",
       "    <tr>\n",
       "      <th>BEME5</th>\n",
       "      <td>0.396583</td>\n",
       "      <td>0.919284</td>\n",
       "    </tr>\n",
       "    <tr>\n",
       "      <th>BEME6</th>\n",
       "      <td>0.537222</td>\n",
       "      <td>0.912614</td>\n",
       "    </tr>\n",
       "    <tr>\n",
       "      <th>BEME7</th>\n",
       "      <td>0.639528</td>\n",
       "      <td>0.907628</td>\n",
       "    </tr>\n",
       "    <tr>\n",
       "      <th>BEME8</th>\n",
       "      <td>0.738361</td>\n",
       "      <td>0.903209</td>\n",
       "    </tr>\n",
       "    <tr>\n",
       "      <th>BEME9</th>\n",
       "      <td>0.847722</td>\n",
       "      <td>0.952417</td>\n",
       "    </tr>\n",
       "    <tr>\n",
       "      <th>BEME10</th>\n",
       "      <td>0.958222</td>\n",
       "      <td>1.053611</td>\n",
       "    </tr>\n",
       "    <tr>\n",
       "      <th>MKT</th>\n",
       "      <td>0.432444</td>\n",
       "      <td>1.000000</td>\n",
       "    </tr>\n",
       "  </tbody>\n",
       "</table>\n",
       "</div>"
      ],
      "text/plain": [
       "        AvgReturns      beta\n",
       "BEME1     0.321694  1.087548\n",
       "BEME2     0.441944  1.054243\n",
       "BEME3     0.427750  1.048223\n",
       "BEME4     0.404806  1.011083\n",
       "BEME5     0.396583  0.919284\n",
       "BEME6     0.537222  0.912614\n",
       "BEME7     0.639528  0.907628\n",
       "BEME8     0.738361  0.903209\n",
       "BEME9     0.847722  0.952417\n",
       "BEME10    0.958222  1.053611\n",
       "MKT       0.432444  1.000000"
      ]
     },
     "execution_count": 15,
     "metadata": {},
     "output_type": "execute_result"
    }
   ],
   "source": [
    "# estimate betas for all portoflios\n",
    "\n",
    "# Create a new column to store our beta estimates\n",
    "Estimates['beta']=Estimates['AvgReturns']*0\n",
    "# do a for loop across the portfolios\n",
    "for portfolios in Estimates.index:\n",
    "    print(portfolios)\n",
    "    x=sm.add_constant(df['MKT'])\n",
    "    y=df[portfolios]\n",
    "    results = sm.OLS(y,x).fit()\n",
    "    # store the betas\n",
    "    Estimates.at[portfolios,'beta']=results.params[1]\n",
    "\n",
    "Estimates\n"
   ]
  },
  {
   "cell_type": "code",
   "execution_count": 16,
   "metadata": {},
   "outputs": [
    {
     "data": {
      "text/plain": [
       "AvgReturns    0.321694\n",
       "beta          1.087548\n",
       "Name: BEME1, dtype: float64"
      ]
     },
     "execution_count": 16,
     "metadata": {},
     "output_type": "execute_result"
    }
   ],
   "source": [
    "Estimates.loc['BEME1',:]"
   ]
  },
  {
   "cell_type": "code",
   "execution_count": 17,
   "metadata": {
    "scrolled": true
   },
   "outputs": [
    {
     "data": {
      "image/png": "[encoded data removed]",
      "text/plain": [
       "<Figure size 432x288 with 1 Axes>"
      ]
     },
     "metadata": {},
     "output_type": "display_data"
    }
   ],
   "source": [
    "y=Estimates.plot(x='beta',y='AvgReturns',kind='scatter')\n",
    "y.plot(Estimates.loc['MKT','beta'],Estimates.loc['MKT','AvgReturns'],'or')\n",
    "for label, x, y in zip(Estimates.index,Estimates.beta, Estimates.AvgReturns):\n",
    "    plt.annotate(label,xy=(x, y), fontsize=10)\n",
    "    \n",
    "# for label in Estimates.index:\n",
    "#     x=Estimates.loc[label,'beta'] \n",
    "#     y=Estimates.loc[label,'AvgReturns']\n",
    "#     plt.annotate(label,xy=(x, y), fontsize=10)\n",
    "    "
   ]
  },
  {
   "cell_type": "markdown",
   "metadata": {},
   "source": [
    "Avg returns grow from 1 to 10. Value stocks, stocks where market price is low realtive to accouting value, have higher average returns going forward\n",
    "\n",
    "betas are all over the place. Perhaps statisitcally identical across portfolios"
   ]
  },
  {
   "cell_type": "markdown",
   "metadata": {},
   "source": [
    "# Step 2: Cross-sectional regression of average returns on betas"
   ]
  },
  {
   "cell_type": "code",
   "execution_count": 18,
   "metadata": {},
   "outputs": [
    {
     "name": "stderr",
     "output_type": "stream",
     "text": [
      "C:\\ProgramData\\Anaconda3\\lib\\site-packages\\scipy\\stats\\stats.py:1394: UserWarning: kurtosistest only valid for n>=20 ... continuing anyway, n=10\n",
      "  \"anyway, n=%i\" % int(n))\n"
     ]
    },
    {
     "data": {
      "text/html": [
       "<table class=\"simpletable\">\n",
       "<caption>OLS Regression Results</caption>\n",
       "<tr>\n",
       "  <th>Dep. Variable:</th>       <td>AvgReturns</td>    <th>  R-squared:         </th> <td>   0.063</td>\n",
       "</tr>\n",
       "<tr>\n",
       "  <th>Model:</th>                   <td>OLS</td>       <th>  Adj. R-squared:    </th> <td>  -0.055</td>\n",
       "</tr>\n",
       "<tr>\n",
       "  <th>Method:</th>             <td>Least Squares</td>  <th>  F-statistic:       </th> <td>  0.5342</td>\n",
       "</tr>\n",
       "<tr>\n",
       "  <th>Date:</th>             <td>Mon, 29 Oct 2018</td> <th>  Prob (F-statistic):</th>  <td> 0.486</td> \n",
       "</tr>\n",
       "<tr>\n",
       "  <th>Time:</th>                 <td>08:50:41</td>     <th>  Log-Likelihood:    </th> <td>  2.0113</td>\n",
       "</tr>\n",
       "<tr>\n",
       "  <th>No. Observations:</th>      <td>    10</td>      <th>  AIC:               </th> <td>-0.02268</td>\n",
       "</tr>\n",
       "<tr>\n",
       "  <th>Df Residuals:</th>          <td>     8</td>      <th>  BIC:               </th> <td>  0.5825</td>\n",
       "</tr>\n",
       "<tr>\n",
       "  <th>Df Model:</th>              <td>     1</td>      <th>                     </th>     <td> </td>   \n",
       "</tr>\n",
       "<tr>\n",
       "  <th>Covariance Type:</th>      <td>nonrobust</td>    <th>                     </th>     <td> </td>   \n",
       "</tr>\n",
       "</table>\n",
       "<table class=\"simpletable\">\n",
       "<tr>\n",
       "    <td></td>       <th>coef</th>     <th>std err</th>      <th>t</th>      <th>P>|t|</th>  <th>[0.025</th>    <th>0.975]</th>  \n",
       "</tr>\n",
       "<tr>\n",
       "  <th>const</th> <td>    1.2985</td> <td>    0.997</td> <td>    1.302</td> <td> 0.229</td> <td>   -1.001</td> <td>    3.598</td>\n",
       "</tr>\n",
       "<tr>\n",
       "  <th>beta</th>  <td>   -0.7382</td> <td>    1.010</td> <td>   -0.731</td> <td> 0.486</td> <td>   -3.067</td> <td>    1.591</td>\n",
       "</tr>\n",
       "</table>\n",
       "<table class=\"simpletable\">\n",
       "<tr>\n",
       "  <th>Omnibus:</th>       <td> 3.742</td> <th>  Durbin-Watson:     </th> <td>   0.282</td>\n",
       "</tr>\n",
       "<tr>\n",
       "  <th>Prob(Omnibus):</th> <td> 0.154</td> <th>  Jarque-Bera (JB):  </th> <td>   1.750</td>\n",
       "</tr>\n",
       "<tr>\n",
       "  <th>Skew:</th>          <td> 1.024</td> <th>  Prob(JB):          </th> <td>   0.417</td>\n",
       "</tr>\n",
       "<tr>\n",
       "  <th>Kurtosis:</th>      <td> 2.927</td> <th>  Cond. No.          </th> <td>    28.5</td>\n",
       "</tr>\n",
       "</table><br/><br/>Warnings:<br/>[1] Standard Errors assume that the covariance matrix of the errors is correctly specified."
      ],
      "text/plain": [
       "<class 'statsmodels.iolib.summary.Summary'>\n",
       "\"\"\"\n",
       "                            OLS Regression Results                            \n",
       "==============================================================================\n",
       "Dep. Variable:             AvgReturns   R-squared:                       0.063\n",
       "Model:                            OLS   Adj. R-squared:                 -0.055\n",
       "Method:                 Least Squares   F-statistic:                    0.5342\n",
       "Date:                Mon, 29 Oct 2018   Prob (F-statistic):              0.486\n",
       "Time:                        08:50:41   Log-Likelihood:                 2.0113\n",
       "No. Observations:                  10   AIC:                          -0.02268\n",
       "Df Residuals:                       8   BIC:                            0.5825\n",
       "Df Model:                           1                                         \n",
       "Covariance Type:            nonrobust                                         \n",
       "==============================================================================\n",
       "                 coef    std err          t      P>|t|      [0.025      0.975]\n",
       "------------------------------------------------------------------------------\n",
       "const          1.2985      0.997      1.302      0.229      -1.001       3.598\n",
       "beta          -0.7382      1.010     -0.731      0.486      -3.067       1.591\n",
       "==============================================================================\n",
       "Omnibus:                        3.742   Durbin-Watson:                   0.282\n",
       "Prob(Omnibus):                  0.154   Jarque-Bera (JB):                1.750\n",
       "Skew:                           1.024   Prob(JB):                        0.417\n",
       "Kurtosis:                       2.927   Cond. No.                         28.5\n",
       "==============================================================================\n",
       "\n",
       "Warnings:\n",
       "[1] Standard Errors assume that the covariance matrix of the errors is correctly specified.\n",
       "\"\"\""
      ]
     },
     "execution_count": 18,
     "metadata": {},
     "output_type": "execute_result"
    }
   ],
   "source": [
    "y= Estimates['AvgReturns'][0:10]\n",
    "x= sm.add_constant(Estimates['beta'][0:10])\n",
    "#x=Estimates['beta'][0:10]\n",
    "results= sm.OLS(y,x,data=Estimates).fit()\n",
    "results.summary()\n"
   ]
  },
  {
   "cell_type": "code",
   "execution_count": 19,
   "metadata": {},
   "outputs": [
    {
     "data": {
      "text/plain": [
       "[<matplotlib.lines.Line2D at 0x1812da8a358>]"
      ]
     },
     "execution_count": 19,
     "metadata": {},
     "output_type": "execute_result"
    },
    {
     "data": {
      "image/png": "[encoded data removed]",
      "text/plain": [
       "<Figure size 432x288 with 1 Axes>"
      ]
     },
     "metadata": {},
     "output_type": "display_data"
    }
   ],
   "source": [
    "Estimates.plot(x='beta',y='AvgReturns',kind='scatter')\n",
    "betas=np.linspace(0,1.5,20)\n",
    "plt.plot(betas,results.predict(exog=sm.add_constant(betas)))\n",
    "# plt.plot(betas,results.predict(exog=(betas)))\n",
    "# plt.plot(betas,betas*df['MKT'].mean())"
   ]
  },
  {
   "cell_type": "markdown",
   "metadata": {},
   "source": [
    "- R-squared very low. What we would expect here?\n",
    "\n",
    "- Note that the market premium is negative!\n",
    "\n",
    "- Note that the intercept is not zero, in fact very large\n"
   ]
  },
  {
   "cell_type": "code",
   "execution_count": 20,
   "metadata": {},
   "outputs": [
    {
     "data": {
      "text/plain": [
       "<matplotlib.legend.Legend at 0x1812faf0c88>"
      ]
     },
     "execution_count": 20,
     "metadata": {},
     "output_type": "execute_result"
    },
    {
     "data": {
      "image/png": "[encoded data removed]",
      "text/plain": [
       "<Figure size 432x288 with 1 Axes>"
      ]
     },
     "metadata": {},
     "output_type": "display_data"
    }
   ],
   "source": [
    "Estimates.plot(x='beta',y='AvgReturns',kind='scatter')\n",
    "betas=np.linspace(0,1.5,20)\n",
    "plt.plot(betas,results.predict(exog=sm.add_constant(betas)))\n",
    "plt.plot(betas,betas*df['MKT'].mean())\n",
    "plt.legend(['free regression','CAPM'])"
   ]
  },
  {
   "cell_type": "markdown",
   "metadata": {},
   "source": [
    "We haven't done any tests\n",
    "\n",
    "Lets develop a code that allow us to this plot for different samples quickly\n",
    "\n",
    "What we need?\n",
    "\n",
    "1. Select dates\n",
    "2. estimate betas and average returns\n",
    "3. run cross-sectional regression\n",
    "\n",
    "4. do the plot"
   ]
  },
  {
   "cell_type": "code",
   "execution_count": null,
   "metadata": {},
   "outputs": [],
   "source": []
  },
  {
   "cell_type": "code",
   "execution_count": 21,
   "metadata": {},
   "outputs": [],
   "source": [
    "def CSregression(df,beg,end):\n",
    "    df=df[beg:end] \n",
    "    E=pd.DataFrame(df.mean())\n",
    "    E.columns=['AvgReturns']\n",
    "\n",
    "    E['beta']=E['AvgReturns']*0\n",
    "    # do a for loop across the portfolios\n",
    "    for portfolios in E.index:\n",
    "        x=sm.add_constant(df['MKT'])\n",
    "        y=df[portfolios]\n",
    "        results = sm.OLS(y,x).fit()\n",
    "        E.at[portfolios,'beta']=results.params[1]\n",
    "\n",
    "    y= E['AvgReturns'][0:10]\n",
    "    betas=E['beta'][0:10]\n",
    "    x= sm.add_constant(betas)\n",
    "    results= sm.OLS(y,x,data=Estimates).fit()\n",
    "    #results.summary()\n",
    "\n",
    "    E.plot(x='beta',y='AvgReturns',kind='scatter')\n",
    "    betas=np.linspace(0,1.5,20)\n",
    "    plt.plot(betas,results.predict(exog=sm.add_constant(betas)))\n",
    "    plt.plot(betas,betas*df['MKT'].mean())\n",
    "    s=beg+\":\"+end\n",
    "    plt.title(s)\n",
    "    plt.axis([0,1.25*betas.max(),0,1.25*max(betas.max()*df['MKT'].mean(),E.AvgReturns.max())])\n",
    "    for label, x, y in zip(E.index,E.beta, E.AvgReturns):\n",
    "        plt.annotate(label.replace('BEME',''),xy=(x, y), fontsize=10)\n",
    "    return E"
   ]
  },
  {
   "cell_type": "code",
   "execution_count": 22,
   "metadata": {},
   "outputs": [
    {
     "data": {
      "text/plain": [
       "<matplotlib.legend.Legend at 0x1812d84a0f0>"
      ]
     },
     "execution_count": 22,
     "metadata": {},
     "output_type": "execute_result"
    },
    {
     "data": {
      "image/png": "[encoded data removed]",
      "text/plain": [
       "<Figure size 432x288 with 2 Axes>"
      ]
     },
     "metadata": {},
     "output_type": "display_data"
    }
   ],
   "source": [
    "plt.subplot(2,1,1)\n",
    "plt.plot(betas,results.predict(exog=sm.add_constant(betas)))\n",
    "plt.plot(betas,betas*df['MKT'].mean())\n",
    "plt.legend(['free regression','CAPM'])\n",
    "plt.subplot(2,1,2)\n",
    "plt.plot(betas,results.predict(exog=sm.add_constant(betas)))\n",
    "plt.plot(betas,betas*df['MKT'].mean())\n",
    "plt.legend(['free regression','CAPM'])"
   ]
  },
  {
   "cell_type": "code",
   "execution_count": 23,
   "metadata": {
    "scrolled": true
   },
   "outputs": [
    {
     "data": {
      "image/png": "[encoded data removed]",
      "text/plain": [
       "<Figure size 432x288 with 1 Axes>"
      ]
     },
     "metadata": {},
     "output_type": "display_data"
    }
   ],
   "source": [
    "# Pre-CAPM discovery sample\n",
    "E=CSregression(Data,beg='1926',end='1963')"
   ]
  },
  {
   "cell_type": "code",
   "execution_count": 24,
   "metadata": {
    "scrolled": true
   },
   "outputs": [
    {
     "data": {
      "image/png": "[encoded data removed]",
      "text/plain": [
       "<Figure size 432x288 with 1 Axes>"
      ]
     },
     "metadata": {},
     "output_type": "display_data"
    }
   ],
   "source": [
    "# CAPM is dead sample\n",
    "E=CSregression(Data,beg='1963',end='1992')"
   ]
  },
  {
   "cell_type": "code",
   "execution_count": 25,
   "metadata": {},
   "outputs": [
    {
     "data": {
      "image/png": "[encoded data removed]",
      "text/plain": [
       "<Figure size 432x288 with 1 Axes>"
      ]
     },
     "metadata": {},
     "output_type": "display_data"
    }
   ],
   "source": [
    "# post CAPM\n",
    "E=CSregression(Data,beg='1963',end='2016')"
   ]
  },
  {
   "cell_type": "code",
   "execution_count": 26,
   "metadata": {},
   "outputs": [
    {
     "data": {
      "image/png": "[encoded data removed]",
      "text/plain": [
       "<Figure size 432x288 with 1 Axes>"
      ]
     },
     "metadata": {},
     "output_type": "display_data"
    }
   ],
   "source": [
    "# Full sample\n",
    "E=CSregression(Data,beg='1926',end='2016')"
   ]
  },
  {
   "cell_type": "markdown",
   "metadata": {},
   "source": [
    "# Discussion: Value and Growth\n",
    "\n",
    "- We see that portfolio 1: portfolios of stocks with low BookValue/Marketvalue does terribly relative to the market\n",
    "\n",
    "- These are typically known among quants as growth stocks \n",
    "\n",
    "- This is just a name for stocks where their market value is so much higher that its' book accouting value\n",
    "\n",
    "- They might or migh not grow. \n",
    "\n",
    "- Value stocks are stocks with high BookValue/MarketValue, stocks where the market is valuing they way less than the accounting value\n",
    "\n",
    "- construction of these portfolios require accounting data, which is high quality only after 1963\n",
    "\n",
    "\n",
    "\n"
   ]
  },
  {
   "cell_type": "markdown",
   "metadata": {},
   "source": [
    "# 2. Time-series Test (asset by asset)\n",
    "\n",
    "Now lets do a formal statistical test.\n",
    "\n",
    "For this we will follow the Time series approach which is much easier\n",
    "\n",
    "To do the statistical test with the cross section approach see Fama macbeth procedure in the appendix \n",
    "\n",
    "\n",
    "- here is the time-series test procedure\n",
    "\n",
    "\n",
    "Run the time series regression \n",
    "\n",
    "$$R_i^e =\\alpha_i+\\beta_{i,M} R_{M}^e+\\epsilon_i$$\n",
    "\n",
    "Test if $\\alpha_i \\neq 0$\n",
    "\n",
    "Again it doesn't matter if positive or negative, since you can always go short\n",
    "\n",
    "The TS regression automatically imposes   $E[R_{MKT}]=\\lambda $\n",
    "\n",
    "YOu basically do a standard t-test \n",
    "\n",
    "$$t=\\frac{\\alpha }{\\sigma(\\alpha)}$$\n",
    "\n",
    "We say\n",
    "\n",
    " - if $|t|\\geq 1.64$ there is a 10% chance that the market is MVE\n",
    " - if $|t|\\geq 1.96$ there is a 5% chance that the market is MVE\n",
    " - if $|t|\\geq 2.1$ there is a 2.5% chance that the market is MVE\n",
    " - if $|t|\\geq 2.6$ there is a 1% chance that the market is MVE"
   ]
  },
  {
   "cell_type": "code",
   "execution_count": 27,
   "metadata": {},
   "outputs": [
    {
     "data": {
      "text/html": [
       "<table class=\"simpletable\">\n",
       "<caption>OLS Regression Results</caption>\n",
       "<tr>\n",
       "  <th>Dep. Variable:</th>         <td>BEME10</td>      <th>  R-squared:         </th> <td>   0.678</td> \n",
       "</tr>\n",
       "<tr>\n",
       "  <th>Model:</th>                   <td>OLS</td>       <th>  Adj. R-squared:    </th> <td>   0.678</td> \n",
       "</tr>\n",
       "<tr>\n",
       "  <th>Method:</th>             <td>Least Squares</td>  <th>  F-statistic:       </th> <td>   1363.</td> \n",
       "</tr>\n",
       "<tr>\n",
       "  <th>Date:</th>             <td>Mon, 29 Oct 2018</td> <th>  Prob (F-statistic):</th> <td>2.69e-161</td>\n",
       "</tr>\n",
       "<tr>\n",
       "  <th>Time:</th>                 <td>08:50:43</td>     <th>  Log-Likelihood:    </th> <td> -1721.8</td> \n",
       "</tr>\n",
       "<tr>\n",
       "  <th>No. Observations:</th>      <td>   648</td>      <th>  AIC:               </th> <td>   3448.</td> \n",
       "</tr>\n",
       "<tr>\n",
       "  <th>Df Residuals:</th>          <td>   646</td>      <th>  BIC:               </th> <td>   3457.</td> \n",
       "</tr>\n",
       "<tr>\n",
       "  <th>Df Model:</th>              <td>     1</td>      <th>                     </th>     <td> </td>    \n",
       "</tr>\n",
       "<tr>\n",
       "  <th>Covariance Type:</th>      <td>nonrobust</td>    <th>                     </th>     <td> </td>    \n",
       "</tr>\n",
       "</table>\n",
       "<table class=\"simpletable\">\n",
       "<tr>\n",
       "    <td></td>       <th>coef</th>     <th>std err</th>      <th>t</th>      <th>P>|t|</th>  <th>[0.025</th>    <th>0.975]</th>  \n",
       "</tr>\n",
       "<tr>\n",
       "  <th>const</th> <td>    0.3454</td> <td>    0.137</td> <td>    2.527</td> <td> 0.012</td> <td>    0.077</td> <td>    0.614</td>\n",
       "</tr>\n",
       "<tr>\n",
       "  <th>MKT</th>   <td>    1.1361</td> <td>    0.031</td> <td>   36.918</td> <td> 0.000</td> <td>    1.076</td> <td>    1.197</td>\n",
       "</tr>\n",
       "</table>\n",
       "<table class=\"simpletable\">\n",
       "<tr>\n",
       "  <th>Omnibus:</th>       <td>121.703</td> <th>  Durbin-Watson:     </th> <td>   1.656</td> \n",
       "</tr>\n",
       "<tr>\n",
       "  <th>Prob(Omnibus):</th> <td> 0.000</td>  <th>  Jarque-Bera (JB):  </th> <td> 555.995</td> \n",
       "</tr>\n",
       "<tr>\n",
       "  <th>Skew:</th>          <td> 0.768</td>  <th>  Prob(JB):          </th> <td>1.85e-121</td>\n",
       "</tr>\n",
       "<tr>\n",
       "  <th>Kurtosis:</th>      <td> 7.270</td>  <th>  Cond. No.          </th> <td>    4.47</td> \n",
       "</tr>\n",
       "</table><br/><br/>Warnings:<br/>[1] Standard Errors assume that the covariance matrix of the errors is correctly specified."
      ],
      "text/plain": [
       "<class 'statsmodels.iolib.summary.Summary'>\n",
       "\"\"\"\n",
       "                            OLS Regression Results                            \n",
       "==============================================================================\n",
       "Dep. Variable:                 BEME10   R-squared:                       0.678\n",
       "Model:                            OLS   Adj. R-squared:                  0.678\n",
       "Method:                 Least Squares   F-statistic:                     1363.\n",
       "Date:                Mon, 29 Oct 2018   Prob (F-statistic):          2.69e-161\n",
       "Time:                        08:50:43   Log-Likelihood:                -1721.8\n",
       "No. Observations:                 648   AIC:                             3448.\n",
       "Df Residuals:                     646   BIC:                             3457.\n",
       "Df Model:                           1                                         \n",
       "Covariance Type:            nonrobust                                         \n",
       "==============================================================================\n",
       "                 coef    std err          t      P>|t|      [0.025      0.975]\n",
       "------------------------------------------------------------------------------\n",
       "const          0.3454      0.137      2.527      0.012       0.077       0.614\n",
       "MKT            1.1361      0.031     36.918      0.000       1.076       1.197\n",
       "==============================================================================\n",
       "Omnibus:                      121.703   Durbin-Watson:                   1.656\n",
       "Prob(Omnibus):                  0.000   Jarque-Bera (JB):              555.995\n",
       "Skew:                           0.768   Prob(JB):                    1.85e-121\n",
       "Kurtosis:                       7.270   Cond. No.                         4.47\n",
       "==============================================================================\n",
       "\n",
       "Warnings:\n",
       "[1] Standard Errors assume that the covariance matrix of the errors is correctly specified.\n",
       "\"\"\""
      ]
     },
     "execution_count": 27,
     "metadata": {},
     "output_type": "execute_result"
    }
   ],
   "source": [
    "df=Data['1963':'2016'] \n",
    "E=pd.DataFrame(df.mean())\n",
    "E.columns=['AvgReturns']\n",
    "x= sm.add_constant(df['MKT'])\n",
    "y= df['BEME10']\n",
    "results= sm.OLS(y,x).fit()\n",
    "results.summary()"
   ]
  },
  {
   "cell_type": "code",
   "execution_count": 28,
   "metadata": {
    "scrolled": false
   },
   "outputs": [],
   "source": [
    "def TSregression(df,beg,end):\n",
    "    df=df[beg:end] \n",
    "    E=pd.DataFrame(df.mean())\n",
    "    E.columns=['AvgReturns']\n",
    "    x= sm.add_constant(df['MKT'])\n",
    "    E['std']=df.std()\n",
    "    E['alpha']=E['AvgReturns']*0\n",
    "    E['std_e']=E['AvgReturns']*0\n",
    "    E['beta']=E['AvgReturns']*0\n",
    "    E['std_beta']=E['AvgReturns']*0\n",
    "    E['std_alpha']=E['AvgReturns']*0\n",
    "    for portfolios in E.index[0:10]:\n",
    "        y= df[portfolios]\n",
    "        results= sm.OLS(y,x).fit()\n",
    "        E.at[portfolios,'alpha']=results.params[0]\n",
    "        E.at[portfolios,'beta']=results.params[1]\n",
    "        E.at[portfolios,'std_e']=results.resid.std()\n",
    "        E.at[portfolios,'std_alpha']=results.HC0_se[0]\n",
    "        E.at[portfolios,'std_beta']=results.HC0_se[1]          \n",
    "        E.at[portfolios,'pvalues']=results.pvalues[0] \n",
    "    \n",
    "    E['t-stat']=E['alpha']/E['std_alpha']\n",
    "    E.at['MKT','beta']=1 \n",
    "    return E"
   ]
  },
  {
   "cell_type": "code",
   "execution_count": 29,
   "metadata": {},
   "outputs": [
    {
     "data": {
      "text/html": [
       "<div>\n",
       "<style scoped>\n",
       "    .dataframe tbody tr th:only-of-type {\n",
       "        vertical-align: middle;\n",
       "    }\n",
       "\n",
       "    .dataframe tbody tr th {\n",
       "        vertical-align: top;\n",
       "    }\n",
       "\n",
       "    .dataframe thead th {\n",
       "        text-align: right;\n",
       "    }\n",
       "</style>\n",
       "<table border=\"1\" class=\"dataframe\">\n",
       "  <thead>\n",
       "    <tr style=\"text-align: right;\">\n",
       "      <th></th>\n",
       "      <th>AvgReturns</th>\n",
       "      <th>std</th>\n",
       "      <th>alpha</th>\n",
       "      <th>std_e</th>\n",
       "      <th>beta</th>\n",
       "      <th>std_beta</th>\n",
       "      <th>std_alpha</th>\n",
       "      <th>pvalues</th>\n",
       "      <th>t-stat</th>\n",
       "    </tr>\n",
       "  </thead>\n",
       "  <tbody>\n",
       "    <tr>\n",
       "      <th>BEME1</th>\n",
       "      <td>0.429151</td>\n",
       "      <td>5.044204</td>\n",
       "      <td>-0.123712</td>\n",
       "      <td>1.869759</td>\n",
       "      <td>1.061466</td>\n",
       "      <td>0.020843</td>\n",
       "      <td>0.074220</td>\n",
       "      <td>0.095136</td>\n",
       "      <td>-1.666833</td>\n",
       "    </tr>\n",
       "    <tr>\n",
       "      <th>BEME2</th>\n",
       "      <td>0.541836</td>\n",
       "      <td>4.623143</td>\n",
       "      <td>0.020034</td>\n",
       "      <td>1.349928</td>\n",
       "      <td>1.001831</td>\n",
       "      <td>0.015999</td>\n",
       "      <td>0.054048</td>\n",
       "      <td>0.707869</td>\n",
       "      <td>0.370668</td>\n",
       "    </tr>\n",
       "    <tr>\n",
       "      <th>BEME3</th>\n",
       "      <td>0.582701</td>\n",
       "      <td>4.581242</td>\n",
       "      <td>0.067784</td>\n",
       "      <td>1.396153</td>\n",
       "      <td>0.988611</td>\n",
       "      <td>0.016216</td>\n",
       "      <td>0.055828</td>\n",
       "      <td>0.220489</td>\n",
       "      <td>1.214158</td>\n",
       "    </tr>\n",
       "    <tr>\n",
       "      <th>BEME4</th>\n",
       "      <td>0.538225</td>\n",
       "      <td>4.619711</td>\n",
       "      <td>0.029787</td>\n",
       "      <td>1.667100</td>\n",
       "      <td>0.976173</td>\n",
       "      <td>0.021867</td>\n",
       "      <td>0.066858</td>\n",
       "      <td>0.651893</td>\n",
       "      <td>0.445523</td>\n",
       "    </tr>\n",
       "    <tr>\n",
       "      <th>BEME5</th>\n",
       "      <td>0.549583</td>\n",
       "      <td>4.432885</td>\n",
       "      <td>0.073302</td>\n",
       "      <td>1.833515</td>\n",
       "      <td>0.914432</td>\n",
       "      <td>0.021350</td>\n",
       "      <td>0.072508</td>\n",
       "      <td>0.312923</td>\n",
       "      <td>1.010958</td>\n",
       "    </tr>\n",
       "    <tr>\n",
       "      <th>BEME6</th>\n",
       "      <td>0.679460</td>\n",
       "      <td>4.343083</td>\n",
       "      <td>0.221188</td>\n",
       "      <td>1.944793</td>\n",
       "      <td>0.879855</td>\n",
       "      <td>0.023928</td>\n",
       "      <td>0.078129</td>\n",
       "      <td>0.004200</td>\n",
       "      <td>2.831076</td>\n",
       "    </tr>\n",
       "    <tr>\n",
       "      <th>BEME7</th>\n",
       "      <td>0.641960</td>\n",
       "      <td>4.567017</td>\n",
       "      <td>0.164307</td>\n",
       "      <td>2.115416</td>\n",
       "      <td>0.917066</td>\n",
       "      <td>0.031421</td>\n",
       "      <td>0.086505</td>\n",
       "      <td>0.050189</td>\n",
       "      <td>1.899401</td>\n",
       "    </tr>\n",
       "    <tr>\n",
       "      <th>BEME8</th>\n",
       "      <td>0.721574</td>\n",
       "      <td>4.626414</td>\n",
       "      <td>0.245044</td>\n",
       "      <td>2.257864</td>\n",
       "      <td>0.914911</td>\n",
       "      <td>0.032353</td>\n",
       "      <td>0.093092</td>\n",
       "      <td>0.006285</td>\n",
       "      <td>2.632271</td>\n",
       "    </tr>\n",
       "    <tr>\n",
       "      <th>BEME9</th>\n",
       "      <td>0.882006</td>\n",
       "      <td>4.939907</td>\n",
       "      <td>0.371075</td>\n",
       "      <td>2.378602</td>\n",
       "      <td>0.980958</td>\n",
       "      <td>0.030973</td>\n",
       "      <td>0.094467</td>\n",
       "      <td>0.000090</td>\n",
       "      <td>3.928115</td>\n",
       "    </tr>\n",
       "    <tr>\n",
       "      <th>BEME10</th>\n",
       "      <td>0.937114</td>\n",
       "      <td>6.087765</td>\n",
       "      <td>0.345374</td>\n",
       "      <td>3.452185</td>\n",
       "      <td>1.136108</td>\n",
       "      <td>0.045348</td>\n",
       "      <td>0.135874</td>\n",
       "      <td>0.011735</td>\n",
       "      <td>2.541878</td>\n",
       "    </tr>\n",
       "    <tr>\n",
       "      <th>MKT</th>\n",
       "      <td>0.520849</td>\n",
       "      <td>4.413586</td>\n",
       "      <td>0.000000</td>\n",
       "      <td>0.000000</td>\n",
       "      <td>1.000000</td>\n",
       "      <td>0.000000</td>\n",
       "      <td>0.000000</td>\n",
       "      <td>NaN</td>\n",
       "      <td>NaN</td>\n",
       "    </tr>\n",
       "  </tbody>\n",
       "</table>\n",
       "</div>"
      ],
      "text/plain": [
       "        AvgReturns       std     alpha     std_e      beta  std_beta  \\\n",
       "BEME1     0.429151  5.044204 -0.123712  1.869759  1.061466  0.020843   \n",
       "BEME2     0.541836  4.623143  0.020034  1.349928  1.001831  0.015999   \n",
       "BEME3     0.582701  4.581242  0.067784  1.396153  0.988611  0.016216   \n",
       "BEME4     0.538225  4.619711  0.029787  1.667100  0.976173  0.021867   \n",
       "BEME5     0.549583  4.432885  0.073302  1.833515  0.914432  0.021350   \n",
       "BEME6     0.679460  4.343083  0.221188  1.944793  0.879855  0.023928   \n",
       "BEME7     0.641960  4.567017  0.164307  2.115416  0.917066  0.031421   \n",
       "BEME8     0.721574  4.626414  0.245044  2.257864  0.914911  0.032353   \n",
       "BEME9     0.882006  4.939907  0.371075  2.378602  0.980958  0.030973   \n",
       "BEME10    0.937114  6.087765  0.345374  3.452185  1.136108  0.045348   \n",
       "MKT       0.520849  4.413586  0.000000  0.000000  1.000000  0.000000   \n",
       "\n",
       "        std_alpha   pvalues    t-stat  \n",
       "BEME1    0.074220  0.095136 -1.666833  \n",
       "BEME2    0.054048  0.707869  0.370668  \n",
       "BEME3    0.055828  0.220489  1.214158  \n",
       "BEME4    0.066858  0.651893  0.445523  \n",
       "BEME5    0.072508  0.312923  1.010958  \n",
       "BEME6    0.078129  0.004200  2.831076  \n",
       "BEME7    0.086505  0.050189  1.899401  \n",
       "BEME8    0.093092  0.006285  2.632271  \n",
       "BEME9    0.094467  0.000090  3.928115  \n",
       "BEME10   0.135874  0.011735  2.541878  \n",
       "MKT      0.000000       NaN       NaN  "
      ]
     },
     "execution_count": 29,
     "metadata": {},
     "output_type": "execute_result"
    }
   ],
   "source": [
    "TSresults=TSregression(Data,beg='1963',end='2016')\n",
    "TSresults"
   ]
  },
  {
   "cell_type": "markdown",
   "metadata": {},
   "source": [
    "# Discussion: BOOK to MARKET sorted portfolios risk-return relation is not explained by the CAPM\n",
    "\n",
    "1. Value portfolios have very large alphas with respect to the market portfolio.\n",
    "    - Portfolio 9 rejects the CAPM with a confidence of more than 99.99%\n",
    "2. A long-short strategy is likely to blow the CAPM out of the water even more strongly\n",
    "    - Value and growth portfolios have similar betas but very different returns!\n",
    "    - One can use the growth portfolio to hedge market exposure cheaply since it has high beta but low returns!"
   ]
  },
  {
   "cell_type": "code",
   "execution_count": 30,
   "metadata": {},
   "outputs": [
    {
     "name": "stdout",
     "output_type": "stream",
     "text": [
      "[5.434259259259261, 6.250185185185191]\n",
      "[0.41608958304947596, 0.4087998372509934]\n"
     ]
    },
    {
     "data": {
      "text/plain": [
       "-0.09424643585838309"
      ]
     },
     "execution_count": 30,
     "metadata": {},
     "output_type": "execute_result"
    }
   ],
   "source": [
    "df=Data['1963':'2016']\n",
    "y= df.BEME9-df.BEME1\n",
    "# average return similar to the market\n",
    "print([y.mean()*12,df.MKT.mean()*12])\n",
    "# sharpe ratio similar to the market\n",
    "print([y.mean()/y.std()*12**0.5,df.MKT.mean()/df.MKT.std()*12**0.5])\n",
    "# and has negative correlation with the market!\n",
    "np.corrcoef(y,df.MKT)[1,0]"
   ]
  },
  {
   "cell_type": "code",
   "execution_count": 31,
   "metadata": {},
   "outputs": [
    {
     "data": {
      "text/html": [
       "<table class=\"simpletable\">\n",
       "<caption>OLS Regression Results</caption>\n",
       "<tr>\n",
       "  <th>Dep. Variable:</th>            <td>y</td>        <th>  R-squared:         </th> <td>   0.009</td>\n",
       "</tr>\n",
       "<tr>\n",
       "  <th>Model:</th>                   <td>OLS</td>       <th>  Adj. R-squared:    </th> <td>   0.007</td>\n",
       "</tr>\n",
       "<tr>\n",
       "  <th>Method:</th>             <td>Least Squares</td>  <th>  F-statistic:       </th> <td>   5.789</td>\n",
       "</tr>\n",
       "<tr>\n",
       "  <th>Date:</th>             <td>Mon, 29 Oct 2018</td> <th>  Prob (F-statistic):</th>  <td>0.0164</td> \n",
       "</tr>\n",
       "<tr>\n",
       "  <th>Time:</th>                 <td>08:50:45</td>     <th>  Log-Likelihood:    </th> <td> -1776.1</td>\n",
       "</tr>\n",
       "<tr>\n",
       "  <th>No. Observations:</th>      <td>   648</td>      <th>  AIC:               </th> <td>   3556.</td>\n",
       "</tr>\n",
       "<tr>\n",
       "  <th>Df Residuals:</th>          <td>   646</td>      <th>  BIC:               </th> <td>   3565.</td>\n",
       "</tr>\n",
       "<tr>\n",
       "  <th>Df Model:</th>              <td>     1</td>      <th>                     </th>     <td> </td>   \n",
       "</tr>\n",
       "<tr>\n",
       "  <th>Covariance Type:</th>      <td>nonrobust</td>    <th>                     </th>     <td> </td>   \n",
       "</tr>\n",
       "</table>\n",
       "<table class=\"simpletable\">\n",
       "<tr>\n",
       "    <td></td>       <th>coef</th>     <th>std err</th>      <th>t</th>      <th>P>|t|</th>  <th>[0.025</th>    <th>0.975]</th>  \n",
       "</tr>\n",
       "<tr>\n",
       "  <th>const</th> <td>    0.4948</td> <td>    0.149</td> <td>    3.330</td> <td> 0.001</td> <td>    0.203</td> <td>    0.787</td>\n",
       "</tr>\n",
       "<tr>\n",
       "  <th>MKT</th>   <td>   -0.0805</td> <td>    0.033</td> <td>   -2.406</td> <td> 0.016</td> <td>   -0.146</td> <td>   -0.015</td>\n",
       "</tr>\n",
       "</table>\n",
       "<table class=\"simpletable\">\n",
       "<tr>\n",
       "  <th>Omnibus:</th>       <td>19.250</td> <th>  Durbin-Watson:     </th> <td>   1.809</td>\n",
       "</tr>\n",
       "<tr>\n",
       "  <th>Prob(Omnibus):</th> <td> 0.000</td> <th>  Jarque-Bera (JB):  </th> <td>  42.246</td>\n",
       "</tr>\n",
       "<tr>\n",
       "  <th>Skew:</th>          <td> 0.043</td> <th>  Prob(JB):          </th> <td>6.70e-10</td>\n",
       "</tr>\n",
       "<tr>\n",
       "  <th>Kurtosis:</th>      <td> 4.248</td> <th>  Cond. No.          </th> <td>    4.47</td>\n",
       "</tr>\n",
       "</table><br/><br/>Warnings:<br/>[1] Standard Errors assume that the covariance matrix of the errors is correctly specified."
      ],
      "text/plain": [
       "<class 'statsmodels.iolib.summary.Summary'>\n",
       "\"\"\"\n",
       "                            OLS Regression Results                            \n",
       "==============================================================================\n",
       "Dep. Variable:                      y   R-squared:                       0.009\n",
       "Model:                            OLS   Adj. R-squared:                  0.007\n",
       "Method:                 Least Squares   F-statistic:                     5.789\n",
       "Date:                Mon, 29 Oct 2018   Prob (F-statistic):             0.0164\n",
       "Time:                        08:50:45   Log-Likelihood:                -1776.1\n",
       "No. Observations:                 648   AIC:                             3556.\n",
       "Df Residuals:                     646   BIC:                             3565.\n",
       "Df Model:                           1                                         \n",
       "Covariance Type:            nonrobust                                         \n",
       "==============================================================================\n",
       "                 coef    std err          t      P>|t|      [0.025      0.975]\n",
       "------------------------------------------------------------------------------\n",
       "const          0.4948      0.149      3.330      0.001       0.203       0.787\n",
       "MKT           -0.0805      0.033     -2.406      0.016      -0.146      -0.015\n",
       "==============================================================================\n",
       "Omnibus:                       19.250   Durbin-Watson:                   1.809\n",
       "Prob(Omnibus):                  0.000   Jarque-Bera (JB):               42.246\n",
       "Skew:                           0.043   Prob(JB):                     6.70e-10\n",
       "Kurtosis:                       4.248   Cond. No.                         4.47\n",
       "==============================================================================\n",
       "\n",
       "Warnings:\n",
       "[1] Standard Errors assume that the covariance matrix of the errors is correctly specified.\n",
       "\"\"\""
      ]
     },
     "execution_count": 31,
     "metadata": {},
     "output_type": "execute_result"
    }
   ],
   "source": [
    "#Seeing this in a regression setting\n",
    "x= sm.add_constant(df['MKT'])\n",
    "results= sm.OLS(y,x).fit()\n",
    "results.summary()\n",
    "# negative beta consistent with the negative correlation\n",
    "# alpha of the same magnitude as the risk-premium"
   ]
  },
  {
   "cell_type": "markdown",
   "metadata": {},
   "source": [
    "# 3. Economic Magnitudes\n",
    "\n",
    "- How large is the failure of the CAPM?"
   ]
  },
  {
   "cell_type": "code",
   "execution_count": 32,
   "metadata": {},
   "outputs": [
    {
     "data": {
      "text/html": [
       "<div>\n",
       "<style scoped>\n",
       "    .dataframe tbody tr th:only-of-type {\n",
       "        vertical-align: middle;\n",
       "    }\n",
       "\n",
       "    .dataframe tbody tr th {\n",
       "        vertical-align: top;\n",
       "    }\n",
       "\n",
       "    .dataframe thead th {\n",
       "        text-align: right;\n",
       "    }\n",
       "</style>\n",
       "<table border=\"1\" class=\"dataframe\">\n",
       "  <thead>\n",
       "    <tr style=\"text-align: right;\">\n",
       "      <th></th>\n",
       "      <th>AvgReturns</th>\n",
       "      <th>std</th>\n",
       "      <th>alpha</th>\n",
       "      <th>std_e</th>\n",
       "      <th>beta</th>\n",
       "      <th>std_beta</th>\n",
       "      <th>std_alpha</th>\n",
       "      <th>pvalues</th>\n",
       "      <th>t-stat</th>\n",
       "    </tr>\n",
       "  </thead>\n",
       "  <tbody>\n",
       "    <tr>\n",
       "      <th>MKT</th>\n",
       "      <td>0.520849</td>\n",
       "      <td>4.413586</td>\n",
       "      <td>0.000000</td>\n",
       "      <td>0.000000</td>\n",
       "      <td>1.000000</td>\n",
       "      <td>0.000000</td>\n",
       "      <td>0.000000</td>\n",
       "      <td>NaN</td>\n",
       "      <td>NaN</td>\n",
       "    </tr>\n",
       "    <tr>\n",
       "      <th>BEME10</th>\n",
       "      <td>0.937114</td>\n",
       "      <td>6.087765</td>\n",
       "      <td>0.345374</td>\n",
       "      <td>3.452185</td>\n",
       "      <td>1.136108</td>\n",
       "      <td>0.045348</td>\n",
       "      <td>0.135874</td>\n",
       "      <td>0.011735</td>\n",
       "      <td>2.541878</td>\n",
       "    </tr>\n",
       "  </tbody>\n",
       "</table>\n",
       "</div>"
      ],
      "text/plain": [
       "        AvgReturns       std     alpha     std_e      beta  std_beta  \\\n",
       "MKT       0.520849  4.413586  0.000000  0.000000  1.000000  0.000000   \n",
       "BEME10    0.937114  6.087765  0.345374  3.452185  1.136108  0.045348   \n",
       "\n",
       "        std_alpha   pvalues    t-stat  \n",
       "MKT      0.000000       NaN       NaN  \n",
       "BEME10   0.135874  0.011735  2.541878  "
      ]
     },
     "execution_count": 32,
     "metadata": {},
     "output_type": "execute_result"
    }
   ],
   "source": [
    "TSresults.loc[['MKT','BEME10'],:]"
   ]
  },
  {
   "cell_type": "code",
   "execution_count": 33,
   "metadata": {
    "scrolled": true
   },
   "outputs": [
    {
     "data": {
      "text/plain": [
       "[0.10004499152314464, 0.15393403920131488, 0.11801034804076813]"
      ]
     },
     "execution_count": 33,
     "metadata": {},
     "output_type": "execute_result"
    }
   ],
   "source": [
    "[TSresults.loc['BEME10',:].alpha/TSresults.loc['BEME10',:].std_e,TSresults.loc['BEME10',:].AvgReturns/TSresults.loc['BEME10','std'],TSresults.loc['MKT',:].AvgReturns/TSresults.loc['MKT','std']]"
   ]
  },
  {
   "cell_type": "code",
   "execution_count": 42,
   "metadata": {},
   "outputs": [
    {
     "name": "stdout",
     "output_type": "stream",
     "text": [
      "0.5952380952380952\n",
      "0.2966101694915255\n",
      "[0.37932404]\n",
      "[5.01430905]\n",
      "[3.45218523]\n"
     ]
    }
   ],
   "source": [
    "#calculations\n",
    "# alphas as a fraction of risk premium\n",
    "print(0.35/0.588)\n",
    "# own sharpe ratio relative to the market\n",
    "print(0.153/0.118-1)\n",
    "# overall invrease in volatility\n",
    "print(TSresults.loc[['BEME10'],'std'].values/TSresults.loc[['MKT'],'std'].values-1)\n",
    "#market component\n",
    "print(TSresults.loc[['MKT'],'std'].values*TSresults.loc[['BEME10'],'beta'].values)\n",
    "#non market component\n",
    "print(TSresults.loc[['BEME10'],'std_e'].values)\n",
    "\n"
   ]
  },
  {
   "cell_type": "markdown",
   "metadata": {},
   "source": [
    "$$average(R_{BEME10,t})=\\beta*average(R_{Mkt})+\\alpha$$\n",
    "$$average(R_{BEME10,t})=1.13*0.52+0.349$$\n",
    "$$0.937=0.588+0.349$$\n",
    "\n",
    "1. alpha is about 60% of the market risk premium\n",
    "\n",
    "2. Sharpe ratio of the orthogonal component about the same as the market sharpe ratio\n",
    "\n",
    "3. Own Sharpe ratio about 30% higher than the market \n",
    "\n",
    "3. investor can earn 60% more by having 13% more market exposure, 37% more volatility  \n",
    "\n",
    "4. Can earn 30% higher return while bearing the same volatility, while having market beta of 0.7 instead of 1\n",
    "\n",
    "## Rejection is economically large\n",
    "\n",
    "A Mean Variance Investor (without other risky income beyond dividends from stocks) can benefit alot by deviating from the market portfolio\n"
   ]
  },
  {
   "cell_type": "markdown",
   "metadata": {},
   "source": [
    "# APPENDIX"
   ]
  },
  {
   "cell_type": "markdown",
   "metadata": {},
   "source": [
    "# Fama-MacBeth Procedure \n",
    "\n",
    "$$Rit = γ0t + γMt biM + nit$$\n",
    "\n",
    "Structured approach to two key predictions of the model\n",
    "\n",
    "- $\\gamma_0=0$\n",
    "- $\\gamma_M>0$\n",
    "\n",
    "Here is the approach:\n",
    "\n",
    "1. Estimate βiM for each portfolio (denote the estimate biM). Assume that the betas do not change over time; hence, you can estimate the betas using full-period OLS regressions.\n",
    "\n",
    "2. Each month estimate the cross-sectional regression, Rit = γ0t + γMt biM + nit. Note: the estimated beta (biM ) is the same for every time period (i.e., it has no time subscript).\n",
    "\n",
    "3. Compute the time series average of the estimates of γ0 and γM.\n",
    "\n",
    "4. In addition, compute the standard error and t-stat of the time series averages. "
   ]
  },
  {
   "cell_type": "code",
   "execution_count": null,
   "metadata": {
    "scrolled": false
   },
   "outputs": [],
   "source": [
    "# here I am just initiating a dataframe wich has as index the dates\n",
    "\n",
    "FamaMacbeth=Data.iloc[:,0:2].copy()\n",
    "FamaMacbeth.columns=['gamma0','gamma1']\n",
    "# whatever values these columns have willl be overwritten by the for loop below\n",
    "\n",
    "x=sm.add_constant(Estimates['beta'])\n",
    "for date in Data.index:\n",
    "    y=(Data.loc[date,:]).iloc[0:10]\n",
    "    results = sm.OLS(y,x).fit()\n",
    "    # record slope estiamtes\n",
    "    FamaMacbeth.set_value(date,'gamma0',results.params[0])\n",
    "    FamaMacbeth.set_value(date,'gamma1',results.params[1])\n",
    "\n",
    "\n",
    "coefficientsAVG=FamaMacbeth.mean()\n",
    "coefficientsSTDEV=FamaMacbeth.std()\n",
    "samplesize=FamaMacbeth.shape[0]\n"
   ]
  },
  {
   "cell_type": "code",
   "execution_count": null,
   "metadata": {},
   "outputs": [],
   "source": [
    "coefficientsAVG/(coefficientsSTDEV/(samplesize**0.5))\n"
   ]
  },
  {
   "cell_type": "markdown",
   "metadata": {},
   "source": [
    "## Testing if characteristics predict returns better than betas\n",
    "\n",
    "\n",
    "You can also add other factors that are strange to he model. Recall that the model predicts\n",
    "\n",
    "$$E[Ri] = γ0 + γM\\beta_M $$\n",
    "\n",
    "Nothing else belongs there.\n",
    "\n",
    "For example, lets say we add some characteristic X that varies across firms and across time\n",
    "\n",
    "$$Rit = γ0t + γMt biM + \\gamma_{X,t} X_t+ nit$$\n",
    "\n",
    "Structured approach to two key predictions of the model\n",
    "\n",
    "- $\\gamma_0=0$\n",
    "- $\\gamma_M>0$\n",
    "\n",
    "What does the model predict about $\\gamma_{X,t}$?\n",
    "\n",
    "For example, we could use as X the decile of the BE/ME: 1,2,...10\n",
    "\n"
   ]
  },
  {
   "cell_type": "code",
   "execution_count": null,
   "metadata": {
    "scrolled": true
   },
   "outputs": [],
   "source": [
    "Estimates.set_value(Estimates.index,'rank',range(1,11))\n",
    "Estimates"
   ]
  },
  {
   "cell_type": "code",
   "execution_count": null,
   "metadata": {},
   "outputs": [],
   "source": [
    "FamaMacbeth=Data.iloc[:,0:3].copy()\n",
    "FamaMacbeth.columns=['gamma0','gamma1','gamma2']\n",
    "# whatever values these columns have willl be overwritten by the for loop below\n",
    "\n",
    "x=sm.add_constant(Estimates[['beta','rank']])\n",
    "for date in Data.index:\n",
    "    y=(Data.loc[date,:]).iloc[0:10]\n",
    "    results = sm.OLS(y,x).fit()\n",
    "    # record slope estiamtes\n",
    "    FamaMacbeth.set_value(date,'gamma0',results.params[0])\n",
    "    FamaMacbeth.set_value(date,'gamma1',results.params[1])\n",
    "    FamaMacbeth.set_value(date,'gamma2',results.params[2])\n",
    "\n",
    "coefficientsAVG=FamaMacbeth.mean()\n",
    "coefficientsSTDEV=FamaMacbeth.std()\n",
    "samplesize=FamaMacbeth.shape[0]\n",
    "coefficientsAVG/(coefficientsSTDEV/(samplesize**0.5))"
   ]
  },
  {
   "cell_type": "markdown",
   "metadata": {},
   "source": [
    "What does that mean?\n",
    "\n",
    "The BEME rank is much more informative about the average return of the portfolio than the portfolio beta!\n",
    "\n",
    "The Model (CAPM) predicts that all we need to know is the beta to figure out the expected return. \n",
    "\n",
    "This test show that this is clearly not true. BEME rank has a very strong relation with average return, so strong in fact that makes our estiamte of the premium to exposure to the market statistically insignificant (gamma1)\n",
    "\n",
    "What does beating the market means?\n",
    "\n",
    "- It does not mean having an average return higher than the market--it can be jsut beta\n",
    "- it means having an average return that cannot be explained by exposure to the market. \n",
    "- The gamma2 different from zero means that a trading strategy based on the BEME rank can beat the market\n",
    "- It can generate average return that is unexplained by variation in risk (beta) .\n",
    "\n"
   ]
  },
  {
   "cell_type": "markdown",
   "metadata": {},
   "source": [
    "Using characteristics is nice because it provides guidance on why the model is failing\n",
    "\n",
    "But we can also test the model by simply asking if the portfolio alphas are small enough\n",
    "\n",
    "Recall that the mdoel predicts that the betas must explain the expected returns perfectly in a long enough sample\n",
    "\n",
    "\n",
    "- how to know if our sample is large enough?\n",
    "\n",
    "  - basically depends on how volatile are returns\n",
    "\n",
    "  - if returns are very volatile, you will need a very long sample to have precise estimates of average returns\n",
    "\n",
    "- Defining the strategy true alpha as\n",
    "\n",
    "$$\\alpha=E[R_t]-\\beta \\lambda$$\n",
    "\n",
    "and the estimate alpha (the error in the model) as\n",
    "\n",
    "$$\\hat{\\alpha}=\\frac{\\sum_{t=1}^TR_t}{T}-\\beta \\lambda$$\n",
    "\n",
    "\n",
    "$$\\sigma(\\hat{\\alpha})=\\sigma(R_t-\\beta R_{MKT})/\\sqrt{T}$$\n",
    "\n",
    "-  we can then use these estimates to put confidence bounds around our estimates of average returns. \n",
    "\n",
    "We know that\n",
    "\n",
    "$$\\alpha \\in [\\hat{\\alpha} -1.96\\sigma(\\hat{\\alpha}),\\hat{\\alpha} +1.96\\sigma(\\hat{\\alpha})]$$\n",
    "\n",
    "with 95% probability\n",
    "\n",
    "\n",
    "- How to estimate $\\sigma(R_t-\\beta R_{MKT})$?\n",
    "- Our earlier time-series regression did that for us\n",
    "- We just need to record the volatiltiy of the residuals\n",
    "\n",
    "\n",
    "- lets first save our alphas\n",
    "- I use cs to denote these are the alphas of the cross-sectional approach\n",
    "- We will cover the Time-series approach soon, and I promise you like it much more (much easier)\n",
    "- But the cross-sectional is useful to emphasize the intuition\n"
   ]
  },
  {
   "cell_type": "code",
   "execution_count": null,
   "metadata": {},
   "outputs": [],
   "source": [
    "y= Estimates['AvgReturns']\n",
    "x= sm.add_constant(Estimates['beta'])\n",
    "\n",
    "results= sm.OLS(y,x).fit()\n",
    "Estimates['alpha_cs']=Estimates['AvgReturns']-results.predict()"
   ]
  },
  {
   "cell_type": "code",
   "execution_count": null,
   "metadata": {},
   "outputs": [],
   "source": [
    "Estimates['std_cs']=Estimates['AvgReturns']*0\n",
    "x=sm.add_constant(Data['MKT'])\n",
    "\n",
    "for portfolios in Estimates.index:\n",
    "    y=Data[portfolios]\n",
    "    results = sm.OLS(y,x).fit()\n",
    "    # record slope estiamtes\n",
    "    Estimates.set_value(portfolios,'std_cs',results.resid.std())\n",
    "\n",
    "Estimates"
   ]
  },
  {
   "cell_type": "markdown",
   "metadata": {},
   "source": [
    "You should think \"std_cs\" as the volatility of the strategy that invests in the portfolio but hedges exposure to the market\n",
    "\n"
   ]
  },
  {
   "cell_type": "code",
   "execution_count": null,
   "metadata": {},
   "outputs": [],
   "source": [
    "y= Estimates['AvgReturns']\n",
    "x= (Estimates['beta'])\n",
    "results= sm.OLS(y,x,data=Estimates).fit()\n",
    "Estimates.plot(x='beta',y='AvgReturns',kind='scatter')\n",
    "betas=np.linspace(0,1.5,20)\n",
    "plt.plot(Estimates['beta'],results.predict())\n",
    "plt.errorbar(x,y,yerr=1.64*Estimates['std_cs']/(Data.shape[0]**0.5),fmt='o')\n",
    "\n",
    "for i in range(0,10):\n",
    "    plt.text(x[i],y[i],i+1)"
   ]
  },
  {
   "cell_type": "markdown",
   "metadata": {},
   "source": [
    "- Some of the alphas are small relative to how volatile is the residual\n",
    "\n",
    "- But some seem much more signifcant\n",
    "\n",
    "- It certainly true that the CAPM is not terrible in this sample, for these portfolios\n",
    "\n",
    "- to formally do a test for each individual asset we can construct a standard t-test using the abover error bars\n",
    "\n",
    "\n",
    "You basically do a standard t-test \n",
    "\n",
    "$$t=\\frac{\\hat{\\alpha} }{\\sigma(\\hat{\\alpha})}$$\n",
    "\n",
    "\n",
    "\n"
   ]
  },
  {
   "cell_type": "code",
   "execution_count": null,
   "metadata": {},
   "outputs": [],
   "source": [
    "Estimates.alpha_cs/(Estimates.std_cs/(Data.shape[0]**0.5))"
   ]
  }
 ],
 "metadata": {
  "kernelspec": {
   "display_name": "Python 3",
   "language": "python",
   "name": "python3"
  },
  "language_info": {
   "codemirror_mode": {
    "name": "ipython",
    "version": 3
   },
   "file_extension": ".py",
   "mimetype": "text/x-python",
   "name": "python",
   "nbconvert_exporter": "python",
   "pygments_lexer": "ipython3",
   "version": "3.6.5"
  }
 },
 "nbformat": 4,
 "nbformat_minor": 2
}

{
 "cells": [
  {
   "cell_type": "markdown",
   "metadata": {},
   "source": [
    "# Objectives\n",
    "\n",
    "\n",
    " \n",
    " 1. Alpha investing\n",
    " \n",
    "\n",
    "\n",
    "\n"
   ]
  },
  {
   "cell_type": "code",
   "execution_count": 77,
   "metadata": {},
   "outputs": [],
   "source": [
    "# First we start loading our favourite packages with the names we used to\n",
    "import numpy as np\n",
    "import pandas as pd\n",
    "%matplotlib inline\n",
    "import matplotlib.pyplot as plt\n",
    "import statsmodels.api as sm"
   ]
  },
  {
   "cell_type": "code",
   "execution_count": 78,
   "metadata": {},
   "outputs": [
    {
     "name": "stdout",
     "output_type": "stream",
     "text": [
      "            BEME1  BEME2  BEME3  BEME4  BEME5  BEME6  BEME7  BEME8  BEME9  \\\n",
      "2017-02-01   4.29   5.22   3.52   2.47   3.90   0.96   2.03   3.24   3.38   \n",
      "2017-03-01   0.97   2.04   0.30   0.31   0.07  -0.70  -0.99  -1.22  -3.09   \n",
      "2017-04-01   2.44   1.32   2.16   1.39   2.43  -0.52  -0.44  -0.56  -0.64   \n",
      "2017-05-01   2.59   2.86   3.10  -0.23   1.29  -0.33  -1.26  -0.70  -2.44   \n",
      "2017-06-01   0.29  -0.47   0.25   1.15  -0.69   1.21   1.67   2.57   4.31   \n",
      "\n",
      "            BEME10  \n",
      "2017-02-01    5.03  \n",
      "2017-03-01   -2.28  \n",
      "2017-04-01   -0.86  \n",
      "2017-05-01   -2.68  \n",
      "2017-06-01    5.70  \n",
      "            BEME1  BEME2  BEME3  BEME4  BEME5  BEME6  BEME7  BEME8  BEME9  \\\n",
      "1926-07-31   4.63   1.24  11.40   1.68   1.50   2.09   2.73   1.58   0.63   \n",
      "1926-08-31   0.15   2.18   6.40   2.38   1.58   2.63   4.46   4.94   8.31   \n",
      "1926-09-30  -0.11  -2.30   6.32   0.73  -0.89   0.38  -0.28   0.17  -2.16   \n",
      "1926-10-31  -3.78  -1.63  -5.01  -1.41  -2.31  -2.10  -4.65  -2.80  -5.46   \n",
      "1926-11-30   6.03   1.49   1.11   3.63   1.97   1.80   4.00   3.85   2.77   \n",
      "\n",
      "            BEME10  \n",
      "1926-07-31    0.52  \n",
      "1926-08-31    3.92  \n",
      "1926-09-30    0.44  \n",
      "1926-10-31   -1.17  \n",
      "1926-11-30    1.76  \n"
     ]
    }
   ],
   "source": [
    "# import market factor\n",
    "url = \"https://www.dropbox.com/s/9346pp2iu5prv8s/MonthlyFactors.csv?dl=1\"\n",
    "Factors = pd.read_csv(url,index_col=0, \n",
    "                         parse_dates=True,na_values=-99)\n",
    "Factors=Factors\n",
    "# keep only market and RF\n",
    "Factors=Factors.iloc[:,0:2]\n",
    "\n",
    "\n",
    "# import BEME (Book-equity over Market equity) sorted portfolios\n",
    "# BEME 1 has low book to market- > Known as growth stocks (example: Tesla, Amazon, Facebook)\n",
    "\n",
    "# BEME 10 has high book to market -> Known as value stocks ( old firms: utilities, banks, insurance companies)\n",
    "\n",
    "# but it changes....\n",
    "\n",
    "url = \"https://www.dropbox.com/s/gds8ho9rt1imw03/Valueportfolios.csv?dl=1\"\n",
    "parser = lambda date: pd.to_datetime(date,format='%Y%m')\n",
    "Data = pd.read_csv(url,index_col=0, \n",
    "                         parse_dates=True,date_parser=parser,skiprows=23,nrows=1092,na_values=-99.99)\n",
    "Data=Data\n",
    "print(Data.tail())\n",
    "# neeed to adjsut the date to end of month convention (Even thugh both returns for a given month are end-of-month to end of month,\n",
    "# when we importer the value portfolios python used as date the first day of the month . To fix that, we will convert it to end of month\n",
    "# It is important to do that before the merge. Why? )\n",
    "Data.index=Data.index+pd.tseries.offsets.MonthEnd()\n",
    "print(Data.head())\n",
    "# ready to merge with Market and RF\n",
    "\n",
    "Data=pd.merge(Data,Factors,left_index=True,right_index=True)\n",
    "\n",
    "# transform in excess returns\n",
    "Data=Data.subtract(Data['RF'],axis=0)\n",
    "Data=Data.drop(['RF'],axis=1)\n",
    "\n",
    "def TSregression(df,beg,end):\n",
    "    df=df[beg:end] \n",
    "    E=pd.DataFrame(df.mean())\n",
    "    E.columns=['AvgReturns']\n",
    "    x= sm.add_constant(df['MKT'])\n",
    "    E['std']=df.std()\n",
    "    E['alpha']=E['AvgReturns']*0\n",
    "    E['std_e']=E['AvgReturns']*0\n",
    "    E['beta']=E['AvgReturns']*0\n",
    "    E['std_beta']=E['AvgReturns']*0\n",
    "    E['std_alpha']=E['AvgReturns']*0\n",
    "    for portfolios in E.index[0:10]:\n",
    "        y= df[portfolios]\n",
    "        results= sm.OLS(y,x).fit()\n",
    "        E.at[portfolios,'alpha']=results.params[0]\n",
    "        E.at[portfolios,'beta']=results.params[1]\n",
    "        E.at[portfolios,'std_e']=results.resid.std()\n",
    "        E.at[portfolios,'std_alpha']=results.HC0_se[0]\n",
    "        E.at[portfolios,'std_beta']=results.HC0_se[1]          \n",
    "        E.at[portfolios,'pvalues']=results.pvalues[0] \n",
    "    \n",
    "    E['t-stat']=E['alpha']/E['std_alpha']\n",
    "    E.at['MKT','beta']=1 \n",
    "    return E"
   ]
  },
  {
   "cell_type": "code",
   "execution_count": 79,
   "metadata": {},
   "outputs": [
    {
     "data": {
      "text/html": [
       "<div>\n",
       "<style scoped>\n",
       "    .dataframe tbody tr th:only-of-type {\n",
       "        vertical-align: middle;\n",
       "    }\n",
       "\n",
       "    .dataframe tbody tr th {\n",
       "        vertical-align: top;\n",
       "    }\n",
       "\n",
       "    .dataframe thead th {\n",
       "        text-align: right;\n",
       "    }\n",
       "</style>\n",
       "<table border=\"1\" class=\"dataframe\">\n",
       "  <thead>\n",
       "    <tr style=\"text-align: right;\">\n",
       "      <th></th>\n",
       "      <th>AvgReturns</th>\n",
       "      <th>std</th>\n",
       "      <th>alpha</th>\n",
       "      <th>std_e</th>\n",
       "      <th>beta</th>\n",
       "      <th>std_beta</th>\n",
       "      <th>std_alpha</th>\n",
       "      <th>pvalues</th>\n",
       "      <th>t-stat</th>\n",
       "    </tr>\n",
       "  </thead>\n",
       "  <tbody>\n",
       "    <tr>\n",
       "      <th>BEME1</th>\n",
       "      <td>0.429151</td>\n",
       "      <td>5.044204</td>\n",
       "      <td>-0.123712</td>\n",
       "      <td>1.869759</td>\n",
       "      <td>1.061466</td>\n",
       "      <td>0.020843</td>\n",
       "      <td>0.074220</td>\n",
       "      <td>0.095136</td>\n",
       "      <td>-1.666833</td>\n",
       "    </tr>\n",
       "    <tr>\n",
       "      <th>BEME2</th>\n",
       "      <td>0.541836</td>\n",
       "      <td>4.623143</td>\n",
       "      <td>0.020034</td>\n",
       "      <td>1.349928</td>\n",
       "      <td>1.001831</td>\n",
       "      <td>0.015999</td>\n",
       "      <td>0.054048</td>\n",
       "      <td>0.707869</td>\n",
       "      <td>0.370668</td>\n",
       "    </tr>\n",
       "    <tr>\n",
       "      <th>BEME3</th>\n",
       "      <td>0.582701</td>\n",
       "      <td>4.581242</td>\n",
       "      <td>0.067784</td>\n",
       "      <td>1.396153</td>\n",
       "      <td>0.988611</td>\n",
       "      <td>0.016216</td>\n",
       "      <td>0.055828</td>\n",
       "      <td>0.220489</td>\n",
       "      <td>1.214158</td>\n",
       "    </tr>\n",
       "    <tr>\n",
       "      <th>BEME4</th>\n",
       "      <td>0.538225</td>\n",
       "      <td>4.619711</td>\n",
       "      <td>0.029787</td>\n",
       "      <td>1.667100</td>\n",
       "      <td>0.976173</td>\n",
       "      <td>0.021867</td>\n",
       "      <td>0.066858</td>\n",
       "      <td>0.651893</td>\n",
       "      <td>0.445523</td>\n",
       "    </tr>\n",
       "    <tr>\n",
       "      <th>BEME5</th>\n",
       "      <td>0.549583</td>\n",
       "      <td>4.432885</td>\n",
       "      <td>0.073302</td>\n",
       "      <td>1.833515</td>\n",
       "      <td>0.914432</td>\n",
       "      <td>0.021350</td>\n",
       "      <td>0.072508</td>\n",
       "      <td>0.312923</td>\n",
       "      <td>1.010958</td>\n",
       "    </tr>\n",
       "    <tr>\n",
       "      <th>BEME6</th>\n",
       "      <td>0.679460</td>\n",
       "      <td>4.343083</td>\n",
       "      <td>0.221188</td>\n",
       "      <td>1.944793</td>\n",
       "      <td>0.879855</td>\n",
       "      <td>0.023928</td>\n",
       "      <td>0.078129</td>\n",
       "      <td>0.004200</td>\n",
       "      <td>2.831076</td>\n",
       "    </tr>\n",
       "    <tr>\n",
       "      <th>BEME7</th>\n",
       "      <td>0.641960</td>\n",
       "      <td>4.567017</td>\n",
       "      <td>0.164307</td>\n",
       "      <td>2.115416</td>\n",
       "      <td>0.917066</td>\n",
       "      <td>0.031421</td>\n",
       "      <td>0.086505</td>\n",
       "      <td>0.050189</td>\n",
       "      <td>1.899401</td>\n",
       "    </tr>\n",
       "    <tr>\n",
       "      <th>BEME8</th>\n",
       "      <td>0.721574</td>\n",
       "      <td>4.626414</td>\n",
       "      <td>0.245044</td>\n",
       "      <td>2.257864</td>\n",
       "      <td>0.914911</td>\n",
       "      <td>0.032353</td>\n",
       "      <td>0.093092</td>\n",
       "      <td>0.006285</td>\n",
       "      <td>2.632271</td>\n",
       "    </tr>\n",
       "    <tr>\n",
       "      <th>BEME9</th>\n",
       "      <td>0.882006</td>\n",
       "      <td>4.939907</td>\n",
       "      <td>0.371075</td>\n",
       "      <td>2.378602</td>\n",
       "      <td>0.980958</td>\n",
       "      <td>0.030973</td>\n",
       "      <td>0.094467</td>\n",
       "      <td>0.000090</td>\n",
       "      <td>3.928115</td>\n",
       "    </tr>\n",
       "    <tr>\n",
       "      <th>BEME10</th>\n",
       "      <td>0.937114</td>\n",
       "      <td>6.087765</td>\n",
       "      <td>0.345374</td>\n",
       "      <td>3.452185</td>\n",
       "      <td>1.136108</td>\n",
       "      <td>0.045348</td>\n",
       "      <td>0.135874</td>\n",
       "      <td>0.011735</td>\n",
       "      <td>2.541878</td>\n",
       "    </tr>\n",
       "    <tr>\n",
       "      <th>MKT</th>\n",
       "      <td>0.520849</td>\n",
       "      <td>4.413586</td>\n",
       "      <td>0.000000</td>\n",
       "      <td>0.000000</td>\n",
       "      <td>1.000000</td>\n",
       "      <td>0.000000</td>\n",
       "      <td>0.000000</td>\n",
       "      <td>NaN</td>\n",
       "      <td>NaN</td>\n",
       "    </tr>\n",
       "  </tbody>\n",
       "</table>\n",
       "</div>"
      ],
      "text/plain": [
       "        AvgReturns       std     alpha     std_e      beta  std_beta  \\\n",
       "BEME1     0.429151  5.044204 -0.123712  1.869759  1.061466  0.020843   \n",
       "BEME2     0.541836  4.623143  0.020034  1.349928  1.001831  0.015999   \n",
       "BEME3     0.582701  4.581242  0.067784  1.396153  0.988611  0.016216   \n",
       "BEME4     0.538225  4.619711  0.029787  1.667100  0.976173  0.021867   \n",
       "BEME5     0.549583  4.432885  0.073302  1.833515  0.914432  0.021350   \n",
       "BEME6     0.679460  4.343083  0.221188  1.944793  0.879855  0.023928   \n",
       "BEME7     0.641960  4.567017  0.164307  2.115416  0.917066  0.031421   \n",
       "BEME8     0.721574  4.626414  0.245044  2.257864  0.914911  0.032353   \n",
       "BEME9     0.882006  4.939907  0.371075  2.378602  0.980958  0.030973   \n",
       "BEME10    0.937114  6.087765  0.345374  3.452185  1.136108  0.045348   \n",
       "MKT       0.520849  4.413586  0.000000  0.000000  1.000000  0.000000   \n",
       "\n",
       "        std_alpha   pvalues    t-stat  \n",
       "BEME1    0.074220  0.095136 -1.666833  \n",
       "BEME2    0.054048  0.707869  0.370668  \n",
       "BEME3    0.055828  0.220489  1.214158  \n",
       "BEME4    0.066858  0.651893  0.445523  \n",
       "BEME5    0.072508  0.312923  1.010958  \n",
       "BEME6    0.078129  0.004200  2.831076  \n",
       "BEME7    0.086505  0.050189  1.899401  \n",
       "BEME8    0.093092  0.006285  2.632271  \n",
       "BEME9    0.094467  0.000090  3.928115  \n",
       "BEME10   0.135874  0.011735  2.541878  \n",
       "MKT      0.000000       NaN       NaN  "
      ]
     },
     "execution_count": 79,
     "metadata": {},
     "output_type": "execute_result"
    }
   ],
   "source": [
    "TSresults=TSregression(Data,beg='1963',end='2016')\n",
    "TSresults"
   ]
  },
  {
   "cell_type": "markdown",
   "metadata": {},
   "source": [
    "# Alpha Investing\n",
    "\n",
    "\n",
    "\n",
    "1. Tracking portfolios\n",
    "2. Hedged portfolio or portable alpha portfolio\n",
    "3. Appraisal ratio can be recovered from the t-stat\n",
    "4. Optimal portfolio combination of alpha and market\n",
    "\n",
    "\n"
   ]
  },
  {
   "cell_type": "code",
   "execution_count": 7,
   "metadata": {},
   "outputs": [
    {
     "data": {
      "text/html": [
       "<div>\n",
       "<style scoped>\n",
       "    .dataframe tbody tr th:only-of-type {\n",
       "        vertical-align: middle;\n",
       "    }\n",
       "\n",
       "    .dataframe tbody tr th {\n",
       "        vertical-align: top;\n",
       "    }\n",
       "\n",
       "    .dataframe thead th {\n",
       "        text-align: right;\n",
       "    }\n",
       "</style>\n",
       "<table border=\"1\" class=\"dataframe\">\n",
       "  <thead>\n",
       "    <tr style=\"text-align: right;\">\n",
       "      <th></th>\n",
       "      <th>AvgReturns</th>\n",
       "      <th>std</th>\n",
       "      <th>alpha</th>\n",
       "      <th>std_e</th>\n",
       "      <th>beta</th>\n",
       "      <th>std_beta</th>\n",
       "      <th>std_alpha</th>\n",
       "      <th>pvalues</th>\n",
       "      <th>t-stat</th>\n",
       "    </tr>\n",
       "  </thead>\n",
       "  <tbody>\n",
       "    <tr>\n",
       "      <th>BEME1</th>\n",
       "      <td>0.429151</td>\n",
       "      <td>5.044204</td>\n",
       "      <td>-0.123712</td>\n",
       "      <td>1.869759</td>\n",
       "      <td>1.061466</td>\n",
       "      <td>0.020843</td>\n",
       "      <td>0.074220</td>\n",
       "      <td>0.095136</td>\n",
       "      <td>-1.666833</td>\n",
       "    </tr>\n",
       "    <tr>\n",
       "      <th>BEME2</th>\n",
       "      <td>0.541836</td>\n",
       "      <td>4.623143</td>\n",
       "      <td>0.020034</td>\n",
       "      <td>1.349928</td>\n",
       "      <td>1.001831</td>\n",
       "      <td>0.015999</td>\n",
       "      <td>0.054048</td>\n",
       "      <td>0.707869</td>\n",
       "      <td>0.370668</td>\n",
       "    </tr>\n",
       "    <tr>\n",
       "      <th>BEME3</th>\n",
       "      <td>0.582701</td>\n",
       "      <td>4.581242</td>\n",
       "      <td>0.067784</td>\n",
       "      <td>1.396153</td>\n",
       "      <td>0.988611</td>\n",
       "      <td>0.016216</td>\n",
       "      <td>0.055828</td>\n",
       "      <td>0.220489</td>\n",
       "      <td>1.214158</td>\n",
       "    </tr>\n",
       "    <tr>\n",
       "      <th>BEME4</th>\n",
       "      <td>0.538225</td>\n",
       "      <td>4.619711</td>\n",
       "      <td>0.029787</td>\n",
       "      <td>1.667100</td>\n",
       "      <td>0.976173</td>\n",
       "      <td>0.021867</td>\n",
       "      <td>0.066858</td>\n",
       "      <td>0.651893</td>\n",
       "      <td>0.445523</td>\n",
       "    </tr>\n",
       "    <tr>\n",
       "      <th>BEME5</th>\n",
       "      <td>0.549583</td>\n",
       "      <td>4.432885</td>\n",
       "      <td>0.073302</td>\n",
       "      <td>1.833515</td>\n",
       "      <td>0.914432</td>\n",
       "      <td>0.021350</td>\n",
       "      <td>0.072508</td>\n",
       "      <td>0.312923</td>\n",
       "      <td>1.010958</td>\n",
       "    </tr>\n",
       "    <tr>\n",
       "      <th>BEME6</th>\n",
       "      <td>0.679460</td>\n",
       "      <td>4.343083</td>\n",
       "      <td>0.221188</td>\n",
       "      <td>1.944793</td>\n",
       "      <td>0.879855</td>\n",
       "      <td>0.023928</td>\n",
       "      <td>0.078129</td>\n",
       "      <td>0.004200</td>\n",
       "      <td>2.831076</td>\n",
       "    </tr>\n",
       "    <tr>\n",
       "      <th>BEME7</th>\n",
       "      <td>0.641960</td>\n",
       "      <td>4.567017</td>\n",
       "      <td>0.164307</td>\n",
       "      <td>2.115416</td>\n",
       "      <td>0.917066</td>\n",
       "      <td>0.031421</td>\n",
       "      <td>0.086505</td>\n",
       "      <td>0.050189</td>\n",
       "      <td>1.899401</td>\n",
       "    </tr>\n",
       "    <tr>\n",
       "      <th>BEME8</th>\n",
       "      <td>0.721574</td>\n",
       "      <td>4.626414</td>\n",
       "      <td>0.245044</td>\n",
       "      <td>2.257864</td>\n",
       "      <td>0.914911</td>\n",
       "      <td>0.032353</td>\n",
       "      <td>0.093092</td>\n",
       "      <td>0.006285</td>\n",
       "      <td>2.632271</td>\n",
       "    </tr>\n",
       "    <tr>\n",
       "      <th>BEME9</th>\n",
       "      <td>0.882006</td>\n",
       "      <td>4.939907</td>\n",
       "      <td>0.371075</td>\n",
       "      <td>2.378602</td>\n",
       "      <td>0.980958</td>\n",
       "      <td>0.030973</td>\n",
       "      <td>0.094467</td>\n",
       "      <td>0.000090</td>\n",
       "      <td>3.928115</td>\n",
       "    </tr>\n",
       "    <tr>\n",
       "      <th>BEME10</th>\n",
       "      <td>0.937114</td>\n",
       "      <td>6.087765</td>\n",
       "      <td>0.345374</td>\n",
       "      <td>3.452185</td>\n",
       "      <td>1.136108</td>\n",
       "      <td>0.045348</td>\n",
       "      <td>0.135874</td>\n",
       "      <td>0.011735</td>\n",
       "      <td>2.541878</td>\n",
       "    </tr>\n",
       "    <tr>\n",
       "      <th>MKT</th>\n",
       "      <td>0.520849</td>\n",
       "      <td>4.413586</td>\n",
       "      <td>0.000000</td>\n",
       "      <td>0.000000</td>\n",
       "      <td>1.000000</td>\n",
       "      <td>0.000000</td>\n",
       "      <td>0.000000</td>\n",
       "      <td>NaN</td>\n",
       "      <td>NaN</td>\n",
       "    </tr>\n",
       "  </tbody>\n",
       "</table>\n",
       "</div>"
      ],
      "text/plain": [
       "        AvgReturns       std     alpha     std_e      beta  std_beta  \\\n",
       "BEME1     0.429151  5.044204 -0.123712  1.869759  1.061466  0.020843   \n",
       "BEME2     0.541836  4.623143  0.020034  1.349928  1.001831  0.015999   \n",
       "BEME3     0.582701  4.581242  0.067784  1.396153  0.988611  0.016216   \n",
       "BEME4     0.538225  4.619711  0.029787  1.667100  0.976173  0.021867   \n",
       "BEME5     0.549583  4.432885  0.073302  1.833515  0.914432  0.021350   \n",
       "BEME6     0.679460  4.343083  0.221188  1.944793  0.879855  0.023928   \n",
       "BEME7     0.641960  4.567017  0.164307  2.115416  0.917066  0.031421   \n",
       "BEME8     0.721574  4.626414  0.245044  2.257864  0.914911  0.032353   \n",
       "BEME9     0.882006  4.939907  0.371075  2.378602  0.980958  0.030973   \n",
       "BEME10    0.937114  6.087765  0.345374  3.452185  1.136108  0.045348   \n",
       "MKT       0.520849  4.413586  0.000000  0.000000  1.000000  0.000000   \n",
       "\n",
       "        std_alpha   pvalues    t-stat  \n",
       "BEME1    0.074220  0.095136 -1.666833  \n",
       "BEME2    0.054048  0.707869  0.370668  \n",
       "BEME3    0.055828  0.220489  1.214158  \n",
       "BEME4    0.066858  0.651893  0.445523  \n",
       "BEME5    0.072508  0.312923  1.010958  \n",
       "BEME6    0.078129  0.004200  2.831076  \n",
       "BEME7    0.086505  0.050189  1.899401  \n",
       "BEME8    0.093092  0.006285  2.632271  \n",
       "BEME9    0.094467  0.000090  3.928115  \n",
       "BEME10   0.135874  0.011735  2.541878  \n",
       "MKT      0.000000       NaN       NaN  "
      ]
     },
     "execution_count": 7,
     "metadata": {},
     "output_type": "execute_result"
    }
   ],
   "source": [
    "TSresults"
   ]
  },
  {
   "cell_type": "markdown",
   "metadata": {},
   "source": [
    "### Tracking portfolios\n",
    "\n",
    "Are the portfolios that use a set of factors to track the returns on an asset.\n",
    "\n",
    "It can be used as way to construct hedges for corporations, hedges for trading strategies, or ways to define a benchmark for an active management.\n",
    "\n",
    "It is used to construct what people in the industry calls \"portable alpha\", because it allows one to separate the alpha of the factor exposure of a trading strategy\n",
    "\n",
    "The idea of the tracking portoflio is to track the component of an asset return that can be obtained by investing in a simple traded factor. For now, this means the market portfolio\n",
    "\n",
    "How to do it?\n",
    "\n",
    "For a given trading strategy consider the following relation\n",
    "\n",
    "$$R^e_i=\\alpha_i+\\beta_iR^{MKT}+\\epsilon_i, $$\n",
    "\n",
    "with $var(\\epsilon_i)=\\sigma_e^2$\n",
    "\n",
    "the i Tracking portfolio is $\\beta_iW^{MKT}$, where $W^{MKT}$ is the vector of weights of the market portfolio.\n",
    "\n",
    "of if one is trading directly on the total market portfolio as an asset, the tracking portfolio weight on the market portfolio asset is simply $\\beta_i$\n"
   ]
  },
  {
   "cell_type": "code",
   "execution_count": 86,
   "metadata": {
    "scrolled": true
   },
   "outputs": [
    {
     "data": {
      "text/plain": [
       "<matplotlib.collections.PathCollection at 0x16f0f2f4dd8>"
      ]
     },
     "execution_count": 86,
     "metadata": {},
     "output_type": "execute_result"
    },
    {
     "data": {
      "image/png": "[encoded data removed]",
      "text/plain": [
       "<Figure size 432x288 with 1 Axes>"
      ]
     },
     "metadata": {},
     "output_type": "display_data"
    }
   ],
   "source": [
    "# Returns on the tracking portfolio\n",
    "\n",
    "Tracking=Data['MKT']*TSresults.loc['BEME10','beta']\n",
    "\n",
    "\n",
    "# (Tracking/100+1).cumprod().plot()\n",
    "# (Data['BEME10']/100+1).cumprod().plot()\n",
    "\n",
    "plt.scatter(x=Data['BEME10'],y=Tracking)"
   ]
  },
  {
   "cell_type": "markdown",
   "metadata": {},
   "source": [
    "2.The Hedged strategy return is (also called portable alpha)\n",
    "\n",
    "$$R^{hedged}_i=R^e_i-\\beta_iR^{MKT}$$\n",
    "\n",
    "where this portoflio can be constructed simply by $W^i-\\beta^iW^{MKT}$, the weights of the trading strategy minus the tracking portfolio weights. Thik of the excess returns taking out risk-free rate effects and the hedged portfolio taking out market factor effects\n",
    "\n",
    "a few observations\n",
    "\n",
    "- the mean return of the hedge portfolios is just the Time series alpha!\n",
    "\n",
    "- the vol of the strategy is the vol of the residuals of the Time series regression\n",
    "\n",
    "- If you run a regression on the market you will see that the hedged portfolios have $\\beta=0$. This is by construction That is the reason sometimes people call these portfolios \"Pure alpha\" or a Bridgwater calls it, \"Portable alpha\"\n",
    "\n",
    "- By construction, becuase we hedged market risk, The entire SR is enhancing the MV frontier relative to the CAPM\n"
   ]
  },
  {
   "cell_type": "code",
   "execution_count": 87,
   "metadata": {},
   "outputs": [
    {
     "data": {
      "text/plain": [
       "<matplotlib.axes._subplots.AxesSubplot at 0x16f0f331550>"
      ]
     },
     "execution_count": 87,
     "metadata": {},
     "output_type": "execute_result"
    },
    {
     "data": {
      "image/png": "[encoded data removed]",
      "text/plain": [
       "<Figure size 432x288 with 1 Axes>"
      ]
     },
     "metadata": {},
     "output_type": "display_data"
    }
   ],
   "source": [
    "# Returns on the hedged portfolio\n",
    "# portfolio - tracking portfoloio\n",
    "\n",
    "Hedged=Data['BEME10']-Tracking\n",
    "(Hedged/100+1).cumprod().plot()"
   ]
  },
  {
   "cell_type": "code",
   "execution_count": 27,
   "metadata": {
    "scrolled": false
   },
   "outputs": [
    {
     "data": {
      "text/plain": [
       "0.34537384159075096"
      ]
     },
     "execution_count": 27,
     "metadata": {},
     "output_type": "execute_result"
    }
   ],
   "source": [
    "Hedged['1963':'2016'].mean()"
   ]
  },
  {
   "cell_type": "markdown",
   "metadata": {},
   "source": [
    "3.Appraisal is the sharpe ratio on the hedged portfolio\n",
    "\n",
    "$$Appraisal=\\alpha_i/\\sigma_i=E[R^{Hedged}]/\\sigma(R^{Hedged})$$\n",
    "\n"
   ]
  },
  {
   "cell_type": "code",
   "execution_count": 88,
   "metadata": {},
   "outputs": [
    {
     "name": "stdout",
     "output_type": "stream",
     "text": [
      "0.10004499152314456\n",
      "0.10004499152314464\n"
     ]
    }
   ],
   "source": [
    "# Aprraisal ratio is the sharpe ratio of hedged portfolio\n",
    "\n",
    "# sharpe ratio of the asset after you purge of market exposure\n",
    "\n",
    "print(Hedged['1963':'2016'].mean()/Hedged['1963':'2016'].std())\n",
    "\n",
    "print(TSresults.loc['BEME10','alpha']/TSresults.loc['BEME10','std_e'])"
   ]
  },
  {
   "cell_type": "markdown",
   "metadata": {},
   "source": [
    "There is a tight link between t-stats of time-series regressions and appraisal ratios\n",
    "\n",
    "$$Appraisal=\\alpha_i/\\sigma_i$$\n",
    "\n",
    "Note that $\\sigma(\\alpha)=\\sigma(\\epsilon_i)/\\sqrt{T}$, therefore\n",
    "\n",
    "$$Appraisal=\\frac{\\alpha_i}{\\sigma(\\alpha)\\sqrt{T}}=\\frac{T_{stat}}{\\sqrt{T}}$$"
   ]
  },
  {
   "cell_type": "code",
   "execution_count": 89,
   "metadata": {},
   "outputs": [
    {
     "name": "stdout",
     "output_type": "stream",
     "text": [
      "0.10004499152314456\n",
      "0.09985438132144955\n"
     ]
    }
   ],
   "source": [
    "# link with t-statistic\n",
    "\n",
    "\n",
    "print(Hedged['1963':'2016'].mean()/Hedged['1963':'2016'].std())\n",
    "\n",
    "print((TSresults.loc['BEME10','alpha']/TSresults.loc['BEME10','std_alpha'])/Data['1963':'2016'].shape[0]**0.5)"
   ]
  },
  {
   "cell_type": "markdown",
   "metadata": {},
   "source": [
    "\n",
    "4.Optimal portfolio combination of alpha and market\n",
    "\n",
    "\n",
    "- How to optimally combine the Hedged portfolio with the Market?\n",
    "\n",
    "- Recall our formula for the tangency portfolio weights derived in Lecture 3.\n",
    "\n",
    "$$W^*\\propto Var(R^e)^{-1}E[R^e]$$\n",
    "\n",
    "- now this becomes really simple because the covariance of the new Hedged-MVE strategy is zero with the market\n",
    "\n",
    "\n",
    "$$Var(R^e)=\\left[\\begin{array}{cc} \\sigma^2(R_{MKT}^e) & 0\\\\0 & \\sigma^2(R_{Hedged,i})\\end{array}\\right]$$\n",
    "\n",
    "\n",
    "\n",
    "- So the optimal weights are just\n",
    "\n",
    "$$W^* \\propto \\left[\\begin{array}{c} \\frac{E[R^e_{MKT}]}{\\sigma^2(R_{MKT}^e)} \\\\ \\frac{\\alpha}{\\sigma^2(R_{Hedged,i})}\\end{array}\\right]$$\n",
    "\n",
    "\n",
    "- You invest in each strategy according to the strengh of the risk-return trade-off in the strategy\n",
    "\n",
    "- The symbol $\\propto$ means that you have to invest proportionally\n",
    "\n",
    "- But how much you invest overall will depend on how much risk you want to take\n",
    "\n",
    "\n",
    "\n"
   ]
  },
  {
   "cell_type": "code",
   "execution_count": 91,
   "metadata": {},
   "outputs": [
    {
     "data": {
      "text/plain": [
       "array([0.47987896, 0.52012104])"
      ]
     },
     "execution_count": 91,
     "metadata": {},
     "output_type": "execute_result"
    }
   ],
   "source": [
    "# optimal combination\n",
    "\n",
    "W=np.array([Data['1963':'2016'].MKT.mean()/Data['1963':'2016'].MKT.std()**2,\\\n",
    "            Hedged['1963':'2016'].mean()/Hedged['1963':'2016'].std()**2])\n",
    "W/W.sum()"
   ]
  },
  {
   "cell_type": "code",
   "execution_count": 92,
   "metadata": {
    "scrolled": true
   },
   "outputs": [
    {
     "data": {
      "text/plain": [
       "<matplotlib.axes._subplots.AxesSubplot at 0x16f0f3e3198>"
      ]
     },
     "execution_count": 92,
     "metadata": {},
     "output_type": "execute_result"
    },
    {
     "data": {
      "image/png": "[encoded data removed]",
      "text/plain": [
       "<Figure size 432x288 with 1 Axes>"
      ]
     },
     "metadata": {},
     "output_type": "display_data"
    }
   ],
   "source": [
    "# construc optimal portfolio levered to have the same vol as the market. Compare against the market\n",
    "\n",
    "Optimalportfolio=W[0]*Data['MKT']+W[1]*Data['BEME10']\n",
    "Optimalportfolio=Optimalportfolio*Data.MKT.std()/Optimalportfolio.std()\n",
    "(Optimalportfolio['1963':'2016']/100+1).cumprod().plot()\n",
    "(Data.MKT['1963':'2016']/100+1).cumprod().plot()\n"
   ]
  },
  {
   "cell_type": "markdown",
   "metadata": {},
   "source": [
    "5. How high a SR you get in the end?\n",
    "\n",
    "  - You can compute your final SR by brute force. Simply computing the SR of the new portfolio.\n",
    "  - Or more cleverly, you can find the resulting SR of optimally combining any two strategies that are ORTHOGONAL to each other as follows\n",
    "\n",
    "\n",
    "$$SR_{final}=\\sqrt{SR_{MKT}^2+SR_{Hedged}^2}$$\n",
    "\n",
    "  - This is very general and  can be used any time you run time-series test."
   ]
  },
  {
   "cell_type": "code",
   "execution_count": 69,
   "metadata": {},
   "outputs": [
    {
     "name": "stdout",
     "output_type": "stream",
     "text": [
      "0.14584865961163107\n"
     ]
    },
    {
     "data": {
      "text/plain": [
       "0.1547108353463625"
      ]
     },
     "execution_count": 69,
     "metadata": {},
     "output_type": "execute_result"
    }
   ],
   "source": [
    "# final SR\n",
    "# empirical\n",
    "print(Optimalportfolio['1963':'2016'].mean()/Optimalportfolio['1963':'2016'].std())\n",
    "# analytical formula\n",
    "\n",
    "((Data['1963':'2016'].MKT.mean()/Data['1963':'2016'].MKT.std())**2\\\n",
    "+(Hedged['1963':'2016'].mean()/Hedged['1963':'2016'].std())**2)**0.5\n"
   ]
  },
  {
   "cell_type": "markdown",
   "metadata": {},
   "source": [
    "### A very neat trick: How to go from regression Tables to Final Sharpe Ratios\n",
    "\n",
    "Inputs\n",
    "- SR on the factor (market)\n",
    "- t-stat on the alpha of a particular strategy on the factor\n",
    "- T= total number of time-periods\n",
    "\n",
    "- That is you run\n",
    "$$R^e_i=\\alpha_i+\\beta_iR^{MKT}+\\epsilon_i$$\n",
    "\n",
    "Once you have the t-stat on the alpha, this gives you the SR on the hedged strategy once you divide by $\\sqrt{T}$, i.e. we have that\n",
    "\n",
    "$$SR(R^{Hedged})=t(\\alpha)/\\sqrt{T}$$\n",
    "\n",
    "- using our fromula above the SR of the optimal portfolio combination can be written as\n",
    "\n",
    "\n",
    "$$SR_{final}=\\sqrt{SR(R^{MKT})^2+SR(R^{Hedged})^2}$$\n",
    "\n",
    "$$SR_{final}=\\sqrt{SR(R^{MKT})^2+(\\alpha/\\sigma(\\epsilon))^2}$$\n",
    "\n",
    "$$SR_{final}=\\sqrt{SR(R^{MKT})^2+(t(\\alpha)/\\sqrt{T})^2}$$\n",
    "\n",
    "\n",
    "\n",
    "- This gives you a powerfull way to evaluate whether a given anomally meaningfully expand the investment opportunity set\n",
    "\n",
    "- Recall that a 10% increase in SR means you can either earn 10% higher return while bearing the same vol or get the same return while bearing 10% less vol"
   ]
  },
  {
   "cell_type": "markdown",
   "metadata": {},
   "source": [
    "# Data mining considerations.\n",
    "\n",
    "You have data up to October/2018 and want to hedge market exposure on your trading strategy in the month of November/2018\n",
    "\n",
    "You run a time-series regression using the entire sample and find your strategy had a beta of 0.7\n",
    "\n",
    "Does shorting 0.7*market portfolio guarantee that your strategy will have zero beta in the month of november?\n",
    "\n",
    "\n",
    "\n"
   ]
  }
 ],
 "metadata": {
  "kernelspec": {
   "display_name": "Python 3",
   "language": "python",
   "name": "python3"
  },
  "language_info": {
   "codemirror_mode": {
    "name": "ipython",
    "version": 3
   },
   "file_extension": ".py",
   "mimetype": "text/x-python",
   "name": "python",
   "nbconvert_exporter": "python",
   "pygments_lexer": "ipython3",
   "version": "3.6.5"
  }
 },
 "nbformat": 4,
 "nbformat_minor": 2
}

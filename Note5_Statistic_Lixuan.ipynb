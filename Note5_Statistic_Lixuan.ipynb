{
 "cells": [
  {
   "cell_type": "markdown",
   "metadata": {},
   "source": [
    "包括内容：统计包，pdf/cdf，t-test,单元/多元回归"
   ]
  },
  {
   "cell_type": "code",
   "execution_count": 1,
   "metadata": {
    "collapsed": true
   },
   "outputs": [],
   "source": [
    "import pandas as pd\n",
    "import numpy as np\n",
    "%matplotlib inline\n",
    "import matplotlib.pyplot as plt"
   ]
  },
  {
   "cell_type": "markdown",
   "metadata": {},
   "source": [
    "这一章主要讲的是两种做回归的方法。各有千秋。用到了scipy.stats包和statsmodels.api，分别对应linregress方程和OLS方程。是一个统计方程包。"
   ]
  },
  {
   "cell_type": "code",
   "execution_count": 2,
   "metadata": {},
   "outputs": [
    {
     "name": "stderr",
     "output_type": "stream",
     "text": [
      "C:\\Users\\unax9\\Anaconda3\\lib\\site-packages\\statsmodels\\compat\\pandas.py:56: FutureWarning: The pandas.core.datetools module is deprecated and will be removed in a future version. Please use the pandas.tseries module instead.\n",
      "  from pandas.core import datetools\n"
     ]
    }
   ],
   "source": [
    "import scipy.stats as stats\n",
    "import statsmodels.api as sm"
   ]
  },
  {
   "cell_type": "markdown",
   "metadata": {},
   "source": [
    "stats还有一个功能是产生一个分布。"
   ]
  },
  {
   "cell_type": "code",
   "execution_count": 3,
   "metadata": {
    "scrolled": true
   },
   "outputs": [
    {
     "data": {
      "text/plain": [
       "<scipy.stats._distn_infrastructure.rv_frozen at 0x2044f7faa58>"
      ]
     },
     "execution_count": 3,
     "metadata": {},
     "output_type": "execute_result"
    }
   ],
   "source": [
    "mu=0\n",
    "std=1\n",
    "p=stats.norm(mu,std)\n",
    "p                     #p为一个分布变量，可以直接计算该分布下的一些值"
   ]
  },
  {
   "cell_type": "code",
   "execution_count": 4,
   "metadata": {
    "scrolled": false
   },
   "outputs": [
    {
     "name": "stdout",
     "output_type": "stream",
     "text": [
      "0.241970724519\n"
     ]
    },
    {
     "data": {
      "image/png": "[encoded data removed]",
      "text/plain": [
       "<matplotlib.figure.Figure at 0x2044f8062e8>"
      ]
     },
     "metadata": {},
     "output_type": "display_data"
    }
   ],
   "source": [
    "#计算标准分布下的pdf\n",
    "grid=np.linspace(mu-3*std,mu+3*std,1000) #产生1000个范围在均值左右三倍标准差范围内的数\n",
    "plt.plot(grid, p.pdf(grid))\n",
    "print(p.pdf(1))"
   ]
  },
  {
   "cell_type": "code",
   "execution_count": 5,
   "metadata": {},
   "outputs": [
    {
     "name": "stdout",
     "output_type": "stream",
     "text": [
      "0.841344746069\n",
      "1 sigma interval: 0.6827\n",
      "95% confidence interval: 0.95\n",
      "99% confidence interval: 0.99\n"
     ]
    },
    {
     "data": {
      "image/png": "[encoded data removed]",
      "text/plain": [
       "<matplotlib.figure.Figure at 0x2044e1012e8>"
      ]
     },
     "metadata": {},
     "output_type": "display_data"
    }
   ],
   "source": [
    "#计算标准分布下的cdf\n",
    "grid=np.linspace(mu-3*std,mu+3*std,1000) \n",
    "plt.plot(grid, p.cdf(grid))\n",
    "print(p.cdf(1))\n",
    "print(\"1 sigma interval: \" + str( round(p.cdf(1)-p.cdf(-1),4) ) )\n",
    "print(\"95% confidence interval: \" + str( round(p.cdf(1.96)-p.cdf(-1.96),4) ) )\n",
    "print(\"99% confidence interval: \" + str( round(p.cdf(2.575)-p.cdf(-2.575),4) ) )"
   ]
  },
  {
   "cell_type": "code",
   "execution_count": 6,
   "metadata": {
    "scrolled": true
   },
   "outputs": [
    {
     "data": {
      "text/html": [
       "<div>\n",
       "<style>\n",
       "    .dataframe thead tr:only-child th {\n",
       "        text-align: right;\n",
       "    }\n",
       "\n",
       "    .dataframe thead th {\n",
       "        text-align: left;\n",
       "    }\n",
       "\n",
       "    .dataframe tbody tr th {\n",
       "        vertical-align: top;\n",
       "    }\n",
       "</style>\n",
       "<table border=\"1\" class=\"dataframe\">\n",
       "  <thead>\n",
       "    <tr style=\"text-align: right;\">\n",
       "      <th></th>\n",
       "      <th>RF</th>\n",
       "      <th>MKT</th>\n",
       "      <th>SMB</th>\n",
       "      <th>HML</th>\n",
       "      <th>Mom</th>\n",
       "    </tr>\n",
       "    <tr>\n",
       "      <th>Date</th>\n",
       "      <th></th>\n",
       "      <th></th>\n",
       "      <th></th>\n",
       "      <th></th>\n",
       "      <th></th>\n",
       "    </tr>\n",
       "  </thead>\n",
       "  <tbody>\n",
       "    <tr>\n",
       "      <th>7/31/1926</th>\n",
       "      <td>0.22</td>\n",
       "      <td>3.18</td>\n",
       "      <td>-2.30</td>\n",
       "      <td>-2.87</td>\n",
       "      <td>NaN</td>\n",
       "    </tr>\n",
       "    <tr>\n",
       "      <th>8/31/1926</th>\n",
       "      <td>0.25</td>\n",
       "      <td>2.89</td>\n",
       "      <td>-1.40</td>\n",
       "      <td>4.19</td>\n",
       "      <td>NaN</td>\n",
       "    </tr>\n",
       "    <tr>\n",
       "      <th>9/30/1926</th>\n",
       "      <td>0.23</td>\n",
       "      <td>0.59</td>\n",
       "      <td>-1.32</td>\n",
       "      <td>0.01</td>\n",
       "      <td>NaN</td>\n",
       "    </tr>\n",
       "    <tr>\n",
       "      <th>10/31/1926</th>\n",
       "      <td>0.32</td>\n",
       "      <td>-2.92</td>\n",
       "      <td>0.04</td>\n",
       "      <td>0.51</td>\n",
       "      <td>NaN</td>\n",
       "    </tr>\n",
       "    <tr>\n",
       "      <th>11/30/1926</th>\n",
       "      <td>0.31</td>\n",
       "      <td>2.84</td>\n",
       "      <td>-0.20</td>\n",
       "      <td>-0.35</td>\n",
       "      <td>NaN</td>\n",
       "    </tr>\n",
       "  </tbody>\n",
       "</table>\n",
       "</div>"
      ],
      "text/plain": [
       "              RF   MKT   SMB   HML  Mom\n",
       "Date                                   \n",
       "7/31/1926   0.22  3.18 -2.30 -2.87  NaN\n",
       "8/31/1926   0.25  2.89 -1.40  4.19  NaN\n",
       "9/30/1926   0.23  0.59 -1.32  0.01  NaN\n",
       "10/31/1926  0.32 -2.92  0.04  0.51  NaN\n",
       "11/30/1926  0.31  2.84 -0.20 -0.35  NaN"
      ]
     },
     "execution_count": 6,
     "metadata": {},
     "output_type": "execute_result"
    }
   ],
   "source": [
    "url=\"https://www.dropbox.com/s/9346pp2iu5prv8s/MonthlyFactors.csv?dl=1\" \n",
    "Data = pd.read_csv(url, index_col=0,na_values=-99)\n",
    "Data.head()"
   ]
  },
  {
   "cell_type": "markdown",
   "metadata": {},
   "source": [
    "假设我们要做MKT Premium 和SMB的关系，第一步求MKT Premium："
   ]
  },
  {
   "cell_type": "code",
   "execution_count": 7,
   "metadata": {
    "scrolled": true
   },
   "outputs": [
    {
     "data": {
      "text/html": [
       "<div>\n",
       "<style>\n",
       "    .dataframe thead tr:only-child th {\n",
       "        text-align: right;\n",
       "    }\n",
       "\n",
       "    .dataframe thead th {\n",
       "        text-align: left;\n",
       "    }\n",
       "\n",
       "    .dataframe tbody tr th {\n",
       "        vertical-align: top;\n",
       "    }\n",
       "</style>\n",
       "<table border=\"1\" class=\"dataframe\">\n",
       "  <thead>\n",
       "    <tr style=\"text-align: right;\">\n",
       "      <th></th>\n",
       "      <th>RF</th>\n",
       "      <th>MKT</th>\n",
       "      <th>SMB</th>\n",
       "      <th>HML</th>\n",
       "      <th>Mom</th>\n",
       "      <th>Pre</th>\n",
       "    </tr>\n",
       "    <tr>\n",
       "      <th>Date</th>\n",
       "      <th></th>\n",
       "      <th></th>\n",
       "      <th></th>\n",
       "      <th></th>\n",
       "      <th></th>\n",
       "      <th></th>\n",
       "    </tr>\n",
       "  </thead>\n",
       "  <tbody>\n",
       "    <tr>\n",
       "      <th>7/31/1926</th>\n",
       "      <td>0.22</td>\n",
       "      <td>3.18</td>\n",
       "      <td>-2.30</td>\n",
       "      <td>-2.87</td>\n",
       "      <td>NaN</td>\n",
       "      <td>2.96</td>\n",
       "    </tr>\n",
       "    <tr>\n",
       "      <th>8/31/1926</th>\n",
       "      <td>0.25</td>\n",
       "      <td>2.89</td>\n",
       "      <td>-1.40</td>\n",
       "      <td>4.19</td>\n",
       "      <td>NaN</td>\n",
       "      <td>2.64</td>\n",
       "    </tr>\n",
       "    <tr>\n",
       "      <th>9/30/1926</th>\n",
       "      <td>0.23</td>\n",
       "      <td>0.59</td>\n",
       "      <td>-1.32</td>\n",
       "      <td>0.01</td>\n",
       "      <td>NaN</td>\n",
       "      <td>0.36</td>\n",
       "    </tr>\n",
       "    <tr>\n",
       "      <th>10/31/1926</th>\n",
       "      <td>0.32</td>\n",
       "      <td>-2.92</td>\n",
       "      <td>0.04</td>\n",
       "      <td>0.51</td>\n",
       "      <td>NaN</td>\n",
       "      <td>-3.24</td>\n",
       "    </tr>\n",
       "    <tr>\n",
       "      <th>11/30/1926</th>\n",
       "      <td>0.31</td>\n",
       "      <td>2.84</td>\n",
       "      <td>-0.20</td>\n",
       "      <td>-0.35</td>\n",
       "      <td>NaN</td>\n",
       "      <td>2.53</td>\n",
       "    </tr>\n",
       "  </tbody>\n",
       "</table>\n",
       "</div>"
      ],
      "text/plain": [
       "              RF   MKT   SMB   HML  Mom   Pre\n",
       "Date                                         \n",
       "7/31/1926   0.22  3.18 -2.30 -2.87  NaN  2.96\n",
       "8/31/1926   0.25  2.89 -1.40  4.19  NaN  2.64\n",
       "9/30/1926   0.23  0.59 -1.32  0.01  NaN  0.36\n",
       "10/31/1926  0.32 -2.92  0.04  0.51  NaN -3.24\n",
       "11/30/1926  0.31  2.84 -0.20 -0.35  NaN  2.53"
      ]
     },
     "execution_count": 7,
     "metadata": {},
     "output_type": "execute_result"
    }
   ],
   "source": [
    "Data['Pre']=Data['MKT']-Data['RF']  #第一种方法直接新建列并用market rate减rf\n",
    "Data.head()"
   ]
  },
  {
   "cell_type": "code",
   "execution_count": 8,
   "metadata": {
    "scrolled": true
   },
   "outputs": [
    {
     "data": {
      "text/html": [
       "<div>\n",
       "<style>\n",
       "    .dataframe thead tr:only-child th {\n",
       "        text-align: right;\n",
       "    }\n",
       "\n",
       "    .dataframe thead th {\n",
       "        text-align: left;\n",
       "    }\n",
       "\n",
       "    .dataframe tbody tr th {\n",
       "        vertical-align: top;\n",
       "    }\n",
       "</style>\n",
       "<table border=\"1\" class=\"dataframe\">\n",
       "  <thead>\n",
       "    <tr style=\"text-align: right;\">\n",
       "      <th></th>\n",
       "      <th>MKT</th>\n",
       "      <th>SMB</th>\n",
       "      <th>HML</th>\n",
       "    </tr>\n",
       "    <tr>\n",
       "      <th>Date</th>\n",
       "      <th></th>\n",
       "      <th></th>\n",
       "      <th></th>\n",
       "    </tr>\n",
       "  </thead>\n",
       "  <tbody>\n",
       "    <tr>\n",
       "      <th>7/31/1926</th>\n",
       "      <td>2.96</td>\n",
       "      <td>-2.52</td>\n",
       "      <td>-3.09</td>\n",
       "    </tr>\n",
       "    <tr>\n",
       "      <th>8/31/1926</th>\n",
       "      <td>2.64</td>\n",
       "      <td>-1.65</td>\n",
       "      <td>3.94</td>\n",
       "    </tr>\n",
       "    <tr>\n",
       "      <th>9/30/1926</th>\n",
       "      <td>0.36</td>\n",
       "      <td>-1.55</td>\n",
       "      <td>-0.22</td>\n",
       "    </tr>\n",
       "    <tr>\n",
       "      <th>10/31/1926</th>\n",
       "      <td>-3.24</td>\n",
       "      <td>-0.28</td>\n",
       "      <td>0.19</td>\n",
       "    </tr>\n",
       "    <tr>\n",
       "      <th>11/30/1926</th>\n",
       "      <td>2.53</td>\n",
       "      <td>-0.51</td>\n",
       "      <td>-0.66</td>\n",
       "    </tr>\n",
       "  </tbody>\n",
       "</table>\n",
       "</div>"
      ],
      "text/plain": [
       "             MKT   SMB   HML\n",
       "Date                        \n",
       "7/31/1926   2.96 -2.52 -3.09\n",
       "8/31/1926   2.64 -1.65  3.94\n",
       "9/30/1926   0.36 -1.55 -0.22\n",
       "10/31/1926 -3.24 -0.28  0.19\n",
       "11/30/1926  2.53 -0.51 -0.66"
      ]
     },
     "execution_count": 8,
     "metadata": {},
     "output_type": "execute_result"
    }
   ],
   "source": [
    "Test=Data.iloc[:,1:4].subtract(Data['RF'],axis=0) #第二种方法用subtract方程运算，可以通过修改axis修改成行减行。\n",
    "Test.head()"
   ]
  },
  {
   "cell_type": "code",
   "execution_count": 9,
   "metadata": {
    "scrolled": true
   },
   "outputs": [
    {
     "data": {
      "text/html": [
       "<div>\n",
       "<style>\n",
       "    .dataframe thead tr:only-child th {\n",
       "        text-align: right;\n",
       "    }\n",
       "\n",
       "    .dataframe thead th {\n",
       "        text-align: left;\n",
       "    }\n",
       "\n",
       "    .dataframe tbody tr th {\n",
       "        vertical-align: top;\n",
       "    }\n",
       "</style>\n",
       "<table border=\"1\" class=\"dataframe\">\n",
       "  <thead>\n",
       "    <tr style=\"text-align: right;\">\n",
       "      <th></th>\n",
       "      <th>1/31/1927</th>\n",
       "      <th>1/31/1928</th>\n",
       "      <th>1/31/1929</th>\n",
       "      <th>1/31/1930</th>\n",
       "      <th>1/31/1931</th>\n",
       "      <th>1/31/1932</th>\n",
       "      <th>1/31/1933</th>\n",
       "      <th>1/31/1934</th>\n",
       "      <th>1/31/1935</th>\n",
       "      <th>1/31/1936</th>\n",
       "      <th>...</th>\n",
       "      <th>9/30/2008</th>\n",
       "      <th>9/30/2009</th>\n",
       "      <th>9/30/2010</th>\n",
       "      <th>9/30/2011</th>\n",
       "      <th>9/30/2012</th>\n",
       "      <th>9/30/2013</th>\n",
       "      <th>9/30/2014</th>\n",
       "      <th>9/30/2015</th>\n",
       "      <th>9/30/2016</th>\n",
       "      <th>MKT</th>\n",
       "    </tr>\n",
       "    <tr>\n",
       "      <th>Date</th>\n",
       "      <th></th>\n",
       "      <th></th>\n",
       "      <th></th>\n",
       "      <th></th>\n",
       "      <th></th>\n",
       "      <th></th>\n",
       "      <th></th>\n",
       "      <th></th>\n",
       "      <th></th>\n",
       "      <th></th>\n",
       "      <th></th>\n",
       "      <th></th>\n",
       "      <th></th>\n",
       "      <th></th>\n",
       "      <th></th>\n",
       "      <th></th>\n",
       "      <th></th>\n",
       "      <th></th>\n",
       "      <th></th>\n",
       "      <th></th>\n",
       "      <th></th>\n",
       "    </tr>\n",
       "  </thead>\n",
       "  <tbody>\n",
       "    <tr>\n",
       "      <th>7/31/1926</th>\n",
       "      <td>NaN</td>\n",
       "      <td>NaN</td>\n",
       "      <td>NaN</td>\n",
       "      <td>NaN</td>\n",
       "      <td>NaN</td>\n",
       "      <td>NaN</td>\n",
       "      <td>NaN</td>\n",
       "      <td>NaN</td>\n",
       "      <td>NaN</td>\n",
       "      <td>NaN</td>\n",
       "      <td>...</td>\n",
       "      <td>NaN</td>\n",
       "      <td>NaN</td>\n",
       "      <td>NaN</td>\n",
       "      <td>NaN</td>\n",
       "      <td>NaN</td>\n",
       "      <td>NaN</td>\n",
       "      <td>NaN</td>\n",
       "      <td>NaN</td>\n",
       "      <td>NaN</td>\n",
       "      <td>NaN</td>\n",
       "    </tr>\n",
       "    <tr>\n",
       "      <th>8/31/1926</th>\n",
       "      <td>NaN</td>\n",
       "      <td>NaN</td>\n",
       "      <td>NaN</td>\n",
       "      <td>NaN</td>\n",
       "      <td>NaN</td>\n",
       "      <td>NaN</td>\n",
       "      <td>NaN</td>\n",
       "      <td>NaN</td>\n",
       "      <td>NaN</td>\n",
       "      <td>NaN</td>\n",
       "      <td>...</td>\n",
       "      <td>NaN</td>\n",
       "      <td>NaN</td>\n",
       "      <td>NaN</td>\n",
       "      <td>NaN</td>\n",
       "      <td>NaN</td>\n",
       "      <td>NaN</td>\n",
       "      <td>NaN</td>\n",
       "      <td>NaN</td>\n",
       "      <td>NaN</td>\n",
       "      <td>NaN</td>\n",
       "    </tr>\n",
       "    <tr>\n",
       "      <th>9/30/1926</th>\n",
       "      <td>NaN</td>\n",
       "      <td>NaN</td>\n",
       "      <td>NaN</td>\n",
       "      <td>NaN</td>\n",
       "      <td>NaN</td>\n",
       "      <td>NaN</td>\n",
       "      <td>NaN</td>\n",
       "      <td>NaN</td>\n",
       "      <td>NaN</td>\n",
       "      <td>NaN</td>\n",
       "      <td>...</td>\n",
       "      <td>NaN</td>\n",
       "      <td>NaN</td>\n",
       "      <td>NaN</td>\n",
       "      <td>NaN</td>\n",
       "      <td>NaN</td>\n",
       "      <td>NaN</td>\n",
       "      <td>NaN</td>\n",
       "      <td>NaN</td>\n",
       "      <td>NaN</td>\n",
       "      <td>NaN</td>\n",
       "    </tr>\n",
       "    <tr>\n",
       "      <th>10/31/1926</th>\n",
       "      <td>NaN</td>\n",
       "      <td>NaN</td>\n",
       "      <td>NaN</td>\n",
       "      <td>NaN</td>\n",
       "      <td>NaN</td>\n",
       "      <td>NaN</td>\n",
       "      <td>NaN</td>\n",
       "      <td>NaN</td>\n",
       "      <td>NaN</td>\n",
       "      <td>NaN</td>\n",
       "      <td>...</td>\n",
       "      <td>NaN</td>\n",
       "      <td>NaN</td>\n",
       "      <td>NaN</td>\n",
       "      <td>NaN</td>\n",
       "      <td>NaN</td>\n",
       "      <td>NaN</td>\n",
       "      <td>NaN</td>\n",
       "      <td>NaN</td>\n",
       "      <td>NaN</td>\n",
       "      <td>NaN</td>\n",
       "    </tr>\n",
       "    <tr>\n",
       "      <th>11/30/1926</th>\n",
       "      <td>NaN</td>\n",
       "      <td>NaN</td>\n",
       "      <td>NaN</td>\n",
       "      <td>NaN</td>\n",
       "      <td>NaN</td>\n",
       "      <td>NaN</td>\n",
       "      <td>NaN</td>\n",
       "      <td>NaN</td>\n",
       "      <td>NaN</td>\n",
       "      <td>NaN</td>\n",
       "      <td>...</td>\n",
       "      <td>NaN</td>\n",
       "      <td>NaN</td>\n",
       "      <td>NaN</td>\n",
       "      <td>NaN</td>\n",
       "      <td>NaN</td>\n",
       "      <td>NaN</td>\n",
       "      <td>NaN</td>\n",
       "      <td>NaN</td>\n",
       "      <td>NaN</td>\n",
       "      <td>NaN</td>\n",
       "    </tr>\n",
       "  </tbody>\n",
       "</table>\n",
       "<p>5 rows × 1093 columns</p>\n",
       "</div>"
      ],
      "text/plain": [
       "            1/31/1927  1/31/1928  1/31/1929  1/31/1930  1/31/1931  1/31/1932  \\\n",
       "Date                                                                           \n",
       "7/31/1926         NaN        NaN        NaN        NaN        NaN        NaN   \n",
       "8/31/1926         NaN        NaN        NaN        NaN        NaN        NaN   \n",
       "9/30/1926         NaN        NaN        NaN        NaN        NaN        NaN   \n",
       "10/31/1926        NaN        NaN        NaN        NaN        NaN        NaN   \n",
       "11/30/1926        NaN        NaN        NaN        NaN        NaN        NaN   \n",
       "\n",
       "            1/31/1933  1/31/1934  1/31/1935  1/31/1936 ...   9/30/2008  \\\n",
       "Date                                                   ...               \n",
       "7/31/1926         NaN        NaN        NaN        NaN ...         NaN   \n",
       "8/31/1926         NaN        NaN        NaN        NaN ...         NaN   \n",
       "9/30/1926         NaN        NaN        NaN        NaN ...         NaN   \n",
       "10/31/1926        NaN        NaN        NaN        NaN ...         NaN   \n",
       "11/30/1926        NaN        NaN        NaN        NaN ...         NaN   \n",
       "\n",
       "            9/30/2009  9/30/2010  9/30/2011  9/30/2012  9/30/2013  9/30/2014  \\\n",
       "Date                                                                           \n",
       "7/31/1926         NaN        NaN        NaN        NaN        NaN        NaN   \n",
       "8/31/1926         NaN        NaN        NaN        NaN        NaN        NaN   \n",
       "9/30/1926         NaN        NaN        NaN        NaN        NaN        NaN   \n",
       "10/31/1926        NaN        NaN        NaN        NaN        NaN        NaN   \n",
       "11/30/1926        NaN        NaN        NaN        NaN        NaN        NaN   \n",
       "\n",
       "            9/30/2015  9/30/2016  MKT  \n",
       "Date                                   \n",
       "7/31/1926         NaN        NaN  NaN  \n",
       "8/31/1926         NaN        NaN  NaN  \n",
       "9/30/1926         NaN        NaN  NaN  \n",
       "10/31/1926        NaN        NaN  NaN  \n",
       "11/30/1926        NaN        NaN  NaN  \n",
       "\n",
       "[5 rows x 1093 columns]"
      ]
     },
     "execution_count": 9,
     "metadata": {},
     "output_type": "execute_result"
    }
   ],
   "source": [
    "(Data.iloc[:,1:2]-Data['RF']).head()   \n",
    "#第一种方法不能多列同时操作，且不能换相减方向。第二种方法需要新建立Dataframe或覆盖原数据，但是有axis参数会比较灵活"
   ]
  },
  {
   "cell_type": "markdown",
   "metadata": {},
   "source": [
    "回归分析，第一种方法，用scipy.stats的linregress方程。这个方程的优势在于简单，因为会直接返回所有常用的值，缺点就是，这是方程仅适用于单元回归。  \n",
    "必须输入五个变量让方程返回，五个变量随便命名，第一个为斜率，即系数，第二个为截距，第三个为R值而不是R方，第四个为系数p_value，第五个为系数标准误差。  \n",
    "方程自变量里面，第一个是x，第二个是y。"
   ]
  },
  {
   "cell_type": "code",
   "execution_count": 10,
   "metadata": {
    "collapsed": true
   },
   "outputs": [],
   "source": [
    "slope,intercept,r_value,p_value,std_err=stats.linregress(Data.Pre,Data.SMB)"
   ]
  },
  {
   "cell_type": "code",
   "execution_count": 11,
   "metadata": {
    "scrolled": true
   },
   "outputs": [
    {
     "name": "stdout",
     "output_type": "stream",
     "text": [
      "0.190654490204\n",
      "0.190654490204\n"
     ]
    }
   ],
   "source": [
    "#系数\n",
    "print(slope)\n",
    "print(np.cov(Data.Pre, Data.SMB)[0][1]/Data.Pre.var())  #[0][1]是因为np.cov()返回的是矩阵，我们只要右上角的cov而不要var"
   ]
  },
  {
   "cell_type": "code",
   "execution_count": 12,
   "metadata": {},
   "outputs": [
    {
     "name": "stdout",
     "output_type": "stream",
     "text": [
      "0.0848754934935\n",
      "0.0848754934935\n"
     ]
    }
   ],
   "source": [
    "#截距\n",
    "print(intercept)\n",
    "print(Data.SMB.mean()-slope*Data.Pre.mean())"
   ]
  },
  {
   "cell_type": "code",
   "execution_count": 13,
   "metadata": {},
   "outputs": [
    {
     "data": {
      "text/plain": [
       "0.10141084258677421"
      ]
     },
     "execution_count": 13,
     "metadata": {},
     "output_type": "execute_result"
    }
   ],
   "source": [
    "#R方\n",
    "r_value**2"
   ]
  },
  {
   "cell_type": "code",
   "execution_count": 14,
   "metadata": {},
   "outputs": [
    {
     "name": "stdout",
     "output_type": "stream",
     "text": [
      "11.0911060405\n",
      "3.69376661703e-27\n",
      "0.0\n",
      "0.0\n"
     ]
    }
   ],
   "source": [
    "#系数显著性\n",
    "t=slope/std_err\n",
    "print(t)\n",
    "print(p_value)\n",
    "print(1-p.cdf(t))                       #用上面的标准正态分布\n",
    "\n",
    "df=Data.shape[0]-2\n",
    "print(1-stats.t.cdf(t,df))"
   ]
  },
  {
   "cell_type": "markdown",
   "metadata": {},
   "source": [
    "多元回归只能用statsmodels.api的OLS方程。构造方法是这样。\n",
    "一般我们写多元回归的式子是：\n",
    "$$\\hat{y}=k_0+k_1*x_1+k_2*x_2+...$$\n",
    "我们将这个式子改写成：\n",
    "$$\\hat{y}=k_0*1+k_1*x_1+k_2*x_2+...$$\n",
    "这样就变成了$y$对$x=[1,x_1,x_2,...]$这些变量做回归。"
   ]
  },
  {
   "cell_type": "markdown",
   "metadata": {},
   "source": [
    "接下来，我们尝试做RF对MKT,SMB,HML三个变量的回归。"
   ]
  },
  {
   "cell_type": "code",
   "execution_count": 15,
   "metadata": {
    "scrolled": true
   },
   "outputs": [
    {
     "data": {
      "text/html": [
       "<div>\n",
       "<style>\n",
       "    .dataframe thead tr:only-child th {\n",
       "        text-align: right;\n",
       "    }\n",
       "\n",
       "    .dataframe thead th {\n",
       "        text-align: left;\n",
       "    }\n",
       "\n",
       "    .dataframe tbody tr th {\n",
       "        vertical-align: top;\n",
       "    }\n",
       "</style>\n",
       "<table border=\"1\" class=\"dataframe\">\n",
       "  <thead>\n",
       "    <tr style=\"text-align: right;\">\n",
       "      <th></th>\n",
       "      <th>MKT</th>\n",
       "      <th>SMB</th>\n",
       "      <th>HML</th>\n",
       "    </tr>\n",
       "    <tr>\n",
       "      <th>Date</th>\n",
       "      <th></th>\n",
       "      <th></th>\n",
       "      <th></th>\n",
       "    </tr>\n",
       "  </thead>\n",
       "  <tbody>\n",
       "    <tr>\n",
       "      <th>7/31/1926</th>\n",
       "      <td>3.18</td>\n",
       "      <td>-2.30</td>\n",
       "      <td>-2.87</td>\n",
       "    </tr>\n",
       "    <tr>\n",
       "      <th>8/31/1926</th>\n",
       "      <td>2.89</td>\n",
       "      <td>-1.40</td>\n",
       "      <td>4.19</td>\n",
       "    </tr>\n",
       "    <tr>\n",
       "      <th>9/30/1926</th>\n",
       "      <td>0.59</td>\n",
       "      <td>-1.32</td>\n",
       "      <td>0.01</td>\n",
       "    </tr>\n",
       "    <tr>\n",
       "      <th>10/31/1926</th>\n",
       "      <td>-2.92</td>\n",
       "      <td>0.04</td>\n",
       "      <td>0.51</td>\n",
       "    </tr>\n",
       "    <tr>\n",
       "      <th>11/30/1926</th>\n",
       "      <td>2.84</td>\n",
       "      <td>-0.20</td>\n",
       "      <td>-0.35</td>\n",
       "    </tr>\n",
       "  </tbody>\n",
       "</table>\n",
       "</div>"
      ],
      "text/plain": [
       "             MKT   SMB   HML\n",
       "Date                        \n",
       "7/31/1926   3.18 -2.30 -2.87\n",
       "8/31/1926   2.89 -1.40  4.19\n",
       "9/30/1926   0.59 -1.32  0.01\n",
       "10/31/1926 -2.92  0.04  0.51\n",
       "11/30/1926  2.84 -0.20 -0.35"
      ]
     },
     "execution_count": 15,
     "metadata": {},
     "output_type": "execute_result"
    }
   ],
   "source": [
    "#首先，我们先获得数据[x_1,x_2]\n",
    "x=Data.iloc[:,1:4]\n",
    "x.head()"
   ]
  },
  {
   "cell_type": "code",
   "execution_count": 16,
   "metadata": {},
   "outputs": [
    {
     "data": {
      "text/html": [
       "<div>\n",
       "<style>\n",
       "    .dataframe thead tr:only-child th {\n",
       "        text-align: right;\n",
       "    }\n",
       "\n",
       "    .dataframe thead th {\n",
       "        text-align: left;\n",
       "    }\n",
       "\n",
       "    .dataframe tbody tr th {\n",
       "        vertical-align: top;\n",
       "    }\n",
       "</style>\n",
       "<table border=\"1\" class=\"dataframe\">\n",
       "  <thead>\n",
       "    <tr style=\"text-align: right;\">\n",
       "      <th></th>\n",
       "      <th>const</th>\n",
       "      <th>MKT</th>\n",
       "      <th>SMB</th>\n",
       "      <th>HML</th>\n",
       "    </tr>\n",
       "    <tr>\n",
       "      <th>Date</th>\n",
       "      <th></th>\n",
       "      <th></th>\n",
       "      <th></th>\n",
       "      <th></th>\n",
       "    </tr>\n",
       "  </thead>\n",
       "  <tbody>\n",
       "    <tr>\n",
       "      <th>7/31/1926</th>\n",
       "      <td>1.0</td>\n",
       "      <td>3.18</td>\n",
       "      <td>-2.30</td>\n",
       "      <td>-2.87</td>\n",
       "    </tr>\n",
       "    <tr>\n",
       "      <th>8/31/1926</th>\n",
       "      <td>1.0</td>\n",
       "      <td>2.89</td>\n",
       "      <td>-1.40</td>\n",
       "      <td>4.19</td>\n",
       "    </tr>\n",
       "    <tr>\n",
       "      <th>9/30/1926</th>\n",
       "      <td>1.0</td>\n",
       "      <td>0.59</td>\n",
       "      <td>-1.32</td>\n",
       "      <td>0.01</td>\n",
       "    </tr>\n",
       "    <tr>\n",
       "      <th>10/31/1926</th>\n",
       "      <td>1.0</td>\n",
       "      <td>-2.92</td>\n",
       "      <td>0.04</td>\n",
       "      <td>0.51</td>\n",
       "    </tr>\n",
       "    <tr>\n",
       "      <th>11/30/1926</th>\n",
       "      <td>1.0</td>\n",
       "      <td>2.84</td>\n",
       "      <td>-0.20</td>\n",
       "      <td>-0.35</td>\n",
       "    </tr>\n",
       "  </tbody>\n",
       "</table>\n",
       "</div>"
      ],
      "text/plain": [
       "            const   MKT   SMB   HML\n",
       "Date                               \n",
       "7/31/1926     1.0  3.18 -2.30 -2.87\n",
       "8/31/1926     1.0  2.89 -1.40  4.19\n",
       "9/30/1926     1.0  0.59 -1.32  0.01\n",
       "10/31/1926    1.0 -2.92  0.04  0.51\n",
       "11/30/1926    1.0  2.84 -0.20 -0.35"
      ]
     },
     "execution_count": 16,
     "metadata": {},
     "output_type": "execute_result"
    }
   ],
   "source": [
    "#然后我们增加常数项列\n",
    "x=sm.add_constant(x)\n",
    "x.head()"
   ]
  },
  {
   "cell_type": "code",
   "execution_count": 17,
   "metadata": {
    "collapsed": true
   },
   "outputs": [],
   "source": [
    "#再获得y，开始做回归\n",
    "y=Data['RF']\n",
    "results = sm.OLS(y,x, missing='drop') #格式是y在前，x在后，记得同样要用一个变量记录返回值\n",
    "\n",
    "#missing = 'drop' 是用于去掉空值NaN的"
   ]
  },
  {
   "cell_type": "code",
   "execution_count": 18,
   "metadata": {},
   "outputs": [
    {
     "name": "stdout",
     "output_type": "stream",
     "text": [
      "<statsmodels.regression.linear_model.OLS object at 0x000002044FC95E10>\n",
      "<statsmodels.regression.linear_model.RegressionResultsWrapper object at 0x000002044FC95278>\n"
     ]
    },
    {
     "data": {
      "text/html": [
       "<table class=\"simpletable\">\n",
       "<caption>OLS Regression Results</caption>\n",
       "<tr>\n",
       "  <th>Dep. Variable:</th>           <td>RF</td>        <th>  R-squared:         </th> <td>   0.003</td>\n",
       "</tr>\n",
       "<tr>\n",
       "  <th>Model:</th>                   <td>OLS</td>       <th>  Adj. R-squared:    </th> <td>   0.001</td>\n",
       "</tr>\n",
       "<tr>\n",
       "  <th>Method:</th>             <td>Least Squares</td>  <th>  F-statistic:       </th> <td>   1.247</td>\n",
       "</tr>\n",
       "<tr>\n",
       "  <th>Date:</th>             <td>Mon, 30 Oct 2017</td> <th>  Prob (F-statistic):</th>  <td> 0.291</td> \n",
       "</tr>\n",
       "<tr>\n",
       "  <th>Time:</th>                 <td>18:37:33</td>     <th>  Log-Likelihood:    </th> <td> -53.207</td>\n",
       "</tr>\n",
       "<tr>\n",
       "  <th>No. Observations:</th>      <td>  1092</td>      <th>  AIC:               </th> <td>   114.4</td>\n",
       "</tr>\n",
       "<tr>\n",
       "  <th>Df Residuals:</th>          <td>  1088</td>      <th>  BIC:               </th> <td>   134.4</td>\n",
       "</tr>\n",
       "<tr>\n",
       "  <th>Df Model:</th>              <td>     3</td>      <th>                     </th>     <td> </td>   \n",
       "</tr>\n",
       "<tr>\n",
       "  <th>Covariance Type:</th>      <td>nonrobust</td>    <th>                     </th>     <td> </td>   \n",
       "</tr>\n",
       "</table>\n",
       "<table class=\"simpletable\">\n",
       "<tr>\n",
       "    <td></td>       <th>coef</th>     <th>std err</th>      <th>t</th>      <th>P>|t|</th>  <th>[0.025</th>    <th>0.975]</th>  \n",
       "</tr>\n",
       "<tr>\n",
       "  <th>const</th> <td>    0.2770</td> <td>    0.008</td> <td>   35.338</td> <td> 0.000</td> <td>    0.262</td> <td>    0.292</td>\n",
       "</tr>\n",
       "<tr>\n",
       "  <th>MKT</th>   <td>   -0.0004</td> <td>    0.002</td> <td>   -0.262</td> <td> 0.793</td> <td>   -0.003</td> <td>    0.003</td>\n",
       "</tr>\n",
       "<tr>\n",
       "  <th>SMB</th>   <td>   -0.0041</td> <td>    0.003</td> <td>   -1.628</td> <td> 0.104</td> <td>   -0.009</td> <td>    0.001</td>\n",
       "</tr>\n",
       "<tr>\n",
       "  <th>HML</th>   <td>    0.0021</td> <td>    0.002</td> <td>    0.942</td> <td> 0.347</td> <td>   -0.002</td> <td>    0.007</td>\n",
       "</tr>\n",
       "</table>\n",
       "<table class=\"simpletable\">\n",
       "<tr>\n",
       "  <th>Omnibus:</th>       <td>175.373</td> <th>  Durbin-Watson:     </th> <td>   0.052</td>\n",
       "</tr>\n",
       "<tr>\n",
       "  <th>Prob(Omnibus):</th> <td> 0.000</td>  <th>  Jarque-Bera (JB):  </th> <td> 277.603</td>\n",
       "</tr>\n",
       "<tr>\n",
       "  <th>Skew:</th>          <td> 1.067</td>  <th>  Prob(JB):          </th> <td>5.24e-61</td>\n",
       "</tr>\n",
       "<tr>\n",
       "  <th>Kurtosis:</th>      <td> 4.245</td>  <th>  Cond. No.          </th> <td>    5.79</td>\n",
       "</tr>\n",
       "</table>"
      ],
      "text/plain": [
       "<class 'statsmodels.iolib.summary.Summary'>\n",
       "\"\"\"\n",
       "                            OLS Regression Results                            \n",
       "==============================================================================\n",
       "Dep. Variable:                     RF   R-squared:                       0.003\n",
       "Model:                            OLS   Adj. R-squared:                  0.001\n",
       "Method:                 Least Squares   F-statistic:                     1.247\n",
       "Date:                Mon, 30 Oct 2017   Prob (F-statistic):              0.291\n",
       "Time:                        18:37:33   Log-Likelihood:                -53.207\n",
       "No. Observations:                1092   AIC:                             114.4\n",
       "Df Residuals:                    1088   BIC:                             134.4\n",
       "Df Model:                           3                                         \n",
       "Covariance Type:            nonrobust                                         \n",
       "==============================================================================\n",
       "                 coef    std err          t      P>|t|      [0.025      0.975]\n",
       "------------------------------------------------------------------------------\n",
       "const          0.2770      0.008     35.338      0.000       0.262       0.292\n",
       "MKT           -0.0004      0.002     -0.262      0.793      -0.003       0.003\n",
       "SMB           -0.0041      0.003     -1.628      0.104      -0.009       0.001\n",
       "HML            0.0021      0.002      0.942      0.347      -0.002       0.007\n",
       "==============================================================================\n",
       "Omnibus:                      175.373   Durbin-Watson:                   0.052\n",
       "Prob(Omnibus):                  0.000   Jarque-Bera (JB):              277.603\n",
       "Skew:                           1.067   Prob(JB):                     5.24e-61\n",
       "Kurtosis:                       4.245   Cond. No.                         5.79\n",
       "==============================================================================\n",
       "\n",
       "Warnings:\n",
       "[1] Standard Errors assume that the covariance matrix of the errors is correctly specified.\n",
       "\"\"\""
      ]
     },
     "execution_count": 18,
     "metadata": {},
     "output_type": "execute_result"
    }
   ],
   "source": [
    "print(results)\n",
    "print(results.fit())\n",
    "results.fit().summary()"
   ]
  },
  {
   "cell_type": "code",
   "execution_count": 19,
   "metadata": {},
   "outputs": [
    {
     "data": {
      "text/plain": [
       "const    0.276975\n",
       "MKT     -0.000408\n",
       "SMB     -0.004129\n",
       "HML      0.002139\n",
       "dtype: float64"
      ]
     },
     "execution_count": 19,
     "metadata": {},
     "output_type": "execute_result"
    }
   ],
   "source": [
    "#调出系数\n",
    "results.fit().params"
   ]
  },
  {
   "cell_type": "code",
   "execution_count": 20,
   "metadata": {
    "scrolled": false
   },
   "outputs": [
    {
     "data": {
      "text/plain": [
       "const    0.007838\n",
       "MKT      0.001556\n",
       "SMB      0.002537\n",
       "HML      0.002271\n",
       "dtype: float64"
      ]
     },
     "execution_count": 20,
     "metadata": {},
     "output_type": "execute_result"
    }
   ],
   "source": [
    "#调出std_err\n",
    "results.fit().bse"
   ]
  },
  {
   "cell_type": "code",
   "execution_count": 21,
   "metadata": {},
   "outputs": [
    {
     "name": "stdout",
     "output_type": "stream",
     "text": [
      "const    35.337627\n",
      "MKT      -0.261894\n",
      "SMB      -1.627824\n",
      "HML       0.941730\n",
      "dtype: float64\n",
      "const    8.327568e-183\n",
      "MKT       7.934524e-01\n",
      "SMB       1.038517e-01\n",
      "HML       3.465397e-01\n",
      "dtype: float64\n"
     ]
    }
   ],
   "source": [
    "#调出t-value 和 p-value\n",
    "print(results.fit().tvalues)\n",
    "print(results.fit().pvalues)"
   ]
  },
  {
   "cell_type": "code",
   "execution_count": 22,
   "metadata": {},
   "outputs": [
    {
     "name": "stdout",
     "output_type": "stream",
     "text": [
      "1.2474861029\n",
      "0.291210086625\n"
     ]
    }
   ],
   "source": [
    "#调出f-value 和 p-value\n",
    "print(results.fit().fvalue)\n",
    "print(results.fit().f_pvalue)"
   ]
  },
  {
   "cell_type": "code",
   "execution_count": 23,
   "metadata": {},
   "outputs": [
    {
     "data": {
      "text/plain": [
       "0.0034279680891898812"
      ]
     },
     "execution_count": 23,
     "metadata": {},
     "output_type": "execute_result"
    }
   ],
   "source": [
    "#调出R方\n",
    "results.fit().rsquared"
   ]
  },
  {
   "cell_type": "code",
   "execution_count": 24,
   "metadata": {
    "scrolled": true
   },
   "outputs": [
    {
     "data": {
      "text/plain": [
       "['HC0_se',\n",
       " 'HC1_se',\n",
       " 'HC2_se',\n",
       " 'HC3_se',\n",
       " '_HCCM',\n",
       " '__class__',\n",
       " '__delattr__',\n",
       " '__dict__',\n",
       " '__dir__',\n",
       " '__doc__',\n",
       " '__eq__',\n",
       " '__format__',\n",
       " '__ge__',\n",
       " '__getattribute__',\n",
       " '__gt__',\n",
       " '__hash__',\n",
       " '__init__',\n",
       " '__init_subclass__',\n",
       " '__le__',\n",
       " '__lt__',\n",
       " '__module__',\n",
       " '__ne__',\n",
       " '__new__',\n",
       " '__reduce__',\n",
       " '__reduce_ex__',\n",
       " '__repr__',\n",
       " '__setattr__',\n",
       " '__sizeof__',\n",
       " '__str__',\n",
       " '__subclasshook__',\n",
       " '__weakref__',\n",
       " '_cache',\n",
       " '_data_attr',\n",
       " '_get_robustcov_results',\n",
       " '_is_nested',\n",
       " '_wexog_singular_values',\n",
       " 'aic',\n",
       " 'bic',\n",
       " 'bse',\n",
       " 'centered_tss',\n",
       " 'compare_f_test',\n",
       " 'compare_lm_test',\n",
       " 'compare_lr_test',\n",
       " 'condition_number',\n",
       " 'conf_int',\n",
       " 'conf_int_el',\n",
       " 'cov_HC0',\n",
       " 'cov_HC1',\n",
       " 'cov_HC2',\n",
       " 'cov_HC3',\n",
       " 'cov_kwds',\n",
       " 'cov_params',\n",
       " 'cov_type',\n",
       " 'df_model',\n",
       " 'df_resid',\n",
       " 'eigenvals',\n",
       " 'el_test',\n",
       " 'ess',\n",
       " 'f_pvalue',\n",
       " 'f_test',\n",
       " 'fittedvalues',\n",
       " 'fvalue',\n",
       " 'get_influence',\n",
       " 'get_prediction',\n",
       " 'get_robustcov_results',\n",
       " 'initialize',\n",
       " 'k_constant',\n",
       " 'llf',\n",
       " 'load',\n",
       " 'model',\n",
       " 'mse_model',\n",
       " 'mse_resid',\n",
       " 'mse_total',\n",
       " 'nobs',\n",
       " 'normalized_cov_params',\n",
       " 'outlier_test',\n",
       " 'params',\n",
       " 'predict',\n",
       " 'pvalues',\n",
       " 'remove_data',\n",
       " 'resid',\n",
       " 'resid_pearson',\n",
       " 'rsquared',\n",
       " 'rsquared_adj',\n",
       " 'save',\n",
       " 'scale',\n",
       " 'ssr',\n",
       " 'summary',\n",
       " 'summary2',\n",
       " 't_test',\n",
       " 'tvalues',\n",
       " 'uncentered_tss',\n",
       " 'use_t',\n",
       " 'wald_test',\n",
       " 'wald_test_terms',\n",
       " 'wresid']"
      ]
     },
     "execution_count": 24,
     "metadata": {},
     "output_type": "execute_result"
    }
   ],
   "source": [
    "#具体还能调出什么来，下面自己一个个去试，并与上面大表对比就可以了\n",
    "dir(results.fit())"
   ]
  }
 ],
 "metadata": {
  "kernelspec": {
   "display_name": "Python 3",
   "language": "python",
   "name": "python3"
  },
  "language_info": {
   "codemirror_mode": {
    "name": "ipython",
    "version": 3
   },
   "file_extension": ".py",
   "mimetype": "text/x-python",
   "name": "python",
   "nbconvert_exporter": "python",
   "pygments_lexer": "ipython3",
   "version": "3.6.1"
  }
 },
 "nbformat": 4,
 "nbformat_minor": 2
}

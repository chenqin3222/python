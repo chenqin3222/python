{
 "cells": [
  {
   "cell_type": "markdown",
   "metadata": {},
   "source": [
    "# Quantitative Finance with Python\n",
    "# NOTEBOOK 3\n",
    "## Alan Moreira, University of Rochester Simon Graduate School of Business\n",
    "\n",
    "## Objectives\n",
    "\n",
    " \n",
    " 1. Return distributions and moments of a return distribution\n",
    " 2. Annualization of returns\n",
    " 3. Excess returns and risk premiums\n",
    " 4. Portfolio Mathematics\n",
    "\n"
   ]
  },
  {
   "cell_type": "code",
   "execution_count": 2,
   "metadata": {
    "collapsed": true
   },
   "outputs": [],
   "source": [
    "import pandas as pd\n",
    "import numpy as np\n",
    "import matplotlib.pyplot as plt"
   ]
  },
  {
   "cell_type": "code",
   "execution_count": 2,
   "metadata": {},
   "outputs": [
    {
     "name": "stdout",
     "output_type": "stream",
     "text": [
      "<class 'pandas.core.frame.DataFrame'>\n",
      "DatetimeIndex: 647 entries, 1963-02-28 to 2016-12-31\n",
      "Data columns (total 6 columns):\n",
      "RF                  647 non-null float64\n",
      "MKT                 647 non-null float64\n",
      "USA30yearGovBond    647 non-null float64\n",
      "EmergingMarkets     647 non-null float64\n",
      "WorldxUSA           647 non-null float64\n",
      "WorldxUSAGovBond    647 non-null float64\n",
      "dtypes: float64(6)\n",
      "memory usage: 35.4 KB\n"
     ]
    }
   ],
   "source": [
    "#GlobalFinMonthly\n",
    "url=\"https://www.dropbox.com/s/3k35mt3t57ygff2/GlobalFinMonthly.csv?dl=1\"\n",
    "Data = pd.read_csv(url,na_values=-99)\n",
    "# tell python Date is date:\n",
    "Data['Date']=pd.to_datetime(Data['Date'])\n",
    "# set an an index\n",
    "Data=Data.set_index(['Date'])\n",
    "\n",
    "Data.info()"
   ]
  },
  {
   "cell_type": "code",
   "execution_count": 6,
   "metadata": {},
   "outputs": [
    {
     "data": {
      "text/plain": [
       "0.42723942646840252"
      ]
     },
     "execution_count": 6,
     "metadata": {},
     "output_type": "execute_result"
    }
   ],
   "source": [
    "from scipy import stats\n",
    "np.random.seed(12345678)\n",
    "x = np.random.random(10)\n",
    "y = np.random.random(10)\n",
    "slope, intercept, r_value, p_value, std_err = stats.linregress(x, y)\n",
    "p_value"
   ]
  },
  {
   "cell_type": "markdown",
   "metadata": {},
   "source": [
    "# 1. Distribution of Returns\n",
    "\n",
    "Lets start by looking at the moments of the distribution of returns for the market portfolio\n",
    "\n",
    "- does anyone know what is the U.S. market portfolio?"
   ]
  },
  {
   "cell_type": "code",
   "execution_count": 7,
   "metadata": {},
   "outputs": [
    {
     "data": {
      "text/plain": [
       "0.009051777434312205"
      ]
     },
     "execution_count": 7,
     "metadata": {},
     "output_type": "execute_result"
    }
   ],
   "source": [
    "# looking at it's mean\n",
    "Data['MKT'].mean()\n",
    "\n",
    "# what does it mean?"
   ]
  },
  {
   "cell_type": "code",
   "execution_count": 8,
   "metadata": {},
   "outputs": [
    {
     "data": {
      "text/plain": [
       "0.044003148906741896"
      ]
     },
     "execution_count": 8,
     "metadata": {},
     "output_type": "execute_result"
    }
   ],
   "source": [
    "# looking at the market standard deviation\n",
    "\n",
    "Data['MKT'].std()\n",
    "\n",
    "# what does it mean?"
   ]
  },
  {
   "cell_type": "code",
   "execution_count": 9,
   "metadata": {},
   "outputs": [
    {
     "data": {
      "text/plain": [
       "<matplotlib.axes._subplots.AxesSubplot at 0x12dc56eb668>"
      ]
     },
     "execution_count": 9,
     "metadata": {},
     "output_type": "execute_result"
    },
    {
     "data": {
      "image/png": "[encoded data removed]",
      "text/plain": [
       "<Figure size 432x288 with 1 Axes>"
      ]
     },
     "metadata": {},
     "output_type": "display_data"
    }
   ],
   "source": [
    "# to have a sense of what that means lets look at the histgram of the distribution of retruns\n",
    "\n",
    "Data.MKT.hist(bins=50)\n",
    "\n",
    "# what do we see?\n",
    "\n",
    "# # centered around the mean, the amount of variation around the center is captured by the standard deviation"
   ]
  },
  {
   "cell_type": "code",
   "execution_count": 4,
   "metadata": {
    "scrolled": true
   },
   "outputs": [
    {
     "data": {
      "text/plain": [
       "<matplotlib.axes._subplots.AxesSubplot at 0x17bc18446d8>"
      ]
     },
     "execution_count": 4,
     "metadata": {},
     "output_type": "execute_result"
    },
    {
     "data": {
      "image/png": "[encoded data removed]",
      "text/plain": [
       "<Figure size 432x288 with 1 Axes>"
      ]
     },
     "metadata": {},
     "output_type": "display_data"
    }
   ],
   "source": [
    "# lets look at a simulation to see this more clearly\n",
    "mu=Data.MKT.mean()\n",
    "std=Data.MKT.std()\n",
    "T=Data.MKT.count()\n",
    "X=pd.Series(np.random.normal(mu,std,T))\n",
    "\n",
    "X.hist(bins=50)\n",
    "\n",
    "# what happens if we increase the mean?\n",
    "\n",
    "# what happens if we increase the standard deviation?\n",
    "\n",
    "# for the same standard mean and standard deviation what do you notice when you compare the real data and the simulated data?\n",
    "\n"
   ]
  },
  {
   "cell_type": "code",
   "execution_count": 11,
   "metadata": {},
   "outputs": [
    {
     "data": {
      "text/plain": [
       "[-0.5053783766354294, -0.028506639414473532]"
      ]
     },
     "execution_count": 11,
     "metadata": {},
     "output_type": "execute_result"
    }
   ],
   "source": [
    "# To evaluate how close a distribution is to the normal distribution we typically look at\n",
    "\n",
    "# skewness\n",
    "\n",
    "[Data.MKT.skew(), X.skew()]\n"
   ]
  },
  {
   "cell_type": "code",
   "execution_count": 12,
   "metadata": {},
   "outputs": [
    {
     "data": {
      "text/plain": [
       "[1.9881305187934846, 0.07320421452581316]"
      ]
     },
     "execution_count": 12,
     "metadata": {},
     "output_type": "execute_result"
    }
   ],
   "source": [
    "# To evaluate how close a distribution is to the normal distribution we typically look at\n",
    "\n",
    "# kurtosis\n",
    "[Data.MKT.kurtosis(),X.kurtosis()]\n"
   ]
  },
  {
   "cell_type": "code",
   "execution_count": 13,
   "metadata": {},
   "outputs": [
    {
     "name": "stdout",
     "output_type": "stream",
     "text": [
      "[-0.7707864524331097, -0.028506639414473532]\n",
      "[2.859221702344219, 0.07320421452581316]\n"
     ]
    }
   ],
   "source": [
    "# look at also at log returns\n",
    "\n",
    "# if innovations in log returns are iid then, log returns at long enough horizons must be normal \n",
    "\n",
    "print([np.log(1+Data.MKT).skew(),X.skew()])\n",
    "\n",
    "print([np.log(1+Data.MKT).kurtosis(),X.kurtosis()])"
   ]
  },
  {
   "cell_type": "markdown",
   "metadata": {},
   "source": [
    "LECTURE 3 stopped here"
   ]
  },
  {
   "cell_type": "markdown",
   "metadata": {},
   "source": [
    "number of return relaizations 3 standard deviations below/higher the mean\n",
    "\n",
    "$$PROB(|R-E{R}|>3\\sigma(R))$$\n"
   ]
  },
  {
   "cell_type": "code",
   "execution_count": 14,
   "metadata": {},
   "outputs": [
    {
     "data": {
      "text/plain": [
       "[0.03400309119010819, 0.01854714064914992]"
      ]
     },
     "execution_count": 14,
     "metadata": {},
     "output_type": "execute_result"
    }
   ],
   "source": [
    "\n",
    "MKTlog=np.log(1+Data.MKT)\n",
    "A=((MKTlog-MKTlog.mean())<-2*MKTlog.std())\n",
    "\n",
    "B=((X-X.mean())<-2*X.std())\n",
    "\n",
    "[A.sum()/A.count(),B.sum()/A.count()]\n",
    "\n"
   ]
  },
  {
   "cell_type": "code",
   "execution_count": 15,
   "metadata": {},
   "outputs": [
    {
     "data": {
      "text/plain": [
       "[1, 1]"
      ]
     },
     "execution_count": 15,
     "metadata": {},
     "output_type": "execute_result"
    }
   ],
   "source": [
    "A=((MKTlog-MKTlog.mean())>3*MKTlog.std())\n",
    "\n",
    "B=((X-X.mean())>3*X.std())\n",
    "\n",
    "[A.sum(),B.sum()]"
   ]
  },
  {
   "cell_type": "markdown",
   "metadata": {},
   "source": [
    "Why we care about deviations from normality?"
   ]
  },
  {
   "cell_type": "markdown",
   "metadata": {},
   "source": [
    "\n",
    "We can also do the computation precisely  without using a simulation which is the way we will typically do.\n",
    "\n",
    "For that we will import the normal density function using the SCIPY library\n",
    "\n",
    "\n",
    "SCIPY\n",
    " - This is a stats package\n",
    " - It has a lot of stuff in it\n",
    " - I will talk about only the stuff we need \n",
    " - But feel free to have fun\n",
    "\n",
    "https://docs.scipy.org/doc/scipy/reference/\n",
    "\n",
    "https://docs.scipy.org/doc/scipy/reference/tutorial/stats.html"
   ]
  },
  {
   "cell_type": "code",
   "execution_count": 9,
   "metadata": {
    "collapsed": true
   },
   "outputs": [],
   "source": [
    "# Step 2\n",
    "\n",
    "# Here I am only importing the normal distribution\n",
    "\n",
    "from scipy.stats import norm\n",
    "\n",
    "# and I am creating this p object which is the standard normal distribution\n",
    "p=norm(Data.MKT.mean(),Data.MKT.std())"
   ]
  },
  {
   "cell_type": "code",
   "execution_count": 10,
   "metadata": {},
   "outputs": [
    {
     "data": {
      "text/plain": [
       "<scipy.stats._distn_infrastructure.rv_frozen at 0x17bc18c0898>"
      ]
     },
     "execution_count": 10,
     "metadata": {},
     "output_type": "execute_result"
    }
   ],
   "source": [
    "p"
   ]
  },
  {
   "cell_type": "markdown",
   "metadata": {},
   "source": [
    "Here what that looks like"
   ]
  },
  {
   "cell_type": "code",
   "execution_count": 11,
   "metadata": {},
   "outputs": [
    {
     "data": {
      "text/plain": [
       "[<matplotlib.lines.Line2D at 0x17bc376ea20>]"
      ]
     },
     "execution_count": 11,
     "metadata": {},
     "output_type": "execute_result"
    },
    {
     "data": {
      "image/png": "[encoded data removed]",
      "text/plain": [
       "<Figure size 432x288 with 1 Axes>"
      ]
     },
     "metadata": {},
     "output_type": "display_data"
    }
   ],
   "source": [
    "mu,sigma=Data.MKT.mean(),Data.MKT.std()\n",
    "grid=np.linspace(mu-6*sigma,mu+6*sigma,1000)\n",
    "plt.plot(grid, p.pdf(grid))"
   ]
  },
  {
   "cell_type": "code",
   "execution_count": 15,
   "metadata": {},
   "outputs": [
    {
     "name": "stdout",
     "output_type": "stream",
     "text": [
      "[14.719335370471939, 14.719335370471947]\n"
     ]
    },
    {
     "data": {
      "text/plain": [
       "[0.022750131948179195, 0.02275013194817921]"
      ]
     },
     "execution_count": 15,
     "metadata": {},
     "output_type": "execute_result"
    }
   ],
   "source": [
    "# However it is often more covenient to work with the standard normal distribution\n",
    "ps=norm(0,1)\n",
    "threshold=2\n",
    "probm=ps.cdf(-threshold)\n",
    "probp=1-ps.cdf(threshold)\n",
    "print([probm*Data.MKT.count(),probp*Data.MKT.count()])\n",
    "[probm,probp]"
   ]
  },
  {
   "cell_type": "code",
   "execution_count": 17,
   "metadata": {},
   "outputs": [
    {
     "data": {
      "text/plain": [
       "1.9599639845400545"
      ]
     },
     "execution_count": 17,
     "metadata": {},
     "output_type": "execute_result"
    }
   ],
   "source": [
    "# we often will use the opposite operation.\n",
    "\n",
    "# given a probability , lets say 5% we want to know the value X for which there is less than 5% probability \n",
    "#that the standard normal produces a value higher than X\n",
    "\n",
    "# this function is the inverse cdf which we call using .isf\n",
    "\n",
    "\n",
    "ps.isf(0.025)"
   ]
  },
  {
   "cell_type": "code",
   "execution_count": 20,
   "metadata": {
    "collapsed": true
   },
   "outputs": [],
   "source": [
    "# we use this in t-tests for example\n",
    " "
   ]
  },
  {
   "cell_type": "markdown",
   "metadata": {},
   "source": [
    "# 2. Annualization of returns"
   ]
  },
  {
   "cell_type": "code",
   "execution_count": 18,
   "metadata": {},
   "outputs": [
    {
     "data": {
      "text/plain": [
       "0.10862132921174646"
      ]
     },
     "execution_count": 18,
     "metadata": {},
     "output_type": "execute_result"
    }
   ],
   "source": [
    "# convention to talk in terms of annual numbers\n",
    "\n",
    "# dirty annualization from monthly returns\n",
    "\n",
    "# simply multiply by number of months in a year\n",
    "Data.MKT.mean()*12\n",
    "\n"
   ]
  },
  {
   "cell_type": "code",
   "execution_count": 19,
   "metadata": {},
   "outputs": [
    {
     "data": {
      "text/plain": [
       "0.15243137919899172"
      ]
     },
     "execution_count": 19,
     "metadata": {},
     "output_type": "execute_result"
    }
   ],
   "source": [
    "# for standard deviation you multiply by the square root of number of periods since the varaince grows with T\n",
    "\n",
    "Data.MKT.std()*12**0.5"
   ]
  },
  {
   "cell_type": "markdown",
   "metadata": {},
   "source": [
    "In computation above we cut corners:\n",
    "\n",
    "\n",
    "- ignore compouding\n",
    "\n",
    "- assumed returns are i.i.d \n",
    " \n",
    "- If you want to compare assets returns across multiple horizon, \n",
    "- lets say that you only have one asset at the yearly frequency, \n",
    "- than you have to aggregate the monthly data set to yearly and the compute the moments\n",
    "- This makes no assumptiuons and it is always right\n",
    "- for that we will have to learn some new pandas functionality that is very useful to construct different trading signals\n",
    "\n"
   ]
  },
  {
   "cell_type": "markdown",
   "metadata": {},
   "source": [
    "# Application of SQL methods in Pandas\n",
    "\n",
    "\n",
    "## SQL: Structured Query Language. SQL is used to communicate with a database\n",
    "\n",
    "\n",
    "- very useful in investing \n",
    "\n",
    "here is the documentation\n",
    "\n",
    "http://pandas.pydata.org/pandas-docs/stable/groupby.html\n",
    "\n",
    "- For every year we want to compute the cumulative returns\n",
    "\n",
    "$$r_{year}=\\prod_{t \\in year} (1+r_t)-1$$\n",
    "\n",
    "In the end we want a table that looks like\n",
    "\n",
    "year|MKT...\n",
    "--|-\n",
    "1997|$r_{1997}$\n",
    "1998|$r_{1998}$\n",
    "1999|$r_{1999}$"
   ]
  },
  {
   "cell_type": "code",
   "execution_count": 27,
   "metadata": {
    "scrolled": true
   },
   "outputs": [
    {
     "name": "stdout",
     "output_type": "stream",
     "text": [
      "                RF     MKT  USA30yearGovBond  EmergingMarkets  WorldxUSA  \\\n",
      "Date                                                                       \n",
      "1963-02-28  0.0023 -0.0215         -0.001878         0.098222  -0.002773   \n",
      "1963-03-31  0.0023  0.0331          0.003342         0.014149   0.000371   \n",
      "1963-04-30  0.0025  0.0476         -0.001843        -0.147055  -0.003336   \n",
      "\n",
      "            WorldxUSAGovBond  year  month  \n",
      "Date                                       \n",
      "1963-02-28          0.003206  1963      2  \n",
      "1963-03-31          0.001913  1963      3  \n",
      "1963-04-30          0.008002  1963      4  \n"
     ]
    }
   ],
   "source": [
    "# First we will construct a year variable which we will use to group the observations together\n",
    "Data['year']=Data.index.year\n",
    "print(Data.head(3))\n"
   ]
  },
  {
   "cell_type": "code",
   "execution_count": 30,
   "metadata": {},
   "outputs": [
    {
     "data": {
      "text/plain": [
       "[0.14703663140875137, 0.2726717359779176]"
      ]
     },
     "execution_count": 30,
     "metadata": {},
     "output_type": "execute_result"
    }
   ],
   "source": [
    "#Here we are at the same time adding 1 to the return variable, so we have a gross return which we can compound\n",
    "#And also create the new data set with year as a grouping variable\n",
    "DataT=Data.copy()\n",
    "DataT=DataT+1\n",
    "DataT['year']=DataT.index.year\n",
    "Datagrouped=(DataT).groupby('year')\n",
    "# the last step is how we want to group\n",
    "# we could want to keep the standard devition, the mean, the man, the min, or even to apply some custom fucntion\n",
    "# in our case all we need is the product\n",
    "Datayear=(Datagrouped).prod()-1\n",
    "# where we are substracting 1 to get back to a net return\n",
    "[Datayear.EmergingMarkets.mean(),Datayear.EmergingMarkets.std()]"
   ]
  },
  {
   "cell_type": "markdown",
   "metadata": {},
   "source": [
    "Groupby method is incredibly powerful/flexible tool construct trading signals\n",
    "\n",
    "Enables you to quickly aggregate variables at different frequencies"
   ]
  },
  {
   "cell_type": "markdown",
   "metadata": {
    "collapsed": true
   },
   "source": [
    "# 3. Excess returns and risk-premiums\n",
    "\n",
    "\n",
    "- it is convenient to decompose the return earned in terms of what you earn due \n",
    " \n",
    " 1. compensation for waiting (time-value of money)\n",
    " 2. compensation for bearing risk\n",
    " \n",
    " \n",
    " WE can an excess return, the return, minus the risk-free rate \n",
    " \n",
    " $$R_i^e=R_i-R_f$$\n",
    " \n",
    " We typically use the returns of a 3-month treasury bill\n",
    " \n",
    "So the excess return of the market is\n",
    "\n",
    "$$R_{MKT}-R_f$$\n",
    "\n",
    "i.e. how much more I would get if I invested in the market instead of at the risk-free rate\n",
    "\n",
    "We call the Expected difference, the risk-premium\n",
    "\n",
    "$$E[R_i^e]=E[R_i-R_f]$$\n",
    "\n",
    "It is how much more you expect to get by investing in asset i instead of the risk-free rate\n",
    "\n",
    "When asset i, is the total market portfolio of US equities, we call this, the equity risky premium\n",
    "\n",
    "\n",
    "Equity Risk premium\n",
    "\n",
    "$$E[R_{MKT}^e]=E[R_{MKT}-R_f]$$\n"
   ]
  },
  {
   "cell_type": "code",
   "execution_count": 33,
   "metadata": {},
   "outputs": [
    {
     "data": {
      "text/plain": [
       "0.005140340030911903"
      ]
     },
     "execution_count": 33,
     "metadata": {},
     "output_type": "execute_result"
    }
   ],
   "source": [
    "(Data.MKT-Data.RF).mean()"
   ]
  },
  {
   "cell_type": "code",
   "execution_count": 34,
   "metadata": {},
   "outputs": [
    {
     "data": {
      "text/plain": [
       "0.06168408037094284"
      ]
     },
     "execution_count": 34,
     "metadata": {},
     "output_type": "execute_result"
    }
   ],
   "source": [
    "(Data.MKT-Data.RF).mean()*12"
   ]
  },
  {
   "cell_type": "markdown",
   "metadata": {},
   "source": [
    "What does this mean?\n",
    "\n",
    "Lets look at how much money one would have if they had invested 1 dollar in the market and kept reinvesting until the end of our sample\n",
    "\n",
    "lets then compare with an investment in the risk-free rate\n",
    "\n",
    "$$(1+r_1)(1+r_2)....(1+r_T)$$"
   ]
  },
  {
   "cell_type": "code",
   "execution_count": 35,
   "metadata": {},
   "outputs": [
    {
     "data": {
      "text/plain": [
       "<matplotlib.axes._subplots.AxesSubplot at 0x17bc35a6828>"
      ]
     },
     "execution_count": 35,
     "metadata": {},
     "output_type": "execute_result"
    },
    {
     "data": {
      "image/png": "[encoded data removed]",
      "text/plain": [
       "<Figure size 432x288 with 1 Axes>"
      ]
     },
     "metadata": {},
     "output_type": "display_data"
    }
   ],
   "source": [
    "(1+Data[['RF','MKT']]).cumprod().plot()"
   ]
  },
  {
   "cell_type": "markdown",
   "metadata": {},
   "source": [
    "# 4. Portfolio mathematics "
   ]
  },
  {
   "cell_type": "code",
   "execution_count": 76,
   "metadata": {
    "collapsed": true
   },
   "outputs": [],
   "source": [
    "#GlobalFinMonthly\n",
    "url=\"https://www.dropbox.com/s/3k35mt3t57ygff2/GlobalFinMonthly.csv?dl=1\"\n",
    "Data = pd.read_csv(url,na_values=-99)\n",
    "# tell python Date is date:\n",
    "Data['Date']=pd.to_datetime(Data['Date'])\n",
    "# set an an index\n",
    "Data=Data.set_index(['Date'])\n"
   ]
  },
  {
   "cell_type": "code",
   "execution_count": 39,
   "metadata": {},
   "outputs": [
    {
     "data": {
      "text/html": [
       "<div>\n",
       "<style scoped>\n",
       "    .dataframe tbody tr th:only-of-type {\n",
       "        vertical-align: middle;\n",
       "    }\n",
       "\n",
       "    .dataframe tbody tr th {\n",
       "        vertical-align: top;\n",
       "    }\n",
       "\n",
       "    .dataframe thead th {\n",
       "        text-align: right;\n",
       "    }\n",
       "</style>\n",
       "<table border=\"1\" class=\"dataframe\">\n",
       "  <thead>\n",
       "    <tr style=\"text-align: right;\">\n",
       "      <th></th>\n",
       "      <th>RF</th>\n",
       "      <th>MKT</th>\n",
       "      <th>USA30yearGovBond</th>\n",
       "      <th>EmergingMarkets</th>\n",
       "      <th>WorldxUSA</th>\n",
       "      <th>WorldxUSAGovBond</th>\n",
       "    </tr>\n",
       "    <tr>\n",
       "      <th>Date</th>\n",
       "      <th></th>\n",
       "      <th></th>\n",
       "      <th></th>\n",
       "      <th></th>\n",
       "      <th></th>\n",
       "      <th></th>\n",
       "    </tr>\n",
       "  </thead>\n",
       "  <tbody>\n",
       "    <tr>\n",
       "      <th>1963-02-28</th>\n",
       "      <td>0.0023</td>\n",
       "      <td>-0.0215</td>\n",
       "      <td>-0.001878</td>\n",
       "      <td>0.098222</td>\n",
       "      <td>-0.002773</td>\n",
       "      <td>0.003206</td>\n",
       "    </tr>\n",
       "    <tr>\n",
       "      <th>1963-03-31</th>\n",
       "      <td>0.0023</td>\n",
       "      <td>0.0331</td>\n",
       "      <td>0.003342</td>\n",
       "      <td>0.014149</td>\n",
       "      <td>0.000371</td>\n",
       "      <td>0.001913</td>\n",
       "    </tr>\n",
       "    <tr>\n",
       "      <th>1963-04-30</th>\n",
       "      <td>0.0025</td>\n",
       "      <td>0.0476</td>\n",
       "      <td>-0.001843</td>\n",
       "      <td>-0.147055</td>\n",
       "      <td>-0.003336</td>\n",
       "      <td>0.008002</td>\n",
       "    </tr>\n",
       "    <tr>\n",
       "      <th>1963-05-31</th>\n",
       "      <td>0.0024</td>\n",
       "      <td>0.0200</td>\n",
       "      <td>-0.001807</td>\n",
       "      <td>-0.012172</td>\n",
       "      <td>-0.000186</td>\n",
       "      <td>0.004689</td>\n",
       "    </tr>\n",
       "    <tr>\n",
       "      <th>1963-06-30</th>\n",
       "      <td>0.0023</td>\n",
       "      <td>-0.0177</td>\n",
       "      <td>0.001666</td>\n",
       "      <td>-0.055699</td>\n",
       "      <td>-0.011160</td>\n",
       "      <td>0.003139</td>\n",
       "    </tr>\n",
       "  </tbody>\n",
       "</table>\n",
       "</div>"
      ],
      "text/plain": [
       "                RF     MKT  USA30yearGovBond  EmergingMarkets  WorldxUSA  \\\n",
       "Date                                                                       \n",
       "1963-02-28  0.0023 -0.0215         -0.001878         0.098222  -0.002773   \n",
       "1963-03-31  0.0023  0.0331          0.003342         0.014149   0.000371   \n",
       "1963-04-30  0.0025  0.0476         -0.001843        -0.147055  -0.003336   \n",
       "1963-05-31  0.0024  0.0200         -0.001807        -0.012172  -0.000186   \n",
       "1963-06-30  0.0023 -0.0177          0.001666        -0.055699  -0.011160   \n",
       "\n",
       "            WorldxUSAGovBond  \n",
       "Date                          \n",
       "1963-02-28          0.003206  \n",
       "1963-03-31          0.001913  \n",
       "1963-04-30          0.008002  \n",
       "1963-05-31          0.004689  \n",
       "1963-06-30          0.003139  "
      ]
     },
     "execution_count": 39,
     "metadata": {},
     "output_type": "execute_result"
    }
   ],
   "source": [
    "Data.head(5)"
   ]
  },
  {
   "cell_type": "code",
   "execution_count": 77,
   "metadata": {},
   "outputs": [
    {
     "data": {
      "text/plain": [
       "array([0.2, 0.2, 0.2, 0.2, 0.2])"
      ]
     },
     "execution_count": 77,
     "metadata": {},
     "output_type": "execute_result"
    }
   ],
   "source": [
    "# lets start by constructing a equal-weigthed portfolio\n",
    "Wghts=np.ones(5)/5\n",
    "\n",
    "Wghts"
   ]
  },
  {
   "cell_type": "code",
   "execution_count": 41,
   "metadata": {},
   "outputs": [
    {
     "data": {
      "text/plain": [
       "Date\n",
       "2008-09-30   -0.083522\n",
       "dtype: float64"
      ]
     },
     "execution_count": 41,
     "metadata": {},
     "output_type": "execute_result"
    }
   ],
   "source": [
    "D=Data.loc['9/2008','MKT':]\n",
    "Wghts[0]*D.MKT+Wghts[1]*D.USA30yearGovBond+Wghts[2]*D.EmergingMarkets\\\n",
    "+Wghts[3]*D.WorldxUSA+Wghts[4]*D.WorldxUSAGovBond\n"
   ]
  },
  {
   "cell_type": "code",
   "execution_count": 45,
   "metadata": {},
   "outputs": [
    {
     "data": {
      "text/plain": [
       "Date\n",
       "2008-01-31   -0.011955\n",
       "2008-02-29    0.003336\n",
       "2008-03-31    0.002149\n",
       "2008-04-30    0.009911\n",
       "2008-05-31    0.000219\n",
       "2008-06-30   -0.017327\n",
       "2008-07-31   -0.005547\n",
       "2008-08-31   -0.013889\n",
       "2008-09-30   -0.035101\n",
       "2008-10-31   -0.048034\n",
       "2008-11-30   -0.011202\n",
       "2008-12-31    0.023814\n",
       "dtype: float64"
      ]
     },
     "execution_count": 45,
     "metadata": {},
     "output_type": "execute_result"
    }
   ],
   "source": [
    "D=Data.loc['2008','MKT':]\n",
    "Wghts[0]*D.MKT+Wghts[1]*D.USA30yearGovBond+Wghts[2]*D.EmergingMarkets\\\n",
    "+Wghts[3]*D.WorldxUSA+Wghts[4]*D.WorldxUSAGovBond\n"
   ]
  },
  {
   "cell_type": "code",
   "execution_count": 78,
   "metadata": {},
   "outputs": [
    {
     "data": {
      "text/html": [
       "<div>\n",
       "<style scoped>\n",
       "    .dataframe tbody tr th:only-of-type {\n",
       "        vertical-align: middle;\n",
       "    }\n",
       "\n",
       "    .dataframe tbody tr th {\n",
       "        vertical-align: top;\n",
       "    }\n",
       "\n",
       "    .dataframe thead th {\n",
       "        text-align: right;\n",
       "    }\n",
       "</style>\n",
       "<table border=\"1\" class=\"dataframe\">\n",
       "  <thead>\n",
       "    <tr style=\"text-align: right;\">\n",
       "      <th></th>\n",
       "      <th>MKT</th>\n",
       "      <th>USA30yearGovBond</th>\n",
       "      <th>EmergingMarkets</th>\n",
       "      <th>WorldxUSA</th>\n",
       "      <th>WorldxUSAGovBond</th>\n",
       "    </tr>\n",
       "    <tr>\n",
       "      <th>Date</th>\n",
       "      <th></th>\n",
       "      <th></th>\n",
       "      <th></th>\n",
       "      <th></th>\n",
       "      <th></th>\n",
       "    </tr>\n",
       "  </thead>\n",
       "  <tbody>\n",
       "    <tr>\n",
       "      <th>1963-02-28</th>\n",
       "      <td>-0.0215</td>\n",
       "      <td>-0.001878</td>\n",
       "      <td>0.098222</td>\n",
       "      <td>-0.002773</td>\n",
       "      <td>0.003206</td>\n",
       "    </tr>\n",
       "    <tr>\n",
       "      <th>1963-03-31</th>\n",
       "      <td>0.0331</td>\n",
       "      <td>0.003342</td>\n",
       "      <td>0.014149</td>\n",
       "      <td>0.000371</td>\n",
       "      <td>0.001913</td>\n",
       "    </tr>\n",
       "    <tr>\n",
       "      <th>1963-04-30</th>\n",
       "      <td>0.0476</td>\n",
       "      <td>-0.001843</td>\n",
       "      <td>-0.147055</td>\n",
       "      <td>-0.003336</td>\n",
       "      <td>0.008002</td>\n",
       "    </tr>\n",
       "    <tr>\n",
       "      <th>1963-05-31</th>\n",
       "      <td>0.0200</td>\n",
       "      <td>-0.001807</td>\n",
       "      <td>-0.012172</td>\n",
       "      <td>-0.000186</td>\n",
       "      <td>0.004689</td>\n",
       "    </tr>\n",
       "    <tr>\n",
       "      <th>1963-06-30</th>\n",
       "      <td>-0.0177</td>\n",
       "      <td>0.001666</td>\n",
       "      <td>-0.055699</td>\n",
       "      <td>-0.011160</td>\n",
       "      <td>0.003139</td>\n",
       "    </tr>\n",
       "    <tr>\n",
       "      <th>1963-07-31</th>\n",
       "      <td>-0.0012</td>\n",
       "      <td>0.003400</td>\n",
       "      <td>0.088591</td>\n",
       "      <td>0.007900</td>\n",
       "      <td>0.001901</td>\n",
       "    </tr>\n",
       "    <tr>\n",
       "      <th>1963-08-31</th>\n",
       "      <td>0.0532</td>\n",
       "      <td>0.006861</td>\n",
       "      <td>0.027940</td>\n",
       "      <td>0.035924</td>\n",
       "      <td>0.002715</td>\n",
       "    </tr>\n",
       "    <tr>\n",
       "      <th>1963-09-30</th>\n",
       "      <td>-0.0130</td>\n",
       "      <td>0.001657</td>\n",
       "      <td>-0.025040</td>\n",
       "      <td>0.002432</td>\n",
       "      <td>0.004526</td>\n",
       "    </tr>\n",
       "    <tr>\n",
       "      <th>1963-10-31</th>\n",
       "      <td>0.0282</td>\n",
       "      <td>-0.005193</td>\n",
       "      <td>0.038818</td>\n",
       "      <td>-0.001617</td>\n",
       "      <td>0.001675</td>\n",
       "    </tr>\n",
       "    <tr>\n",
       "      <th>1963-11-30</th>\n",
       "      <td>-0.0058</td>\n",
       "      <td>-0.003419</td>\n",
       "      <td>-0.020225</td>\n",
       "      <td>-0.005580</td>\n",
       "      <td>0.000021</td>\n",
       "    </tr>\n",
       "    <tr>\n",
       "      <th>1963-12-31</th>\n",
       "      <td>0.0212</td>\n",
       "      <td>-0.003367</td>\n",
       "      <td>-0.014238</td>\n",
       "      <td>-0.008779</td>\n",
       "      <td>0.000738</td>\n",
       "    </tr>\n",
       "    <tr>\n",
       "      <th>1964-01-31</th>\n",
       "      <td>0.0254</td>\n",
       "      <td>0.001790</td>\n",
       "      <td>0.000669</td>\n",
       "      <td>0.021731</td>\n",
       "      <td>0.001713</td>\n",
       "    </tr>\n",
       "    <tr>\n",
       "      <th>1964-02-29</th>\n",
       "      <td>0.0180</td>\n",
       "      <td>0.006938</td>\n",
       "      <td>0.005058</td>\n",
       "      <td>-0.026273</td>\n",
       "      <td>-0.000135</td>\n",
       "    </tr>\n",
       "    <tr>\n",
       "      <th>1964-03-31</th>\n",
       "      <td>0.0172</td>\n",
       "      <td>0.001781</td>\n",
       "      <td>-0.090925</td>\n",
       "      <td>-0.003120</td>\n",
       "      <td>0.000601</td>\n",
       "    </tr>\n",
       "    <tr>\n",
       "      <th>1964-04-30</th>\n",
       "      <td>0.0039</td>\n",
       "      <td>-0.001617</td>\n",
       "      <td>0.117617</td>\n",
       "      <td>-0.002762</td>\n",
       "      <td>0.000963</td>\n",
       "    </tr>\n",
       "    <tr>\n",
       "      <th>1964-05-31</th>\n",
       "      <td>0.0168</td>\n",
       "      <td>0.006950</td>\n",
       "      <td>-0.069532</td>\n",
       "      <td>-0.025203</td>\n",
       "      <td>0.002980</td>\n",
       "    </tr>\n",
       "    <tr>\n",
       "      <th>1964-06-30</th>\n",
       "      <td>0.0157</td>\n",
       "      <td>0.012114</td>\n",
       "      <td>0.028668</td>\n",
       "      <td>-0.019225</td>\n",
       "      <td>0.001424</td>\n",
       "    </tr>\n",
       "    <tr>\n",
       "      <th>1964-07-31</th>\n",
       "      <td>0.0204</td>\n",
       "      <td>0.006908</td>\n",
       "      <td>-0.038090</td>\n",
       "      <td>0.031866</td>\n",
       "      <td>-0.001999</td>\n",
       "    </tr>\n",
       "    <tr>\n",
       "      <th>1964-08-31</th>\n",
       "      <td>-0.0116</td>\n",
       "      <td>-0.003393</td>\n",
       "      <td>-0.008670</td>\n",
       "      <td>0.036964</td>\n",
       "      <td>0.002963</td>\n",
       "    </tr>\n",
       "    <tr>\n",
       "      <th>1964-09-30</th>\n",
       "      <td>0.0297</td>\n",
       "      <td>0.003483</td>\n",
       "      <td>0.071204</td>\n",
       "      <td>-0.017507</td>\n",
       "      <td>0.007710</td>\n",
       "    </tr>\n",
       "    <tr>\n",
       "      <th>1964-10-31</th>\n",
       "      <td>0.0088</td>\n",
       "      <td>0.003483</td>\n",
       "      <td>-0.031442</td>\n",
       "      <td>-0.020759</td>\n",
       "      <td>0.002135</td>\n",
       "    </tr>\n",
       "    <tr>\n",
       "      <th>1964-11-30</th>\n",
       "      <td>0.0029</td>\n",
       "      <td>0.005200</td>\n",
       "      <td>-0.015734</td>\n",
       "      <td>-0.003002</td>\n",
       "      <td>0.001988</td>\n",
       "    </tr>\n",
       "    <tr>\n",
       "      <th>1964-12-31</th>\n",
       "      <td>0.0034</td>\n",
       "      <td>0.000052</td>\n",
       "      <td>-0.015283</td>\n",
       "      <td>-0.005551</td>\n",
       "      <td>0.002167</td>\n",
       "    </tr>\n",
       "    <tr>\n",
       "      <th>1965-01-31</th>\n",
       "      <td>0.0382</td>\n",
       "      <td>0.001781</td>\n",
       "      <td>0.050917</td>\n",
       "      <td>0.005109</td>\n",
       "      <td>0.007237</td>\n",
       "    </tr>\n",
       "    <tr>\n",
       "      <th>1965-02-28</th>\n",
       "      <td>0.0074</td>\n",
       "      <td>0.006932</td>\n",
       "      <td>0.009153</td>\n",
       "      <td>-0.003200</td>\n",
       "      <td>0.004162</td>\n",
       "    </tr>\n",
       "    <tr>\n",
       "      <th>1965-03-31</th>\n",
       "      <td>-0.0098</td>\n",
       "      <td>0.001771</td>\n",
       "      <td>-0.024657</td>\n",
       "      <td>-0.017469</td>\n",
       "      <td>0.000361</td>\n",
       "    </tr>\n",
       "    <tr>\n",
       "      <th>1965-04-30</th>\n",
       "      <td>0.0342</td>\n",
       "      <td>0.006926</td>\n",
       "      <td>0.007014</td>\n",
       "      <td>0.006343</td>\n",
       "      <td>-0.000722</td>\n",
       "    </tr>\n",
       "    <tr>\n",
       "      <th>1965-05-31</th>\n",
       "      <td>-0.0046</td>\n",
       "      <td>0.003475</td>\n",
       "      <td>-0.029914</td>\n",
       "      <td>-0.003438</td>\n",
       "      <td>-0.003765</td>\n",
       "    </tr>\n",
       "    <tr>\n",
       "      <th>1965-06-30</th>\n",
       "      <td>-0.0516</td>\n",
       "      <td>0.003475</td>\n",
       "      <td>0.031337</td>\n",
       "      <td>-0.032391</td>\n",
       "      <td>0.001018</td>\n",
       "    </tr>\n",
       "    <tr>\n",
       "      <th>1965-07-31</th>\n",
       "      <td>0.0174</td>\n",
       "      <td>0.003475</td>\n",
       "      <td>0.051269</td>\n",
       "      <td>-0.006537</td>\n",
       "      <td>0.001188</td>\n",
       "    </tr>\n",
       "    <tr>\n",
       "      <th>...</th>\n",
       "      <td>...</td>\n",
       "      <td>...</td>\n",
       "      <td>...</td>\n",
       "      <td>...</td>\n",
       "      <td>...</td>\n",
       "    </tr>\n",
       "    <tr>\n",
       "      <th>2014-07-31</th>\n",
       "      <td>-0.0204</td>\n",
       "      <td>0.006644</td>\n",
       "      <td>0.020158</td>\n",
       "      <td>-0.019609</td>\n",
       "      <td>-0.013577</td>\n",
       "    </tr>\n",
       "    <tr>\n",
       "      <th>2014-08-31</th>\n",
       "      <td>0.0424</td>\n",
       "      <td>0.048435</td>\n",
       "      <td>0.022939</td>\n",
       "      <td>-0.001451</td>\n",
       "      <td>0.003799</td>\n",
       "    </tr>\n",
       "    <tr>\n",
       "      <th>2014-09-30</th>\n",
       "      <td>-0.0197</td>\n",
       "      <td>-0.020529</td>\n",
       "      <td>-0.073920</td>\n",
       "      <td>-0.038072</td>\n",
       "      <td>-0.043289</td>\n",
       "    </tr>\n",
       "    <tr>\n",
       "      <th>2014-10-31</th>\n",
       "      <td>0.0252</td>\n",
       "      <td>0.030340</td>\n",
       "      <td>0.011908</td>\n",
       "      <td>-0.014489</td>\n",
       "      <td>-0.006894</td>\n",
       "    </tr>\n",
       "    <tr>\n",
       "      <th>2014-11-30</th>\n",
       "      <td>0.0255</td>\n",
       "      <td>0.038617</td>\n",
       "      <td>-0.010518</td>\n",
       "      <td>0.013722</td>\n",
       "      <td>-0.004437</td>\n",
       "    </tr>\n",
       "    <tr>\n",
       "      <th>2014-12-31</th>\n",
       "      <td>-0.0006</td>\n",
       "      <td>0.030612</td>\n",
       "      <td>-0.045617</td>\n",
       "      <td>-0.034357</td>\n",
       "      <td>0.022044</td>\n",
       "    </tr>\n",
       "    <tr>\n",
       "      <th>2015-01-31</th>\n",
       "      <td>-0.0311</td>\n",
       "      <td>0.108778</td>\n",
       "      <td>0.006076</td>\n",
       "      <td>0.004955</td>\n",
       "      <td>-0.059231</td>\n",
       "    </tr>\n",
       "    <tr>\n",
       "      <th>2015-02-28</th>\n",
       "      <td>0.0613</td>\n",
       "      <td>-0.072377</td>\n",
       "      <td>0.031087</td>\n",
       "      <td>0.059894</td>\n",
       "      <td>-0.005246</td>\n",
       "    </tr>\n",
       "    <tr>\n",
       "      <th>2015-03-31</th>\n",
       "      <td>-0.0112</td>\n",
       "      <td>0.020482</td>\n",
       "      <td>-0.014074</td>\n",
       "      <td>-0.014282</td>\n",
       "      <td>-0.022296</td>\n",
       "    </tr>\n",
       "    <tr>\n",
       "      <th>2015-04-30</th>\n",
       "      <td>0.0059</td>\n",
       "      <td>-0.039151</td>\n",
       "      <td>0.077225</td>\n",
       "      <td>0.041635</td>\n",
       "      <td>0.022522</td>\n",
       "    </tr>\n",
       "    <tr>\n",
       "      <th>2015-05-31</th>\n",
       "      <td>0.0136</td>\n",
       "      <td>-0.023211</td>\n",
       "      <td>-0.039853</td>\n",
       "      <td>-0.003972</td>\n",
       "      <td>-0.033661</td>\n",
       "    </tr>\n",
       "    <tr>\n",
       "      <th>2015-06-30</th>\n",
       "      <td>-0.0153</td>\n",
       "      <td>-0.041813</td>\n",
       "      <td>-0.025208</td>\n",
       "      <td>-0.028049</td>\n",
       "      <td>-0.001989</td>\n",
       "    </tr>\n",
       "    <tr>\n",
       "      <th>2015-07-31</th>\n",
       "      <td>0.0154</td>\n",
       "      <td>0.040611</td>\n",
       "      <td>-0.068709</td>\n",
       "      <td>0.020807</td>\n",
       "      <td>0.002027</td>\n",
       "    </tr>\n",
       "    <tr>\n",
       "      <th>2015-08-31</th>\n",
       "      <td>-0.0604</td>\n",
       "      <td>-0.003469</td>\n",
       "      <td>-0.090097</td>\n",
       "      <td>-0.073457</td>\n",
       "      <td>0.007883</td>\n",
       "    </tr>\n",
       "    <tr>\n",
       "      <th>2015-09-30</th>\n",
       "      <td>-0.0308</td>\n",
       "      <td>0.018393</td>\n",
       "      <td>-0.029726</td>\n",
       "      <td>-0.050415</td>\n",
       "      <td>0.003643</td>\n",
       "    </tr>\n",
       "    <tr>\n",
       "      <th>2015-10-31</th>\n",
       "      <td>0.0775</td>\n",
       "      <td>-0.009402</td>\n",
       "      <td>0.071400</td>\n",
       "      <td>0.078231</td>\n",
       "      <td>-0.000810</td>\n",
       "    </tr>\n",
       "    <tr>\n",
       "      <th>2015-11-30</th>\n",
       "      <td>0.0056</td>\n",
       "      <td>-0.007364</td>\n",
       "      <td>-0.038943</td>\n",
       "      <td>-0.015439</td>\n",
       "      <td>-0.030427</td>\n",
       "    </tr>\n",
       "    <tr>\n",
       "      <th>2015-12-31</th>\n",
       "      <td>-0.0216</td>\n",
       "      <td>-0.003398</td>\n",
       "      <td>-0.025013</td>\n",
       "      <td>-0.006866</td>\n",
       "      <td>0.015373</td>\n",
       "    </tr>\n",
       "    <tr>\n",
       "      <th>2016-01-31</th>\n",
       "      <td>-0.0576</td>\n",
       "      <td>0.055328</td>\n",
       "      <td>-0.061664</td>\n",
       "      <td>-0.078221</td>\n",
       "      <td>0.009590</td>\n",
       "    </tr>\n",
       "    <tr>\n",
       "      <th>2016-02-29</th>\n",
       "      <td>-0.0005</td>\n",
       "      <td>0.030730</td>\n",
       "      <td>-0.001531</td>\n",
       "      <td>-0.017972</td>\n",
       "      <td>0.032758</td>\n",
       "    </tr>\n",
       "    <tr>\n",
       "      <th>2016-03-31</th>\n",
       "      <td>0.0698</td>\n",
       "      <td>0.002175</td>\n",
       "      <td>0.132583</td>\n",
       "      <td>0.065940</td>\n",
       "      <td>0.041436</td>\n",
       "    </tr>\n",
       "    <tr>\n",
       "      <th>2016-04-30</th>\n",
       "      <td>0.0093</td>\n",
       "      <td>-0.007815</td>\n",
       "      <td>0.005638</td>\n",
       "      <td>0.030044</td>\n",
       "      <td>0.003984</td>\n",
       "    </tr>\n",
       "    <tr>\n",
       "      <th>2016-05-31</th>\n",
       "      <td>0.0179</td>\n",
       "      <td>0.006237</td>\n",
       "      <td>-0.037107</td>\n",
       "      <td>-0.007835</td>\n",
       "      <td>-0.011474</td>\n",
       "    </tr>\n",
       "    <tr>\n",
       "      <th>2016-06-30</th>\n",
       "      <td>-0.0003</td>\n",
       "      <td>0.073556</td>\n",
       "      <td>0.040948</td>\n",
       "      <td>-0.033151</td>\n",
       "      <td>0.036707</td>\n",
       "    </tr>\n",
       "    <tr>\n",
       "      <th>2016-07-31</th>\n",
       "      <td>0.0397</td>\n",
       "      <td>0.026864</td>\n",
       "      <td>0.050900</td>\n",
       "      <td>0.050762</td>\n",
       "      <td>0.008444</td>\n",
       "    </tr>\n",
       "    <tr>\n",
       "      <th>2016-08-31</th>\n",
       "      <td>0.0052</td>\n",
       "      <td>-0.008417</td>\n",
       "      <td>0.025186</td>\n",
       "      <td>0.000838</td>\n",
       "      <td>-0.009552</td>\n",
       "    </tr>\n",
       "    <tr>\n",
       "      <th>2016-09-30</th>\n",
       "      <td>0.0027</td>\n",
       "      <td>-0.016417</td>\n",
       "      <td>0.013153</td>\n",
       "      <td>0.012736</td>\n",
       "      <td>0.009979</td>\n",
       "    </tr>\n",
       "    <tr>\n",
       "      <th>2016-10-31</th>\n",
       "      <td>-0.0200</td>\n",
       "      <td>-0.049460</td>\n",
       "      <td>0.002474</td>\n",
       "      <td>-0.020383</td>\n",
       "      <td>-0.043476</td>\n",
       "    </tr>\n",
       "    <tr>\n",
       "      <th>2016-11-30</th>\n",
       "      <td>0.0487</td>\n",
       "      <td>-0.081636</td>\n",
       "      <td>-0.045971</td>\n",
       "      <td>-0.019798</td>\n",
       "      <td>-0.050359</td>\n",
       "    </tr>\n",
       "    <tr>\n",
       "      <th>2016-12-31</th>\n",
       "      <td>0.0185</td>\n",
       "      <td>-0.005296</td>\n",
       "      <td>0.002904</td>\n",
       "      <td>0.034383</td>\n",
       "      <td>-0.023207</td>\n",
       "    </tr>\n",
       "  </tbody>\n",
       "</table>\n",
       "<p>647 rows × 5 columns</p>\n",
       "</div>"
      ],
      "text/plain": [
       "               MKT  USA30yearGovBond  EmergingMarkets  WorldxUSA  \\\n",
       "Date                                                               \n",
       "1963-02-28 -0.0215         -0.001878         0.098222  -0.002773   \n",
       "1963-03-31  0.0331          0.003342         0.014149   0.000371   \n",
       "1963-04-30  0.0476         -0.001843        -0.147055  -0.003336   \n",
       "1963-05-31  0.0200         -0.001807        -0.012172  -0.000186   \n",
       "1963-06-30 -0.0177          0.001666        -0.055699  -0.011160   \n",
       "1963-07-31 -0.0012          0.003400         0.088591   0.007900   \n",
       "1963-08-31  0.0532          0.006861         0.027940   0.035924   \n",
       "1963-09-30 -0.0130          0.001657        -0.025040   0.002432   \n",
       "1963-10-31  0.0282         -0.005193         0.038818  -0.001617   \n",
       "1963-11-30 -0.0058         -0.003419        -0.020225  -0.005580   \n",
       "1963-12-31  0.0212         -0.003367        -0.014238  -0.008779   \n",
       "1964-01-31  0.0254          0.001790         0.000669   0.021731   \n",
       "1964-02-29  0.0180          0.006938         0.005058  -0.026273   \n",
       "1964-03-31  0.0172          0.001781        -0.090925  -0.003120   \n",
       "1964-04-30  0.0039         -0.001617         0.117617  -0.002762   \n",
       "1964-05-31  0.0168          0.006950        -0.069532  -0.025203   \n",
       "1964-06-30  0.0157          0.012114         0.028668  -0.019225   \n",
       "1964-07-31  0.0204          0.006908        -0.038090   0.031866   \n",
       "1964-08-31 -0.0116         -0.003393        -0.008670   0.036964   \n",
       "1964-09-30  0.0297          0.003483         0.071204  -0.017507   \n",
       "1964-10-31  0.0088          0.003483        -0.031442  -0.020759   \n",
       "1964-11-30  0.0029          0.005200        -0.015734  -0.003002   \n",
       "1964-12-31  0.0034          0.000052        -0.015283  -0.005551   \n",
       "1965-01-31  0.0382          0.001781         0.050917   0.005109   \n",
       "1965-02-28  0.0074          0.006932         0.009153  -0.003200   \n",
       "1965-03-31 -0.0098          0.001771        -0.024657  -0.017469   \n",
       "1965-04-30  0.0342          0.006926         0.007014   0.006343   \n",
       "1965-05-31 -0.0046          0.003475        -0.029914  -0.003438   \n",
       "1965-06-30 -0.0516          0.003475         0.031337  -0.032391   \n",
       "1965-07-31  0.0174          0.003475         0.051269  -0.006537   \n",
       "...            ...               ...              ...        ...   \n",
       "2014-07-31 -0.0204          0.006644         0.020158  -0.019609   \n",
       "2014-08-31  0.0424          0.048435         0.022939  -0.001451   \n",
       "2014-09-30 -0.0197         -0.020529        -0.073920  -0.038072   \n",
       "2014-10-31  0.0252          0.030340         0.011908  -0.014489   \n",
       "2014-11-30  0.0255          0.038617        -0.010518   0.013722   \n",
       "2014-12-31 -0.0006          0.030612        -0.045617  -0.034357   \n",
       "2015-01-31 -0.0311          0.108778         0.006076   0.004955   \n",
       "2015-02-28  0.0613         -0.072377         0.031087   0.059894   \n",
       "2015-03-31 -0.0112          0.020482        -0.014074  -0.014282   \n",
       "2015-04-30  0.0059         -0.039151         0.077225   0.041635   \n",
       "2015-05-31  0.0136         -0.023211        -0.039853  -0.003972   \n",
       "2015-06-30 -0.0153         -0.041813        -0.025208  -0.028049   \n",
       "2015-07-31  0.0154          0.040611        -0.068709   0.020807   \n",
       "2015-08-31 -0.0604         -0.003469        -0.090097  -0.073457   \n",
       "2015-09-30 -0.0308          0.018393        -0.029726  -0.050415   \n",
       "2015-10-31  0.0775         -0.009402         0.071400   0.078231   \n",
       "2015-11-30  0.0056         -0.007364        -0.038943  -0.015439   \n",
       "2015-12-31 -0.0216         -0.003398        -0.025013  -0.006866   \n",
       "2016-01-31 -0.0576          0.055328        -0.061664  -0.078221   \n",
       "2016-02-29 -0.0005          0.030730        -0.001531  -0.017972   \n",
       "2016-03-31  0.0698          0.002175         0.132583   0.065940   \n",
       "2016-04-30  0.0093         -0.007815         0.005638   0.030044   \n",
       "2016-05-31  0.0179          0.006237        -0.037107  -0.007835   \n",
       "2016-06-30 -0.0003          0.073556         0.040948  -0.033151   \n",
       "2016-07-31  0.0397          0.026864         0.050900   0.050762   \n",
       "2016-08-31  0.0052         -0.008417         0.025186   0.000838   \n",
       "2016-09-30  0.0027         -0.016417         0.013153   0.012736   \n",
       "2016-10-31 -0.0200         -0.049460         0.002474  -0.020383   \n",
       "2016-11-30  0.0487         -0.081636        -0.045971  -0.019798   \n",
       "2016-12-31  0.0185         -0.005296         0.002904   0.034383   \n",
       "\n",
       "            WorldxUSAGovBond  \n",
       "Date                          \n",
       "1963-02-28          0.003206  \n",
       "1963-03-31          0.001913  \n",
       "1963-04-30          0.008002  \n",
       "1963-05-31          0.004689  \n",
       "1963-06-30          0.003139  \n",
       "1963-07-31          0.001901  \n",
       "1963-08-31          0.002715  \n",
       "1963-09-30          0.004526  \n",
       "1963-10-31          0.001675  \n",
       "1963-11-30          0.000021  \n",
       "1963-12-31          0.000738  \n",
       "1964-01-31          0.001713  \n",
       "1964-02-29         -0.000135  \n",
       "1964-03-31          0.000601  \n",
       "1964-04-30          0.000963  \n",
       "1964-05-31          0.002980  \n",
       "1964-06-30          0.001424  \n",
       "1964-07-31         -0.001999  \n",
       "1964-08-31          0.002963  \n",
       "1964-09-30          0.007710  \n",
       "1964-10-31          0.002135  \n",
       "1964-11-30          0.001988  \n",
       "1964-12-31          0.002167  \n",
       "1965-01-31          0.007237  \n",
       "1965-02-28          0.004162  \n",
       "1965-03-31          0.000361  \n",
       "1965-04-30         -0.000722  \n",
       "1965-05-31         -0.003765  \n",
       "1965-06-30          0.001018  \n",
       "1965-07-31          0.001188  \n",
       "...                      ...  \n",
       "2014-07-31         -0.013577  \n",
       "2014-08-31          0.003799  \n",
       "2014-09-30         -0.043289  \n",
       "2014-10-31         -0.006894  \n",
       "2014-11-30         -0.004437  \n",
       "2014-12-31          0.022044  \n",
       "2015-01-31         -0.059231  \n",
       "2015-02-28         -0.005246  \n",
       "2015-03-31         -0.022296  \n",
       "2015-04-30          0.022522  \n",
       "2015-05-31         -0.033661  \n",
       "2015-06-30         -0.001989  \n",
       "2015-07-31          0.002027  \n",
       "2015-08-31          0.007883  \n",
       "2015-09-30          0.003643  \n",
       "2015-10-31         -0.000810  \n",
       "2015-11-30         -0.030427  \n",
       "2015-12-31          0.015373  \n",
       "2016-01-31          0.009590  \n",
       "2016-02-29          0.032758  \n",
       "2016-03-31          0.041436  \n",
       "2016-04-30          0.003984  \n",
       "2016-05-31         -0.011474  \n",
       "2016-06-30          0.036707  \n",
       "2016-07-31          0.008444  \n",
       "2016-08-31         -0.009552  \n",
       "2016-09-30          0.009979  \n",
       "2016-10-31         -0.043476  \n",
       "2016-11-30         -0.050359  \n",
       "2016-12-31         -0.023207  \n",
       "\n",
       "[647 rows x 5 columns]"
      ]
     },
     "execution_count": 78,
     "metadata": {},
     "output_type": "execute_result"
    }
   ],
   "source": [
    "D"
   ]
  },
  {
   "cell_type": "code",
   "execution_count": 83,
   "metadata": {
    "scrolled": true
   },
   "outputs": [
    {
     "data": {
      "text/plain": [
       "0.09682766807666138"
      ]
     },
     "execution_count": 83,
     "metadata": {},
     "output_type": "execute_result"
    }
   ],
   "source": [
    "# a better way of doing this is in vector notation\n",
    "D=Data.loc[:,'MKT':]\n",
    "D['portfolio']=(D @ Wghts.T)\n",
    "D.portfolio.mean()*12"
   ]
  },
  {
   "cell_type": "code",
   "execution_count": 82,
   "metadata": {},
   "outputs": [
    {
     "data": {
      "text/html": [
       "<div>\n",
       "<style scoped>\n",
       "    .dataframe tbody tr th:only-of-type {\n",
       "        vertical-align: middle;\n",
       "    }\n",
       "\n",
       "    .dataframe tbody tr th {\n",
       "        vertical-align: top;\n",
       "    }\n",
       "\n",
       "    .dataframe thead th {\n",
       "        text-align: right;\n",
       "    }\n",
       "</style>\n",
       "<table border=\"1\" class=\"dataframe\">\n",
       "  <thead>\n",
       "    <tr style=\"text-align: right;\">\n",
       "      <th></th>\n",
       "      <th>MKT</th>\n",
       "      <th>USA30yearGovBond</th>\n",
       "      <th>EmergingMarkets</th>\n",
       "      <th>WorldxUSA</th>\n",
       "      <th>WorldxUSAGovBond</th>\n",
       "    </tr>\n",
       "    <tr>\n",
       "      <th>Date</th>\n",
       "      <th></th>\n",
       "      <th></th>\n",
       "      <th></th>\n",
       "      <th></th>\n",
       "      <th></th>\n",
       "    </tr>\n",
       "  </thead>\n",
       "  <tbody>\n",
       "    <tr>\n",
       "      <th>1963-02-28</th>\n",
       "      <td>-0.0215</td>\n",
       "      <td>-0.001878</td>\n",
       "      <td>0.098222</td>\n",
       "      <td>-0.002773</td>\n",
       "      <td>0.003206</td>\n",
       "    </tr>\n",
       "    <tr>\n",
       "      <th>1963-03-31</th>\n",
       "      <td>0.0331</td>\n",
       "      <td>0.003342</td>\n",
       "      <td>0.014149</td>\n",
       "      <td>0.000371</td>\n",
       "      <td>0.001913</td>\n",
       "    </tr>\n",
       "    <tr>\n",
       "      <th>1963-04-30</th>\n",
       "      <td>0.0476</td>\n",
       "      <td>-0.001843</td>\n",
       "      <td>-0.147055</td>\n",
       "      <td>-0.003336</td>\n",
       "      <td>0.008002</td>\n",
       "    </tr>\n",
       "    <tr>\n",
       "      <th>1963-05-31</th>\n",
       "      <td>0.0200</td>\n",
       "      <td>-0.001807</td>\n",
       "      <td>-0.012172</td>\n",
       "      <td>-0.000186</td>\n",
       "      <td>0.004689</td>\n",
       "    </tr>\n",
       "    <tr>\n",
       "      <th>1963-06-30</th>\n",
       "      <td>-0.0177</td>\n",
       "      <td>0.001666</td>\n",
       "      <td>-0.055699</td>\n",
       "      <td>-0.011160</td>\n",
       "      <td>0.003139</td>\n",
       "    </tr>\n",
       "  </tbody>\n",
       "</table>\n",
       "</div>"
      ],
      "text/plain": [
       "               MKT  USA30yearGovBond  EmergingMarkets  WorldxUSA  \\\n",
       "Date                                                               \n",
       "1963-02-28 -0.0215         -0.001878         0.098222  -0.002773   \n",
       "1963-03-31  0.0331          0.003342         0.014149   0.000371   \n",
       "1963-04-30  0.0476         -0.001843        -0.147055  -0.003336   \n",
       "1963-05-31  0.0200         -0.001807        -0.012172  -0.000186   \n",
       "1963-06-30 -0.0177          0.001666        -0.055699  -0.011160   \n",
       "\n",
       "            WorldxUSAGovBond  \n",
       "Date                          \n",
       "1963-02-28          0.003206  \n",
       "1963-03-31          0.001913  \n",
       "1963-04-30          0.008002  \n",
       "1963-05-31          0.004689  \n",
       "1963-06-30          0.003139  "
      ]
     },
     "execution_count": 82,
     "metadata": {},
     "output_type": "execute_result"
    }
   ],
   "source": [
    "D.head()"
   ]
  },
  {
   "cell_type": "code",
   "execution_count": 85,
   "metadata": {
    "collapsed": true
   },
   "outputs": [],
   "source": [
    "D=D.drop(['MKT','portfolio'],axis=1)"
   ]
  },
  {
   "cell_type": "code",
   "execution_count": 86,
   "metadata": {},
   "outputs": [
    {
     "data": {
      "text/html": [
       "<div>\n",
       "<style scoped>\n",
       "    .dataframe tbody tr th:only-of-type {\n",
       "        vertical-align: middle;\n",
       "    }\n",
       "\n",
       "    .dataframe tbody tr th {\n",
       "        vertical-align: top;\n",
       "    }\n",
       "\n",
       "    .dataframe thead th {\n",
       "        text-align: right;\n",
       "    }\n",
       "</style>\n",
       "<table border=\"1\" class=\"dataframe\">\n",
       "  <thead>\n",
       "    <tr style=\"text-align: right;\">\n",
       "      <th></th>\n",
       "      <th>USA30yearGovBond</th>\n",
       "      <th>EmergingMarkets</th>\n",
       "      <th>WorldxUSA</th>\n",
       "      <th>WorldxUSAGovBond</th>\n",
       "    </tr>\n",
       "    <tr>\n",
       "      <th>Date</th>\n",
       "      <th></th>\n",
       "      <th></th>\n",
       "      <th></th>\n",
       "      <th></th>\n",
       "    </tr>\n",
       "  </thead>\n",
       "  <tbody>\n",
       "    <tr>\n",
       "      <th>1963-02-28</th>\n",
       "      <td>-0.001878</td>\n",
       "      <td>0.098222</td>\n",
       "      <td>-0.002773</td>\n",
       "      <td>0.003206</td>\n",
       "    </tr>\n",
       "    <tr>\n",
       "      <th>1963-03-31</th>\n",
       "      <td>0.003342</td>\n",
       "      <td>0.014149</td>\n",
       "      <td>0.000371</td>\n",
       "      <td>0.001913</td>\n",
       "    </tr>\n",
       "    <tr>\n",
       "      <th>1963-04-30</th>\n",
       "      <td>-0.001843</td>\n",
       "      <td>-0.147055</td>\n",
       "      <td>-0.003336</td>\n",
       "      <td>0.008002</td>\n",
       "    </tr>\n",
       "    <tr>\n",
       "      <th>1963-05-31</th>\n",
       "      <td>-0.001807</td>\n",
       "      <td>-0.012172</td>\n",
       "      <td>-0.000186</td>\n",
       "      <td>0.004689</td>\n",
       "    </tr>\n",
       "    <tr>\n",
       "      <th>1963-06-30</th>\n",
       "      <td>0.001666</td>\n",
       "      <td>-0.055699</td>\n",
       "      <td>-0.011160</td>\n",
       "      <td>0.003139</td>\n",
       "    </tr>\n",
       "    <tr>\n",
       "      <th>1963-07-31</th>\n",
       "      <td>0.003400</td>\n",
       "      <td>0.088591</td>\n",
       "      <td>0.007900</td>\n",
       "      <td>0.001901</td>\n",
       "    </tr>\n",
       "    <tr>\n",
       "      <th>1963-08-31</th>\n",
       "      <td>0.006861</td>\n",
       "      <td>0.027940</td>\n",
       "      <td>0.035924</td>\n",
       "      <td>0.002715</td>\n",
       "    </tr>\n",
       "    <tr>\n",
       "      <th>1963-09-30</th>\n",
       "      <td>0.001657</td>\n",
       "      <td>-0.025040</td>\n",
       "      <td>0.002432</td>\n",
       "      <td>0.004526</td>\n",
       "    </tr>\n",
       "    <tr>\n",
       "      <th>1963-10-31</th>\n",
       "      <td>-0.005193</td>\n",
       "      <td>0.038818</td>\n",
       "      <td>-0.001617</td>\n",
       "      <td>0.001675</td>\n",
       "    </tr>\n",
       "    <tr>\n",
       "      <th>1963-11-30</th>\n",
       "      <td>-0.003419</td>\n",
       "      <td>-0.020225</td>\n",
       "      <td>-0.005580</td>\n",
       "      <td>0.000021</td>\n",
       "    </tr>\n",
       "    <tr>\n",
       "      <th>1963-12-31</th>\n",
       "      <td>-0.003367</td>\n",
       "      <td>-0.014238</td>\n",
       "      <td>-0.008779</td>\n",
       "      <td>0.000738</td>\n",
       "    </tr>\n",
       "    <tr>\n",
       "      <th>1964-01-31</th>\n",
       "      <td>0.001790</td>\n",
       "      <td>0.000669</td>\n",
       "      <td>0.021731</td>\n",
       "      <td>0.001713</td>\n",
       "    </tr>\n",
       "    <tr>\n",
       "      <th>1964-02-29</th>\n",
       "      <td>0.006938</td>\n",
       "      <td>0.005058</td>\n",
       "      <td>-0.026273</td>\n",
       "      <td>-0.000135</td>\n",
       "    </tr>\n",
       "    <tr>\n",
       "      <th>1964-03-31</th>\n",
       "      <td>0.001781</td>\n",
       "      <td>-0.090925</td>\n",
       "      <td>-0.003120</td>\n",
       "      <td>0.000601</td>\n",
       "    </tr>\n",
       "    <tr>\n",
       "      <th>1964-04-30</th>\n",
       "      <td>-0.001617</td>\n",
       "      <td>0.117617</td>\n",
       "      <td>-0.002762</td>\n",
       "      <td>0.000963</td>\n",
       "    </tr>\n",
       "    <tr>\n",
       "      <th>1964-05-31</th>\n",
       "      <td>0.006950</td>\n",
       "      <td>-0.069532</td>\n",
       "      <td>-0.025203</td>\n",
       "      <td>0.002980</td>\n",
       "    </tr>\n",
       "    <tr>\n",
       "      <th>1964-06-30</th>\n",
       "      <td>0.012114</td>\n",
       "      <td>0.028668</td>\n",
       "      <td>-0.019225</td>\n",
       "      <td>0.001424</td>\n",
       "    </tr>\n",
       "    <tr>\n",
       "      <th>1964-07-31</th>\n",
       "      <td>0.006908</td>\n",
       "      <td>-0.038090</td>\n",
       "      <td>0.031866</td>\n",
       "      <td>-0.001999</td>\n",
       "    </tr>\n",
       "    <tr>\n",
       "      <th>1964-08-31</th>\n",
       "      <td>-0.003393</td>\n",
       "      <td>-0.008670</td>\n",
       "      <td>0.036964</td>\n",
       "      <td>0.002963</td>\n",
       "    </tr>\n",
       "    <tr>\n",
       "      <th>1964-09-30</th>\n",
       "      <td>0.003483</td>\n",
       "      <td>0.071204</td>\n",
       "      <td>-0.017507</td>\n",
       "      <td>0.007710</td>\n",
       "    </tr>\n",
       "    <tr>\n",
       "      <th>1964-10-31</th>\n",
       "      <td>0.003483</td>\n",
       "      <td>-0.031442</td>\n",
       "      <td>-0.020759</td>\n",
       "      <td>0.002135</td>\n",
       "    </tr>\n",
       "    <tr>\n",
       "      <th>1964-11-30</th>\n",
       "      <td>0.005200</td>\n",
       "      <td>-0.015734</td>\n",
       "      <td>-0.003002</td>\n",
       "      <td>0.001988</td>\n",
       "    </tr>\n",
       "    <tr>\n",
       "      <th>1964-12-31</th>\n",
       "      <td>0.000052</td>\n",
       "      <td>-0.015283</td>\n",
       "      <td>-0.005551</td>\n",
       "      <td>0.002167</td>\n",
       "    </tr>\n",
       "    <tr>\n",
       "      <th>1965-01-31</th>\n",
       "      <td>0.001781</td>\n",
       "      <td>0.050917</td>\n",
       "      <td>0.005109</td>\n",
       "      <td>0.007237</td>\n",
       "    </tr>\n",
       "    <tr>\n",
       "      <th>1965-02-28</th>\n",
       "      <td>0.006932</td>\n",
       "      <td>0.009153</td>\n",
       "      <td>-0.003200</td>\n",
       "      <td>0.004162</td>\n",
       "    </tr>\n",
       "    <tr>\n",
       "      <th>1965-03-31</th>\n",
       "      <td>0.001771</td>\n",
       "      <td>-0.024657</td>\n",
       "      <td>-0.017469</td>\n",
       "      <td>0.000361</td>\n",
       "    </tr>\n",
       "    <tr>\n",
       "      <th>1965-04-30</th>\n",
       "      <td>0.006926</td>\n",
       "      <td>0.007014</td>\n",
       "      <td>0.006343</td>\n",
       "      <td>-0.000722</td>\n",
       "    </tr>\n",
       "    <tr>\n",
       "      <th>1965-05-31</th>\n",
       "      <td>0.003475</td>\n",
       "      <td>-0.029914</td>\n",
       "      <td>-0.003438</td>\n",
       "      <td>-0.003765</td>\n",
       "    </tr>\n",
       "    <tr>\n",
       "      <th>1965-06-30</th>\n",
       "      <td>0.003475</td>\n",
       "      <td>0.031337</td>\n",
       "      <td>-0.032391</td>\n",
       "      <td>0.001018</td>\n",
       "    </tr>\n",
       "    <tr>\n",
       "      <th>1965-07-31</th>\n",
       "      <td>0.003475</td>\n",
       "      <td>0.051269</td>\n",
       "      <td>-0.006537</td>\n",
       "      <td>0.001188</td>\n",
       "    </tr>\n",
       "    <tr>\n",
       "      <th>...</th>\n",
       "      <td>...</td>\n",
       "      <td>...</td>\n",
       "      <td>...</td>\n",
       "      <td>...</td>\n",
       "    </tr>\n",
       "    <tr>\n",
       "      <th>2014-07-31</th>\n",
       "      <td>0.006644</td>\n",
       "      <td>0.020158</td>\n",
       "      <td>-0.019609</td>\n",
       "      <td>-0.013577</td>\n",
       "    </tr>\n",
       "    <tr>\n",
       "      <th>2014-08-31</th>\n",
       "      <td>0.048435</td>\n",
       "      <td>0.022939</td>\n",
       "      <td>-0.001451</td>\n",
       "      <td>0.003799</td>\n",
       "    </tr>\n",
       "    <tr>\n",
       "      <th>2014-09-30</th>\n",
       "      <td>-0.020529</td>\n",
       "      <td>-0.073920</td>\n",
       "      <td>-0.038072</td>\n",
       "      <td>-0.043289</td>\n",
       "    </tr>\n",
       "    <tr>\n",
       "      <th>2014-10-31</th>\n",
       "      <td>0.030340</td>\n",
       "      <td>0.011908</td>\n",
       "      <td>-0.014489</td>\n",
       "      <td>-0.006894</td>\n",
       "    </tr>\n",
       "    <tr>\n",
       "      <th>2014-11-30</th>\n",
       "      <td>0.038617</td>\n",
       "      <td>-0.010518</td>\n",
       "      <td>0.013722</td>\n",
       "      <td>-0.004437</td>\n",
       "    </tr>\n",
       "    <tr>\n",
       "      <th>2014-12-31</th>\n",
       "      <td>0.030612</td>\n",
       "      <td>-0.045617</td>\n",
       "      <td>-0.034357</td>\n",
       "      <td>0.022044</td>\n",
       "    </tr>\n",
       "    <tr>\n",
       "      <th>2015-01-31</th>\n",
       "      <td>0.108778</td>\n",
       "      <td>0.006076</td>\n",
       "      <td>0.004955</td>\n",
       "      <td>-0.059231</td>\n",
       "    </tr>\n",
       "    <tr>\n",
       "      <th>2015-02-28</th>\n",
       "      <td>-0.072377</td>\n",
       "      <td>0.031087</td>\n",
       "      <td>0.059894</td>\n",
       "      <td>-0.005246</td>\n",
       "    </tr>\n",
       "    <tr>\n",
       "      <th>2015-03-31</th>\n",
       "      <td>0.020482</td>\n",
       "      <td>-0.014074</td>\n",
       "      <td>-0.014282</td>\n",
       "      <td>-0.022296</td>\n",
       "    </tr>\n",
       "    <tr>\n",
       "      <th>2015-04-30</th>\n",
       "      <td>-0.039151</td>\n",
       "      <td>0.077225</td>\n",
       "      <td>0.041635</td>\n",
       "      <td>0.022522</td>\n",
       "    </tr>\n",
       "    <tr>\n",
       "      <th>2015-05-31</th>\n",
       "      <td>-0.023211</td>\n",
       "      <td>-0.039853</td>\n",
       "      <td>-0.003972</td>\n",
       "      <td>-0.033661</td>\n",
       "    </tr>\n",
       "    <tr>\n",
       "      <th>2015-06-30</th>\n",
       "      <td>-0.041813</td>\n",
       "      <td>-0.025208</td>\n",
       "      <td>-0.028049</td>\n",
       "      <td>-0.001989</td>\n",
       "    </tr>\n",
       "    <tr>\n",
       "      <th>2015-07-31</th>\n",
       "      <td>0.040611</td>\n",
       "      <td>-0.068709</td>\n",
       "      <td>0.020807</td>\n",
       "      <td>0.002027</td>\n",
       "    </tr>\n",
       "    <tr>\n",
       "      <th>2015-08-31</th>\n",
       "      <td>-0.003469</td>\n",
       "      <td>-0.090097</td>\n",
       "      <td>-0.073457</td>\n",
       "      <td>0.007883</td>\n",
       "    </tr>\n",
       "    <tr>\n",
       "      <th>2015-09-30</th>\n",
       "      <td>0.018393</td>\n",
       "      <td>-0.029726</td>\n",
       "      <td>-0.050415</td>\n",
       "      <td>0.003643</td>\n",
       "    </tr>\n",
       "    <tr>\n",
       "      <th>2015-10-31</th>\n",
       "      <td>-0.009402</td>\n",
       "      <td>0.071400</td>\n",
       "      <td>0.078231</td>\n",
       "      <td>-0.000810</td>\n",
       "    </tr>\n",
       "    <tr>\n",
       "      <th>2015-11-30</th>\n",
       "      <td>-0.007364</td>\n",
       "      <td>-0.038943</td>\n",
       "      <td>-0.015439</td>\n",
       "      <td>-0.030427</td>\n",
       "    </tr>\n",
       "    <tr>\n",
       "      <th>2015-12-31</th>\n",
       "      <td>-0.003398</td>\n",
       "      <td>-0.025013</td>\n",
       "      <td>-0.006866</td>\n",
       "      <td>0.015373</td>\n",
       "    </tr>\n",
       "    <tr>\n",
       "      <th>2016-01-31</th>\n",
       "      <td>0.055328</td>\n",
       "      <td>-0.061664</td>\n",
       "      <td>-0.078221</td>\n",
       "      <td>0.009590</td>\n",
       "    </tr>\n",
       "    <tr>\n",
       "      <th>2016-02-29</th>\n",
       "      <td>0.030730</td>\n",
       "      <td>-0.001531</td>\n",
       "      <td>-0.017972</td>\n",
       "      <td>0.032758</td>\n",
       "    </tr>\n",
       "    <tr>\n",
       "      <th>2016-03-31</th>\n",
       "      <td>0.002175</td>\n",
       "      <td>0.132583</td>\n",
       "      <td>0.065940</td>\n",
       "      <td>0.041436</td>\n",
       "    </tr>\n",
       "    <tr>\n",
       "      <th>2016-04-30</th>\n",
       "      <td>-0.007815</td>\n",
       "      <td>0.005638</td>\n",
       "      <td>0.030044</td>\n",
       "      <td>0.003984</td>\n",
       "    </tr>\n",
       "    <tr>\n",
       "      <th>2016-05-31</th>\n",
       "      <td>0.006237</td>\n",
       "      <td>-0.037107</td>\n",
       "      <td>-0.007835</td>\n",
       "      <td>-0.011474</td>\n",
       "    </tr>\n",
       "    <tr>\n",
       "      <th>2016-06-30</th>\n",
       "      <td>0.073556</td>\n",
       "      <td>0.040948</td>\n",
       "      <td>-0.033151</td>\n",
       "      <td>0.036707</td>\n",
       "    </tr>\n",
       "    <tr>\n",
       "      <th>2016-07-31</th>\n",
       "      <td>0.026864</td>\n",
       "      <td>0.050900</td>\n",
       "      <td>0.050762</td>\n",
       "      <td>0.008444</td>\n",
       "    </tr>\n",
       "    <tr>\n",
       "      <th>2016-08-31</th>\n",
       "      <td>-0.008417</td>\n",
       "      <td>0.025186</td>\n",
       "      <td>0.000838</td>\n",
       "      <td>-0.009552</td>\n",
       "    </tr>\n",
       "    <tr>\n",
       "      <th>2016-09-30</th>\n",
       "      <td>-0.016417</td>\n",
       "      <td>0.013153</td>\n",
       "      <td>0.012736</td>\n",
       "      <td>0.009979</td>\n",
       "    </tr>\n",
       "    <tr>\n",
       "      <th>2016-10-31</th>\n",
       "      <td>-0.049460</td>\n",
       "      <td>0.002474</td>\n",
       "      <td>-0.020383</td>\n",
       "      <td>-0.043476</td>\n",
       "    </tr>\n",
       "    <tr>\n",
       "      <th>2016-11-30</th>\n",
       "      <td>-0.081636</td>\n",
       "      <td>-0.045971</td>\n",
       "      <td>-0.019798</td>\n",
       "      <td>-0.050359</td>\n",
       "    </tr>\n",
       "    <tr>\n",
       "      <th>2016-12-31</th>\n",
       "      <td>-0.005296</td>\n",
       "      <td>0.002904</td>\n",
       "      <td>0.034383</td>\n",
       "      <td>-0.023207</td>\n",
       "    </tr>\n",
       "  </tbody>\n",
       "</table>\n",
       "<p>647 rows × 4 columns</p>\n",
       "</div>"
      ],
      "text/plain": [
       "            USA30yearGovBond  EmergingMarkets  WorldxUSA  WorldxUSAGovBond\n",
       "Date                                                                      \n",
       "1963-02-28         -0.001878         0.098222  -0.002773          0.003206\n",
       "1963-03-31          0.003342         0.014149   0.000371          0.001913\n",
       "1963-04-30         -0.001843        -0.147055  -0.003336          0.008002\n",
       "1963-05-31         -0.001807        -0.012172  -0.000186          0.004689\n",
       "1963-06-30          0.001666        -0.055699  -0.011160          0.003139\n",
       "1963-07-31          0.003400         0.088591   0.007900          0.001901\n",
       "1963-08-31          0.006861         0.027940   0.035924          0.002715\n",
       "1963-09-30          0.001657        -0.025040   0.002432          0.004526\n",
       "1963-10-31         -0.005193         0.038818  -0.001617          0.001675\n",
       "1963-11-30         -0.003419        -0.020225  -0.005580          0.000021\n",
       "1963-12-31         -0.003367        -0.014238  -0.008779          0.000738\n",
       "1964-01-31          0.001790         0.000669   0.021731          0.001713\n",
       "1964-02-29          0.006938         0.005058  -0.026273         -0.000135\n",
       "1964-03-31          0.001781        -0.090925  -0.003120          0.000601\n",
       "1964-04-30         -0.001617         0.117617  -0.002762          0.000963\n",
       "1964-05-31          0.006950        -0.069532  -0.025203          0.002980\n",
       "1964-06-30          0.012114         0.028668  -0.019225          0.001424\n",
       "1964-07-31          0.006908        -0.038090   0.031866         -0.001999\n",
       "1964-08-31         -0.003393        -0.008670   0.036964          0.002963\n",
       "1964-09-30          0.003483         0.071204  -0.017507          0.007710\n",
       "1964-10-31          0.003483        -0.031442  -0.020759          0.002135\n",
       "1964-11-30          0.005200        -0.015734  -0.003002          0.001988\n",
       "1964-12-31          0.000052        -0.015283  -0.005551          0.002167\n",
       "1965-01-31          0.001781         0.050917   0.005109          0.007237\n",
       "1965-02-28          0.006932         0.009153  -0.003200          0.004162\n",
       "1965-03-31          0.001771        -0.024657  -0.017469          0.000361\n",
       "1965-04-30          0.006926         0.007014   0.006343         -0.000722\n",
       "1965-05-31          0.003475        -0.029914  -0.003438         -0.003765\n",
       "1965-06-30          0.003475         0.031337  -0.032391          0.001018\n",
       "1965-07-31          0.003475         0.051269  -0.006537          0.001188\n",
       "...                      ...              ...        ...               ...\n",
       "2014-07-31          0.006644         0.020158  -0.019609         -0.013577\n",
       "2014-08-31          0.048435         0.022939  -0.001451          0.003799\n",
       "2014-09-30         -0.020529        -0.073920  -0.038072         -0.043289\n",
       "2014-10-31          0.030340         0.011908  -0.014489         -0.006894\n",
       "2014-11-30          0.038617        -0.010518   0.013722         -0.004437\n",
       "2014-12-31          0.030612        -0.045617  -0.034357          0.022044\n",
       "2015-01-31          0.108778         0.006076   0.004955         -0.059231\n",
       "2015-02-28         -0.072377         0.031087   0.059894         -0.005246\n",
       "2015-03-31          0.020482        -0.014074  -0.014282         -0.022296\n",
       "2015-04-30         -0.039151         0.077225   0.041635          0.022522\n",
       "2015-05-31         -0.023211        -0.039853  -0.003972         -0.033661\n",
       "2015-06-30         -0.041813        -0.025208  -0.028049         -0.001989\n",
       "2015-07-31          0.040611        -0.068709   0.020807          0.002027\n",
       "2015-08-31         -0.003469        -0.090097  -0.073457          0.007883\n",
       "2015-09-30          0.018393        -0.029726  -0.050415          0.003643\n",
       "2015-10-31         -0.009402         0.071400   0.078231         -0.000810\n",
       "2015-11-30         -0.007364        -0.038943  -0.015439         -0.030427\n",
       "2015-12-31         -0.003398        -0.025013  -0.006866          0.015373\n",
       "2016-01-31          0.055328        -0.061664  -0.078221          0.009590\n",
       "2016-02-29          0.030730        -0.001531  -0.017972          0.032758\n",
       "2016-03-31          0.002175         0.132583   0.065940          0.041436\n",
       "2016-04-30         -0.007815         0.005638   0.030044          0.003984\n",
       "2016-05-31          0.006237        -0.037107  -0.007835         -0.011474\n",
       "2016-06-30          0.073556         0.040948  -0.033151          0.036707\n",
       "2016-07-31          0.026864         0.050900   0.050762          0.008444\n",
       "2016-08-31         -0.008417         0.025186   0.000838         -0.009552\n",
       "2016-09-30         -0.016417         0.013153   0.012736          0.009979\n",
       "2016-10-31         -0.049460         0.002474  -0.020383         -0.043476\n",
       "2016-11-30         -0.081636        -0.045971  -0.019798         -0.050359\n",
       "2016-12-31         -0.005296         0.002904   0.034383         -0.023207\n",
       "\n",
       "[647 rows x 4 columns]"
      ]
     },
     "execution_count": 86,
     "metadata": {},
     "output_type": "execute_result"
    }
   ],
   "source": [
    "D"
   ]
  },
  {
   "cell_type": "code",
   "execution_count": 52,
   "metadata": {},
   "outputs": [
    {
     "data": {
      "text/plain": [
       "0.09682766807666138"
      ]
     },
     "execution_count": 52,
     "metadata": {},
     "output_type": "execute_result"
    }
   ],
   "source": [
    "# we can easily compute the mean returns of a portfolio\n",
    "(Data.loc[:,'MKT':] @ Wghts).mean()*12"
   ]
  },
  {
   "cell_type": "code",
   "execution_count": 53,
   "metadata": {},
   "outputs": [
    {
     "data": {
      "text/plain": [
       "0.09682766807666152"
      ]
     },
     "execution_count": 53,
     "metadata": {},
     "output_type": "execute_result"
    }
   ],
   "source": [
    "# or like that.\n",
    "\n",
    "# averages are linear\n",
    "\n",
    "(Data.loc[:,'MKT':]).mean() @ Wghts*12"
   ]
  },
  {
   "cell_type": "code",
   "execution_count": 57,
   "metadata": {},
   "outputs": [
    {
     "data": {
      "text/plain": [
       "0.09705407967396883"
      ]
     },
     "execution_count": 57,
     "metadata": {},
     "output_type": "execute_result"
    }
   ],
   "source": [
    "(Data.loc[:,'MKT':] @ Wghts).std()*12**0.5"
   ]
  },
  {
   "cell_type": "code",
   "execution_count": 58,
   "metadata": {},
   "outputs": [
    {
     "data": {
      "text/plain": [
       "0.14227012967080924"
      ]
     },
     "execution_count": 58,
     "metadata": {},
     "output_type": "execute_result"
    }
   ],
   "source": [
    "# why they are not the same?\n",
    "# which one is correct? What is going on?\n",
    "(Data.loc[:,'MKT':]).std() @ Wghts*12**0.5"
   ]
  },
  {
   "cell_type": "code",
   "execution_count": 59,
   "metadata": {},
   "outputs": [
    {
     "data": {
      "text/html": [
       "<div>\n",
       "<style scoped>\n",
       "    .dataframe tbody tr th:only-of-type {\n",
       "        vertical-align: middle;\n",
       "    }\n",
       "\n",
       "    .dataframe tbody tr th {\n",
       "        vertical-align: top;\n",
       "    }\n",
       "\n",
       "    .dataframe thead th {\n",
       "        text-align: right;\n",
       "    }\n",
       "</style>\n",
       "<table border=\"1\" class=\"dataframe\">\n",
       "  <thead>\n",
       "    <tr style=\"text-align: right;\">\n",
       "      <th></th>\n",
       "      <th>MKT</th>\n",
       "      <th>USA30yearGovBond</th>\n",
       "      <th>EmergingMarkets</th>\n",
       "      <th>WorldxUSA</th>\n",
       "      <th>WorldxUSAGovBond</th>\n",
       "    </tr>\n",
       "  </thead>\n",
       "  <tbody>\n",
       "    <tr>\n",
       "      <th>MKT</th>\n",
       "      <td>0.001936</td>\n",
       "      <td>0.000104</td>\n",
       "      <td>0.001280</td>\n",
       "      <td>0.001255</td>\n",
       "      <td>0.000182</td>\n",
       "    </tr>\n",
       "    <tr>\n",
       "      <th>USA30yearGovBond</th>\n",
       "      <td>0.000104</td>\n",
       "      <td>0.001226</td>\n",
       "      <td>-0.000211</td>\n",
       "      <td>-0.000017</td>\n",
       "      <td>0.000264</td>\n",
       "    </tr>\n",
       "    <tr>\n",
       "      <th>EmergingMarkets</th>\n",
       "      <td>0.001280</td>\n",
       "      <td>-0.000211</td>\n",
       "      <td>0.003544</td>\n",
       "      <td>0.001651</td>\n",
       "      <td>0.000242</td>\n",
       "    </tr>\n",
       "    <tr>\n",
       "      <th>WorldxUSA</th>\n",
       "      <td>0.001255</td>\n",
       "      <td>-0.000017</td>\n",
       "      <td>0.001651</td>\n",
       "      <td>0.002175</td>\n",
       "      <td>0.000419</td>\n",
       "    </tr>\n",
       "    <tr>\n",
       "      <th>WorldxUSAGovBond</th>\n",
       "      <td>0.000182</td>\n",
       "      <td>0.000264</td>\n",
       "      <td>0.000242</td>\n",
       "      <td>0.000419</td>\n",
       "      <td>0.000407</td>\n",
       "    </tr>\n",
       "  </tbody>\n",
       "</table>\n",
       "</div>"
      ],
      "text/plain": [
       "                       MKT  USA30yearGovBond  EmergingMarkets  WorldxUSA  \\\n",
       "MKT               0.001936          0.000104         0.001280   0.001255   \n",
       "USA30yearGovBond  0.000104          0.001226        -0.000211  -0.000017   \n",
       "EmergingMarkets   0.001280         -0.000211         0.003544   0.001651   \n",
       "WorldxUSA         0.001255         -0.000017         0.001651   0.002175   \n",
       "WorldxUSAGovBond  0.000182          0.000264         0.000242   0.000419   \n",
       "\n",
       "                  WorldxUSAGovBond  \n",
       "MKT                       0.000182  \n",
       "USA30yearGovBond          0.000264  \n",
       "EmergingMarkets           0.000242  \n",
       "WorldxUSA                 0.000419  \n",
       "WorldxUSAGovBond          0.000407  "
      ]
     },
     "execution_count": 59,
     "metadata": {},
     "output_type": "execute_result"
    }
   ],
   "source": [
    "Data.loc[:,'MKT':].cov()"
   ]
  },
  {
   "cell_type": "code",
   "execution_count": 91,
   "metadata": {},
   "outputs": [
    {
     "data": {
      "text/plain": [
       "0.09705407967396883"
      ]
     },
     "execution_count": 91,
     "metadata": {},
     "output_type": "execute_result"
    }
   ],
   "source": [
    "\n",
    "\n",
    "(Wghts.T @ Data.loc[:,'MKT':].cov() @ Wghts)**0.5*12**0.5"
   ]
  },
  {
   "cell_type": "markdown",
   "metadata": {},
   "source": [
    "A simple way of computing betas\n",
    "\n",
    "The Beta of portfolio A with respect to portfolio B is\n",
    "\n",
    "$$\\beta_{A,B}=\\frac{cov(R_A,R_B)}{cov(R_B,R_B)}$$"
   ]
  },
  {
   "cell_type": "code",
   "execution_count": 61,
   "metadata": {},
   "outputs": [
    {
     "name": "stdout",
     "output_type": "stream",
     "text": [
      "[[0.00078496 0.00095141]\n",
      " [0.00095141 0.00193628]]\n"
     ]
    }
   ],
   "source": [
    "# Lets compute the beta of the market with respect to our equal weighted portfolio\n",
    "\n",
    "# contruct time series of our EW portfolio\n",
    "Rp=Data.loc[:,'MKT':] @ Wghts\n",
    "\n",
    "# estimate the covariance matrix\n",
    "C=np.cov(Rp,Data.MKT)\n",
    "\n",
    "print(C)"
   ]
  },
  {
   "cell_type": "code",
   "execution_count": 64,
   "metadata": {},
   "outputs": [
    {
     "data": {
      "text/plain": [
       "0.0019362771137089027"
      ]
     },
     "execution_count": 64,
     "metadata": {},
     "output_type": "execute_result"
    }
   ],
   "source": [
    "C[1,1]"
   ]
  },
  {
   "cell_type": "code",
   "execution_count": 65,
   "metadata": {},
   "outputs": [
    {
     "data": {
      "text/plain": [
       "0.49136213019014535"
      ]
     },
     "execution_count": 65,
     "metadata": {},
     "output_type": "execute_result"
    }
   ],
   "source": [
    "# how can be compute beta using the information in the covariance matrix?\n",
    "Beta=C[1,0]/C[1,1]\n",
    "Beta"
   ]
  },
  {
   "cell_type": "code",
   "execution_count": 66,
   "metadata": {},
   "outputs": [
    {
     "data": {
      "text/html": [
       "<div>\n",
       "<style scoped>\n",
       "    .dataframe tbody tr th:only-of-type {\n",
       "        vertical-align: middle;\n",
       "    }\n",
       "\n",
       "    .dataframe tbody tr th {\n",
       "        vertical-align: top;\n",
       "    }\n",
       "\n",
       "    .dataframe thead th {\n",
       "        text-align: right;\n",
       "    }\n",
       "</style>\n",
       "<table border=\"1\" class=\"dataframe\">\n",
       "  <thead>\n",
       "    <tr style=\"text-align: right;\">\n",
       "      <th></th>\n",
       "      <th>MKT</th>\n",
       "      <th>WorldxUSA</th>\n",
       "      <th>EmergingMarkets</th>\n",
       "    </tr>\n",
       "  </thead>\n",
       "  <tbody>\n",
       "    <tr>\n",
       "      <th>MKT</th>\n",
       "      <td>1.000000</td>\n",
       "      <td>0.611369</td>\n",
       "      <td>0.488753</td>\n",
       "    </tr>\n",
       "    <tr>\n",
       "      <th>WorldxUSA</th>\n",
       "      <td>0.611369</td>\n",
       "      <td>1.000000</td>\n",
       "      <td>0.594653</td>\n",
       "    </tr>\n",
       "    <tr>\n",
       "      <th>EmergingMarkets</th>\n",
       "      <td>0.488753</td>\n",
       "      <td>0.594653</td>\n",
       "      <td>1.000000</td>\n",
       "    </tr>\n",
       "  </tbody>\n",
       "</table>\n",
       "</div>"
      ],
      "text/plain": [
       "                      MKT  WorldxUSA  EmergingMarkets\n",
       "MKT              1.000000   0.611369         0.488753\n",
       "WorldxUSA        0.611369   1.000000         0.594653\n",
       "EmergingMarkets  0.488753   0.594653         1.000000"
      ]
     },
     "execution_count": 66,
     "metadata": {},
     "output_type": "execute_result"
    }
   ],
   "source": [
    "# correlation and the benefits of diversification\n",
    "\n",
    "D=Data.loc[:,['MKT','WorldxUSA','EmergingMarkets',]]\n",
    "\n",
    "D.corr()"
   ]
  },
  {
   "cell_type": "markdown",
   "metadata": {},
   "source": [
    "## "
   ]
  },
  {
   "cell_type": "code",
   "execution_count": 67,
   "metadata": {},
   "outputs": [
    {
     "data": {
      "text/html": [
       "<div>\n",
       "<style scoped>\n",
       "    .dataframe tbody tr th:only-of-type {\n",
       "        vertical-align: middle;\n",
       "    }\n",
       "\n",
       "    .dataframe tbody tr th {\n",
       "        vertical-align: top;\n",
       "    }\n",
       "\n",
       "    .dataframe thead th {\n",
       "        text-align: right;\n",
       "    }\n",
       "</style>\n",
       "<table border=\"1\" class=\"dataframe\">\n",
       "  <thead>\n",
       "    <tr style=\"text-align: right;\">\n",
       "      <th></th>\n",
       "      <th>MKT</th>\n",
       "      <th>WorldxUSA</th>\n",
       "      <th>EmergingMarkets</th>\n",
       "      <th>USA30yearGovBond</th>\n",
       "    </tr>\n",
       "  </thead>\n",
       "  <tbody>\n",
       "    <tr>\n",
       "      <th>MKT</th>\n",
       "      <td>1.000000</td>\n",
       "      <td>0.611369</td>\n",
       "      <td>0.488753</td>\n",
       "      <td>0.067779</td>\n",
       "    </tr>\n",
       "    <tr>\n",
       "      <th>WorldxUSA</th>\n",
       "      <td>0.611369</td>\n",
       "      <td>1.000000</td>\n",
       "      <td>0.594653</td>\n",
       "      <td>-0.010180</td>\n",
       "    </tr>\n",
       "    <tr>\n",
       "      <th>EmergingMarkets</th>\n",
       "      <td>0.488753</td>\n",
       "      <td>0.594653</td>\n",
       "      <td>1.000000</td>\n",
       "      <td>-0.101321</td>\n",
       "    </tr>\n",
       "    <tr>\n",
       "      <th>USA30yearGovBond</th>\n",
       "      <td>0.067779</td>\n",
       "      <td>-0.010180</td>\n",
       "      <td>-0.101321</td>\n",
       "      <td>1.000000</td>\n",
       "    </tr>\n",
       "  </tbody>\n",
       "</table>\n",
       "</div>"
      ],
      "text/plain": [
       "                       MKT  WorldxUSA  EmergingMarkets  USA30yearGovBond\n",
       "MKT               1.000000   0.611369         0.488753          0.067779\n",
       "WorldxUSA         0.611369   1.000000         0.594653         -0.010180\n",
       "EmergingMarkets   0.488753   0.594653         1.000000         -0.101321\n",
       "USA30yearGovBond  0.067779  -0.010180        -0.101321          1.000000"
      ]
     },
     "execution_count": 67,
     "metadata": {},
     "output_type": "execute_result"
    }
   ],
   "source": [
    "D=Data.loc[:,['MKT','WorldxUSA','EmergingMarkets','USA30yearGovBond']]\n",
    "\n",
    "D.corr()"
   ]
  },
  {
   "cell_type": "code",
   "execution_count": 93,
   "metadata": {},
   "outputs": [
    {
     "name": "stdout",
     "output_type": "stream",
     "text": [
      "[0. 1.]\n",
      "[0.1 0.9]\n",
      "[0.2 0.8]\n",
      "[0.3 0.7]\n",
      "[0.4 0.6]\n",
      "[0.5 0.5]\n",
      "[0.6 0.4]\n",
      "[0.7 0.3]\n",
      "[0.8 0.2]\n",
      "[0.9 0.1]\n",
      "[1. 0.]\n"
     ]
    }
   ],
   "source": [
    "volUsEm=[]\n",
    "volUsW=[]\n",
    "volUsB=[]\n",
    "volEmB=[]\n",
    "for x in range(0,11):\n",
    "    Wghts=np.array([x/10,1-x/10])\n",
    "    print(Wghts)\n",
    "    D=Data.loc[:,['MKT','EmergingMarkets']]\n",
    "    volUsEm.append((Wghts.T @ D.cov() @ Wghts)**0.5)\n",
    "    \n",
    "    D=Data.loc[:,['MKT','WorldxUSA']]\n",
    "    volUsW.append((Wghts.T @ D.cov() @ Wghts)**0.5)\n",
    "    \n",
    "    D=Data.loc[:,['MKT','USA30yearGovBond']]\n",
    "\n",
    "    volUsB.append((Wghts.T @ D.cov() @ Wghts)**0.5)\n",
    "    \n",
    "    D=Data.loc[:,['EmergingMarkets','USA30yearGovBond']]\n",
    "\n",
    "    volEmB.append((Wghts.T @ D.cov() @ Wghts)**0.5)\n"
   ]
  },
  {
   "cell_type": "code",
   "execution_count": 70,
   "metadata": {},
   "outputs": [
    {
     "data": {
      "text/plain": [
       "[0.0595277065272415,\n",
       " 0.055857677693791484,\n",
       " 0.0524880869664782,\n",
       " 0.04948035158085133,\n",
       " 0.04690413537030316,\n",
       " 0.0448338871860759,\n",
       " 0.043342170788953645,\n",
       " 0.04248996234748698,\n",
       " 0.042315917040634796,\n",
       " 0.04282830340786219]"
      ]
     },
     "execution_count": 70,
     "metadata": {},
     "output_type": "execute_result"
    }
   ],
   "source": [
    "volUsEm"
   ]
  },
  {
   "cell_type": "code",
   "execution_count": 71,
   "metadata": {},
   "outputs": [
    {
     "data": {
      "text/plain": [
       "array([0, 1, 2, 3, 4, 5, 6, 7, 8, 9])"
      ]
     },
     "execution_count": 71,
     "metadata": {},
     "output_type": "execute_result"
    }
   ],
   "source": [
    "np.arange(0,10)"
   ]
  },
  {
   "cell_type": "code",
   "execution_count": 69,
   "metadata": {},
   "outputs": [
    {
     "data": {
      "image/png": "[encoded data removed]",
      "text/plain": [
       "<Figure size 432x288 with 1 Axes>"
      ]
     },
     "metadata": {},
     "output_type": "display_data"
    }
   ],
   "source": [
    "plt.scatter(np.arange(0,10)/10,volUsW)\n",
    "plt.scatter(np.arange(0,10)/10,volUsEm)\n",
    "plt.scatter(np.arange(0,10)/10,volUsB)\n",
    "plt.scatter(np.arange(0,10)/10,volEmB)\n",
    "plt.legend(['US-world','US-EM','US-Bond','Em-Bond'])\n",
    "plt.xlabel('Weight on first asset')\n",
    "plt.show()"
   ]
  },
  {
   "cell_type": "code",
   "execution_count": null,
   "metadata": {
    "collapsed": true
   },
   "outputs": [],
   "source": []
  }
 ],
 "metadata": {
  "kernelspec": {
   "display_name": "Python 3",
   "language": "python",
   "name": "python3"
  },
  "language_info": {
   "codemirror_mode": {
    "name": "ipython",
    "version": 3
   },
   "file_extension": ".py",
   "mimetype": "text/x-python",
   "name": "python",
   "nbconvert_exporter": "python",
   "pygments_lexer": "ipython3",
   "version": "3.6.6"
  }
 },
 "nbformat": 4,
 "nbformat_minor": 2
}

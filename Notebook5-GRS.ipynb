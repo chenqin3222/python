{
 "cells": [
  {
   "cell_type": "markdown",
   "metadata": {},
   "source": [
    "# Objectives\n",
    "\n",
    " 1. Multi-varaite tests: The GRS test\n",
    " \n"
   ]
  },
  {
   "cell_type": "code",
   "execution_count": 2,
   "metadata": {},
   "outputs": [],
   "source": [
    "# First we start loading our favourite packages with the names we used to\n",
    "import numpy as np\n",
    "import pandas as pd\n",
    "%matplotlib inline\n",
    "import matplotlib.pyplot as plt\n",
    "# import regression package\n",
    "import statsmodels.api as sm"
   ]
  },
  {
   "cell_type": "code",
   "execution_count": 3,
   "metadata": {},
   "outputs": [
    {
     "name": "stdout",
     "output_type": "stream",
     "text": [
      "            BEME1  BEME2  BEME3  BEME4  BEME5  BEME6  BEME7  BEME8  BEME9  \\\n",
      "2017-02-01   4.29   5.22   3.52   2.47   3.90   0.96   2.03   3.24   3.38   \n",
      "2017-03-01   0.97   2.04   0.30   0.31   0.07  -0.70  -0.99  -1.22  -3.09   \n",
      "2017-04-01   2.44   1.32   2.16   1.39   2.43  -0.52  -0.44  -0.56  -0.64   \n",
      "2017-05-01   2.59   2.86   3.10  -0.23   1.29  -0.33  -1.26  -0.70  -2.44   \n",
      "2017-06-01   0.29  -0.47   0.25   1.15  -0.69   1.21   1.67   2.57   4.31   \n",
      "\n",
      "            BEME10  \n",
      "2017-02-01    5.03  \n",
      "2017-03-01   -2.28  \n",
      "2017-04-01   -0.86  \n",
      "2017-05-01   -2.68  \n",
      "2017-06-01    5.70  \n",
      "            BEME1  BEME2  BEME3  BEME4  BEME5  BEME6  BEME7  BEME8  BEME9  \\\n",
      "1926-07-31   4.63   1.24  11.40   1.68   1.50   2.09   2.73   1.58   0.63   \n",
      "1926-08-31   0.15   2.18   6.40   2.38   1.58   2.63   4.46   4.94   8.31   \n",
      "1926-09-30  -0.11  -2.30   6.32   0.73  -0.89   0.38  -0.28   0.17  -2.16   \n",
      "1926-10-31  -3.78  -1.63  -5.01  -1.41  -2.31  -2.10  -4.65  -2.80  -5.46   \n",
      "1926-11-30   6.03   1.49   1.11   3.63   1.97   1.80   4.00   3.85   2.77   \n",
      "\n",
      "            BEME10  \n",
      "1926-07-31    0.52  \n",
      "1926-08-31    3.92  \n",
      "1926-09-30    0.44  \n",
      "1926-10-31   -1.17  \n",
      "1926-11-30    1.76  \n"
     ]
    },
    {
     "data": {
      "text/html": [
       "<div>\n",
       "<style scoped>\n",
       "    .dataframe tbody tr th:only-of-type {\n",
       "        vertical-align: middle;\n",
       "    }\n",
       "\n",
       "    .dataframe tbody tr th {\n",
       "        vertical-align: top;\n",
       "    }\n",
       "\n",
       "    .dataframe thead th {\n",
       "        text-align: right;\n",
       "    }\n",
       "</style>\n",
       "<table border=\"1\" class=\"dataframe\">\n",
       "  <thead>\n",
       "    <tr style=\"text-align: right;\">\n",
       "      <th></th>\n",
       "      <th>BEME1</th>\n",
       "      <th>BEME2</th>\n",
       "      <th>BEME3</th>\n",
       "      <th>BEME4</th>\n",
       "      <th>BEME5</th>\n",
       "      <th>BEME6</th>\n",
       "      <th>BEME7</th>\n",
       "      <th>BEME8</th>\n",
       "      <th>BEME9</th>\n",
       "      <th>BEME10</th>\n",
       "      <th>MKT</th>\n",
       "    </tr>\n",
       "  </thead>\n",
       "  <tbody>\n",
       "    <tr>\n",
       "      <th>1926-07-31</th>\n",
       "      <td>4.41</td>\n",
       "      <td>1.02</td>\n",
       "      <td>11.18</td>\n",
       "      <td>1.46</td>\n",
       "      <td>1.28</td>\n",
       "      <td>1.87</td>\n",
       "      <td>2.51</td>\n",
       "      <td>1.36</td>\n",
       "      <td>0.41</td>\n",
       "      <td>0.30</td>\n",
       "      <td>2.96</td>\n",
       "    </tr>\n",
       "    <tr>\n",
       "      <th>1926-08-31</th>\n",
       "      <td>-0.10</td>\n",
       "      <td>1.93</td>\n",
       "      <td>6.15</td>\n",
       "      <td>2.13</td>\n",
       "      <td>1.33</td>\n",
       "      <td>2.38</td>\n",
       "      <td>4.21</td>\n",
       "      <td>4.69</td>\n",
       "      <td>8.06</td>\n",
       "      <td>3.67</td>\n",
       "      <td>2.64</td>\n",
       "    </tr>\n",
       "    <tr>\n",
       "      <th>1926-09-30</th>\n",
       "      <td>-0.34</td>\n",
       "      <td>-2.53</td>\n",
       "      <td>6.09</td>\n",
       "      <td>0.50</td>\n",
       "      <td>-1.12</td>\n",
       "      <td>0.15</td>\n",
       "      <td>-0.51</td>\n",
       "      <td>-0.06</td>\n",
       "      <td>-2.39</td>\n",
       "      <td>0.21</td>\n",
       "      <td>0.36</td>\n",
       "    </tr>\n",
       "    <tr>\n",
       "      <th>1926-10-31</th>\n",
       "      <td>-4.10</td>\n",
       "      <td>-1.95</td>\n",
       "      <td>-5.33</td>\n",
       "      <td>-1.73</td>\n",
       "      <td>-2.63</td>\n",
       "      <td>-2.42</td>\n",
       "      <td>-4.97</td>\n",
       "      <td>-3.12</td>\n",
       "      <td>-5.78</td>\n",
       "      <td>-1.49</td>\n",
       "      <td>-3.24</td>\n",
       "    </tr>\n",
       "    <tr>\n",
       "      <th>1926-11-30</th>\n",
       "      <td>5.72</td>\n",
       "      <td>1.18</td>\n",
       "      <td>0.80</td>\n",
       "      <td>3.32</td>\n",
       "      <td>1.66</td>\n",
       "      <td>1.49</td>\n",
       "      <td>3.69</td>\n",
       "      <td>3.54</td>\n",
       "      <td>2.46</td>\n",
       "      <td>1.45</td>\n",
       "      <td>2.53</td>\n",
       "    </tr>\n",
       "  </tbody>\n",
       "</table>\n",
       "</div>"
      ],
      "text/plain": [
       "            BEME1  BEME2  BEME3  BEME4  BEME5  BEME6  BEME7  BEME8  BEME9  \\\n",
       "1926-07-31   4.41   1.02  11.18   1.46   1.28   1.87   2.51   1.36   0.41   \n",
       "1926-08-31  -0.10   1.93   6.15   2.13   1.33   2.38   4.21   4.69   8.06   \n",
       "1926-09-30  -0.34  -2.53   6.09   0.50  -1.12   0.15  -0.51  -0.06  -2.39   \n",
       "1926-10-31  -4.10  -1.95  -5.33  -1.73  -2.63  -2.42  -4.97  -3.12  -5.78   \n",
       "1926-11-30   5.72   1.18   0.80   3.32   1.66   1.49   3.69   3.54   2.46   \n",
       "\n",
       "            BEME10   MKT  \n",
       "1926-07-31    0.30  2.96  \n",
       "1926-08-31    3.67  2.64  \n",
       "1926-09-30    0.21  0.36  \n",
       "1926-10-31   -1.49 -3.24  \n",
       "1926-11-30    1.45  2.53  "
      ]
     },
     "execution_count": 3,
     "metadata": {},
     "output_type": "execute_result"
    }
   ],
   "source": [
    "# import market factor\n",
    "url = \"https://www.dropbox.com/s/9346pp2iu5prv8s/MonthlyFactors.csv?dl=1\"\n",
    "Factors = pd.read_csv(url,index_col=0, \n",
    "                         parse_dates=True,na_values=-99)\n",
    "Factors=Factors\n",
    "# keep only market and RF\n",
    "Factors=Factors.iloc[:,0:2]\n",
    "Factors.head()\n",
    "\n",
    "# test assets\n",
    "\n",
    "# import BEME (Book-equity over Market equity) sorted portfolios\n",
    "# BEME 1 has low book to market- > Known as growth stocks (example: Tesla, Amazon, Facebook)\n",
    "\n",
    "# BEME 10 has high book to market -> Known as value stocks ( old firms: utilities, banks, insurance companies)\n",
    "\n",
    "# but it changes....\n",
    "\n",
    "url = \"https://www.dropbox.com/s/gds8ho9rt1imw03/Valueportfolios.csv?dl=1\"\n",
    "parser = lambda date: pd.to_datetime(date,format='%Y%m')\n",
    "Data = pd.read_csv(url,index_col=0, \n",
    "                         parse_dates=True,date_parser=parser,skiprows=23,nrows=1092,na_values=-99.99)\n",
    "\n",
    "print(Data.tail())\n",
    "# neeed to adjsut the date to end of month convention (Even thugh both returns for a given month are end-of-month to end of month,\n",
    "# when we importer the value portfolios python used as date the first day of the month . To fix that, we will convert it to end of month\n",
    "# It is important to do that before the merge. Why? )\n",
    "Data.index=Data.index+pd.tseries.offsets.MonthEnd()\n",
    "print(Data.head())\n",
    "# ready to merge with Market and RF\n",
    "\n",
    "Data=pd.merge(Data,Factors,left_index=True,right_index=True)\n",
    "Data.head()\n",
    "\n",
    "# excess returns\n",
    "\n",
    "# transform in excess returns\n",
    "Data.iloc[:,0:10]=Data.iloc[:,0:10].subtract(Data['RF'],axis=0)\n",
    "Data.iloc[:,11]=Data.iloc[:,11].subtract(Data['RF'],axis=0)\n",
    "# take the risk-free rate column out of the database\n",
    "del Data['RF']\n",
    "Data.head()"
   ]
  },
  {
   "cell_type": "markdown",
   "metadata": {},
   "source": [
    "\n",
    "\n",
    "# Multivariate time-series test\n",
    "\n",
    "\n",
    "But this approach tests the model \"Asset by Asset\": We tested if there is any single portfolio that is inconsistent with the model.\n",
    "\n",
    "But we can get much more power by using all the assets at the same time\n",
    "\n",
    "- What if no single asset has a statisically significant alpha, could them together reject the model?\n",
    "\n",
    "- Joining all the small SR can give a much higher overall SR and much stronger rejection of the model.\n",
    "\n",
    "- This will also be relevant for investing. You want to invest on the overall portfolio has the higher SR and it is unlikely that it will be the individual portfolios. As long they are not perfectly correlated you will likely get something from combining them\n",
    "\n",
    "\n",
    "### How to test the model using all the assets at the same time?\n",
    "\n",
    "#### The answer is the GRS test\n",
    "\n",
    "Run Time-series regression asset by asset\n",
    "\n",
    "$$R_i^e =\\alpha_i+\\beta_{i,M} R_{M}^e+\\epsilon_i$$\n",
    "\n",
    "stack the alphas in a vector $\\hat{\\alpha}$\n",
    "\n",
    "If you have N test assets you will have N time-series of residuals $\\epsilon_i$\n",
    "\n",
    "Use this to estimate the variance-covariance matrix of the assets  residual risk\n",
    "\n",
    "$$\\hat{\\Sigma}_{\\epsilon}=var([\\epsilon_1,...,\\epsilon_1])$$\n",
    "\n",
    "This yield a N by N covariance matrix $\\hat{\\Sigma}_{\\epsilon}$\n",
    "\n",
    "$$T\\left(1+\\left(\\frac{average(R^e_M)}{std(R^E_M)}\\right)^2\\right)^{-1}\\hat{\\alpha}\\hat{\\Sigma}_{\\epsilon}^{-1}\\hat{\\alpha}' \\sim Chi2(N)$$"
   ]
  },
  {
   "cell_type": "code",
   "execution_count": 5,
   "metadata": {},
   "outputs": [],
   "source": [
    "# creaty copies of the dataset\n",
    "df=Data.copy()\n",
    "Resid=Data.copy()\n",
    "\n",
    "# Create the right hand side variable for the regression:\n",
    "# vector os 1's (for the intercept) plus returns on the market\n",
    "x= sm.add_constant(df['MKT'])\n",
    "# wea re going to use Resid to store the residuals of the regresion, so we are deleting the market column since we will\n",
    "# only run regressions of the differetn portfolio on the market\n",
    "del Resid['MKT']\n",
    "# here we are just initiatinng a data frame where we will store the alpha of each portfolio\n",
    "# so the preside operation that I am doing below, does not matter as long it returns a dataframe where the \n",
    "#columns are the portfolio names\n",
    "E=pd.DataFrame(Resid.mean())\n",
    "E.columns=['alpha']\n",
    "\n",
    "#now I am going to loop through the portfolios and run a time-series regression for each just as before\n",
    "for portfolios in E.index:\n",
    "    y= df[portfolios]\n",
    "    results= sm.OLS(y,x).fit()\n",
    "    # We are storing the alphas\n",
    "    E.at[portfolios,'alpha']=results.params[0]\n",
    "    # we are stroing the ENTIRE time-seires of regression residuals\n",
    "    Resid.loc[:,portfolios]=results.resid\n",
    "\n",
    "# We are now ready to perform the GRS test\n",
    "\n",
    "# what information do we need?\n",
    "\n"
   ]
  },
  {
   "cell_type": "markdown",
   "metadata": {},
   "source": [
    "\n",
    "$$T\\left(1+\\left(\\frac{average(R^e_M)}{std(R^E_M)}\\right)^2\\right)^{-1}\\hat{\\alpha}\\hat{\\Sigma}_{\\epsilon}^{-1}\\hat{\\alpha}' \\sim Chi2(N)$$"
   ]
  },
  {
   "cell_type": "code",
   "execution_count": 6,
   "metadata": {},
   "outputs": [
    {
     "data": {
      "text/plain": [
       "20.734452742206294"
      ]
     },
     "execution_count": 6,
     "metadata": {},
     "output_type": "execute_result"
    }
   ],
   "source": [
    "# first the market moments\n",
    "avgMkt=df.MKT.mean()\n",
    "stdMkt=df.MKT.std()\n",
    "# the size of the sample\n",
    "T=df.shape[0]\n",
    "# the inverse of the residual covariance matrix\n",
    "invCov=np.linalg.inv(Resid.cov())\n",
    "# the chi statistic!\n",
    "chi=T*(1+(avgMkt/stdMkt)**2)**(-1)*(E.alpha.values @invCov@ E.alpha.values.T)\n",
    "chi"
   ]
  },
  {
   "cell_type": "markdown",
   "metadata": {},
   "source": [
    "1. We need to compare this Chi2 statistic to the critical values of the Chi2 distribution with N degrees of freedom"
   ]
  },
  {
   "cell_type": "code",
   "execution_count": 7,
   "metadata": {},
   "outputs": [],
   "source": [
    "from scipy.stats import chi2"
   ]
  },
  {
   "cell_type": "code",
   "execution_count": 8,
   "metadata": {},
   "outputs": [
    {
     "name": "stdout",
     "output_type": "stream",
     "text": [
      "[15.987179172105263, 18.307038053275146, 23.209251158954356, 29.58829844507442]\n"
     ]
    },
    {
     "data": {
      "text/plain": [
       "0.02302325955319673"
      ]
     },
     "execution_count": 8,
     "metadata": {},
     "output_type": "execute_result"
    }
   ],
   "source": [
    "# choose degress of freedom (number of test assets)\n",
    "dfreedom=10\n",
    "# critical threshold for 10%, 5%, 1%, 0.1%\n",
    "print([chi2.ppf(1-0.1,dfreedom),chi2.ppf(1-0.05,dfreedom),chi2.ppf(1-0.01,dfreedom),chi2.ppf(1-0.001,dfreedom)])\n",
    "\n",
    "# we can also look for the equivalent P-value\n",
    "\n",
    "1-chi2.cdf(chi,dfreedom)\n"
   ]
  },
  {
   "cell_type": "markdown",
   "metadata": {},
   "source": [
    "We reject with about 98% confidence.\n",
    "\n",
    "There is a 2.3% chance that this abnormal performance of Book-to-Market sorted portfolios were a statistical fluke "
   ]
  },
  {
   "cell_type": "code",
   "execution_count": 10,
   "metadata": {},
   "outputs": [],
   "source": [
    "# the GRS test\n",
    "\n",
    "def GRS(df,beg,end):\n",
    "    df=df[beg:end]\n",
    "    Resid=df.copy()\n",
    "    x= sm.add_constant(df['MKT'])\n",
    "    del Resid['MKT']\n",
    "    E=pd.DataFrame(Resid.mean())\n",
    "    E.columns=['alpha']\n",
    "    for portfolios in E.index:\n",
    "        y= df[portfolios]\n",
    "        results= sm.OLS(y,x).fit()\n",
    "        E.at[portfolios,'alpha']=results.params[0]\n",
    "        Resid.loc[:,portfolios]=results.resid\n",
    "     \n",
    "        \n",
    "    avgMkt=df.MKT.mean()\n",
    "    stdMkt=df.MKT.std()\n",
    "    T=df.shape[0]\n",
    "    invCov=np.linalg.inv(Resid.cov())\n",
    "    chi=T*(1+(avgMkt/stdMkt)**2)**(-1)*(E.alpha.values @invCov@ E.alpha.values.T)\n",
    "    N=Resid.shape[1]\n",
    "    return [chi,(1-chi2.cdf(chi,N))*100]"
   ]
  },
  {
   "cell_type": "code",
   "execution_count": 11,
   "metadata": {},
   "outputs": [
    {
     "data": {
      "text/plain": [
       "[23.31578017926853, 0.9639119916886818]"
      ]
     },
     "execution_count": 11,
     "metadata": {},
     "output_type": "execute_result"
    }
   ],
   "source": [
    "chi=GRS(Data,'1963','2016')\n",
    "chi\n"
   ]
  },
  {
   "cell_type": "code",
   "execution_count": null,
   "metadata": {},
   "outputs": [],
   "source": [
    "chi=GRS(Data,'1926','1963')\n",
    "chi"
   ]
  },
  {
   "cell_type": "code",
   "execution_count": null,
   "metadata": {},
   "outputs": [],
   "source": [
    "chi=GRS(Data,'1963','1992')\n",
    "chi"
   ]
  }
 ],
 "metadata": {
  "kernelspec": {
   "display_name": "Python 3",
   "language": "python",
   "name": "python3"
  },
  "language_info": {
   "codemirror_mode": {
    "name": "ipython",
    "version": 3
   },
   "file_extension": ".py",
   "mimetype": "text/x-python",
   "name": "python",
   "nbconvert_exporter": "python",
   "pygments_lexer": "ipython3",
   "version": "3.6.5"
  }
 },
 "nbformat": 4,
 "nbformat_minor": 2
}
